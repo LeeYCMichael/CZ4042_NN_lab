{
 "cells": [
  {
   "cell_type": "markdown",
   "id": "c5cb62ac-8e88-43e6-bce9-da20fabf38ff",
   "metadata": {
    "deletable": false,
    "editable": false,
    "id": "c5cb62ac-8e88-43e6-bce9-da20fabf38ff",
    "nbgrader": {
     "cell_type": "markdown",
     "checksum": "7e726e0bc51bda6101498fa65e298d55",
     "grade": false,
     "grade_id": "cell-a5df181492bc4d5b",
     "locked": true,
     "schema_version": 3,
     "solution": false,
     "task": false
    }
   },
   "source": [
    "# Question A3"
   ]
  },
  {
   "cell_type": "markdown",
   "id": "5c8f824c",
   "metadata": {
    "deletable": false,
    "editable": false,
    "id": "5c8f824c",
    "nbgrader": {
     "cell_type": "markdown",
     "checksum": "8de5fc7baf0dbbe0ae44ff5e2f33d3e2",
     "grade": false,
     "grade_id": "cell-742f6ec36e67f66e",
     "locked": true,
     "schema_version": 3,
     "solution": false,
     "task": false
    }
   },
   "source": [
    "Find the optimal number of hidden neurons for first hidden layer of the 4-layer network (3 hidden layers, output layer) designed in Question 1 and 2"
   ]
  },
  {
   "cell_type": "markdown",
   "id": "fb9411ad-2324-400e-852e-ff5c0ca716f0",
   "metadata": {
    "deletable": false,
    "editable": false,
    "id": "fb9411ad-2324-400e-852e-ff5c0ca716f0",
    "nbgrader": {
     "cell_type": "markdown",
     "checksum": "c699e75b7edb52e94f6605279070c695",
     "grade": false,
     "grade_id": "cell-e96803fd0366edd9",
     "locked": true,
     "schema_version": 3,
     "solution": false,
     "task": false
    },
    "tags": []
   },
   "source": [
    "#### Plot the mean cross-validation accuracies on the final epoch for different numbers of hidden-layer neurons using a scatter plot. Limit the search space of the number of neurons to {64, 128, 256}. Continue using 5-fold cross validation on training dataset. Select the optimal number of neurons for the hidden layer. State the rationale for your selection.\n",
    "\n",
    "This might take a while to run, approximately 20 - 30 min, so plan your time carefully."
   ]
  },
  {
   "cell_type": "markdown",
   "id": "981c85ca-9a14-4d0a-b44d-814f02c0f8e1",
   "metadata": {
    "deletable": false,
    "editable": false,
    "id": "981c85ca-9a14-4d0a-b44d-814f02c0f8e1",
    "nbgrader": {
     "cell_type": "markdown",
     "checksum": "227f476ef461a471ef38af7d3f6715f8",
     "grade": false,
     "grade_id": "cell-808458412f82c806",
     "locked": true,
     "schema_version": 3,
     "solution": false,
     "task": false
    }
   },
   "source": [
    "1. Firstly, we import relevant libraries."
   ]
  },
  {
   "cell_type": "code",
   "execution_count": 6,
   "id": "b0edc610-21e6-4cc7-9603-59318b961990",
   "metadata": {
    "deletable": false,
    "editable": false,
    "id": "b0edc610-21e6-4cc7-9603-59318b961990",
    "nbgrader": {
     "cell_type": "code",
     "checksum": "04b3385379104c8466a67ea59116fe58",
     "grade": false,
     "grade_id": "cell-03d073049be6df79",
     "locked": true,
     "schema_version": 3,
     "solution": false,
     "task": false
    },
    "tags": []
   },
   "outputs": [],
   "source": [
    "import tqdm\n",
    "import time\n",
    "import random\n",
    "import numpy as np\n",
    "import pandas as pd\n",
    "import matplotlib.pyplot as plt\n",
    "\n",
    "import torch\n",
    "from torch import nn\n",
    "from torch.utils.data import Dataset\n",
    "from torch.utils.data import DataLoader\n",
    "import torch.optim as optim\n",
    "\n",
    "from scipy.io import wavfile as wav\n",
    "\n",
    "from sklearn import preprocessing\n",
    "from sklearn.model_selection import KFold\n",
    "from sklearn.model_selection import train_test_split\n",
    "from sklearn.metrics import f1_score, precision_score, recall_score, confusion_matrix\n",
    "from common_utils import set_seed\n",
    "\n",
    "# setting seed\n",
    "set_seed()"
   ]
  },
  {
   "cell_type": "markdown",
   "id": "e8e12861-4713-4914-9f4b-8a7381708243",
   "metadata": {
    "deletable": false,
    "editable": false,
    "id": "e8e12861-4713-4914-9f4b-8a7381708243",
    "nbgrader": {
     "cell_type": "markdown",
     "checksum": "1203c0efa2d363ccc72779a7511ed5b5",
     "grade": false,
     "grade_id": "cell-647b74152d4edf45",
     "locked": true,
     "schema_version": 3,
     "solution": false,
     "task": false
    }
   },
   "source": [
    "2. To reduce repeated code, place your\n",
    "\n",
    "- network (MLP defined in QA1)\n",
    "- torch datasets (CustomDataset defined in QA1)\n",
    "- loss function (loss_fn defined in QA1)\n",
    "\n",
    "in a separate file called **common_utils.py**\n",
    "\n",
    "Import them into this file. You will not be repenalised for any error in QA1 here as the code in QA1 will not be remarked.\n",
    "\n",
    "The following code cell will not be marked."
   ]
  },
  {
   "cell_type": "code",
   "execution_count": 7,
   "id": "37a1a982-de85-46de-b890-3b81f79f5887",
   "metadata": {
    "deletable": false,
    "id": "37a1a982-de85-46de-b890-3b81f79f5887",
    "nbgrader": {
     "cell_type": "code",
     "checksum": "52ed938922eb6062a33a7d047d8fc605",
     "grade": false,
     "grade_id": "import",
     "locked": false,
     "schema_version": 3,
     "solution": true,
     "task": false
    },
    "tags": []
   },
   "outputs": [],
   "source": [
    "# YOUR CODE HERE\n",
    "from common_utils import *\n",
    "\n",
    "df = pd.read_csv('simplified.csv')\n",
    "df['label'] = df['filename'].str.split('_').str[-2]\n",
    "\n",
    "columns_to_drop = ['filename', 'label']\n",
    "X_train, y_train, X_test, y_test = split_dataset(df, columns_to_drop, test_size=0.3, random_state=0)\n",
    "X_train_scaled, X_test_scaled = preprocess_dataset(X_train, X_test)\n",
    "\n",
    "loss_fn = nn.BCELoss()"
   ]
  },
  {
   "cell_type": "markdown",
   "id": "558aa470-6d7e-454c-9cda-9ad881d58c53",
   "metadata": {
    "deletable": false,
    "editable": false,
    "id": "558aa470-6d7e-454c-9cda-9ad881d58c53",
    "nbgrader": {
     "cell_type": "markdown",
     "checksum": "79004bd568c9f48abd1cf359cd050ab5",
     "grade": false,
     "grade_id": "cell-10b7165b0a25758f",
     "locked": true,
     "schema_version": 3,
     "solution": false,
     "task": false
    }
   },
   "source": [
    "3. Perform hyperparameter tuning for the different neurons with 5-fold cross validation."
   ]
  },
  {
   "cell_type": "code",
   "execution_count": 8,
   "id": "8c77bd18-c546-473e-8c2f-643b4281d9ba",
   "metadata": {
    "deletable": false,
    "id": "8c77bd18-c546-473e-8c2f-643b4281d9ba",
    "nbgrader": {
     "cell_type": "code",
     "checksum": "c610a779f6858f6c77f3fc6beb198dcd",
     "grade": true,
     "grade_id": "train",
     "locked": false,
     "points": 2,
     "schema_version": 3,
     "solution": true,
     "task": false
    },
    "tags": []
   },
   "outputs": [],
   "source": [
    "def train(model, X_train_scaled, y_train2, X_val_scaled, y_val2, batch_size):\n",
    "    train_data = CustomDataset(X_train_scaled, y_train2)\n",
    "    test_data = CustomDataset(X_val_scaled, y_val2)\n",
    "    \n",
    "    train_dataloader = DataLoader(train_data, batch_size=batch_size, shuffle=True)\n",
    "    test_dataloader = DataLoader(test_data, batch_size=batch_size, shuffle=True)\n",
    "\n",
    "    optimizer = optim.Adam(model.parameters(), lr=0.001)\n",
    "    \n",
    "    size = len(train_dataloader.dataset)\n",
    "    num_batches = len(train_dataloader)\n",
    "    train_loss, train_correct = 0, 0\n",
    "    train_start_time = time.time()\n",
    "    for batch, (X, y) in enumerate(train_dataloader):\n",
    "        pred = model(X)\n",
    "        loss = loss_fn(pred.flatten(), y.float())\n",
    "        \n",
    "        # Backpropagation\n",
    "        optimizer.zero_grad()\n",
    "        loss.backward()\n",
    "        optimizer.step()\n",
    "            \n",
    "        train_loss += loss.item()\n",
    "            \n",
    "        train_correct += (len(pred) - torch.sum(torch.not_equal(pred.flatten() > 0.5, torch.tensor(y))))\n",
    "    train_end_time = time.time() \n",
    "    train_time_taken = train_end_time - train_start_time\n",
    "            \n",
    "    train_loss /= num_batches\n",
    "    train_correct_accuracy = (train_correct.item()/size)\n",
    "        \n",
    "    size = len(test_dataloader.dataset)\n",
    "    num_batches = len(test_dataloader)\n",
    "    test_loss, test_correct = 0, 0\n",
    "        \n",
    "    with torch.no_grad():\n",
    "        for X, y in test_dataloader:\n",
    "            pred = model(X)\n",
    "            test_loss += loss_fn(pred.flatten(), y.float()).item()\n",
    "            test_correct += (len(pred) - torch.sum(torch.not_equal(pred.flatten() > 0.5, torch.tensor(y))))\n",
    "            \n",
    "    test_loss /= num_batches\n",
    "    test_correct_accuracy = (test_correct/size)\n",
    "    \n",
    "    return train_correct_accuracy, train_loss, test_correct_accuracy, test_loss, train_time_taken"
   ]
  },
  {
   "cell_type": "code",
   "execution_count": 15,
   "id": "d13d1ff1-7242-4c3f-bcf2-c92fe0c723db",
   "metadata": {
    "deletable": false,
    "id": "d13d1ff1-7242-4c3f-bcf2-c92fe0c723db",
    "nbgrader": {
     "cell_type": "code",
     "checksum": "ec4e70e2dfdc84af8c83bc858117af1f",
     "grade": true,
     "grade_id": "hyperparameter_tuning",
     "locked": false,
     "points": 2,
     "schema_version": 3,
     "solution": true,
     "task": false
    },
    "tags": []
   },
   "outputs": [
    {
     "name": "stderr",
     "output_type": "stream",
     "text": [
      "C:\\Users\\micha\\AppData\\Local\\Temp\\ipykernel_14452\\2715384493.py:25: UserWarning: To copy construct from a tensor, it is recommended to use sourceTensor.clone().detach() or sourceTensor.clone().detach().requires_grad_(True), rather than torch.tensor(sourceTensor).\n",
      "  train_correct += (len(pred) - torch.sum(torch.not_equal(pred.flatten() > 0.5, torch.tensor(y))))\n",
      "C:\\Users\\micha\\AppData\\Local\\Temp\\ipykernel_14452\\2715384493.py:40: UserWarning: To copy construct from a tensor, it is recommended to use sourceTensor.clone().detach() or sourceTensor.clone().detach().requires_grad_(True), rather than torch.tensor(sourceTensor).\n",
      "  test_correct += (len(pred) - torch.sum(torch.not_equal(pred.flatten() > 0.5, torch.tensor(y))))\n"
     ]
    },
    {
     "name": "stdout",
     "output_type": "stream",
     "text": [
      "No neurons: 64 Fold 1 : Epoch 100: Train_accuracy: 82.58%, Train_loss: 0.386732, Val_accuracy: 67.48%, Val_loss: 0.717083\n",
      "Time taken on last epoch: 0.17s\n",
      "No neurons: 128 Fold 1 : Epoch 100: Train_accuracy: 90.16%, Train_loss: 0.229543, Val_accuracy: 72.22%, Val_loss: 0.740542\n",
      "Time taken on last epoch: 0.19s\n",
      "No neurons: 256 Fold 1 : Epoch 100: Train_accuracy: 95.17%, Train_loss: 0.127783, Val_accuracy: 73.05%, Val_loss: 0.841360\n",
      "Time taken on last epoch: 0.24s\n",
      "No neurons: 64 Fold 2 : Epoch 100: Train_accuracy: 83.01%, Train_loss: 0.371125, Val_accuracy: 70.62%, Val_loss: 0.649539\n",
      "Time taken on last epoch: 0.16s\n",
      "No neurons: 128 Fold 2 : Epoch 100: Train_accuracy: 90.59%, Train_loss: 0.233624, Val_accuracy: 72.87%, Val_loss: 0.741069\n",
      "Time taken on last epoch: 0.19s\n",
      "No neurons: 256 Fold 2 : Epoch 100: Train_accuracy: 95.10%, Train_loss: 0.132557, Val_accuracy: 75.53%, Val_loss: 0.779282\n",
      "Time taken on last epoch: 0.30s\n",
      "No neurons: 64 Fold 3 : Epoch 100: Train_accuracy: 83.26%, Train_loss: 0.383408, Val_accuracy: 68.72%, Val_loss: 0.678633\n",
      "Time taken on last epoch: 0.18s\n",
      "No neurons: 128 Fold 3 : Epoch 100: Train_accuracy: 90.79%, Train_loss: 0.229891, Val_accuracy: 72.81%, Val_loss: 0.731397\n",
      "Time taken on last epoch: 0.20s\n",
      "No neurons: 256 Fold 3 : Epoch 100: Train_accuracy: 95.54%, Train_loss: 0.117055, Val_accuracy: 75.59%, Val_loss: 0.817931\n",
      "Time taken on last epoch: 0.29s\n",
      "No neurons: 64 Fold 4 : Epoch 100: Train_accuracy: 83.87%, Train_loss: 0.357625, Val_accuracy: 69.02%, Val_loss: 0.706040\n",
      "Time taken on last epoch: 0.15s\n",
      "No neurons: 128 Fold 4 : Epoch 100: Train_accuracy: 90.33%, Train_loss: 0.229362, Val_accuracy: 71.27%, Val_loss: 0.780812\n",
      "Time taken on last epoch: 0.26s\n",
      "No neurons: 256 Fold 4 : Epoch 100: Train_accuracy: 95.78%, Train_loss: 0.108563, Val_accuracy: 73.16%, Val_loss: 1.065353\n",
      "Time taken on last epoch: 0.26s\n",
      "No neurons: 64 Fold 5 : Epoch 100: Train_accuracy: 84.02%, Train_loss: 0.367489, Val_accuracy: 69.59%, Val_loss: 0.651812\n",
      "Time taken on last epoch: 0.17s\n",
      "No neurons: 128 Fold 5 : Epoch 100: Train_accuracy: 91.01%, Train_loss: 0.227665, Val_accuracy: 73.92%, Val_loss: 0.687604\n",
      "Time taken on last epoch: 0.21s\n",
      "No neurons: 256 Fold 5 : Epoch 100: Train_accuracy: 95.28%, Train_loss: 0.126512, Val_accuracy: 75.16%, Val_loss: 0.796924\n",
      "Time taken on last epoch: 0.31s\n",
      "======== Batch size 64 ========\n",
      "Average cross_validation_times: 0.17s\n",
      "Average cross_validation_accuracies: 69.08%\n",
      "======== Batch size 128 ========\n",
      "Average cross_validation_times: 0.21s\n",
      "Average cross_validation_accuracies: 72.62%\n",
      "======== Batch size 256 ========\n",
      "Average cross_validation_times: 0.28s\n",
      "Average cross_validation_accuracies: 74.50%\n"
     ]
    }
   ],
   "source": [
    "def find_optimal_hyperparameter(X_train, y_train, parameters, mode, batch_size):\n",
    "\n",
    "    # YOUR CODE HERE\n",
    "    cross_validation_accuracies = {}\n",
    "    cross_validation_times = {}\n",
    "    no_folds = 5\n",
    "    cv = KFold(n_splits=no_folds, shuffle=True, random_state=0)\n",
    "    for fold_id, (train_idx, test_idx) in enumerate(cv.split(X_train, y_train)):\n",
    "        x_train_fold, y_train_fold  = X_train[train_idx], y_train[train_idx]\n",
    "        x_test_fold, y_test_fold = X_train[test_idx], y_train[test_idx]\n",
    "        \n",
    "        for no_neurons in parameters:\n",
    "            no_inputs = X_train.shape[1]\n",
    "            model = MLP(no_inputs, no_neurons, 1)\n",
    "            optimizer = optim.Adam(model.parameters(), lr=0.001)\n",
    "            no_epochs = 100\n",
    "            \n",
    "            for epochs in range(no_epochs):\n",
    "                train_correct_accuracy, train_loss, test_correct_accuracy, test_loss, train_time_taken = train(model, x_train_fold, y_train_fold, x_test_fold, y_test_fold, batch_size)\n",
    "                \n",
    "                if epochs == no_epochs-1:\n",
    "                    if fold_id == 0:\n",
    "                        cross_validation_accuracies[no_neurons] = test_correct_accuracy\n",
    "                        cross_validation_times[no_neurons] = train_time_taken\n",
    "                    else:\n",
    "                        cross_validation_accuracies[no_neurons] += test_correct_accuracy\n",
    "                        cross_validation_times[no_neurons] += train_time_taken\n",
    "           \n",
    "                    print(f\"No neurons: {no_neurons} Fold {fold_id+1} : Epoch {epochs+1}: Train_accuracy: {(100*train_correct_accuracy):>0.2f}%, Train_loss: {train_loss:>8f}, Val_accuracy: {(100*test_correct_accuracy):>0.2f}%, Val_loss: {test_loss:>8f}\")\n",
    "                    print(f\"Time taken on last epoch: {train_time_taken:>0.2f}s\")\n",
    "        \n",
    "    for no_neuron in parameters:\n",
    "        cross_validation_accuracies[no_neuron] /= no_folds\n",
    "        cross_validation_times[no_neuron] /= no_folds\n",
    "        \n",
    "        print(f\"======== Batch size {no_neuron} ========\")\n",
    "        print(f\"Average cross_validation_times: {cross_validation_times[no_neuron]:>.2f}s\")\n",
    "        print(f\"Average cross_validation_accuracies: { cross_validation_accuracies[no_neuron]*100:>.2f}%\")           \n",
    "    \n",
    "    return cross_validation_accuracies, cross_validation_times\n",
    "\n",
    "'''\n",
    "optimal_bs = 0. Fill your optimal batch size in the following code.\n",
    "'''\n",
    "# YOUR CODE HERE\n",
    "num_neurons = [64, 128, 256]\n",
    "optimal_bs = 256\n",
    "cross_validation_accuracies, cross_validation_times = find_optimal_hyperparameter(X_train_scaled, y_train, num_neurons, 'num_neurons', optimal_bs)"
   ]
  },
  {
   "cell_type": "code",
   "execution_count": null,
   "id": "13b4cce9-3a65-47fa-9b34-44b75de57dff",
   "metadata": {
    "deletable": false,
    "editable": false,
    "id": "13b4cce9-3a65-47fa-9b34-44b75de57dff",
    "nbgrader": {
     "cell_type": "code",
     "checksum": "975e552e751c4efb2cec0eac214f85cd",
     "grade": true,
     "grade_id": "correct_hyperparameter_tuning",
     "locked": true,
     "points": 1,
     "schema_version": 3,
     "solution": false,
     "task": false
    },
    "tags": []
   },
   "outputs": [],
   "source": []
  },
  {
   "cell_type": "markdown",
   "id": "b6756ab6-92e0-4a5e-b4b9-aebe009f5480",
   "metadata": {
    "deletable": false,
    "editable": false,
    "id": "b6756ab6-92e0-4a5e-b4b9-aebe009f5480",
    "nbgrader": {
     "cell_type": "markdown",
     "checksum": "0de56ab3a8b732e3ada17c55bc90a3cf",
     "grade": false,
     "grade_id": "cell-d0eceff23b1291e2",
     "locked": true,
     "schema_version": 3,
     "solution": false,
     "task": false
    }
   },
   "source": [
    "4. Plot the cross-validation accuracies against the number of epochs for different numbers of hidden-layer neurons. Limit the search space of the number of neurons to {64, 128, 256}."
   ]
  },
  {
   "cell_type": "code",
   "execution_count": 16,
   "id": "8fa3afdf-eed6-47b9-9acc-bc2304c46ec3",
   "metadata": {
    "deletable": false,
    "id": "8fa3afdf-eed6-47b9-9acc-bc2304c46ec3",
    "nbgrader": {
     "cell_type": "code",
     "checksum": "25582e96a2b85a5ce6e0cf48a58064bd",
     "grade": true,
     "grade_id": "cell-plot",
     "locked": false,
     "points": 2,
     "schema_version": 3,
     "solution": true,
     "task": false
    },
    "tags": []
   },
   "outputs": [
    {
     "data": {
      "image/png": "[encoded data removed]",
      "text/plain": [
       "<Figure size 640x480 with 1 Axes>"
      ]
     },
     "metadata": {},
     "output_type": "display_data"
    }
   ],
   "source": [
    "# YOUR CODE HERE\n",
    "fig, ax = plt.subplots()\n",
    "ax.scatter([str(nn) for nn in num_neurons], cross_validation_accuracies.values(),  marker = 'x')\n",
    "plt.xlabel('Num neurons in 1st Hidden Layer')\n",
    "plt.ylabel('Mean cross-validation accuracy')\n",
    "plt.show()"
   ]
  },
  {
   "cell_type": "markdown",
   "id": "baab6e4d-4e8b-4358-a68d-682f60db4a06",
   "metadata": {
    "deletable": false,
    "editable": false,
    "id": "baab6e4d-4e8b-4358-a68d-682f60db4a06",
    "nbgrader": {
     "cell_type": "markdown",
     "checksum": "2024917155ea0cc8755c69415b4956cf",
     "grade": false,
     "grade_id": "part-1-3",
     "locked": true,
     "schema_version": 3,
     "solution": false,
     "task": false
    }
   },
   "source": [
    "5. Select the optimal number of neurons for the hidden layer. State the rationale for your selection."
   ]
  },
  {
   "cell_type": "code",
   "execution_count": 5,
   "id": "3e45a22d-9f20-441b-986b-dca35083abc3",
   "metadata": {
    "deletable": false,
    "id": "3e45a22d-9f20-441b-986b-dca35083abc3",
    "nbgrader": {
     "cell_type": "code",
     "checksum": "a8f1233c3ecacc38527a60e87185938b",
     "grade": false,
     "grade_id": "reason",
     "locked": false,
     "schema_version": 3,
     "solution": true,
     "task": false
    }
   },
   "outputs": [
    {
     "name": "stdout",
     "output_type": "stream",
     "text": [
      "Optimal neurons: 256\n",
      "Reason: The optimal number of neurons for the hidden layer is 256. From the scatter plot, we can observe that at neuron size 256, mean cross validation accuracy is the highest.\n"
     ]
    }
   ],
   "source": [
    "optimal_neurons = 256\n",
    "reason = \"The optimal number of neurons for the hidden layer is 256. From the scatter plot, we can observe that at neuron size 256, mean cross validation accuracy is the highest.\"\n",
    "# YOUR CODE HERE\n",
    "print(\"Optimal neurons:\", optimal_neurons)\n",
    "print(\"Reason:\", reason)"
   ]
  },
  {
   "cell_type": "markdown",
   "id": "ebf2dc5e-91d5-49dc-a05f-b9318f3371a7",
   "metadata": {
    "deletable": false,
    "editable": false,
    "id": "ebf2dc5e-91d5-49dc-a05f-b9318f3371a7",
    "nbgrader": {
     "cell_type": "markdown",
     "checksum": "4c609ceb4ecc2dac0684b1da17f44daa",
     "grade": false,
     "grade_id": "cell-302503e166f647c9",
     "locked": true,
     "schema_version": 3,
     "solution": false,
     "task": false
    }
   },
   "source": [
    "6. Plot the train and test accuracies against training epochs with the optimal number of neurons using a line plot."
   ]
  },
  {
   "cell_type": "code",
   "execution_count": 10,
   "id": "081aa567-cd92-4749-93fd-fc6608a1f6ae",
   "metadata": {
    "deletable": false,
    "id": "081aa567-cd92-4749-93fd-fc6608a1f6ae",
    "nbgrader": {
     "cell_type": "code",
     "checksum": "2776dd57325ada98de4534313e894572",
     "grade": true,
     "grade_id": "figure",
     "locked": false,
     "points": 2,
     "schema_version": 3,
     "solution": true,
     "task": false
    },
    "tags": []
   },
   "outputs": [
    {
     "name": "stderr",
     "output_type": "stream",
     "text": [
      "C:\\Users\\micha\\AppData\\Local\\Temp\\ipykernel_7044\\4018269983.py:29: UserWarning: To copy construct from a tensor, it is recommended to use sourceTensor.clone().detach() or sourceTensor.clone().detach().requires_grad_(True), rather than torch.tensor(sourceTensor).\n",
      "  train_correct += (len(pred) - torch.sum(torch.not_equal(pred.flatten() > 0.5, torch.tensor(y))))\n",
      "C:\\Users\\micha\\AppData\\Local\\Temp\\ipykernel_7044\\4018269983.py:46: UserWarning: To copy construct from a tensor, it is recommended to use sourceTensor.clone().detach() or sourceTensor.clone().detach().requires_grad_(True), rather than torch.tensor(sourceTensor).\n",
      "  test_correct += (len(pred) - torch.sum(torch.not_equal(pred.flatten() > 0.5, torch.tensor(y))))\n"
     ]
    },
    {
     "name": "stdout",
     "output_type": "stream",
     "text": [
      "Epoch 1: Train_accuracy: 55.37%, Train_loss: 0.686001, Test_accuracy: 58.07%, Test_loss: 0.673312\n",
      "Epoch 2: Train_accuracy: 59.57%, Train_loss: 0.666112, Test_accuracy: 58.71%, Test_loss: 0.667539\n",
      "Epoch 3: Train_accuracy: 61.89%, Train_loss: 0.647476, Test_accuracy: 61.97%, Test_loss: 0.655881\n",
      "Epoch 4: Train_accuracy: 64.40%, Train_loss: 0.629253, Test_accuracy: 63.02%, Test_loss: 0.644283\n",
      "Epoch 5: Train_accuracy: 66.06%, Train_loss: 0.606897, Test_accuracy: 63.38%, Test_loss: 0.637243\n",
      "Epoch 6: Train_accuracy: 69.07%, Train_loss: 0.582333, Test_accuracy: 64.81%, Test_loss: 0.621543\n",
      "Epoch 7: Train_accuracy: 71.48%, Train_loss: 0.554748, Test_accuracy: 66.42%, Test_loss: 0.616297\n",
      "Epoch 8: Train_accuracy: 73.52%, Train_loss: 0.530331, Test_accuracy: 67.72%, Test_loss: 0.606537\n",
      "Epoch 9: Train_accuracy: 74.95%, Train_loss: 0.510047, Test_accuracy: 67.27%, Test_loss: 0.602558\n",
      "Epoch 10: Train_accuracy: 75.93%, Train_loss: 0.487707, Test_accuracy: 69.57%, Test_loss: 0.599244\n",
      "Epoch 11: Train_accuracy: 77.98%, Train_loss: 0.463937, Test_accuracy: 69.85%, Test_loss: 0.591848\n",
      "Epoch 12: Train_accuracy: 78.81%, Train_loss: 0.443670, Test_accuracy: 70.51%, Test_loss: 0.592181\n",
      "Epoch 13: Train_accuracy: 81.17%, Train_loss: 0.409955, Test_accuracy: 72.25%, Test_loss: 0.610151\n",
      "Epoch 14: Train_accuracy: 81.59%, Train_loss: 0.399397, Test_accuracy: 72.00%, Test_loss: 0.615261\n",
      "Done!\n"
     ]
    }
   ],
   "source": [
    "# YOUR CODE HERE\n",
    "train_dataloader, test_dataloader = intialise_loaders(X_train_scaled, y_train, X_test_scaled, y_test)\n",
    "\n",
    "# YOUR CODE HERE\n",
    "no_inputs = X_train_scaled.shape[1]\n",
    "optimal_neurons = 256\n",
    "model = MLP(no_inputs, optimal_neurons, 1)\n",
    "optimizer = optim.Adam(model.parameters(), lr=0.001)\n",
    "loss_fn = nn.BCELoss()\n",
    "\n",
    "# YOUR CODE HERE\n",
    "early_stopper = EarlyStopper(patience=3, min_delta=0)\n",
    "\n",
    "def train_loop(dataloader, model, loss_fn, optimizer):\n",
    "    size = len(dataloader.dataset)\n",
    "    num_batches = len(dataloader)\n",
    "    train_loss, train_correct = 0, 0\n",
    "    for batch, (X, y) in enumerate(dataloader):\n",
    "        # Compute prediction and loss\n",
    "        pred = model(X)\n",
    "        loss = loss_fn(pred.flatten(), y.float())\n",
    "\n",
    "        # Backpropagation\n",
    "        optimizer.zero_grad()\n",
    "        loss.backward()\n",
    "        optimizer.step()\n",
    "\n",
    "        train_loss += loss.item()\n",
    "        train_correct += (len(pred) - torch.sum(torch.not_equal(pred.flatten() > 0.5, torch.tensor(y))))\n",
    "    \n",
    "    train_loss /= num_batches\n",
    "    train_correct_accuracy = (train_correct.item()/size)\n",
    "    # train_correct /=size\n",
    "\n",
    "    return train_loss, train_correct_accuracy\n",
    "\n",
    "def test_loop(dataloader, model, loss_fn):\n",
    "    size = len(dataloader.dataset)\n",
    "    num_batches = len(dataloader)\n",
    "    test_loss, test_correct = 0, 0\n",
    "\n",
    "    with torch.no_grad():\n",
    "        for X, y in dataloader:\n",
    "            pred = model(X)\n",
    "            test_loss += loss_fn(pred.flatten(), y.float()).item()\n",
    "            test_correct += (len(pred) - torch.sum(torch.not_equal(pred.flatten() > 0.5, torch.tensor(y))))\n",
    "\n",
    "    test_loss /= num_batches\n",
    "    test_correct_accuracy = (test_correct/size)\n",
    "    \n",
    "    #test_correct /= size\n",
    "    \n",
    "    return test_loss, test_correct_accuracy\n",
    "\n",
    "train_loss_list, train_correct_list = [], []\n",
    "test_loss_list, test_correct_list = [], []\n",
    "epochs = 100\n",
    "for t in range(epochs):\n",
    "    train_loss, train_correct = train_loop(train_dataloader, model, loss_fn, optimizer)\n",
    "    test_loss, test_correct = test_loop(test_dataloader, model, loss_fn)\n",
    "    \n",
    "    train_loss_list.append(train_loss)\n",
    "    train_correct_list.append(train_correct)\n",
    "    test_loss_list.append(test_loss)\n",
    "    test_correct_list.append(test_correct)\n",
    "    \n",
    "    print(f\"Epoch {t+1}: Train_accuracy: {(100*train_correct):>0.2f}%, Train_loss: {train_loss:>8f}, Test_accuracy: {(100*test_correct):>0.2f}%, Test_loss: {test_loss:>8f}\")\n",
    "    \n",
    "    if early_stopper.early_stop(test_loss): \n",
    "        print(\"Done!\")\n",
    "        break"
   ]
  },
  {
   "cell_type": "code",
   "execution_count": 11,
   "id": "e29b5aa8",
   "metadata": {},
   "outputs": [
    {
     "data": {
      "text/plain": [
       "<matplotlib.legend.Legend at 0x26379885d90>"
      ]
     },
     "execution_count": 11,
     "metadata": {},
     "output_type": "execute_result"
    },
    {
     "data": {
      "image/png": "[encoded data removed]",
      "text/plain": [
       "<Figure size 640x480 with 1 Axes>"
      ]
     },
     "metadata": {},
     "output_type": "display_data"
    }
   ],
   "source": [
    "# YOUR CODE HERE\n",
    "plt.figure()\n",
    "plt.plot(train_correct_list)\n",
    "plt.plot(test_correct_list)\n",
    "plt.title('Model accuracy vs Number of epochs')\n",
    "plt.ylabel('Accuracy')\n",
    "plt.xlabel('Epoch')\n",
    "plt.legend(['train', 'test'])"
   ]
  }
 ],
 "metadata": {
  "colab": {
   "provenance": []
  },
  "kernelspec": {
   "display_name": "Python 3 (ipykernel)",
   "language": "python",
   "name": "python3"
  },
  "language_info": {
   "codemirror_mode": {
    "name": "ipython",
    "version": 3
   },
   "file_extension": ".py",
   "mimetype": "text/x-python",
   "name": "python",
   "nbconvert_exporter": "python",
   "pygments_lexer": "ipython3",
   "version": "3.11.4"
  }
 },
 "nbformat": 4,
 "nbformat_minor": 5
}
