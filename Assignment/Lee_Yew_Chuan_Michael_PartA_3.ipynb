{
 "cells": [
  {
   "cell_type": "markdown",
   "id": "c5cb62ac-8e88-43e6-bce9-da20fabf38ff",
   "metadata": {
    "deletable": false,
    "editable": false,
    "id": "c5cb62ac-8e88-43e6-bce9-da20fabf38ff",
    "nbgrader": {
     "cell_type": "markdown",
     "checksum": "7e726e0bc51bda6101498fa65e298d55",
     "grade": false,
     "grade_id": "cell-a5df181492bc4d5b",
     "locked": true,
     "schema_version": 3,
     "solution": false,
     "task": false
    }
   },
   "source": [
    "# Question A3"
   ]
  },
  {
   "cell_type": "markdown",
   "id": "5c8f824c",
   "metadata": {
    "deletable": false,
    "editable": false,
    "id": "5c8f824c",
    "nbgrader": {
     "cell_type": "markdown",
     "checksum": "8de5fc7baf0dbbe0ae44ff5e2f33d3e2",
     "grade": false,
     "grade_id": "cell-742f6ec36e67f66e",
     "locked": true,
     "schema_version": 3,
     "solution": false,
     "task": false
    }
   },
   "source": [
    "Find the optimal number of hidden neurons for first hidden layer of the 4-layer network (3 hidden layers, output layer) designed in Question 1 and 2"
   ]
  },
  {
   "cell_type": "markdown",
   "id": "fb9411ad-2324-400e-852e-ff5c0ca716f0",
   "metadata": {
    "deletable": false,
    "editable": false,
    "id": "fb9411ad-2324-400e-852e-ff5c0ca716f0",
    "nbgrader": {
     "cell_type": "markdown",
     "checksum": "c699e75b7edb52e94f6605279070c695",
     "grade": false,
     "grade_id": "cell-e96803fd0366edd9",
     "locked": true,
     "schema_version": 3,
     "solution": false,
     "task": false
    },
    "tags": []
   },
   "source": [
    "#### Plot the mean cross-validation accuracies on the final epoch for different numbers of hidden-layer neurons using a scatter plot. Limit the search space of the number of neurons to {64, 128, 256}. Continue using 5-fold cross validation on training dataset. Select the optimal number of neurons for the hidden layer. State the rationale for your selection.\n",
    "\n",
    "This might take a while to run, approximately 20 - 30 min, so plan your time carefully."
   ]
  },
  {
   "cell_type": "markdown",
   "id": "981c85ca-9a14-4d0a-b44d-814f02c0f8e1",
   "metadata": {
    "deletable": false,
    "editable": false,
    "id": "981c85ca-9a14-4d0a-b44d-814f02c0f8e1",
    "nbgrader": {
     "cell_type": "markdown",
     "checksum": "227f476ef461a471ef38af7d3f6715f8",
     "grade": false,
     "grade_id": "cell-808458412f82c806",
     "locked": true,
     "schema_version": 3,
     "solution": false,
     "task": false
    }
   },
   "source": [
    "1. Firstly, we import relevant libraries."
   ]
  },
  {
   "cell_type": "code",
   "execution_count": 2,
   "id": "b0edc610-21e6-4cc7-9603-59318b961990",
   "metadata": {
    "deletable": false,
    "editable": false,
    "id": "b0edc610-21e6-4cc7-9603-59318b961990",
    "nbgrader": {
     "cell_type": "code",
     "checksum": "04b3385379104c8466a67ea59116fe58",
     "grade": false,
     "grade_id": "cell-03d073049be6df79",
     "locked": true,
     "schema_version": 3,
     "solution": false,
     "task": false
    },
    "tags": []
   },
   "outputs": [],
   "source": [
    "import tqdm\n",
    "import time\n",
    "import random\n",
    "import numpy as np\n",
    "import pandas as pd\n",
    "import matplotlib.pyplot as plt\n",
    "\n",
    "import torch\n",
    "from torch import nn\n",
    "from torch.utils.data import Dataset\n",
    "from torch.utils.data import DataLoader\n",
    "import torch.optim as optim\n",
    "\n",
    "from scipy.io import wavfile as wav\n",
    "\n",
    "from sklearn import preprocessing\n",
    "from sklearn.model_selection import KFold\n",
    "from sklearn.model_selection import train_test_split\n",
    "from sklearn.metrics import f1_score, precision_score, recall_score, confusion_matrix\n",
    "from common_utils import set_seed\n",
    "\n",
    "# setting seed\n",
    "set_seed()"
   ]
  },
  {
   "cell_type": "markdown",
   "id": "e8e12861-4713-4914-9f4b-8a7381708243",
   "metadata": {
    "deletable": false,
    "editable": false,
    "id": "e8e12861-4713-4914-9f4b-8a7381708243",
    "nbgrader": {
     "cell_type": "markdown",
     "checksum": "1203c0efa2d363ccc72779a7511ed5b5",
     "grade": false,
     "grade_id": "cell-647b74152d4edf45",
     "locked": true,
     "schema_version": 3,
     "solution": false,
     "task": false
    }
   },
   "source": [
    "2. To reduce repeated code, place your\n",
    "\n",
    "- network (MLP defined in QA1)\n",
    "- torch datasets (CustomDataset defined in QA1)\n",
    "- loss function (loss_fn defined in QA1)\n",
    "\n",
    "in a separate file called **common_utils.py**\n",
    "\n",
    "Import them into this file. You will not be repenalised for any error in QA1 here as the code in QA1 will not be remarked.\n",
    "\n",
    "The following code cell will not be marked."
   ]
  },
  {
   "cell_type": "code",
   "execution_count": 4,
   "id": "37a1a982-de85-46de-b890-3b81f79f5887",
   "metadata": {
    "deletable": false,
    "id": "37a1a982-de85-46de-b890-3b81f79f5887",
    "nbgrader": {
     "cell_type": "code",
     "checksum": "52ed938922eb6062a33a7d047d8fc605",
     "grade": false,
     "grade_id": "import",
     "locked": false,
     "schema_version": 3,
     "solution": true,
     "task": false
    },
    "tags": []
   },
   "outputs": [],
   "source": [
    "# YOUR CODE HERE\n",
    "from common_utils import *\n",
    "\n",
    "df = pd.read_csv('simplified.csv')\n",
    "df['label'] = df['filename'].str.split('_').str[-2]\n",
    "\n",
    "columns_to_drop = ['filename', 'label']\n",
    "X_train, y_train, X_test, y_test = split_dataset(df, columns_to_drop, test_size=0.3, random_state=0)\n",
    "X_train_scaled, X_test_scaled = preprocess_dataset(X_train, X_test)\n",
    "\n",
    "loss_fn = nn.BCELoss()"
   ]
  },
  {
   "cell_type": "markdown",
   "id": "558aa470-6d7e-454c-9cda-9ad881d58c53",
   "metadata": {
    "deletable": false,
    "editable": false,
    "id": "558aa470-6d7e-454c-9cda-9ad881d58c53",
    "nbgrader": {
     "cell_type": "markdown",
     "checksum": "79004bd568c9f48abd1cf359cd050ab5",
     "grade": false,
     "grade_id": "cell-10b7165b0a25758f",
     "locked": true,
     "schema_version": 3,
     "solution": false,
     "task": false
    }
   },
   "source": [
    "3. Perform hyperparameter tuning for the different neurons with 5-fold cross validation."
   ]
  },
  {
   "cell_type": "code",
   "execution_count": 5,
   "id": "8c77bd18-c546-473e-8c2f-643b4281d9ba",
   "metadata": {
    "deletable": false,
    "id": "8c77bd18-c546-473e-8c2f-643b4281d9ba",
    "nbgrader": {
     "cell_type": "code",
     "checksum": "c610a779f6858f6c77f3fc6beb198dcd",
     "grade": true,
     "grade_id": "train",
     "locked": false,
     "points": 2,
     "schema_version": 3,
     "solution": true,
     "task": false
    },
    "tags": []
   },
   "outputs": [],
   "source": [
    "def train(model, optimizer, X_train_scaled, y_train2, X_val_scaled, y_val2, batch_size):\n",
    "    train_data = CustomDataset(X_train_scaled, y_train2)\n",
    "    test_data = CustomDataset(X_val_scaled, y_val2)\n",
    "    \n",
    "    train_dataloader = DataLoader(train_data, batch_size=batch_size, shuffle=True)\n",
    "    test_dataloader = DataLoader(test_data, batch_size=batch_size, shuffle=True)\n",
    "\n",
    "    size = len(train_dataloader.dataset)\n",
    "    num_batches = len(train_dataloader)\n",
    "    train_loss, train_correct = 0, 0\n",
    "    train_start_time = time.time()\n",
    "    for batch, (X, y) in enumerate(train_dataloader):\n",
    "        pred = model(X)\n",
    "        loss = loss_fn(pred.flatten(), y.float())\n",
    "        \n",
    "        # Backpropagation\n",
    "        optimizer.zero_grad()\n",
    "        loss.backward()\n",
    "        optimizer.step()\n",
    "            \n",
    "        train_loss += loss.item()\n",
    "            \n",
    "        train_correct += (len(pred) - torch.sum(torch.not_equal(pred.flatten() > 0.5, torch.tensor(y))))\n",
    "    train_end_time = time.time() \n",
    "    train_time_taken = train_end_time - train_start_time\n",
    "            \n",
    "    train_loss /= num_batches\n",
    "    train_correct_accuracy = (train_correct.item()/size)\n",
    "        \n",
    "    size = len(test_dataloader.dataset)\n",
    "    num_batches = len(test_dataloader)\n",
    "    test_loss, test_correct = 0, 0\n",
    "        \n",
    "    with torch.no_grad():\n",
    "        for X, y in test_dataloader:\n",
    "            pred = model(X)\n",
    "            test_loss += loss_fn(pred.flatten(), y.float()).item()\n",
    "            test_correct += (len(pred) - torch.sum(torch.not_equal(pred.flatten() > 0.5, torch.tensor(y))))\n",
    "            \n",
    "    test_loss /= num_batches\n",
    "    test_correct_accuracy = (test_correct/size)\n",
    "    \n",
    "    return train_correct_accuracy, train_loss, test_correct_accuracy, test_loss, train_time_taken"
   ]
  },
  {
   "cell_type": "code",
   "execution_count": 6,
   "id": "d13d1ff1-7242-4c3f-bcf2-c92fe0c723db",
   "metadata": {
    "deletable": false,
    "id": "d13d1ff1-7242-4c3f-bcf2-c92fe0c723db",
    "nbgrader": {
     "cell_type": "code",
     "checksum": "ec4e70e2dfdc84af8c83bc858117af1f",
     "grade": true,
     "grade_id": "hyperparameter_tuning",
     "locked": false,
     "points": 2,
     "schema_version": 3,
     "solution": true,
     "task": false
    },
    "tags": []
   },
   "outputs": [
    {
     "name": "stderr",
     "output_type": "stream",
     "text": [
      "C:\\Users\\micha\\AppData\\Local\\Temp\\ipykernel_27016\\1648052168.py:23: UserWarning: To copy construct from a tensor, it is recommended to use sourceTensor.clone().detach() or sourceTensor.clone().detach().requires_grad_(True), rather than torch.tensor(sourceTensor).\n",
      "  train_correct += (len(pred) - torch.sum(torch.not_equal(pred.flatten() > 0.5, torch.tensor(y))))\n",
      "C:\\Users\\micha\\AppData\\Local\\Temp\\ipykernel_27016\\1648052168.py:38: UserWarning: To copy construct from a tensor, it is recommended to use sourceTensor.clone().detach() or sourceTensor.clone().detach().requires_grad_(True), rather than torch.tensor(sourceTensor).\n",
      "  test_correct += (len(pred) - torch.sum(torch.not_equal(pred.flatten() > 0.5, torch.tensor(y))))\n"
     ]
    },
    {
     "name": "stdout",
     "output_type": "stream",
     "text": [
      "No neurons: 64 Fold 1 : Epoch 24: Train_accuracy: 75.44%, Train_loss: 0.501292, Val_accuracy: 65.28%, Val_loss: 0.628538\n",
      "Time taken on last epoch: 0.39s\n",
      "Done training! Stopped at epoch 23\n",
      "No neurons: 128 Fold 1 : Epoch 12: Train_accuracy: 71.40%, Train_loss: 0.547188, Val_accuracy: 65.34%, Val_loss: 0.653477\n",
      "Time taken on last epoch: 0.26s\n",
      "Done training! Stopped at epoch 11\n",
      "No neurons: 256 Fold 1 : Epoch 17: Train_accuracy: 80.09%, Train_loss: 0.422180, Val_accuracy: 67.77%, Val_loss: 0.651572\n",
      "Time taken on last epoch: 0.22s\n",
      "Done training! Stopped at epoch 16\n",
      "No neurons: 64 Fold 2 : Epoch 9: Train_accuracy: 65.61%, Train_loss: 0.618274, Val_accuracy: 58.89%, Val_loss: 0.670609\n",
      "Time taken on last epoch: 0.26s\n",
      "Done training! Stopped at epoch 8\n",
      "No neurons: 128 Fold 2 : Epoch 18: Train_accuracy: 76.58%, Train_loss: 0.480525, Val_accuracy: 66.88%, Val_loss: 0.633742\n",
      "Time taken on last epoch: 0.21s\n",
      "Done training! Stopped at epoch 17\n",
      "No neurons: 256 Fold 2 : Epoch 16: Train_accuracy: 79.32%, Train_loss: 0.440063, Val_accuracy: 70.26%, Val_loss: 0.598914\n",
      "Time taken on last epoch: 0.32s\n",
      "Done training! Stopped at epoch 15\n",
      "No neurons: 64 Fold 3 : Epoch 17: Train_accuracy: 71.47%, Train_loss: 0.555629, Val_accuracy: 64.28%, Val_loss: 0.649948\n",
      "Time taken on last epoch: 0.21s\n",
      "Done training! Stopped at epoch 16\n",
      "No neurons: 128 Fold 3 : Epoch 17: Train_accuracy: 76.55%, Train_loss: 0.477042, Val_accuracy: 66.77%, Val_loss: 0.636903\n",
      "Time taken on last epoch: 0.18s\n",
      "Done training! Stopped at epoch 16\n",
      "No neurons: 256 Fold 3 : Epoch 20: Train_accuracy: 82.74%, Train_loss: 0.384998, Val_accuracy: 70.08%, Val_loss: 0.600356\n",
      "Time taken on last epoch: 0.23s\n",
      "Done training! Stopped at epoch 19\n",
      "No neurons: 64 Fold 4 : Epoch 17: Train_accuracy: 71.26%, Train_loss: 0.551910, Val_accuracy: 64.10%, Val_loss: 0.651236\n",
      "Time taken on last epoch: 0.22s\n",
      "Done training! Stopped at epoch 16\n",
      "No neurons: 128 Fold 4 : Epoch 20: Train_accuracy: 78.97%, Train_loss: 0.453810, Val_accuracy: 67.06%, Val_loss: 0.650998\n",
      "Time taken on last epoch: 0.22s\n",
      "Done training! Stopped at epoch 19\n",
      "No neurons: 256 Fold 4 : Epoch 9: Train_accuracy: 71.59%, Train_loss: 0.559908, Val_accuracy: 63.45%, Val_loss: 0.655293\n",
      "Time taken on last epoch: 0.25s\n",
      "Done training! Stopped at epoch 8\n",
      "No neurons: 64 Fold 5 : Epoch 23: Train_accuracy: 75.87%, Train_loss: 0.499482, Val_accuracy: 67.40%, Val_loss: 0.617178\n",
      "Time taken on last epoch: 0.19s\n",
      "Done training! Stopped at epoch 22\n",
      "No neurons: 128 Fold 5 : Epoch 11: Train_accuracy: 70.04%, Train_loss: 0.575448, Val_accuracy: 62.71%, Val_loss: 0.641998\n",
      "Time taken on last epoch: 0.24s\n",
      "Done training! Stopped at epoch 10\n",
      "No neurons: 256 Fold 5 : Epoch 16: Train_accuracy: 78.87%, Train_loss: 0.447529, Val_accuracy: 68.76%, Val_loss: 0.611323\n",
      "Time taken on last epoch: 0.24s\n",
      "Done training! Stopped at epoch 15\n",
      "======== Batch size 64 ========\n",
      "Average cross_validation_times: 0.25s\n",
      "Average cross_validation_accuracies: 63.99%\n",
      "======== Batch size 128 ========\n",
      "Average cross_validation_times: 0.22s\n",
      "Average cross_validation_accuracies: 65.75%\n",
      "======== Batch size 256 ========\n",
      "Average cross_validation_times: 0.25s\n",
      "Average cross_validation_accuracies: 68.07%\n"
     ]
    }
   ],
   "source": [
    "def find_optimal_hyperparameter(X_train, y_train, parameters, mode, batch_size):\n",
    "\n",
    "    # YOUR CODE HERE\n",
    "    cross_validation_accuracies = {}\n",
    "    cross_validation_times = {}\n",
    "    no_folds = 5\n",
    "    cv = KFold(n_splits=no_folds, shuffle=True, random_state=0)\n",
    "    for fold_id, (train_idx, test_idx) in enumerate(cv.split(X_train, y_train)):\n",
    "        x_train_fold, y_train_fold  = X_train[train_idx], y_train[train_idx]\n",
    "        x_test_fold, y_test_fold = X_train[test_idx], y_train[test_idx]\n",
    "        \n",
    "        for no_neurons in parameters:\n",
    "            no_inputs = X_train.shape[1]\n",
    "            model = MLP(no_inputs, [no_neurons, 128, 128], 1)\n",
    "            early_stopper = EarlyStopper(patience=3, min_delta=0) \n",
    "            optimizer = optim.Adam(model.parameters(), lr=0.001)\n",
    "            no_epochs = 100\n",
    "            \n",
    "            for epochs in range(no_epochs):\n",
    "                train_correct_accuracy, train_loss, test_correct_accuracy, test_loss, train_time_taken = train(model, optimizer, x_train_fold, y_train_fold, x_test_fold, y_test_fold, batch_size)\n",
    "                \n",
    "                if early_stopper.early_stop(test_loss):\n",
    "                    if fold_id == 0:\n",
    "                        cross_validation_accuracies[no_neurons] = test_correct_accuracy\n",
    "                        cross_validation_times[no_neurons] = train_time_taken\n",
    "                    else:\n",
    "                        cross_validation_accuracies[no_neurons] += test_correct_accuracy\n",
    "                        cross_validation_times[no_neurons] += train_time_taken\n",
    "           \n",
    "                    print(f\"No neurons: {no_neurons} Fold {fold_id+1} : Epoch {epochs+1}: Train_accuracy: {(100*train_correct_accuracy):>0.2f}%, Train_loss: {train_loss:>8f}, Val_accuracy: {(100*test_correct_accuracy):>0.2f}%, Val_loss: {test_loss:>8f}\")\n",
    "                    print(f\"Time taken on last epoch: {train_time_taken:>0.2f}s\")\n",
    "                    print(f\"Done training! Stopped at epoch {epochs}\")\n",
    "                    break\n",
    "        \n",
    "    for no_neuron in parameters:\n",
    "        cross_validation_accuracies[no_neuron] /= no_folds\n",
    "        cross_validation_times[no_neuron] /= no_folds\n",
    "        \n",
    "        print(f\"======== Batch size {no_neuron} ========\")\n",
    "        print(f\"Average cross_validation_times: {cross_validation_times[no_neuron]:>.2f}s\")\n",
    "        print(f\"Average cross_validation_accuracies: { cross_validation_accuracies[no_neuron]*100:>.2f}%\")           \n",
    "    \n",
    "    return cross_validation_accuracies, cross_validation_times\n",
    "\n",
    "'''\n",
    "optimal_bs = 0. Fill your optimal batch size in the following code.\n",
    "'''\n",
    "# YOUR CODE HERE\n",
    "num_neurons = [64, 128, 256]\n",
    "optimal_bs = 256\n",
    "cross_validation_accuracies, cross_validation_times = find_optimal_hyperparameter(X_train_scaled, y_train, num_neurons, 'num_neurons', optimal_bs)"
   ]
  },
  {
   "cell_type": "markdown",
   "id": "b6756ab6-92e0-4a5e-b4b9-aebe009f5480",
   "metadata": {
    "deletable": false,
    "editable": false,
    "id": "b6756ab6-92e0-4a5e-b4b9-aebe009f5480",
    "nbgrader": {
     "cell_type": "markdown",
     "checksum": "0de56ab3a8b732e3ada17c55bc90a3cf",
     "grade": false,
     "grade_id": "cell-d0eceff23b1291e2",
     "locked": true,
     "schema_version": 3,
     "solution": false,
     "task": false
    }
   },
   "source": [
    "4. Plot the cross-validation accuracies against the number of epochs for different numbers of hidden-layer neurons. Limit the search space of the number of neurons to {64, 128, 256}."
   ]
  },
  {
   "cell_type": "code",
   "execution_count": 7,
   "id": "2f610dd3",
   "metadata": {},
   "outputs": [
    {
     "data": {
      "image/png": "[encoded data removed]",
      "text/plain": [
       "<Figure size 640x480 with 1 Axes>"
      ]
     },
     "metadata": {},
     "output_type": "display_data"
    }
   ],
   "source": [
    "# YOUR CODE HERE\n",
    "fig, ax = plt.subplots()\n",
    "ax.scatter([str(n) for n in num_neurons], cross_validation_accuracies.values())\n",
    "plt.xlabel('Number of neurons in 1st Hidden Layer')\n",
    "plt.ylabel('Mean cross-validation accuracy')\n",
    "plt.show()"
   ]
  },
  {
   "cell_type": "markdown",
   "id": "baab6e4d-4e8b-4358-a68d-682f60db4a06",
   "metadata": {
    "deletable": false,
    "editable": false,
    "id": "baab6e4d-4e8b-4358-a68d-682f60db4a06",
    "nbgrader": {
     "cell_type": "markdown",
     "checksum": "2024917155ea0cc8755c69415b4956cf",
     "grade": false,
     "grade_id": "part-1-3",
     "locked": true,
     "schema_version": 3,
     "solution": false,
     "task": false
    }
   },
   "source": [
    "5. Select the optimal number of neurons for the hidden layer. State the rationale for your selection."
   ]
  },
  {
   "cell_type": "code",
   "execution_count": 9,
   "id": "3e45a22d-9f20-441b-986b-dca35083abc3",
   "metadata": {
    "deletable": false,
    "id": "3e45a22d-9f20-441b-986b-dca35083abc3",
    "nbgrader": {
     "cell_type": "code",
     "checksum": "a8f1233c3ecacc38527a60e87185938b",
     "grade": false,
     "grade_id": "reason",
     "locked": false,
     "schema_version": 3,
     "solution": true,
     "task": false
    }
   },
   "outputs": [
    {
     "name": "stdout",
     "output_type": "stream",
     "text": [
      "Optimal neurons: 256\n",
      "Reason: The optimal number of neurons for the hidden layer is 256. From the plot, we can observe that at neuron size 256, mean cross validation accuracy is the highest.\n"
     ]
    }
   ],
   "source": [
    "optimal_neurons = 256\n",
    "reason = \"The optimal number of neurons for the hidden layer is 256. From the plot, we can observe that at neuron size 256, mean cross validation accuracy is the highest.\"\n",
    "# YOUR CODE HERE\n",
    "print(\"Optimal neurons:\", optimal_neurons)\n",
    "print(\"Reason:\", reason)"
   ]
  },
  {
   "cell_type": "markdown",
   "id": "ebf2dc5e-91d5-49dc-a05f-b9318f3371a7",
   "metadata": {
    "deletable": false,
    "editable": false,
    "id": "ebf2dc5e-91d5-49dc-a05f-b9318f3371a7",
    "nbgrader": {
     "cell_type": "markdown",
     "checksum": "4c609ceb4ecc2dac0684b1da17f44daa",
     "grade": false,
     "grade_id": "cell-302503e166f647c9",
     "locked": true,
     "schema_version": 3,
     "solution": false,
     "task": false
    }
   },
   "source": [
    "6. Plot the train and test accuracies against training epochs with the optimal number of neurons using a line plot."
   ]
  },
  {
   "cell_type": "code",
   "execution_count": 25,
   "id": "081aa567-cd92-4749-93fd-fc6608a1f6ae",
   "metadata": {
    "deletable": false,
    "id": "081aa567-cd92-4749-93fd-fc6608a1f6ae",
    "nbgrader": {
     "cell_type": "code",
     "checksum": "2776dd57325ada98de4534313e894572",
     "grade": true,
     "grade_id": "figure",
     "locked": false,
     "points": 2,
     "schema_version": 3,
     "solution": true,
     "task": false
    },
    "tags": []
   },
   "outputs": [
    {
     "name": "stderr",
     "output_type": "stream",
     "text": [
      "C:\\Users\\micha\\AppData\\Local\\Temp\\ipykernel_20820\\1256896129.py:20: UserWarning: To copy construct from a tensor, it is recommended to use sourceTensor.clone().detach() or sourceTensor.clone().detach().requires_grad_(True), rather than torch.tensor(sourceTensor).\n",
      "  train_correct += (len(pred) - torch.sum(torch.not_equal(pred.flatten() > 0.5, torch.tensor(y))))\n",
      "C:\\Users\\micha\\AppData\\Local\\Temp\\ipykernel_20820\\1256896129.py:36: UserWarning: To copy construct from a tensor, it is recommended to use sourceTensor.clone().detach() or sourceTensor.clone().detach().requires_grad_(True), rather than torch.tensor(sourceTensor).\n",
      "  test_correct += (len(pred) - torch.sum(torch.not_equal(pred.flatten() > 0.5, torch.tensor(y))))\n"
     ]
    },
    {
     "name": "stdout",
     "output_type": "stream",
     "text": [
      "Epoch 1: Train_accuracy: 54.21%, Train_loss: 0.687415, Test_accuracy: 57.05%, Test_loss: 0.678994\n",
      "Epoch 2: Train_accuracy: 58.73%, Train_loss: 0.669748, Test_accuracy: 56.85%, Test_loss: 0.675655\n",
      "Epoch 3: Train_accuracy: 61.54%, Train_loss: 0.654951, Test_accuracy: 60.42%, Test_loss: 0.665292\n",
      "Epoch 4: Train_accuracy: 63.28%, Train_loss: 0.637847, Test_accuracy: 61.77%, Test_loss: 0.648727\n",
      "Epoch 5: Train_accuracy: 65.35%, Train_loss: 0.619134, Test_accuracy: 64.07%, Test_loss: 0.645342\n",
      "Epoch 6: Train_accuracy: 67.61%, Train_loss: 0.599959, Test_accuracy: 63.60%, Test_loss: 0.649506\n",
      "Epoch 7: Train_accuracy: 69.79%, Train_loss: 0.575305, Test_accuracy: 65.12%, Test_loss: 0.632370\n",
      "Epoch 8: Train_accuracy: 71.07%, Train_loss: 0.555821, Test_accuracy: 65.48%, Test_loss: 0.628324\n",
      "Epoch 9: Train_accuracy: 72.26%, Train_loss: 0.539096, Test_accuracy: 68.66%, Test_loss: 0.601064\n",
      "Epoch 10: Train_accuracy: 74.01%, Train_loss: 0.521812, Test_accuracy: 67.69%, Test_loss: 0.610777\n",
      "Epoch 11: Train_accuracy: 75.44%, Train_loss: 0.496107, Test_accuracy: 68.24%, Test_loss: 0.604036\n",
      "Epoch 12: Train_accuracy: 75.97%, Train_loss: 0.486784, Test_accuracy: 68.60%, Test_loss: 0.609238\n",
      "Done!\n"
     ]
    }
   ],
   "source": [
    "# YOUR CODE HERE\n",
    "train_dataloader, test_dataloader = intialise_loaders(X_train_scaled, y_train, X_test_scaled, y_test)\n",
    "\n",
    "# YOUR CODE HERE\n",
    "def train_loop(dataloader, model, loss_fn, optimizer):\n",
    "    size = len(dataloader.dataset)\n",
    "    num_batches = len(dataloader)\n",
    "    train_loss, train_correct = 0, 0\n",
    "    for batch, (X, y) in enumerate(dataloader):\n",
    "        # Compute prediction and loss\n",
    "        pred = model(X)\n",
    "        loss = loss_fn(pred.flatten(), y.float())\n",
    "\n",
    "        # Backpropagation\n",
    "        optimizer.zero_grad()\n",
    "        loss.backward()\n",
    "        optimizer.step()\n",
    "\n",
    "        train_loss += loss.item()\n",
    "        train_correct += (len(pred) - torch.sum(torch.not_equal(pred.flatten() > 0.5, torch.tensor(y))))\n",
    "    \n",
    "    train_loss /= num_batches\n",
    "    train_correct_accuracy = (train_correct.item()/size)\n",
    "\n",
    "    return train_loss, train_correct_accuracy\n",
    "\n",
    "def test_loop(dataloader, model, loss_fn):\n",
    "    size = len(dataloader.dataset)\n",
    "    num_batches = len(dataloader)\n",
    "    test_loss, test_correct = 0, 0\n",
    "\n",
    "    with torch.no_grad():\n",
    "        for X, y in dataloader:\n",
    "            pred = model(X)\n",
    "            test_loss += loss_fn(pred.flatten(), y.float()).item()\n",
    "            test_correct += (len(pred) - torch.sum(torch.not_equal(pred.flatten() > 0.5, torch.tensor(y))))\n",
    "\n",
    "    test_loss /= num_batches\n",
    "    test_correct_accuracy = (test_correct/size)\n",
    "    \n",
    "    #test_correct /= size\n",
    "    \n",
    "    return test_loss, test_correct_accuracy\n",
    "\n",
    "loss_fn = nn.BCELoss()\n",
    "optimal_neurons = 256\n",
    "no_inputs = X_train_scaled.shape[1]\n",
    "model = MLP(no_inputs, [optimal_neurons, 128, 128], 1)\n",
    "optimizer = optim.Adam(model.parameters(), lr=0.001)\n",
    "early_stopper = EarlyStopper(patience=3, min_delta=0)\n",
    "\n",
    "train_loss_list, train_correct_list = [], []\n",
    "test_loss_list, test_correct_list = [], []\n",
    "epochs = 100\n",
    "for t in range(epochs):\n",
    "    train_loss, train_correct = train_loop(train_dataloader, model, loss_fn, optimizer)\n",
    "    test_loss, test_correct = test_loop(test_dataloader, model, loss_fn)\n",
    "    \n",
    "    train_loss_list.append(train_loss)\n",
    "    train_correct_list.append(train_correct)\n",
    "    test_loss_list.append(test_loss)\n",
    "    test_correct_list.append(test_correct)\n",
    "    \n",
    "    print(f\"Epoch {t+1}: Train_accuracy: {(100*train_correct):>0.2f}%, Train_loss: {train_loss:>8f}, Test_accuracy: {(100*test_correct):>0.2f}%, Test_loss: {test_loss:>8f}\")\n",
    "    \n",
    "    if early_stopper.early_stop(test_loss): \n",
    "        print(\"Done!\")\n",
    "        break"
   ]
  },
  {
   "cell_type": "code",
   "execution_count": 26,
   "id": "4aea598e",
   "metadata": {},
   "outputs": [
    {
     "data": {
      "text/plain": [
       "<matplotlib.legend.Legend at 0x15ff87024d0>"
      ]
     },
     "execution_count": 26,
     "metadata": {},
     "output_type": "execute_result"
    },
    {
     "data": {
      "image/png": "[encoded data removed]",
      "text/plain": [
       "<Figure size 640x480 with 1 Axes>"
      ]
     },
     "metadata": {},
     "output_type": "display_data"
    }
   ],
   "source": [
    "# YOUR CODE HERE\n",
    "plt.figure()\n",
    "plt.plot(train_correct_list)\n",
    "plt.plot(test_correct_list)\n",
    "plt.title('Model accuracy vs Number of epochs')\n",
    "plt.ylabel('Accuracy')\n",
    "plt.xlabel('Epoch')\n",
    "plt.legend(['train', 'test'])"
   ]
  }
 ],
 "metadata": {
  "colab": {
   "provenance": []
  },
  "kernelspec": {
   "display_name": "Python 3 (ipykernel)",
   "language": "python",
   "name": "python3"
  },
  "language_info": {
   "codemirror_mode": {
    "name": "ipython",
    "version": 3
   },
   "file_extension": ".py",
   "mimetype": "text/x-python",
   "name": "python",
   "nbconvert_exporter": "python",
   "pygments_lexer": "ipython3",
   "version": "3.11.4"
  }
 },
 "nbformat": 4,
 "nbformat_minor": 5
}
