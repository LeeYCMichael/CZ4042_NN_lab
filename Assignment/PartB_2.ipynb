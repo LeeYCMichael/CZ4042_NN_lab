{
 "cells": [
  {
   "cell_type": "markdown",
   "metadata": {
    "id": "NFVxWZGJxprU"
   },
   "source": [
    "# CS4001/4042 Assignment 1, Part B, Q2\n",
    "In Question B1, we used the Category Embedding model. This creates a feedforward neural network in which the categorical features get learnable embeddings. In this question, we will make use of a library called Pytorch-WideDeep. This library makes it easy to work with multimodal deep-learning problems combining images, text, and tables. We will just be utilizing the deeptabular component of this library through the TabMlp network:"
   ]
  },
  {
   "cell_type": "code",
   "execution_count": 4,
   "metadata": {
    "id": "EycCozG06Duu"
   },
   "outputs": [
    {
     "name": "stdout",
     "output_type": "stream",
     "text": [
      "Collecting pytorch-widedeep\n",
      "  Obtaining dependency information for pytorch-widedeep from https://files.pythonhosted.org/packages/17/f4/48f8d4c527baea10808b822fd3c00260f2b3b453937f2ef54bc464da1b88/pytorch_widedeep-1.3.2-py3-none-any.whl.metadata\n",
      "  Using cached pytorch_widedeep-1.3.2-py3-none-any.whl.metadata (10 kB)\n",
      "Requirement already satisfied: pandas>=1.3.5 in c:\\users\\micha\\miniconda3\\envs\\cz4042_nn_alt\\lib\\site-packages (from pytorch-widedeep) (2.0.3)\n",
      "Requirement already satisfied: numpy>=1.21.6 in c:\\users\\micha\\miniconda3\\envs\\cz4042_nn_alt\\lib\\site-packages (from pytorch-widedeep) (1.24.4)\n",
      "Requirement already satisfied: scipy>=1.7.3 in c:\\users\\micha\\miniconda3\\envs\\cz4042_nn_alt\\lib\\site-packages (from pytorch-widedeep) (1.10.1)\n",
      "Requirement already satisfied: scikit-learn>=1.0.2 in c:\\users\\micha\\miniconda3\\envs\\cz4042_nn_alt\\lib\\site-packages (from pytorch-widedeep) (1.3.0)\n",
      "Collecting gensim (from pytorch-widedeep)\n",
      "  Obtaining dependency information for gensim from https://files.pythonhosted.org/packages/3e/b7/fba98a65efea29a7d8bf25ade2db67e34ebab8e63769e8927d0a4d42a84f/gensim-4.3.2-cp38-cp38-win_amd64.whl.metadata\n",
      "  Using cached gensim-4.3.2-cp38-cp38-win_amd64.whl.metadata (8.5 kB)\n",
      "Collecting spacy (from pytorch-widedeep)\n",
      "  Obtaining dependency information for spacy from https://files.pythonhosted.org/packages/14/26/7447496e90ee51bf00d1af33085c180eeb26166149bed1d30ef4c53d862c/spacy-3.6.1-cp38-cp38-win_amd64.whl.metadata\n",
      "  Using cached spacy-3.6.1-cp38-cp38-win_amd64.whl.metadata (26 kB)\n",
      "Requirement already satisfied: opencv-contrib-python in c:\\users\\micha\\miniconda3\\envs\\cz4042_nn_alt\\lib\\site-packages (from pytorch-widedeep) (4.8.0.76)\n",
      "Requirement already satisfied: imutils in c:\\users\\micha\\miniconda3\\envs\\cz4042_nn_alt\\lib\\site-packages (from pytorch-widedeep) (0.5.4)\n",
      "Requirement already satisfied: tqdm in c:\\users\\micha\\miniconda3\\envs\\cz4042_nn_alt\\lib\\site-packages (from pytorch-widedeep) (4.66.1)\n",
      "Requirement already satisfied: torch in c:\\users\\micha\\miniconda3\\envs\\cz4042_nn_alt\\lib\\site-packages (from pytorch-widedeep) (2.0.1)\n",
      "Collecting torchvision (from pytorch-widedeep)\n",
      "  Using cached torchvision-0.15.2-cp38-cp38-win_amd64.whl (1.2 MB)\n",
      "Requirement already satisfied: einops in c:\\users\\micha\\miniconda3\\envs\\cz4042_nn_alt\\lib\\site-packages (from pytorch-widedeep) (0.6.1)\n",
      "Requirement already satisfied: wrapt in c:\\users\\micha\\miniconda3\\envs\\cz4042_nn_alt\\lib\\site-packages (from pytorch-widedeep) (1.15.0)\n",
      "Requirement already satisfied: torchmetrics in c:\\users\\micha\\miniconda3\\envs\\cz4042_nn_alt\\lib\\site-packages (from pytorch-widedeep) (0.11.4)\n",
      "Requirement already satisfied: pyarrow in c:\\users\\micha\\miniconda3\\envs\\cz4042_nn_alt\\lib\\site-packages (from pytorch-widedeep) (13.0.0)\n",
      "Collecting fastparquet>=0.8.1 (from pytorch-widedeep)\n",
      "  Obtaining dependency information for fastparquet>=0.8.1 from https://files.pythonhosted.org/packages/22/86/8da774a8d52493f9bd3651571af2edd3d369d7e0affb79b7fa5d4aec334b/fastparquet-2023.8.0-cp38-cp38-win_amd64.whl.metadata\n",
      "  Using cached fastparquet-2023.8.0-cp38-cp38-win_amd64.whl.metadata (4.2 kB)\n",
      "Requirement already satisfied: cramjam>=2.3 in c:\\users\\micha\\miniconda3\\envs\\cz4042_nn_alt\\lib\\site-packages (from fastparquet>=0.8.1->pytorch-widedeep) (2.7.0)\n",
      "Requirement already satisfied: fsspec in c:\\users\\micha\\miniconda3\\envs\\cz4042_nn_alt\\lib\\site-packages (from fastparquet>=0.8.1->pytorch-widedeep) (2023.9.1)\n",
      "Requirement already satisfied: packaging in c:\\users\\micha\\miniconda3\\envs\\cz4042_nn_alt\\lib\\site-packages (from fastparquet>=0.8.1->pytorch-widedeep) (23.1)\n",
      "Requirement already satisfied: python-dateutil>=2.8.2 in c:\\users\\micha\\miniconda3\\envs\\cz4042_nn_alt\\lib\\site-packages (from pandas>=1.3.5->pytorch-widedeep) (2.8.2)\n",
      "Requirement already satisfied: pytz>=2020.1 in c:\\users\\micha\\miniconda3\\envs\\cz4042_nn_alt\\lib\\site-packages (from pandas>=1.3.5->pytorch-widedeep) (2023.3.post1)\n",
      "Requirement already satisfied: tzdata>=2022.1 in c:\\users\\micha\\miniconda3\\envs\\cz4042_nn_alt\\lib\\site-packages (from pandas>=1.3.5->pytorch-widedeep) (2023.3)\n",
      "Requirement already satisfied: joblib>=1.1.1 in c:\\users\\micha\\miniconda3\\envs\\cz4042_nn_alt\\lib\\site-packages (from scikit-learn>=1.0.2->pytorch-widedeep) (1.3.2)\n",
      "Requirement already satisfied: threadpoolctl>=2.0.0 in c:\\users\\micha\\miniconda3\\envs\\cz4042_nn_alt\\lib\\site-packages (from scikit-learn>=1.0.2->pytorch-widedeep) (3.2.0)\n",
      "Requirement already satisfied: smart-open>=1.8.1 in c:\\users\\micha\\miniconda3\\envs\\cz4042_nn_alt\\lib\\site-packages (from gensim->pytorch-widedeep) (6.4.0)\n",
      "Requirement already satisfied: spacy-legacy<3.1.0,>=3.0.11 in c:\\users\\micha\\miniconda3\\envs\\cz4042_nn_alt\\lib\\site-packages (from spacy->pytorch-widedeep) (3.0.12)\n",
      "Requirement already satisfied: spacy-loggers<2.0.0,>=1.0.0 in c:\\users\\micha\\miniconda3\\envs\\cz4042_nn_alt\\lib\\site-packages (from spacy->pytorch-widedeep) (1.0.5)\n",
      "Requirement already satisfied: murmurhash<1.1.0,>=0.28.0 in c:\\users\\micha\\miniconda3\\envs\\cz4042_nn_alt\\lib\\site-packages (from spacy->pytorch-widedeep) (1.0.10)\n",
      "Requirement already satisfied: cymem<2.1.0,>=2.0.2 in c:\\users\\micha\\miniconda3\\envs\\cz4042_nn_alt\\lib\\site-packages (from spacy->pytorch-widedeep) (2.0.8)\n",
      "Collecting preshed<3.1.0,>=3.0.2 (from spacy->pytorch-widedeep)\n",
      "  Obtaining dependency information for preshed<3.1.0,>=3.0.2 from https://files.pythonhosted.org/packages/11/d6/52e305ae0d66769c926a02a1f0e87f9918a25a68360de83365b1ff902ef0/preshed-3.0.9-cp38-cp38-win_amd64.whl.metadata\n",
      "  Using cached preshed-3.0.9-cp38-cp38-win_amd64.whl.metadata (2.2 kB)\n",
      "Collecting thinc<8.2.0,>=8.1.8 (from spacy->pytorch-widedeep)\n",
      "  Obtaining dependency information for thinc<8.2.0,>=8.1.8 from https://files.pythonhosted.org/packages/dc/ad/253d28e0203e50c4361693a43ef40b6022e625ea28792f1e7215ff8e7034/thinc-8.1.12-cp38-cp38-win_amd64.whl.metadata\n",
      "  Using cached thinc-8.1.12-cp38-cp38-win_amd64.whl.metadata (15 kB)\n",
      "Requirement already satisfied: wasabi<1.2.0,>=0.9.1 in c:\\users\\micha\\miniconda3\\envs\\cz4042_nn_alt\\lib\\site-packages (from spacy->pytorch-widedeep) (1.1.2)\n",
      "Collecting srsly<3.0.0,>=2.4.3 (from spacy->pytorch-widedeep)\n",
      "  Obtaining dependency information for srsly<3.0.0,>=2.4.3 from https://files.pythonhosted.org/packages/0d/47/65006f95cfac4d20a941cb2c92c6d999e084976d207a2720e9f486ffd7d7/srsly-2.4.7-cp38-cp38-win_amd64.whl.metadata\n",
      "  Using cached srsly-2.4.7-cp38-cp38-win_amd64.whl.metadata (20 kB)\n",
      "Requirement already satisfied: catalogue<2.1.0,>=2.0.6 in c:\\users\\micha\\miniconda3\\envs\\cz4042_nn_alt\\lib\\site-packages (from spacy->pytorch-widedeep) (2.0.9)\n",
      "Requirement already satisfied: typer<0.10.0,>=0.3.0 in c:\\users\\micha\\miniconda3\\envs\\cz4042_nn_alt\\lib\\site-packages (from spacy->pytorch-widedeep) (0.9.0)\n",
      "Collecting pathy>=0.10.0 (from spacy->pytorch-widedeep)\n",
      "  Obtaining dependency information for pathy>=0.10.0 from https://files.pythonhosted.org/packages/b5/c3/04a002ace658133f5ac48d30258ed9ceab720595dc1ac36df02fe52018af/pathy-0.10.2-py3-none-any.whl.metadata\n",
      "  Using cached pathy-0.10.2-py3-none-any.whl.metadata (16 kB)\n",
      "Requirement already satisfied: requests<3.0.0,>=2.13.0 in c:\\users\\micha\\miniconda3\\envs\\cz4042_nn_alt\\lib\\site-packages (from spacy->pytorch-widedeep) (2.31.0)\n",
      "Collecting pydantic!=1.8,!=1.8.1,<3.0.0,>=1.7.4 (from spacy->pytorch-widedeep)\n",
      "  Obtaining dependency information for pydantic!=1.8,!=1.8.1,<3.0.0,>=1.7.4 from https://files.pythonhosted.org/packages/82/06/fafdc75e48b248eff364b4249af4bcc6952225e8f20e8205820afc66e88e/pydantic-2.3.0-py3-none-any.whl.metadata\n",
      "  Using cached pydantic-2.3.0-py3-none-any.whl.metadata (148 kB)\n",
      "Requirement already satisfied: jinja2 in c:\\users\\micha\\miniconda3\\envs\\cz4042_nn_alt\\lib\\site-packages (from spacy->pytorch-widedeep) (3.1.2)\n",
      "Requirement already satisfied: setuptools in c:\\users\\micha\\miniconda3\\envs\\cz4042_nn_alt\\lib\\site-packages (from spacy->pytorch-widedeep) (68.0.0)\n",
      "Requirement already satisfied: langcodes<4.0.0,>=3.2.0 in c:\\users\\micha\\miniconda3\\envs\\cz4042_nn_alt\\lib\\site-packages (from spacy->pytorch-widedeep) (3.3.0)\n",
      "Requirement already satisfied: colorama in c:\\users\\micha\\miniconda3\\envs\\cz4042_nn_alt\\lib\\site-packages (from tqdm->pytorch-widedeep) (0.4.6)\n",
      "Requirement already satisfied: filelock in c:\\users\\micha\\miniconda3\\envs\\cz4042_nn_alt\\lib\\site-packages (from torch->pytorch-widedeep) (3.12.4)\n",
      "Requirement already satisfied: typing-extensions in c:\\users\\micha\\miniconda3\\envs\\cz4042_nn_alt\\lib\\site-packages (from torch->pytorch-widedeep) (4.7.1)\n",
      "Requirement already satisfied: sympy in c:\\users\\micha\\miniconda3\\envs\\cz4042_nn_alt\\lib\\site-packages (from torch->pytorch-widedeep) (1.12)\n",
      "Requirement already satisfied: networkx in c:\\users\\micha\\miniconda3\\envs\\cz4042_nn_alt\\lib\\site-packages (from torch->pytorch-widedeep) (3.1)\n",
      "Requirement already satisfied: pillow!=8.3.*,>=5.3.0 in c:\\users\\micha\\miniconda3\\envs\\cz4042_nn_alt\\lib\\site-packages (from torchvision->pytorch-widedeep) (10.0.1)\n",
      "Requirement already satisfied: annotated-types>=0.4.0 in c:\\users\\micha\\miniconda3\\envs\\cz4042_nn_alt\\lib\\site-packages (from pydantic!=1.8,!=1.8.1,<3.0.0,>=1.7.4->spacy->pytorch-widedeep) (0.5.0)\n",
      "Requirement already satisfied: pydantic-core==2.6.3 in c:\\users\\micha\\miniconda3\\envs\\cz4042_nn_alt\\lib\\site-packages (from pydantic!=1.8,!=1.8.1,<3.0.0,>=1.7.4->spacy->pytorch-widedeep) (2.6.3)\n",
      "Requirement already satisfied: six>=1.5 in c:\\users\\micha\\miniconda3\\envs\\cz4042_nn_alt\\lib\\site-packages (from python-dateutil>=2.8.2->pandas>=1.3.5->pytorch-widedeep) (1.16.0)\n",
      "Requirement already satisfied: charset-normalizer<4,>=2 in c:\\users\\micha\\miniconda3\\envs\\cz4042_nn_alt\\lib\\site-packages (from requests<3.0.0,>=2.13.0->spacy->pytorch-widedeep) (3.2.0)\n",
      "Requirement already satisfied: idna<4,>=2.5 in c:\\users\\micha\\miniconda3\\envs\\cz4042_nn_alt\\lib\\site-packages (from requests<3.0.0,>=2.13.0->spacy->pytorch-widedeep) (3.4)\n",
      "Requirement already satisfied: urllib3<3,>=1.21.1 in c:\\users\\micha\\miniconda3\\envs\\cz4042_nn_alt\\lib\\site-packages (from requests<3.0.0,>=2.13.0->spacy->pytorch-widedeep) (1.26.16)\n",
      "Requirement already satisfied: certifi>=2017.4.17 in c:\\users\\micha\\miniconda3\\envs\\cz4042_nn_alt\\lib\\site-packages (from requests<3.0.0,>=2.13.0->spacy->pytorch-widedeep) (2023.7.22)\n",
      "Requirement already satisfied: blis<0.8.0,>=0.7.8 in c:\\users\\micha\\miniconda3\\envs\\cz4042_nn_alt\\lib\\site-packages (from thinc<8.2.0,>=8.1.8->spacy->pytorch-widedeep) (0.7.10)\n",
      "Collecting confection<1.0.0,>=0.0.1 (from thinc<8.2.0,>=8.1.8->spacy->pytorch-widedeep)\n",
      "  Obtaining dependency information for confection<1.0.0,>=0.0.1 from https://files.pythonhosted.org/packages/93/f8/e89268a1f885048fb2ee6b5c9f93c4e90de768534acfef3652f87d97d4cb/confection-0.1.3-py3-none-any.whl.metadata\n",
      "  Using cached confection-0.1.3-py3-none-any.whl.metadata (19 kB)\n",
      "Requirement already satisfied: click<9.0.0,>=7.1.1 in c:\\users\\micha\\miniconda3\\envs\\cz4042_nn_alt\\lib\\site-packages (from typer<0.10.0,>=0.3.0->spacy->pytorch-widedeep) (8.1.7)\n",
      "Requirement already satisfied: MarkupSafe>=2.0 in c:\\users\\micha\\miniconda3\\envs\\cz4042_nn_alt\\lib\\site-packages (from jinja2->spacy->pytorch-widedeep) (2.1.3)\n",
      "Requirement already satisfied: mpmath>=0.19 in c:\\users\\micha\\miniconda3\\envs\\cz4042_nn_alt\\lib\\site-packages (from sympy->torch->pytorch-widedeep) (1.3.0)\n",
      "Using cached pytorch_widedeep-1.3.2-py3-none-any.whl (21.8 MB)\n",
      "Using cached fastparquet-2023.8.0-cp38-cp38-win_amd64.whl (715 kB)\n",
      "Using cached gensim-4.3.2-cp38-cp38-win_amd64.whl (24.0 MB)\n",
      "Using cached spacy-3.6.1-cp38-cp38-win_amd64.whl (12.4 MB)\n",
      "Using cached pathy-0.10.2-py3-none-any.whl (48 kB)\n",
      "Using cached preshed-3.0.9-cp38-cp38-win_amd64.whl (122 kB)\n",
      "Using cached pydantic-2.3.0-py3-none-any.whl (374 kB)\n",
      "Using cached srsly-2.4.7-cp38-cp38-win_amd64.whl (483 kB)\n",
      "Using cached thinc-8.1.12-cp38-cp38-win_amd64.whl (1.5 MB)\n",
      "Using cached confection-0.1.3-py3-none-any.whl (34 kB)\n",
      "Installing collected packages: srsly, preshed, pydantic, gensim, torchvision, pathy, fastparquet, confection, thinc, spacy, pytorch-widedeep\n",
      "Successfully installed confection-0.1.3 fastparquet-2023.8.0 gensim-4.3.2 pathy-0.10.2 preshed-3.0.9 pydantic-2.3.0 pytorch-widedeep-1.3.2 spacy-3.6.1 srsly-2.4.7 thinc-8.1.12 torchvision-0.15.2\n"
     ]
    }
   ],
   "source": [
    "!pip install pytorch-widedeep"
   ]
  },
  {
   "cell_type": "code",
   "execution_count": 1,
   "metadata": {
    "id": "lq0elU0J53Yo"
   },
   "outputs": [],
   "source": [
    "SEED = 42\n",
    "\n",
    "import os\n",
    "\n",
    "import random\n",
    "random.seed(SEED)\n",
    "\n",
    "import numpy as np\n",
    "np.random.seed(SEED)\n",
    "\n",
    "import pandas as pd\n",
    "\n",
    "from pytorch_widedeep.preprocessing import TabPreprocessor\n",
    "from pytorch_widedeep.models import TabMlp, WideDeep\n",
    "from pytorch_widedeep import Trainer\n",
    "from pytorch_widedeep.metrics import R2Score"
   ]
  },
  {
   "cell_type": "markdown",
   "metadata": {
    "id": "aU3xdVpwzuLx"
   },
   "source": [
    ">Divide the dataset (‘hdb_price_prediction.csv’) into train and test sets by using entries from the year 2020 and before as training data, and entries from 2021 and after as the test data."
   ]
  },
  {
   "cell_type": "code",
   "execution_count": 82,
   "metadata": {
    "id": "_oYG6lNIh7Mp"
   },
   "outputs": [],
   "source": [
    "# TODO: Enter your code here\n",
    "df = pd.read_csv('hdb_price_prediction.csv')\n",
    "train_df = df[df['year'] <= 2020]\n",
    "test_df = df[df['year'] >= 2021]\n"
   ]
  },
  {
   "cell_type": "markdown",
   "metadata": {
    "id": "m_q9PoR50JAA"
   },
   "source": [
    ">Refer to the documentation of Pytorch-WideDeep and perform the following tasks:\n",
    "https://pytorch-widedeep.readthedocs.io/en/latest/index.html\n",
    "* Use [**TabPreprocessor**](https://pytorch-widedeep.readthedocs.io/en/latest/examples/01_preprocessors_and_utils.html#2-tabpreprocessor) to create the deeptabular component using the continuous\n",
    "features and the categorical features. Use this component to transform the training dataset.\n",
    "* Create the [**TabMlp**](https://pytorch-widedeep.readthedocs.io/en/latest/pytorch-widedeep/model_components.html#pytorch_widedeep.models.tabular.mlp.tab_mlp.TabMlp) model with 2 linear layers in the MLP, with 200 and 100 neurons respectively.\n",
    "* Create a [**Trainer**](https://pytorch-widedeep.readthedocs.io/en/latest/pytorch-widedeep/trainer.html#pytorch_widedeep.training.Trainer) for the training of the created TabMlp model with the root mean squared error (RMSE) cost function. Train the model for 100 epochs using this trainer, keeping a batch size of 64. (Note: set the *num_workers* parameter to 0.)"
   ]
  },
  {
   "cell_type": "code",
   "execution_count": 89,
   "metadata": {
    "id": "ZBY1iqUXtYWn"
   },
   "outputs": [
    {
     "name": "stderr",
     "output_type": "stream",
     "text": [
      "c:\\Users\\micha\\miniconda3\\envs\\cz4042_nn_alt\\lib\\site-packages\\pytorch_widedeep\\preprocessing\\tab_preprocessor.py:334: UserWarning: Continuous columns will not be normalised\n",
      "  warnings.warn(\"Continuous columns will not be normalised\")\n",
      "epoch 1: 100%|██████████| 1366/1366 [00:26<00:00, 50.78it/s, loss=1.97e+5, metrics={'r2': -1.607}] \n",
      "epoch 2: 100%|██████████| 1366/1366 [00:27<00:00, 50.25it/s, loss=8.08e+4, metrics={'r2': 0.6852}]\n",
      "epoch 3: 100%|██████████| 1366/1366 [00:27<00:00, 49.54it/s, loss=7.27e+4, metrics={'r2': 0.758}] \n",
      "epoch 4: 100%|██████████| 1366/1366 [00:26<00:00, 51.99it/s, loss=6.89e+4, metrics={'r2': 0.7866}]\n",
      "epoch 5: 100%|██████████| 1366/1366 [00:25<00:00, 54.28it/s, loss=6.67e+4, metrics={'r2': 0.8014}]\n",
      "epoch 6: 100%|██████████| 1366/1366 [00:22<00:00, 60.84it/s, loss=6.55e+4, metrics={'r2': 0.8092}]\n",
      "epoch 7: 100%|██████████| 1366/1366 [00:25<00:00, 53.52it/s, loss=6.47e+4, metrics={'r2': 0.8139}]\n",
      "epoch 8: 100%|██████████| 1366/1366 [00:22<00:00, 60.18it/s, loss=6.38e+4, metrics={'r2': 0.8185}]\n",
      "epoch 9: 100%|██████████| 1366/1366 [00:24<00:00, 55.34it/s, loss=6.33e+4, metrics={'r2': 0.8213}]\n",
      "epoch 10: 100%|██████████| 1366/1366 [00:19<00:00, 69.53it/s, loss=6.26e+4, metrics={'r2': 0.8249}]\n"
     ]
    }
   ],
   "source": [
    "# TODO: Enter your code here\n",
    "continuous_cols = ['dist_to_nearest_stn', 'dist_to_dhoby', 'degree_centrality', 'eigenvector_centrality', 'remaining_lease_years', 'floor_area_sqm']\n",
    "cat_col_names = ['month', 'town', 'flat_model_type', 'storey_range']\n",
    "\n",
    "cat_embed_cols = [\n",
    "    (\"month\", len(train_df[\"month\"].unique())),\n",
    "    (\"town\", len(train_df[\"town\"].unique())),\n",
    "    (\"flat_model_type\", len(train_df[\"flat_model_type\"].unique())),\n",
    "    (\"storey_range\", len(train_df[\"storey_range\"].unique())),\n",
    "]\n",
    "\n",
    "tab_preprocessor = TabPreprocessor(\n",
    "    cat_embed_cols=cat_embed_cols, continuous_cols=continuous_cols\n",
    ")\n",
    "\n",
    "X_tab = tab_preprocessor.fit_transform(train_df)\n",
    "\n",
    "model = TabMlp(mlp_hidden_dims=[200,100], column_idx=tab_preprocessor.column_idx, cat_embed_input=tab_preprocessor.cat_embed_input, continuous_cols = continuous_cols)\n",
    "model = WideDeep(deeptabular=model)\n",
    "trainer = Trainer(model, objective='rmse', metrics=[R2Score], device = 'cpu', num_workers=0)\n",
    "# trainer.fit(X_wide=model, X_tab=None, target=df['resale_price'], n_epochs=100, batch_size=64)\n",
    "trainer.fit(X_tab=X_tab, target=np.array(train_df['resale_price']), n_epochs=100, batch_size=64)"
   ]
  },
  {
   "cell_type": "markdown",
   "metadata": {
    "id": "V46s-MdM0y5c"
   },
   "source": [
    ">Report the test RMSE and the test R2 value that you obtained."
   ]
  },
  {
   "cell_type": "code",
   "execution_count": 90,
   "metadata": {
    "id": "KAhAgvMC07g6"
   },
   "outputs": [
    {
     "name": "stderr",
     "output_type": "stream",
     "text": [
      "predict: 100%|██████████| 1128/1128 [00:05<00:00, 193.22it/s]\n"
     ]
    },
    {
     "data": {
      "text/plain": [
       "array(0.59440283)"
      ]
     },
     "execution_count": 90,
     "metadata": {},
     "output_type": "execute_result"
    }
   ],
   "source": [
    "X_test_tab = tab_preprocessor.transform(test_df)\n",
    "pred = trainer.predict(X_tab=X_test_tab, batch_size=64)\n",
    "r2 = R2Score()\n",
    "r2(pred, test_df['resale_price'])"
   ]
  },
  {
   "cell_type": "code",
   "execution_count": 76,
   "metadata": {},
   "outputs": [
    {
     "name": "stdout",
     "output_type": "stream",
     "text": [
      "RSME Score: 187672.28304441937\n",
      "R2 Score: -0.23054869622863228\n"
     ]
    }
   ],
   "source": [
    "from sklearn.metrics import r2_score, mean_squared_error\n",
    "rsme = pow(mean_squared_error(test_df['resale_price'], pred), 0.5)\n",
    "r2_score_ = r2_score(test_df['resale_price'], pred)\n",
    "\n",
    "print(\"RSME Score:\", rsme)\n",
    "print(\"R2 Score:\", r2_score_)\n"
   ]
  }
 ],
 "metadata": {
  "colab": {
   "provenance": []
  },
  "kernelspec": {
   "display_name": "Python 3 (ipykernel)",
   "language": "python",
   "name": "python3"
  },
  "language_info": {
   "codemirror_mode": {
    "name": "ipython",
    "version": 3
   },
   "file_extension": ".py",
   "mimetype": "text/x-python",
   "name": "python",
   "nbconvert_exporter": "python",
   "pygments_lexer": "ipython3",
   "version": "3.8.8"
  }
 },
 "nbformat": 4,
 "nbformat_minor": 1
}
