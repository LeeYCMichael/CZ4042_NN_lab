{
 "cells": [
  {
   "cell_type": "markdown",
   "id": "1fb3c8bc-a3c1-418b-8fa9-41c8fb2598a6",
   "metadata": {
    "deletable": false,
    "editable": false,
    "nbgrader": {
     "cell_type": "markdown",
     "checksum": "79cd1d15fdcd5bed4d970165cf1b8f6c",
     "grade": false,
     "grade_id": "cell-d7cee7b8e42f6460",
     "locked": true,
     "schema_version": 3,
     "solution": false,
     "task": false
    },
    "tags": []
   },
   "source": [
    "# Part A: Classification Problem "
   ]
  },
  {
   "cell_type": "markdown",
   "id": "ae836da9-ab4e-48e4-b0f0-5e554c1d0b08",
   "metadata": {
    "deletable": false,
    "editable": false,
    "nbgrader": {
     "cell_type": "markdown",
     "checksum": "363fa5c022dd1ef07c394d60484be438",
     "grade": false,
     "grade_id": "cell-325215a486238e23",
     "locked": true,
     "schema_version": 3,
     "solution": false,
     "task": false
    },
    "tags": []
   },
   "source": [
    "Part A of this assignment aims at building neural networks to perform polarity detection from voice recordings, based on data in the National Speech Corpus, which is obtained from [here]( https://www.imda.gov.sg/programme-listing/digital-services-lab/national-speech-corpus).\n",
    "\n",
    "The National Speech Corpus is an initiative by the Info-Communications and Media Development Authority, and it is the first large scale Singapore English corpus. Within the dataset, there are 6 parts. In the fifth segment, speakers are made to communicate in several different styles, including Positive Emotions and Negative Emotions. The original recordings are approximately 20 minutes long. Using the librosa library, the recordings are split into shorter segments and preprocessed to features such as chromagrams, Mel spectrograms, MFCCs and various other features. \n",
    "\n",
    "The preprocessed csv file is provided in this assignment. We will be using the CSV file named full.csv, which is both provided to you. The features from the dataset are engineered. The aim is to determine the speech polarity of the engineered feature dataset. The csv file is called full.csv with a row of 77 features that you can use, together with the filename. The “filename” column has the labels associated to them.\n"
   ]
  },
  {
   "cell_type": "markdown",
   "id": "7ffb34ba-3c06-42af-ad43-33e7ee97dd62",
   "metadata": {
    "deletable": false,
    "editable": false,
    "nbgrader": {
     "cell_type": "markdown",
     "checksum": "e0e029d4f2a6aa68a61c057a88a06338",
     "grade": false,
     "grade_id": "cell-020acae0deba82ba",
     "locked": true,
     "schema_version": 3,
     "solution": false,
     "task": false
    },
    "tags": []
   },
   "source": [
    "| Type of features | Explanation |\n",
    "| -----------------| ------------ |\n",
    "| Chroma (e.g. chroma_stft_mean) | Describes the tonal content of a musical audio signal in a condensed form (Stein et al, 2009) [2] |\n",
    "| Rms (e.g. rms_mean) |Square root of average of a squared signal (Andersson) [3] |\n",
    "| Spectral (e.g. spectral_centroid_mean) | Spectral Centroid is a metric of the centre of gravity of the frequency power spectrum (Andersson) [3] |\n",
    "| Rolloff (e.g. rolloff_mean) | Spectral rolloff is a metric of how high in the frequency spectrum a certain part of energy lies (Andersson) [3] |\n",
    "| Zero crossing (e.g. zero_crossing_mean) | Zero-crossing rate is the number of time domain zero-crossings within a processing window (Andersson) [3] |\n",
    "| Harmonics (e.g. harmony_mean) | Sound wave that has a frequency that is a n integer multiple of a fundamental tone. Refer to link: https://professionalcomposers.com/what-are-harmonics-in-music/ |\n",
    "| Tempo | Periodicity of note onset pulses (Alonso et al, 2004) |\n",
    "| MFCC (Mel Frequency Cepstral Coefficient) | Small set of features (usually about 10-20) which concisely describe the overall shape of a spectral envelope. Refer to link: https://musicinformationretrieval.com/mfcc.html |\n",
    "\n"
   ]
  },
  {
   "cell_type": "markdown",
   "id": "35a381c1-0304-4bba-a006-c2275c493602",
   "metadata": {
    "deletable": false,
    "editable": false,
    "nbgrader": {
     "cell_type": "markdown",
     "checksum": "68120955cc83a77da3ffc448385d8ef5",
     "grade": false,
     "grade_id": "cell-90ed597efd5b784a",
     "locked": true,
     "schema_version": 3,
     "solution": false,
     "task": false
    },
    "tags": []
   },
   "source": [
    "Part A consists of **four** parts. Please use the question templates provided for submitting your answer. In each question template, you are guided step by step in answering the questions. Use CPU for all the questions to ensure reproducibility. Best of luck!"
   ]
  },
  {
   "cell_type": "code",
   "execution_count": null,
   "id": "23eb06b8-ea9f-4344-8a7d-71f0a8c3f44e",
   "metadata": {},
   "outputs": [],
   "source": []
  }
 ],
 "metadata": {
  "kernelspec": {
   "display_name": "Python 3 (ipykernel)",
   "language": "python",
   "name": "python3"
  },
  "language_info": {
   "codemirror_mode": {
    "name": "ipython",
    "version": 3
   },
   "file_extension": ".py",
   "mimetype": "text/x-python",
   "name": "python",
   "nbconvert_exporter": "python",
   "pygments_lexer": "ipython3",
   "version": "3.11.2"
  }
 },
 "nbformat": 4,
 "nbformat_minor": 5
}
