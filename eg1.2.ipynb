{
 "cells": [
  {
   "cell_type": "markdown",
   "metadata": {},
   "source": [
    "\n",
    "# Chapter 1, Example 2\n"
   ]
  },
  {
   "cell_type": "code",
   "execution_count": 7,
   "metadata": {},
   "outputs": [],
   "source": [
    "import torch\n",
    "import numpy as np"
   ]
  },
  {
   "cell_type": "code",
   "execution_count": 8,
   "metadata": {},
   "outputs": [],
   "source": [
    "class Neuron():\n",
    "  def __init__(self, weight, bias):\n",
    "    self.w = torch.tensor(weight)\n",
    "    self.b = torch.tensor(bias)\n",
    "\n",
    "  def __call__(self, x):\n",
    "    u = torch.inner(self.w, x) + self.b\n",
    "    return (u > 0).float()"
   ]
  },
  {
   "cell_type": "code",
   "execution_count": 9,
   "metadata": {},
   "outputs": [],
   "source": [
    "def network(input):\n",
    "    n1 = Neuron([1.0, 1.0], 1.0)\n",
    "    n2 = Neuron([1.0, 2.0], -1.0) \n",
    "    n3 = Neuron([-1.0, 1.0], 2.0)\n",
    "    n = Neuron([1.0, -1.0, 1.0], -1.5) \n",
    "\n",
    "    y1, y2, y3 = n1(input), n2(input), n3(input)  # tensors of zero dimension\n",
    "    \n",
    "    z = torch.cat((y1.reshape(1), y2.reshape(1), y3.reshape(1)), dim=0)\n",
    "    y = n(z)\n",
    "    \n",
    "    return y1, y2, y3, y"
   ]
  },
  {
   "cell_type": "code",
   "execution_count": 10,
   "metadata": {},
   "outputs": [
    {
     "name": "stdout",
     "output_type": "stream",
     "text": [
      "y1:1.0, y2:0.0, y3:1.0, y:1.0\n"
     ]
    }
   ],
   "source": [
    "y1, y2, y3, y = network(torch.tensor([0.0, 0.0]))\n",
    "print('y1:{}, y2:{}, y3:{}, y:{}'.format(y1.numpy(), y2.numpy(), y3.numpy(), y.numpy()))"
   ]
  },
  {
   "cell_type": "code",
   "execution_count": 11,
   "metadata": {},
   "outputs": [
    {
     "name": "stdout",
     "output_type": "stream",
     "text": [
      "y1:1.0, y2:1.0, y3:1.0, y:0.0\n"
     ]
    }
   ],
   "source": [
    "y1, y2, y3, y = network(torch.tensor([2.0, 2.0]))\n",
    "print('y1:{}, y2:{}, y3:{}, y:{}'.format(y1.numpy(), y2.numpy(), y3.numpy(), y.numpy()))"
   ]
  },
  {
   "cell_type": "code",
   "execution_count": 12,
   "metadata": {},
   "outputs": [
    {
     "name": "stdout",
     "output_type": "stream",
     "text": [
      "y1:1.0, y2:0.0, y3:1.0, y:1.0\n"
     ]
    }
   ],
   "source": [
    "y1, y2, y3, y = network(torch.tensor([-1.0, 1.0]))\n",
    "print('y1:{}, y2:{}, y3:{}, y:{}'.format(y1.numpy(), y2.numpy(), y3.numpy(), y.numpy()))"
   ]
  }
 ],
 "metadata": {
  "kernelspec": {
   "display_name": "Python 3 (ipykernel)",
   "language": "python",
   "name": "python3"
  },
  "language_info": {
   "codemirror_mode": {
    "name": "ipython",
    "version": 3
   },
   "file_extension": ".py",
   "mimetype": "text/x-python",
   "name": "python",
   "nbconvert_exporter": "python",
   "pygments_lexer": "ipython3",
   "version": "3.11.2"
  },
  "vscode": {
   "interpreter": {
    "hash": "aee8b7b246df8f9039afb4144a1f6fd8d2ca17a180786b69acc140d282b71a49"
   }
  }
 },
 "nbformat": 4,
 "nbformat_minor": 4
}
