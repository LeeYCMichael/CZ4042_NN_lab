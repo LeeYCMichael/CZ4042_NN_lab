{
 "cells": [
  {
   "cell_type": "markdown",
   "id": "c5cb62ac-8e88-43e6-bce9-da20fabf38ff",
   "metadata": {
    "deletable": false,
    "editable": false,
    "id": "c5cb62ac-8e88-43e6-bce9-da20fabf38ff",
    "nbgrader": {
     "cell_type": "markdown",
     "checksum": "3c7e82aadc4d77a8b23f7f880449f9e3",
     "grade": false,
     "grade_id": "a2",
     "locked": true,
     "schema_version": 3,
     "solution": false,
     "task": false
    },
    "tags": []
   },
   "source": [
    "# Question A2 (10 marks)"
   ]
  },
  {
   "cell_type": "markdown",
   "id": "26b4ac2a-d56e-4151-8e0a-4a833cbc643e",
   "metadata": {
    "deletable": false,
    "editable": false,
    "id": "26b4ac2a-d56e-4151-8e0a-4a833cbc643e",
    "nbgrader": {
     "cell_type": "markdown",
     "checksum": "eb28aa752ce5540f5b18d10694b52ea9",
     "grade": false,
     "grade_id": "a22",
     "locked": true,
     "schema_version": 3,
     "solution": false,
     "task": false
    },
    "tags": []
   },
   "source": [
    "### In this question, we will determine the optimal batch size for mini-batch gradient descent. Find the optimal batch size for mini-batch gradient descent by training the neural network and evaluating the performances for different batch sizes. Note: Use 5-fold cross-validation on training partition to perform hyperparameter selection. You will have to reconsider the scaling of the dataset during the 5-fold cross validation.\n",
    "\n",
    "* note: some cells are non-editable and cannot be filled, but leave them untouched. Fill up only cells which are provided."
   ]
  },
  {
   "cell_type": "markdown",
   "id": "fb9411ad-2324-400e-852e-ff5c0ca716f0",
   "metadata": {
    "deletable": false,
    "editable": false,
    "id": "fb9411ad-2324-400e-852e-ff5c0ca716f0",
    "nbgrader": {
     "cell_type": "markdown",
     "checksum": "aceec82011f43733c0551ca196f1b16c",
     "grade": false,
     "grade_id": "a2_1",
     "locked": true,
     "schema_version": 3,
     "solution": false,
     "task": false
    },
    "tags": []
   },
   "source": [
    "#### Plot mean cross-validation accuracies on the final epoch for different batch sizes as a scatter plot. Limit search space to batch sizes {128, 256, 512, 1024}. Next, create a table of time taken to train the network on the last epoch against different batch sizes. Finally, select the optimal batch size and state a reason for your selection.\n",
    "\n",
    "This might take a while to run, so plan your time carefully."
   ]
  },
  {
   "cell_type": "code",
   "execution_count": 1,
   "id": "b0edc610-21e6-4cc7-9603-59318b961990",
   "metadata": {
    "deletable": false,
    "editable": false,
    "id": "b0edc610-21e6-4cc7-9603-59318b961990",
    "nbgrader": {
     "cell_type": "code",
     "checksum": "909acb3c7ff3883eb5381eb586615d3b",
     "grade": false,
     "grade_id": "libraries",
     "locked": true,
     "schema_version": 3,
     "solution": false,
     "task": false
    },
    "tags": []
   },
   "outputs": [],
   "source": [
    "import tqdm\n",
    "import time\n",
    "import random\n",
    "import numpy as np\n",
    "import pandas as pd\n",
    "import matplotlib.pyplot as plt\n",
    "\n",
    "import torch\n",
    "from torch import nn\n",
    "from torch.utils.data import Dataset\n",
    "from torch.utils.data import DataLoader\n",
    "import torch.optim as optim\n",
    "\n",
    "from scipy.io import wavfile as wav\n",
    "\n",
    "from sklearn import preprocessing\n",
    "from sklearn.model_selection import KFold\n",
    "from sklearn.model_selection import train_test_split\n",
    "from sklearn.metrics import f1_score, precision_score, recall_score, confusion_matrix\n",
    "\n",
    "from common_utils import set_seed\n",
    "\n",
    "# setting seed\n",
    "set_seed()"
   ]
  },
  {
   "cell_type": "markdown",
   "id": "e8e12861-4713-4914-9f4b-8a7381708243",
   "metadata": {
    "deletable": false,
    "editable": false,
    "id": "e8e12861-4713-4914-9f4b-8a7381708243",
    "nbgrader": {
     "cell_type": "markdown",
     "checksum": "ed97d9f30da032a5e349047c614efec1",
     "grade": false,
     "grade_id": "a2_1_2",
     "locked": true,
     "schema_version": 3,
     "solution": false,
     "task": false
    },
    "tags": []
   },
   "source": [
    "2. To reduce repeated code, place your\n",
    "\n",
    "- network (MLP defined in QA1)\n",
    "- torch datasets (CustomDataset defined in QA1)\n",
    "- loss function (loss_fn defined in QA1)\n",
    "\n",
    "in a separate file called **common_utils.py**\n",
    "\n",
    "Import them into this file. You will not be repenalised for any error in QA1 here as the code in QA1 will not be remarked.\n",
    "\n",
    "The following code cell will not be marked."
   ]
  },
  {
   "cell_type": "code",
   "execution_count": 2,
   "id": "37a1a982-de85-46de-b890-3b81f79f5887",
   "metadata": {
    "deletable": false,
    "id": "37a1a982-de85-46de-b890-3b81f79f5887",
    "nbgrader": {
     "cell_type": "code",
     "checksum": "9db3ca972642b1447dba3ebd5f2db24b",
     "grade": false,
     "grade_id": "import",
     "locked": false,
     "schema_version": 3,
     "solution": true,
     "task": false
    },
    "tags": []
   },
   "outputs": [],
   "source": [
    "# YOUR CODE HERE\n",
    "from common_utils import *\n",
    "\n",
    "df = pd.read_csv('simplified.csv')\n",
    "df['label'] = df['filename'].str.split('_').str[-2]\n",
    "\n",
    "columns_to_drop = ['filename', 'label']\n",
    "X_train, y_train, X_test, y_test = split_dataset(df, columns_to_drop, test_size=0.3, random_state=0)\n",
    "X_train_scaled, X_test_scaled = preprocess_dataset(X_train, X_test) # scaling is performed\n",
    "\n",
    "loss_fn = nn.BCELoss() "
   ]
  },
  {
   "cell_type": "markdown",
   "id": "82ea67d6-1eb4-428d-9407-9d988e927ff6",
   "metadata": {
    "deletable": false,
    "editable": false,
    "id": "82ea67d6-1eb4-428d-9407-9d988e927ff6",
    "nbgrader": {
     "cell_type": "markdown",
     "checksum": "c738d3b4888de90dda8c532036bc5fe5",
     "grade": false,
     "grade_id": "a2_1_3",
     "locked": true,
     "schema_version": 3,
     "solution": false,
     "task": false
    },
    "tags": []
   },
   "source": [
    "3. Define different folds for different batch sizes to get a dictionary of training and validation datasets. Preprocess your datasets accordingly."
   ]
  },
  {
   "cell_type": "code",
   "execution_count": 3,
   "id": "deab683a-2c9e-4e62-823a-e8b4a186bda8",
   "metadata": {
    "deletable": false,
    "id": "deab683a-2c9e-4e62-823a-e8b4a186bda8",
    "nbgrader": {
     "cell_type": "code",
     "checksum": "d02dac62baa528c191eb4f47b2495406",
     "grade": false,
     "grade_id": "dataset",
     "locked": false,
     "schema_version": 3,
     "solution": true,
     "task": false
    },
    "tags": []
   },
   "outputs": [],
   "source": [
    "def generate_cv_folds_for_batch_sizes(parameters, X_train, y_train):\n",
    "    \"\"\"\n",
    "    returns:\n",
    "    X_train_scaled_dict(dict) where X_train_scaled_dict[batch_size] is a list of the preprocessed training matrix for the different folds.\n",
    "    X_val_scaled_dict(dict) where X_val_scaled_dict[batch_size] is a list of the processed validation matrix for the different folds.\n",
    "    y_train_dict(dict) where y_train_dict[batch_size] is a list of labels for the different folds\n",
    "    y_val_dict(dict) where y_val_dict[batch_size] is a list of labels for the different folds\n",
    "    \"\"\"\n",
    "    \n",
    "    # YOUR CODE HERE\n",
    "    X_train_scaled_dict = {}\n",
    "    X_val_scaled_dict = {}\n",
    "    y_train_dict = {}\n",
    "    y_val_dict = {}\n",
    "    \n",
    "    for p in parameters:\n",
    "        X_train_scaled_dict[p] = []\n",
    "        X_val_scaled_dict[p] = []\n",
    "        y_train_dict[p] = []\n",
    "        y_val_dict[p] = []\n",
    "        \n",
    "    no_folds = 5\n",
    "    cv = KFold(n_splits=no_folds, shuffle=True, random_state=0)\n",
    "\n",
    "    for batch_size in parameters:\n",
    "        for fold_id, (train_idx, test_idx) in enumerate(cv.split(X_train, y_train)):\n",
    "            \n",
    "            X_train_scaled_list = []\n",
    "            X_val_scaled_list = []\n",
    "            y_train_list = []\n",
    "            y_val_list = []\n",
    "    \n",
    "            x_train_fold, y_train_fold  = X_train[train_idx], y_train[train_idx]\n",
    "            x_test_fold, y_test_fold = X_train[test_idx], y_train[test_idx]\n",
    "        \n",
    "            train_data = CustomDataset(x_train_fold, y_train_fold)\n",
    "            test_data = CustomDataset(x_test_fold, y_test_fold)\n",
    "\n",
    "            train_dataloader = DataLoader(train_data, batch_size=batch_size, shuffle=True)\n",
    "            test_dataloader = DataLoader(test_data, batch_size=batch_size, shuffle=True)\n",
    "\n",
    "            for _, (X, y) in enumerate(train_dataloader):\n",
    "                X_train_scaled_list.append(X)\n",
    "                y_train_list.append(y)\n",
    "    \n",
    "            for _, (X, y) in enumerate(test_dataloader):\n",
    "                X_val_scaled_list.append(X)\n",
    "                y_val_list.append(y)\n",
    "            \n",
    "            X_train_scaled_dict[batch_size].append(X_train_scaled_list)\n",
    "            X_val_scaled_dict[batch_size].append(X_val_scaled_list)\n",
    "            y_train_dict[batch_size].append(y_train_list)\n",
    "            y_val_dict[batch_size].append(y_val_list)\n",
    "\n",
    "    return X_train_scaled_dict, X_val_scaled_dict, y_train_dict, y_val_dict\n",
    "\n",
    "batch_sizes = [128, 256, 512, 1024]\n",
    "X_train_scaled_dict, X_val_scaled_dict, y_train_dict, y_val_dict = generate_cv_folds_for_batch_sizes(batch_sizes, X_train_scaled, y_train)\n"
   ]
  },
  {
   "cell_type": "markdown",
   "id": "558aa470-6d7e-454c-9cda-9ad881d58c53",
   "metadata": {
    "deletable": false,
    "editable": false,
    "id": "558aa470-6d7e-454c-9cda-9ad881d58c53",
    "nbgrader": {
     "cell_type": "markdown",
     "checksum": "064d68c9708b5e3f1e2463001b6d78b4",
     "grade": false,
     "grade_id": "a2_1_4",
     "locked": true,
     "schema_version": 3,
     "solution": false,
     "task": false
    },
    "tags": []
   },
   "source": [
    "4. Perform hyperparameter tuning for the different batch sizes with 5-fold cross validation."
   ]
  },
  {
   "cell_type": "code",
   "execution_count": 4,
   "id": "fd597504",
   "metadata": {},
   "outputs": [],
   "source": [
    "# YOUR CODE HERE\n",
    "def train_loop(x_train, y_train, batch, model, loss_fn, optimizer):\n",
    "    size = len(x_train)*batch\n",
    "    num_batches = len(x_train)\n",
    "    train_loss, train_correct = 0, 0\n",
    "    train_start = time.time()\n",
    "    for batch, (X, y) in enumerate(zip(x_train, y_train)):\n",
    "        # Compute prediction and loss\n",
    "        pred = model(X)\n",
    "        loss = loss_fn(pred.flatten(), y.float())\n",
    "\n",
    "        # Backpropagation\n",
    "        optimizer.zero_grad()\n",
    "        loss.backward()\n",
    "        optimizer.step()\n",
    "\n",
    "        train_loss += loss.item()\n",
    "        train_correct += (len(pred) - torch.sum(torch.not_equal(pred.flatten() > 0.5, torch.tensor(y))))\n",
    "    \n",
    "    train_end = time.time()\n",
    "    \n",
    "    train_loss /= num_batches\n",
    "    train_correct_accuracy = (train_correct.item()/size)\n",
    "    time_taken = train_end - train_start\n",
    "    return train_loss, train_correct_accuracy, time_taken\n",
    "\n",
    "def test_loop(x_test, y_test, batch, model, loss_fn):\n",
    "    size = len(x_test)*batch\n",
    "    num_batches = len(x_test)\n",
    "    test_loss, test_correct = 0, 0\n",
    "\n",
    "    with torch.no_grad():\n",
    "        for batch, (X, y) in enumerate(zip(x_test, y_test)):\n",
    "            pred = model(X)\n",
    "            test_loss += loss_fn(pred.flatten(), y.float()).item()\n",
    "            test_correct += (len(pred) - torch.sum(torch.not_equal(pred.flatten() > 0.5, torch.tensor(y))))\n",
    "\n",
    "    test_loss /= num_batches\n",
    "    test_correct_accuracy = (test_correct/size)\n",
    "    \n",
    "    return test_loss, test_correct_accuracy"
   ]
  },
  {
   "cell_type": "code",
   "execution_count": 5,
   "id": "3107ebe9-d121-4510-9782-2a62d32258d0",
   "metadata": {
    "deletable": false,
    "id": "3107ebe9-d121-4510-9782-2a62d32258d0",
    "nbgrader": {
     "cell_type": "code",
     "checksum": "e9665887943f38ae7bed6c1d8351903b",
     "grade": true,
     "grade_id": "hyperparameter_tuning",
     "locked": false,
     "points": 4,
     "schema_version": 3,
     "solution": true,
     "task": false
    },
    "tags": []
   },
   "outputs": [
    {
     "name": "stdout",
     "output_type": "stream",
     "text": [
      "======== Batch size 128 ========\n"
     ]
    },
    {
     "name": "stderr",
     "output_type": "stream",
     "text": [
      "C:\\Users\\micha\\AppData\\Local\\Temp\\ipykernel_20888\\3396466358.py:18: UserWarning: To copy construct from a tensor, it is recommended to use sourceTensor.clone().detach() or sourceTensor.clone().detach().requires_grad_(True), rather than torch.tensor(sourceTensor).\n",
      "  train_correct += (len(pred) - torch.sum(torch.not_equal(pred.flatten() > 0.5, torch.tensor(y))))\n",
      "C:\\Users\\micha\\AppData\\Local\\Temp\\ipykernel_20888\\3396466358.py:36: UserWarning: To copy construct from a tensor, it is recommended to use sourceTensor.clone().detach() or sourceTensor.clone().detach().requires_grad_(True), rather than torch.tensor(sourceTensor).\n",
      "  test_correct += (len(pred) - torch.sum(torch.not_equal(pred.flatten() > 0.5, torch.tensor(y))))\n"
     ]
    },
    {
     "name": "stdout",
     "output_type": "stream",
     "text": [
      "Done training! Stopped at epoch 14\n",
      "-> Fold 1 : Epoch 15: Train_accuracy: 77.65%, Train_loss: 0.462994, Test_accuracy: 65.29%, Test_loss: 0.613549\n",
      "Time taken on last epoch: 0.20s\n",
      "Done training! Stopped at epoch 14\n",
      "-> Fold 2 : Epoch 15: Train_accuracy: 75.59%, Train_loss: 0.480643, Test_accuracy: 63.62%, Test_loss: 0.634488\n",
      "Time taken on last epoch: 0.18s\n",
      "Done training! Stopped at epoch 10\n",
      "-> Fold 3 : Epoch 11: Train_accuracy: 72.80%, Train_loss: 0.533065, Test_accuracy: 60.83%, Test_loss: 0.636874\n",
      "Time taken on last epoch: 0.18s\n",
      "Done training! Stopped at epoch 8\n",
      "-> Fold 4 : Epoch 9: Train_accuracy: 70.99%, Train_loss: 0.557827, Test_accuracy: 59.77%, Test_loss: 0.650413\n",
      "Time taken on last epoch: 0.19s\n",
      "Done training! Stopped at epoch 12\n",
      "-> Fold 5 : Epoch 13: Train_accuracy: 73.66%, Train_loss: 0.512154, Test_accuracy: 63.50%, Test_loss: 0.607977\n",
      "Time taken on last epoch: 0.17s\n",
      "Average cross_validation_times: 0.18s\n",
      "Average cross_validation_accuracies: 62.60%\n",
      "======== Batch size 256 ========\n",
      "Done training! Stopped at epoch 10\n",
      "-> Fold 1 : Epoch 11: Train_accuracy: 69.62%, Train_loss: 0.559439, Test_accuracy: 60.38%, Test_loss: 0.648089\n",
      "Time taken on last epoch: 0.13s\n",
      "Done training! Stopped at epoch 16\n",
      "-> Fold 2 : Epoch 17: Train_accuracy: 74.16%, Train_loss: 0.485436, Test_accuracy: 61.83%, Test_loss: 0.633568\n",
      "Time taken on last epoch: 0.12s\n",
      "Done training! Stopped at epoch 15\n",
      "-> Fold 3 : Epoch 16: Train_accuracy: 72.87%, Train_loss: 0.508990, Test_accuracy: 62.72%, Test_loss: 0.631163\n",
      "Time taken on last epoch: 0.12s\n",
      "Done training! Stopped at epoch 11\n",
      "-> Fold 4 : Epoch 12: Train_accuracy: 70.40%, Train_loss: 0.539028, Test_accuracy: 60.99%, Test_loss: 0.648307\n",
      "Time taken on last epoch: 0.11s\n",
      "Done training! Stopped at epoch 18\n",
      "-> Fold 5 : Epoch 19: Train_accuracy: 76.17%, Train_loss: 0.461835, Test_accuracy: 63.34%, Test_loss: 0.631181\n",
      "Time taken on last epoch: 0.11s\n",
      "Average cross_validation_times: 0.12s\n",
      "Average cross_validation_accuracies: 61.85%\n",
      "======== Batch size 512 ========\n",
      "Done training! Stopped at epoch 11\n",
      "-> Fold 1 : Epoch 12: Train_accuracy: 64.62%, Train_loss: 0.576216, Test_accuracy: 50.73%, Test_loss: 0.662579\n",
      "Time taken on last epoch: 0.07s\n",
      "Done training! Stopped at epoch 7\n",
      "-> Fold 2 : Epoch 8: Train_accuracy: 61.86%, Train_loss: 0.612777, Test_accuracy: 48.88%, Test_loss: 0.676022\n",
      "Time taken on last epoch: 0.07s\n",
      "Done training! Stopped at epoch 18\n",
      "-> Fold 3 : Epoch 19: Train_accuracy: 70.15%, Train_loss: 0.499681, Test_accuracy: 54.39%, Test_loss: 0.628165\n",
      "Time taken on last epoch: 0.08s\n",
      "Done training! Stopped at epoch 9\n",
      "-> Fold 4 : Epoch 10: Train_accuracy: 64.19%, Train_loss: 0.586346, Test_accuracy: 49.56%, Test_loss: 0.666449\n",
      "Time taken on last epoch: 0.07s\n",
      "Done training! Stopped at epoch 16\n",
      "-> Fold 5 : Epoch 17: Train_accuracy: 68.57%, Train_loss: 0.523639, Test_accuracy: 53.71%, Test_loss: 0.630533\n",
      "Time taken on last epoch: 0.08s\n",
      "Average cross_validation_times: 0.08s\n",
      "Average cross_validation_accuracies: 51.46%\n",
      "======== Batch size 1024 ========\n",
      "Done training! Stopped at epoch 10\n",
      "-> Fold 1 : Epoch 11: Train_accuracy: 61.44%, Train_loss: 0.614286, Test_accuracy: 51.12%, Test_loss: 0.651760\n",
      "Time taken on last epoch: 0.05s\n",
      "Done training! Stopped at epoch 19\n",
      "-> Fold 2 : Epoch 20: Train_accuracy: 67.23%, Train_loss: 0.550121, Test_accuracy: 52.93%, Test_loss: 0.646792\n",
      "Time taken on last epoch: 0.05s\n",
      "Done training! Stopped at epoch 20\n",
      "-> Fold 3 : Epoch 21: Train_accuracy: 68.60%, Train_loss: 0.528467, Test_accuracy: 53.96%, Test_loss: 0.640883\n",
      "Time taken on last epoch: 0.05s\n",
      "Done training! Stopped at epoch 10\n",
      "-> Fold 4 : Epoch 11: Train_accuracy: 62.11%, Train_loss: 0.610876, Test_accuracy: 50.78%, Test_loss: 0.673089\n",
      "Time taken on last epoch: 0.06s\n",
      "Done training! Stopped at epoch 14\n",
      "-> Fold 5 : Epoch 15: Train_accuracy: 64.59%, Train_loss: 0.582599, Test_accuracy: 51.66%, Test_loss: 0.640130\n",
      "Time taken on last epoch: 0.06s\n",
      "Average cross_validation_times: 0.05s\n",
      "Average cross_validation_accuracies: 52.09%\n"
     ]
    }
   ],
   "source": [
    "\n",
    "# YOUR CODE HERE\n",
    "batch_sizes = [128, 256, 512, 1024]\n",
    "\n",
    "def find_optimal_hyperparameter(X_train_scaled_dict, X_val_scaled_dict, y_train_dict, y_val_dict, batch_sizes, param = 'batch_size'):\n",
    "    no_epochs = 100\n",
    "    no_folds = 5\n",
    "    cross_validation_times = [] \n",
    "    cross_validation_accuracies = [] \n",
    "    for batch in batch_sizes:\n",
    "        print(f\"======== Batch size {batch} ========\")\n",
    "        train_time_taken_total = 0\n",
    "        val_correct_total = 0\n",
    "        for no_fold in range(no_folds):\n",
    "            #early_stopper = EarlyStopper(patience=3, min_delta=0)\n",
    "            no_inputs = X_train_scaled.shape[1]\n",
    "            model = MLP(no_inputs, [128, 128, 128], 1)\n",
    "            early_stopper = EarlyStopper(patience=3, min_delta=0) \n",
    "            \n",
    "            optimizer = optim.Adam(model.parameters(), lr=0.001)\n",
    "            \n",
    "            for epoch in range(no_epochs):\n",
    "                \n",
    "                train_loss, train_correct, train_time_taken = train_loop(X_train_scaled_dict[batch][no_fold], y_train_dict[batch][no_fold], batch, model, loss_fn, optimizer)\n",
    "       \n",
    "                test_loss, test_correct = test_loop(X_val_scaled_dict[batch][no_fold], y_val_dict[batch][no_fold], batch, model, loss_fn)\n",
    "\n",
    "                if early_stopper.early_stop(test_loss): \n",
    "                    val_correct_total += test_correct\n",
    "                    train_time_taken_total += train_time_taken\n",
    "                    print(f\"Done training! Stopped at epoch {epoch}\")\n",
    "                    print(f\"-> Fold {no_fold+1} : Epoch {epoch+1}: Train_accuracy: {(100*train_correct):>0.2f}%, Train_loss: {train_loss:>8f}, Test_accuracy: {(100*test_correct):>0.2f}%, Test_loss: {test_loss:>8f}\")\n",
    "                    print(f\"Time taken on last epoch: {train_time_taken:>0.2f}s\")\n",
    "                    break\n",
    "        \n",
    "        print(f\"Average cross_validation_times: {train_time_taken_total/no_folds:>.2f}s\")      \n",
    "        print(f\"Average cross_validation_accuracies: {val_correct_total/no_folds*100:>.2f}%\")  \n",
    "                  \n",
    "        cross_validation_times.append(train_time_taken_total / no_folds) \n",
    "        cross_validation_accuracies.append(val_correct_total / no_folds) \n",
    "        \n",
    "    return cross_validation_accuracies, cross_validation_times\n",
    "\n",
    "\n",
    "\n",
    "cross_validation_accuracies, cross_validation_times = find_optimal_hyperparameter(X_train_scaled_dict, X_val_scaled_dict, y_train_dict, y_val_dict, batch_sizes, 'batch_size')"
   ]
  },
  {
   "cell_type": "markdown",
   "id": "b6756ab6-92e0-4a5e-b4b9-aebe009f5480",
   "metadata": {
    "deletable": false,
    "editable": false,
    "id": "b6756ab6-92e0-4a5e-b4b9-aebe009f5480",
    "nbgrader": {
     "cell_type": "markdown",
     "checksum": "69421943e22521de848bb03a50f57767",
     "grade": false,
     "grade_id": "a2_1_5",
     "locked": true,
     "schema_version": 3,
     "solution": false,
     "task": false
    },
    "tags": []
   },
   "source": [
    "5. Plot scatterplot of mean cross validation accuracies for the different batch sizes."
   ]
  },
  {
   "cell_type": "code",
   "execution_count": 6,
   "id": "9693ff2f",
   "metadata": {},
   "outputs": [
    {
     "data": {
      "image/png": "[encoded data removed]",
      "text/plain": [
       "<Figure size 640x480 with 1 Axes>"
      ]
     },
     "metadata": {},
     "output_type": "display_data"
    }
   ],
   "source": [
    "# YOUR CODE HERE\n",
    "fig, ax = plt.subplots()\n",
    "ax.scatter([str(bs) for bs in batch_sizes], cross_validation_accuracies, marker = 'x')\n",
    "plt.xlabel('Batch Size')\n",
    "plt.ylabel('Mean cross-validation accuracy')\n",
    "plt.show()"
   ]
  },
  {
   "cell_type": "markdown",
   "id": "baab6e4d-4e8b-4358-a68d-682f60db4a06",
   "metadata": {
    "deletable": false,
    "editable": false,
    "id": "baab6e4d-4e8b-4358-a68d-682f60db4a06",
    "nbgrader": {
     "cell_type": "markdown",
     "checksum": "11e8d298b5774c4044f1c3f950c46214",
     "grade": false,
     "grade_id": "a2_1_6",
     "locked": true,
     "schema_version": 3,
     "solution": false,
     "task": false
    },
    "tags": []
   },
   "source": [
    "6. Create a table of time taken to train the network on the last epoch against different batch sizes. Select the optimal batch size and state a reason for your selection."
   ]
  },
  {
   "cell_type": "code",
   "execution_count": 7,
   "id": "6cc38fec",
   "metadata": {},
   "outputs": [
    {
     "data": {
      "text/html": [
       "<div>\n",
       "<style scoped>\n",
       "    .dataframe tbody tr th:only-of-type {\n",
       "        vertical-align: middle;\n",
       "    }\n",
       "\n",
       "    .dataframe tbody tr th {\n",
       "        vertical-align: top;\n",
       "    }\n",
       "\n",
       "    .dataframe thead th {\n",
       "        text-align: right;\n",
       "    }\n",
       "</style>\n",
       "<table border=\"1\" class=\"dataframe\">\n",
       "  <thead>\n",
       "    <tr style=\"text-align: right;\">\n",
       "      <th></th>\n",
       "      <th>Batch Size</th>\n",
       "      <th>Last Epoch Time</th>\n",
       "    </tr>\n",
       "  </thead>\n",
       "  <tbody>\n",
       "    <tr>\n",
       "      <th>0</th>\n",
       "      <td>128</td>\n",
       "      <td>0.184644</td>\n",
       "    </tr>\n",
       "    <tr>\n",
       "      <th>1</th>\n",
       "      <td>256</td>\n",
       "      <td>0.117242</td>\n",
       "    </tr>\n",
       "    <tr>\n",
       "      <th>2</th>\n",
       "      <td>512</td>\n",
       "      <td>0.076002</td>\n",
       "    </tr>\n",
       "    <tr>\n",
       "      <th>3</th>\n",
       "      <td>1024</td>\n",
       "      <td>0.051905</td>\n",
       "    </tr>\n",
       "  </tbody>\n",
       "</table>\n",
       "</div>"
      ],
      "text/plain": [
       "   Batch Size  Last Epoch Time\n",
       "0         128         0.184644\n",
       "1         256         0.117242\n",
       "2         512         0.076002\n",
       "3        1024         0.051905"
      ]
     },
     "execution_count": 7,
     "metadata": {},
     "output_type": "execute_result"
    }
   ],
   "source": [
    "df = pd.DataFrame({'Batch Size': batch_sizes,\n",
    "                   'Last Epoch Time': cross_validation_times\n",
    "                  })\n",
    "\n",
    "df"
   ]
  },
  {
   "cell_type": "code",
   "execution_count": 8,
   "id": "d46dfd1c-1d3c-46e4-98d6-21c2672ad31b",
   "metadata": {
    "deletable": false,
    "id": "d46dfd1c-1d3c-46e4-98d6-21c2672ad31b",
    "nbgrader": {
     "cell_type": "code",
     "checksum": "38690f32ec506325fc73c8353b77d041",
     "grade": false,
     "grade_id": "batch_size",
     "locked": false,
     "schema_version": 3,
     "solution": true,
     "task": false
    },
    "tags": []
   },
   "outputs": [
    {
     "name": "stdout",
     "output_type": "stream",
     "text": [
      "Optimal batch size: 256\n",
      "Reason: From the plot, we can see that as batch size increases, cross validation accuracy decreases. \n",
      "    Upon increasing the batch size from 256 to 512, the cross validation accuracy dropped significantly. \n",
      "    This indicates that the optimal batch size is either 128 or 256, as the cross validation accuracy of batch size 512 and 1024 is considerably lower compared to when batch size 128 and 256 is used. \n",
      "    Between batch size 128 and 256, cross validation accuracy is comparable with each other, with batch size 128 only performing slightly better. \n",
      "    From the time taken to train as shown in the dataframe, using batch size 256 was faster than when batch size 128 was used. \n",
      "    The advantage of training faster indicates batch size 256 is the optimal batch size. \n"
     ]
    }
   ],
   "source": [
    "# YOUR CODE HERE\n",
    "optimal_batch_size = \"256\"\n",
    "reason = \"From the plot, we can see that as batch size increases, cross validation accuracy decreases. \\n\\\n",
    "    Upon increasing the batch size from 256 to 512, the cross validation accuracy dropped significantly. \\n\\\n",
    "    This indicates that the optimal batch size is either 128 or 256, as the cross validation accuracy of batch size 512 and 1024 is considerably lower compared to when batch size 128 and 256 is used. \\n\\\n",
    "    Between batch size 128 and 256, cross validation accuracy is comparable with each other, with batch size 128 only performing slightly better. \\n\\\n",
    "    From the time taken to train as shown in the dataframe, using batch size 256 was faster than when batch size 128 was used. \\n\\\n",
    "    The advantage of training faster indicates batch size 256 is the optimal batch size. \"\n",
    "\n",
    "print(\"Optimal batch size:\", optimal_batch_size)\n",
    "print(\"Reason:\", reason)"
   ]
  },
  {
   "cell_type": "code",
   "execution_count": null,
   "id": "096ff7b5-6a77-47d4-941e-37bc495b6558",
   "metadata": {
    "deletable": false,
    "editable": false,
    "id": "096ff7b5-6a77-47d4-941e-37bc495b6558",
    "nbgrader": {
     "cell_type": "code",
     "checksum": "f695b961ed43ec6a31b7647e078fd8d6",
     "grade": true,
     "grade_id": "correct_batch_size",
     "locked": true,
     "points": 1,
     "schema_version": 3,
     "solution": false,
     "task": false
    },
    "tags": []
   },
   "outputs": [],
   "source": []
  }
 ],
 "metadata": {
  "colab": {
   "provenance": []
  },
  "kernelspec": {
   "display_name": "Python 3 (ipykernel)",
   "language": "python",
   "name": "python3"
  },
  "language_info": {
   "codemirror_mode": {
    "name": "ipython",
    "version": 3
   },
   "file_extension": ".py",
   "mimetype": "text/x-python",
   "name": "python",
   "nbconvert_exporter": "python",
   "pygments_lexer": "ipython3",
   "version": "3.11.4"
  }
 },
 "nbformat": 4,
 "nbformat_minor": 5
}
