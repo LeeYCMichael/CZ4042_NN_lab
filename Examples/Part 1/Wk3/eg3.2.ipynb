{
 "cells": [
  {
   "cell_type": "markdown",
   "metadata": {},
   "source": [
    "# Example 3.2: Train a softmax layer"
   ]
  },
  {
   "cell_type": "code",
   "execution_count": 1,
   "metadata": {},
   "outputs": [],
   "source": [
    "import torch\n",
    "import numpy as np\n",
    "import matplotlib.pylab as plt"
   ]
  },
  {
   "cell_type": "markdown",
   "metadata": {},
   "source": [
    "## Set the parameters of the layer and for learning"
   ]
  },
  {
   "cell_type": "code",
   "execution_count": 2,
   "metadata": {},
   "outputs": [],
   "source": [
    "num_epochs = 3000\n",
    "num_inputs = 2\n",
    "num_classes = 3\n",
    "lr = 0.05\n",
    "\n",
    "SEED = 10\n",
    "np.random.seed(SEED)"
   ]
  },
  {
   "cell_type": "markdown",
   "metadata": {},
   "source": [
    "## Prepare inputs and outputs"
   ]
  },
  {
   "cell_type": "code",
   "execution_count": 3,
   "metadata": {},
   "outputs": [
    {
     "name": "stdout",
     "output_type": "stream",
     "text": [
      "[[ 0.94  0.18]\n",
      " [-0.58 -0.53]\n",
      " [-0.23 -0.31]\n",
      " [ 0.42 -0.44]\n",
      " [ 0.5  -1.66]\n",
      " [-1.   -0.51]\n",
      " [ 0.78 -0.65]\n",
      " [ 0.04 -0.2 ]]\n",
      "[0 1 1 0 2 1 0 2]\n",
      "0.05\n"
     ]
    }
   ],
   "source": [
    "# data\n",
    "X = np.array([[0.94, 0.18],[-0.58, -0.53],[-0.23, -0.31],[0.42, -0.44],\n",
    "              [0.5, -1.66],[-1.0, -0.51],[0.78, -0.65],[0.04, -0.20]])\n",
    "Y = np.array([0, 1, 1, 0, 2, 1, 0, 2])\n",
    "K = np.array([[1, 0, 0],\n",
    "              [0, 1, 0],\n",
    "              [0, 1, 0],\n",
    "              [1, 0, 0],\n",
    "              [0, 0, 1],\n",
    "              [0, 1, 0],\n",
    "              [1, 0, 0],\n",
    "              [0, 0, 1]]).astype(float)\n",
    "\n",
    "print(X)\n",
    "print(Y)\n",
    "print(lr)"
   ]
  },
  {
   "cell_type": "markdown",
   "metadata": {},
   "source": [
    "## Define the class for the softmax layer"
   ]
  },
  {
   "cell_type": "code",
   "execution_count": 4,
   "metadata": {},
   "outputs": [],
   "source": [
    "class Softmax_Layer():\n",
    "  def __init__(self, no_features, no_labels):\n",
    "    self.w = torch.tensor(np.random.rand(no_features, no_labels), dtype=torch.double)\n",
    "    self.b = torch.zeros([no_labels], dtype=torch.double)\n",
    "\n",
    "  def __call__(self, x):\n",
    "    u = torch.matmul(torch.tensor(x), self.w) + self.b\n",
    "    p = torch.exp(u)/torch.sum(torch.exp(u), dim=1, keepdims=True)\n",
    "    y = torch.argmax(p, dim=1)\n",
    "    return u, p, y"
   ]
  },
  {
   "cell_type": "code",
   "execution_count": 5,
   "metadata": {},
   "outputs": [],
   "source": [
    "def loss_fn(p, k, y):\n",
    "    entropy = -torch.sum(torch.log(p)*k)\n",
    "    error = torch.sum(torch.not_equal(torch.argmax(k, dim=1), y))\n",
    "    return entropy, error"
   ]
  },
  {
   "cell_type": "code",
   "execution_count": 6,
   "metadata": {},
   "outputs": [],
   "source": [
    "def train(model, inputs, k, learning_rate):\n",
    "    _, p, y = model(inputs)\n",
    "    grad_u = -(k - p)\n",
    "    grad_w = torch.matmul(torch.transpose(torch.tensor(inputs), 0, 1), grad_u)\n",
    "    grad_b = torch.sum(grad_u, dim = 0) \n",
    "    \n",
    "    model.w -= learning_rate * grad_w\n",
    "    model.b -= learning_rate * grad_b\n",
    "    \n",
    "    return grad_u, grad_w, grad_b"
   ]
  },
  {
   "cell_type": "markdown",
   "metadata": {},
   "source": [
    "## Initialize the layer"
   ]
  },
  {
   "cell_type": "code",
   "execution_count": 7,
   "metadata": {},
   "outputs": [
    {
     "name": "stdout",
     "output_type": "stream",
     "text": [
      "w: [[0.77132064 0.02075195 0.63364823]\n",
      " [0.74880388 0.49850701 0.22479665]], b: [0. 0. 0.]\n"
     ]
    }
   ],
   "source": [
    "model = Softmax_Layer(num_inputs, num_classes)\n",
    "\n",
    "print('w: {}, b: {}'.format(model.w.numpy(), model.b.numpy()))"
   ]
  },
  {
   "cell_type": "markdown",
   "metadata": {},
   "source": [
    "## Train the layer"
   ]
  },
  {
   "cell_type": "code",
   "execution_count": 8,
   "metadata": {},
   "outputs": [
    {
     "name": "stdout",
     "output_type": "stream",
     "text": [
      "epoch: 1\n",
      "u: [[ 0.8598261   0.10923809  0.63609274]\n",
      " [-0.84423203 -0.27624485 -0.4866582 ]\n",
      " [-0.40953295 -0.15931012 -0.21542605]\n",
      " [-0.00551904 -0.21062727  0.16722173]\n",
      " [-0.85735412 -0.81714567 -0.05633831]\n",
      " [-1.15321062 -0.27499053 -0.74829452]\n",
      " [ 0.11490758 -0.30784304  0.3481278 ]\n",
      " [-0.11890795 -0.09887132 -0.0196134 ]]\n",
      "p: [[0.44021502 0.20782062 0.35196436]\n",
      " [0.2384036  0.42071356 0.34088285]\n",
      " [0.28583371 0.36709954 0.34706675]\n",
      " [0.33298735 0.27123789 0.39577476]\n",
      " [0.23425619 0.2438672  0.52187661]\n",
      " [0.20384081 0.4905658  0.30559339]\n",
      " [0.34271204 0.22455933 0.43272862]\n",
      " [0.32003787 0.32651502 0.35344712]]\n",
      "y: [0 1 1 2 2 1 2 2]\n",
      "entropy: 7.261474150047841\n",
      "error: 2\n",
      "grad_u: [[-0.55978498  0.20782062  0.35196436]\n",
      " [ 0.2384036  -0.57928644  0.34088285]\n",
      " [ 0.28583371 -0.63290046  0.34706675]\n",
      " [-0.66701265  0.27123789  0.39577476]\n",
      " [ 0.23425619  0.2438672  -0.47812339]\n",
      " [ 0.20384081 -0.5094342   0.30559339]\n",
      " [-0.65728796  0.22455933  0.43272862]\n",
      " [ 0.32003787  0.32651502 -0.64655288]]\n",
      "grad_w: [[-1.59695483  1.61040921 -0.01345438]\n",
      " [-0.15183258  0.06500931  0.08682327]]\n",
      "grad_b: [-0.60171341 -0.44762104  1.04933445]\n",
      "w: [[ 0.85116839 -0.05976851  0.63432095]\n",
      " [ 0.75639551  0.49525655  0.22045548]], b: [ 0.03008567  0.02238105 -0.05246672]\n",
      "epoch:100, loss:2.835693173855373, error:1\n",
      "epoch:200, loss:2.2725304652852634, error:1\n",
      "epoch:300, loss:1.9625347736248573, error:0\n",
      "epoch:400, loss:1.7515425282331303, error:0\n",
      "epoch:500, loss:1.5938037756886931, error:0\n",
      "epoch:600, loss:1.4691215855810347, error:0\n",
      "epoch:700, loss:1.36680720474505, error:0\n",
      "epoch:800, loss:1.2805510069452548, error:0\n",
      "epoch:900, loss:1.206338134773095, error:0\n",
      "epoch:1000, loss:1.1414678793578616, error:0\n",
      "epoch:1100, loss:1.0840432047869268, error:0\n",
      "epoch:1200, loss:1.0326842956237055, error:0\n",
      "epoch:1300, loss:0.9863581583019492, error:0\n",
      "epoch:1400, loss:0.9442723927009746, error:0\n",
      "epoch:1500, loss:0.9058063570057555, error:0\n",
      "epoch:1600, loss:0.8704650863199707, error:0\n",
      "epoch:1700, loss:0.8378475704896928, error:0\n",
      "epoch:1800, loss:0.8076243803174269, error:0\n",
      "epoch:1900, loss:0.7795215465776847, error:0\n",
      "epoch:2000, loss:0.7533087216295411, error:0\n",
      "epoch:2100, loss:0.7287903365201441, error:0\n",
      "epoch:2200, loss:0.7057988930843901, error:0\n",
      "epoch:2300, loss:0.6841898037733022, error:0\n",
      "epoch:2400, loss:0.6638373709120513, error:0\n",
      "epoch:2500, loss:0.6446316167068311, error:0\n",
      "epoch:2600, loss:0.6264757567428859, error:0\n",
      "epoch:2700, loss:0.6092841660680601, error:0\n",
      "epoch:2800, loss:0.5929807265540361, error:0\n",
      "epoch:2900, loss:0.5774974724434929, error:0\n",
      "epoch:3000, loss:0.5627734713585199, error:0\n"
     ]
    }
   ],
   "source": [
    "loss_, err_ = [], []\n",
    "for epoch in range(num_epochs):\n",
    "    u_, p_, y_ = model(X)\n",
    "    l_, e_ = loss_fn(p_, torch.tensor(K), y_)\n",
    "    grad_u_, grad_w_, grad_b_ = train(model, X, torch.tensor(K), lr)\n",
    "    \n",
    "    if (epoch == 0):\n",
    "        print('epoch: {}'.format(epoch+1))\n",
    "        print('u: {}'.format(u_.numpy()))\n",
    "        print('p: {}'.format(p_.numpy()))\n",
    "        print('y: {}'.format(y_.numpy()))\n",
    "        print('entropy: {}'.format(l_.numpy()))\n",
    "        print('error: {}'.format(e_.numpy()))\n",
    "        print('grad_u: {}'.format(grad_u_.numpy()))\n",
    "        print('grad_w: {}'.format(grad_w_.numpy()))\n",
    "        print('grad_b: {}'.format(grad_b_.numpy()))\n",
    "\n",
    "        print('w: {}, b: {}'.format(model.w.numpy(), model.b.numpy()))\n",
    "  \n",
    "    loss_.append(l_.numpy()), err_.append(e_.numpy())\n",
    "\n",
    "    if epoch%100 == 99:\n",
    "        print('epoch:{}, loss:{}, error:{}'.format(epoch+1,loss_[epoch], err_[epoch]))"
   ]
  },
  {
   "cell_type": "code",
   "execution_count": 9,
   "metadata": {},
   "outputs": [
    {
     "name": "stdout",
     "output_type": "stream",
     "text": [
      "w: [[ 14.2269231  -13.03844364   0.23724137]\n",
      " [  4.47096911  -2.05083283  -0.94802875]], b: [-0.52873635 -0.47207383  1.00081018]\n",
      "loss:0.5627734713585199\n"
     ]
    }
   ],
   "source": [
    "print('w: {}, b: {}'.format(model.w.numpy(), model.b.numpy()))\n",
    "print('loss:{}'.format(loss_[-1]))"
   ]
  },
  {
   "cell_type": "code",
   "execution_count": 10,
   "metadata": {},
   "outputs": [
    {
     "data": {
      "text/plain": [
       "<matplotlib.legend.Legend at 0x1261d9b50>"
      ]
     },
     "execution_count": 10,
     "metadata": {},
     "output_type": "execute_result"
    },
    {
     "data": {
      "image/png": "[encoded data removed]",
      "text/plain": [
       "<Figure size 640x480 with 1 Axes>"
      ]
     },
     "metadata": {},
     "output_type": "display_data"
    }
   ],
   "source": [
    "plt.figure(1)\n",
    "plot_pred = plt.plot(X[Y==0,0], X[Y==0,1], 'b^', label='class 1')\n",
    "plot_original = plt.plot(X[Y==1,0], X[Y==1,1], 'ro', label='class 2')\n",
    "plot_original = plt.plot(X[Y==2,0], X[Y==2,1], 'gx', label='class 3')\n",
    "plt.xlabel('$x_1$')\n",
    "plt.ylabel('$x_2$')\n",
    "plt.title('data points')\n",
    "plt.legend()"
   ]
  },
  {
   "cell_type": "code",
   "execution_count": 11,
   "metadata": {},
   "outputs": [
    {
     "data": {
      "text/plain": [
       "Text(0, 0.5, 'cross-entropy')"
      ]
     },
     "execution_count": 11,
     "metadata": {},
     "output_type": "execute_result"
    },
    {
     "data": {
      "image/png": "[encoded data removed]",
      "text/plain": [
       "<Figure size 640x480 with 1 Axes>"
      ]
     },
     "metadata": {},
     "output_type": "display_data"
    }
   ],
   "source": [
    "plt.figure(2)\n",
    "plt.plot(range(num_epochs), loss_)\n",
    "plt.xlabel('epochs')\n",
    "plt.ylabel('cross-entropy')"
   ]
  },
  {
   "cell_type": "code",
   "execution_count": 12,
   "metadata": {},
   "outputs": [
    {
     "data": {
      "text/plain": [
       "Text(0, 0.5, 'classification error')"
      ]
     },
     "execution_count": 12,
     "metadata": {},
     "output_type": "execute_result"
    },
    {
     "data": {
      "image/png": "[encoded data removed]",
      "text/plain": [
       "<Figure size 640x480 with 1 Axes>"
      ]
     },
     "metadata": {},
     "output_type": "display_data"
    }
   ],
   "source": [
    "plt.figure(3)\n",
    "plt.plot(range(num_epochs), err_)\n",
    "plt.xlabel('epochs')\n",
    "plt.ylabel('classification error')"
   ]
  },
  {
   "cell_type": "code",
   "execution_count": null,
   "metadata": {},
   "outputs": [],
   "source": []
  }
 ],
 "metadata": {
  "kernelspec": {
   "display_name": "Python 3 (ipykernel)",
   "language": "python",
   "name": "python3"
  },
  "language_info": {
   "codemirror_mode": {
    "name": "ipython",
    "version": 3
   },
   "file_extension": ".py",
   "mimetype": "text/x-python",
   "name": "python",
   "nbconvert_exporter": "python",
   "pygments_lexer": "ipython3",
   "version": "3.11.2"
  }
 },
 "nbformat": 4,
 "nbformat_minor": 4
}
