{
 "cells": [
  {
   "cell_type": "markdown",
   "metadata": {},
   "source": [
    "# Display of Iris data"
   ]
  },
  {
   "cell_type": "code",
   "execution_count": 1,
   "metadata": {},
   "outputs": [],
   "source": [
    "from sklearn import datasets\n",
    "from sklearn.manifold import TSNE\n",
    "\n",
    "import numpy as np\n",
    "import pylab as plt\n",
    "\n",
    "import os\n",
    "if not os.path.isdir('figures'):\n",
    "    os.makedirs('figures')\n",
    "os.environ['TF_CPP_MIN_LOG_LEVEL'] = '3'\n",
    "\n",
    "import warnings\n",
    "warnings.filterwarnings('ignore')\n",
    "    \n",
    "seed = 50\n",
    "np.random.seed(seed)"
   ]
  },
  {
   "cell_type": "markdown",
   "metadata": {},
   "source": [
    "## Read Iris data "
   ]
  },
  {
   "cell_type": "code",
   "execution_count": 2,
   "metadata": {},
   "outputs": [
    {
     "name": "stdout",
     "output_type": "stream",
     "text": [
      "no of data: 150\n",
      "[[-0.24333333 -0.05733333  0.342       0.10066667]\n",
      " [ 0.45666667 -0.55733333  1.142       0.30066667]\n",
      " [-0.44333333  0.34266667 -2.058      -0.99933333]\n",
      " [-0.44333333  0.84266667 -2.458      -0.79933333]\n",
      " [ 0.65666667 -0.05733333  1.442       0.80066667]\n",
      " [ 0.85666667  0.04266667  1.842       1.20066667]\n",
      " [-0.14333333 -0.55733333  1.242       0.80066667]\n",
      " [-0.74333333  0.24266667 -2.058      -0.69933333]\n",
      " [-1.04333333 -0.05733333 -2.358      -1.09933333]\n",
      " [ 0.35666667 -0.85733333  0.742       0.30066667]]\n",
      "[1 1 0 0 2 2 2 0 0 1]\n"
     ]
    }
   ],
   "source": [
    "iris = datasets.load_iris()\n",
    "iris.data -= np.mean(iris.data, axis=0)\n",
    "\n",
    "X, Y = iris.data, iris.target\n",
    "\n",
    "no_data = len(X)\n",
    "idx = np.arange(no_data)\n",
    "np.random.shuffle(idx)\n",
    "X, Y = X[idx], Y[idx]\n",
    "\n",
    "print('no of data: %d'%no_data)\n",
    "print(X[:10])\n",
    "print(Y[:10])"
   ]
  },
  {
   "cell_type": "markdown",
   "metadata": {},
   "source": [
    "## Plot them in 2-D after transforming with Tsne"
   ]
  },
  {
   "cell_type": "code",
   "execution_count": 3,
   "metadata": {},
   "outputs": [
    {
     "name": "stdout",
     "output_type": "stream",
     "text": [
      "(150, 2)\n"
     ]
    },
    {
     "data": {
      "image/png": "[encoded data removed]",
      "text/plain": [
       "<Figure size 432x288 with 1 Axes>"
      ]
     },
     "metadata": {
      "needs_background": "light"
     },
     "output_type": "display_data"
    }
   ],
   "source": [
    "XX = TSNE().fit_transform(X)\n",
    "\n",
    "print(XX.shape)\n",
    "\n",
    "plt.figure(2)\n",
    "plt.plot(XX[Y==0,0], XX[Y==0,1], 'b+', label='Setosa')\n",
    "plt.plot(XX[Y==1,0], XX[Y==1,1], 'r.', label='Versicolor')\n",
    "plt.plot(XX[Y==2,0], XX[Y==2,1], 'gx', label='Virginica')\n",
    "plt.xlabel('$y_1$')\n",
    "plt.ylabel('$y_2$')\n",
    "plt.legend()\n",
    "plt.savefig('./figures/iris.png')"
   ]
  }
 ],
 "metadata": {
  "kernelspec": {
   "display_name": "Python 3 (ipykernel)",
   "language": "python",
   "name": "python3"
  },
  "language_info": {
   "codemirror_mode": {
    "name": "ipython",
    "version": 3
   },
   "file_extension": ".py",
   "mimetype": "text/x-python",
   "name": "python",
   "nbconvert_exporter": "python",
   "pygments_lexer": "ipython3",
   "version": "3.10.5"
  }
 },
 "nbformat": 4,
 "nbformat_minor": 2
}
