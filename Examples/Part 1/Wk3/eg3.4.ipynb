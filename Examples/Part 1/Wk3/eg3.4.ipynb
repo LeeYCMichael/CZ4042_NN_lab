{
 "cells": [
  {
   "cell_type": "markdown",
   "metadata": {},
   "source": [
    "# Example 3.4: GD training of a perceptron layer"
   ]
  },
  {
   "cell_type": "code",
   "execution_count": 1,
   "metadata": {},
   "outputs": [],
   "source": [
    "import torch\n",
    "import numpy as np\n",
    "import matplotlib.pylab as plt"
   ]
  },
  {
   "cell_type": "markdown",
   "metadata": {},
   "source": [
    "## Set the parameter for the layer and training"
   ]
  },
  {
   "cell_type": "code",
   "execution_count": 2,
   "metadata": {},
   "outputs": [],
   "source": [
    "no_features = 3\n",
    "no_labels = 2\n",
    "no_data = 8\n",
    "\n",
    "lr = 0.1\n",
    "no_epochs = 10000\n",
    "\n",
    "SEED = 10\n",
    "np.random.seed(SEED)"
   ]
  },
  {
   "cell_type": "markdown",
   "metadata": {},
   "source": [
    "## Generate training data"
   ]
  },
  {
   "cell_type": "code",
   "execution_count": 3,
   "metadata": {
    "scrolled": true
   },
   "outputs": [
    {
     "name": "stdout",
     "output_type": "stream",
     "text": [
      "X = [[0.77132064 0.02075195 0.63364823]\n",
      " [0.74880388 0.49850701 0.22479665]\n",
      " [0.19806286 0.76053071 0.16911084]\n",
      " [0.08833981 0.68535982 0.95339335]\n",
      " [0.00394827 0.51219226 0.81262096]\n",
      " [0.61252607 0.72175532 0.29187607]\n",
      " [0.91777412 0.71457578 0.54254437]\n",
      " [0.14217005 0.37334076 0.67413362]]\n",
      "Y = [[0.36700015 0.46890243]\n",
      " [0.36067172 0.37505132]\n",
      " [0.34976828 0.24872748]\n",
      " [0.48444787 0.41710316]\n",
      " [0.36332573 0.28887784]\n",
      " [0.43984029 0.51677508]\n",
      " [0.59832905 0.51552032]\n",
      " [0.27739117 0.37034263]]\n",
      "alpha = 0.1\n"
     ]
    }
   ],
   "source": [
    "# generate training data\n",
    "X = np.random.rand(no_data, no_features)\n",
    "Y = np.zeros((no_data, no_labels))\n",
    "Y[:,0] = (X[:,0] + X[:,1]**2 + X[:, 2]**3 + np.random.rand(no_data))/4\n",
    "Y[:,1] = (X[:,0] + X[:,1] + X[:, 2] + X[:,0]*X[:,1]*X[:,2] + np.random.rand(no_data))/5\n",
    "\n",
    "print('X = {}'.format(X))\n",
    "print('Y = {}'.format(Y))\n",
    "print('alpha = {}'.format(lr))"
   ]
  },
  {
   "cell_type": "markdown",
   "metadata": {},
   "source": [
    "## Define the class for a perceptron layer"
   ]
  },
  {
   "cell_type": "code",
   "execution_count": 4,
   "metadata": {},
   "outputs": [],
   "source": [
    "# a class for the preceptron layer\n",
    "class Perceptron_Layer():\n",
    "  def __init__(self, no_features, no_labels):\n",
    "    self.w = torch.tensor(np.random.rand(no_features,no_labels)*0.05, dtype=torch.double)\n",
    "    self.b = torch.zeros([no_labels], dtype=torch.double)\n",
    "\n",
    "  def __call__(self, x):\n",
    "    u = torch.matmul(torch.tensor(x), self.w) + self.b\n",
    "    y = torch.sigmoid(u)\n",
    "    return u, y"
   ]
  },
  {
   "cell_type": "code",
   "execution_count": 5,
   "metadata": {},
   "outputs": [],
   "source": [
    "def loss_fn(predicted_y, target_y):\n",
    "    return torch.mean(torch.square(predicted_y - torch.tensor(target_y)))"
   ]
  },
  {
   "cell_type": "code",
   "execution_count": 6,
   "metadata": {},
   "outputs": [],
   "source": [
    "def train(model, inputs, outputs, learning_rate):\n",
    "    _, y = model(inputs)\n",
    "    dy = y*(1 - y)\n",
    "    grad_u = -(torch.tensor(outputs) - y)*dy\n",
    "    grad_w = torch.matmul(torch.transpose(torch.tensor(inputs), 0, 1), grad_u)\n",
    "    grad_b = torch.sum(grad_u, dim = 0)\n",
    "    \n",
    "    model.w -= learning_rate * grad_w\n",
    "    model.b -= learning_rate * grad_b\n",
    "    \n",
    "    return dy, grad_u, grad_w, grad_b"
   ]
  },
  {
   "cell_type": "markdown",
   "metadata": {},
   "source": [
    "## Initialize the perceptron layer"
   ]
  },
  {
   "cell_type": "code",
   "execution_count": 7,
   "metadata": {},
   "outputs": [
    {
     "name": "stdout",
     "output_type": "stream",
     "text": [
      "w: [[0.02737931 0.04096435]\n",
      " [0.00994738 0.04284252]\n",
      " [0.01758263 0.03773238]], b: [0. 0.]\n"
     ]
    }
   ],
   "source": [
    "model = Perceptron_Layer(no_features, no_labels)\n",
    "\n",
    "print('w: {}, b: {}'.format(model.w.numpy(), model.b.numpy()))"
   ]
  },
  {
   "cell_type": "markdown",
   "metadata": {},
   "source": [
    "## Train the perceptron layer"
   ]
  },
  {
   "cell_type": "code",
   "execution_count": 8,
   "metadata": {},
   "outputs": [
    {
     "name": "stdout",
     "output_type": "stream",
     "text": [
      "epoch: 1\n",
      "u: tensor([[0.0325, 0.0564],\n",
      "        [0.0294, 0.0605],\n",
      "        [0.0160, 0.0471],\n",
      "        [0.0260, 0.0690],\n",
      "        [0.0195, 0.0528],\n",
      "        [0.0291, 0.0670],\n",
      "        [0.0418, 0.0887],\n",
      "        [0.0195, 0.0473]], dtype=torch.float64)\n",
      "y: tensor([[0.5081, 0.5141],\n",
      "        [0.5074, 0.5151],\n",
      "        [0.5040, 0.5118],\n",
      "        [0.5065, 0.5172],\n",
      "        [0.5049, 0.5132],\n",
      "        [0.5073, 0.5168],\n",
      "        [0.5104, 0.5222],\n",
      "        [0.5049, 0.5118]], dtype=torch.float64)\n",
      "m.s.e: 0.020062590907154502\n",
      "dy: tensor([[0.2499, 0.2498],\n",
      "        [0.2499, 0.2498],\n",
      "        [0.2500, 0.2499],\n",
      "        [0.2500, 0.2497],\n",
      "        [0.2500, 0.2498],\n",
      "        [0.2499, 0.2497],\n",
      "        [0.2499, 0.2495],\n",
      "        [0.2500, 0.2499]], dtype=torch.float64)\n",
      "grad_u: tensor([[ 3.5270e-02,  1.1289e-02],\n",
      "        [ 3.6662e-02,  3.4986e-02],\n",
      "        [ 3.8553e-02,  6.5724e-02],\n",
      "        [ 5.5120e-03,  2.5002e-02],\n",
      "        [ 3.5383e-02,  5.6039e-02],\n",
      "        [ 1.6854e-02, -6.1615e-06],\n",
      "        [-2.1962e-02,  1.6556e-03],\n",
      "        [ 5.6863e-02,  3.5348e-02]], dtype=torch.float64)\n",
      "grad_w: tensor([[0.0612, 0.0569],\n",
      "        [0.0879, 0.1279],\n",
      "        [0.1025, 0.1202]], dtype=torch.float64)\n",
      "grad_b: tensor([0.2031, 0.2300], dtype=torch.float64)\n",
      "w: [[0.0212622  0.03527498]\n",
      " [0.00115438 0.03005517]\n",
      " [0.00733711 0.02570903]], b: [-0.02031351 -0.02300369]\n",
      "epoch: 2\n",
      "u: tensor([[ 0.0008,  0.0211],\n",
      "        [-0.0022,  0.0242],\n",
      "        [-0.0140,  0.0112],\n",
      "        [-0.0106,  0.0252],\n",
      "        [-0.0137,  0.0134],\n",
      "        [-0.0043,  0.0278],\n",
      "        [ 0.0040,  0.0448],\n",
      "        [-0.0119,  0.0106]], dtype=torch.float64)\n",
      "y: tensor([[0.5002, 0.5053],\n",
      "        [0.4995, 0.5060],\n",
      "        [0.4965, 0.5028],\n",
      "        [0.4973, 0.5063],\n",
      "        [0.4966, 0.5034],\n",
      "        [0.4989, 0.5069],\n",
      "        [0.5010, 0.5112],\n",
      "        [0.4970, 0.5026]], dtype=torch.float64)\n",
      "m.s.e: 0.018266596153980245\n",
      "dy: tensor([[0.2500, 0.2500],\n",
      "        [0.2500, 0.2500],\n",
      "        [0.2500, 0.2500],\n",
      "        [0.2500, 0.2500],\n",
      "        [0.2500, 0.2500],\n",
      "        [0.2500, 0.2500],\n",
      "        [0.2500, 0.2499],\n",
      "        [0.2500, 0.2500]], dtype=torch.float64)\n",
      "grad_u: tensor([[ 0.0333,  0.0091],\n",
      "        [ 0.0347,  0.0327],\n",
      "        [ 0.0367,  0.0635],\n",
      "        [ 0.0032,  0.0223],\n",
      "        [ 0.0333,  0.0536],\n",
      "        [ 0.0148, -0.0025],\n",
      "        [-0.0243, -0.0011],\n",
      "        [ 0.0549,  0.0331]], dtype=torch.float64)\n",
      "grad_w: tensor([[0.0539, 0.0485],\n",
      "        [0.0789, 0.1174],\n",
      "        [0.0934, 0.1097]], dtype=torch.float64)\n",
      "grad_b: tensor([0.1866, 0.2108], dtype=torch.float64)\n",
      "w: [[ 0.01587546  0.03042501]\n",
      " [-0.00673844  0.01831881]\n",
      " [-0.0019997   0.01474056]], b: [-0.038969 -0.044084]\n",
      "epoch:200, loss:0.00619406653882833\n",
      "epoch:400, loss:0.00477937732832002\n",
      "epoch:600, loss:0.0038643856995924644\n",
      "epoch:800, loss:0.0032107877658988744\n",
      "epoch:1000, loss:0.002734805984153638\n",
      "epoch:1200, loss:0.0023863036540103964\n",
      "epoch:1400, loss:0.002130457187441507\n",
      "epoch:1600, loss:0.0019422417798826094\n",
      "epoch:1800, loss:0.0018035129476640058\n",
      "epoch:2000, loss:0.0017010709275719514\n",
      "epoch:2200, loss:0.0016252920198504802\n",
      "epoch:2400, loss:0.0015691449630898411\n",
      "epoch:2600, loss:0.0015274813006011315\n",
      "epoch:2800, loss:0.0014965227571431964\n",
      "epoch:3000, loss:0.0014734904471029493\n",
      "epoch:3200, loss:0.00145633618367075\n",
      "epoch:3400, loss:0.001443547332270327\n",
      "epoch:3600, loss:0.0014340047177082318\n",
      "epoch:3800, loss:0.0014268788870200936\n",
      "epoch:4000, loss:0.001421554174392924\n",
      "epoch:4200, loss:0.001417572975356435\n",
      "epoch:4400, loss:0.0014145947533925564\n",
      "epoch:4600, loss:0.00141236581676087\n",
      "epoch:4800, loss:0.0014106969902484188\n",
      "epoch:5000, loss:0.0014094470888481852\n",
      "epoch:5200, loss:0.0014085106652481673\n",
      "epoch:5400, loss:0.001407808912253857\n",
      "epoch:5600, loss:0.001407282898726393\n",
      "epoch:5800, loss:0.0014068885345132614\n",
      "epoch:6000, loss:0.001406592818471786\n",
      "epoch:6200, loss:0.0014063710400166502\n",
      "epoch:6400, loss:0.0014062046901566166\n",
      "epoch:6600, loss:0.0014060799010234505\n",
      "epoch:6800, loss:0.0014059862794531812\n",
      "epoch:7000, loss:0.0014059160346311488\n",
      "epoch:7200, loss:0.0014058633253492088\n",
      "epoch:7400, loss:0.001405823771381844\n",
      "epoch:7600, loss:0.0014057940875814886\n",
      "epoch:7800, loss:0.0014057718097832393\n",
      "epoch:8000, loss:0.0014057550894250718\n",
      "epoch:8200, loss:0.0014057425396186716\n",
      "epoch:8400, loss:0.0014057331197569333\n",
      "epoch:8600, loss:0.0014057260489941247\n",
      "epoch:8800, loss:0.0014057207413637265\n",
      "epoch:9000, loss:0.001405716757115644\n",
      "epoch:9200, loss:0.0014057137662136644\n",
      "epoch:9400, loss:0.0014057115209514636\n",
      "epoch:9600, loss:0.0014057098354073175\n",
      "epoch:9800, loss:0.0014057085700283798\n",
      "epoch: 10000\n",
      "u: tensor([[-0.6545, -0.1528],\n",
      "        [-0.4670, -0.3331],\n",
      "        [-0.7535, -0.9035],\n",
      "        [-0.0801, -0.3963],\n",
      "        [-0.5795, -0.6806],\n",
      "        [-0.2196, -0.3427],\n",
      "        [ 0.3879,  0.2142],\n",
      "        [-0.7866, -0.6953]], dtype=torch.float64)\n",
      "y: tensor([[0.3420, 0.4619],\n",
      "        [0.3853, 0.4175],\n",
      "        [0.3200, 0.2883],\n",
      "        [0.4800, 0.4022],\n",
      "        [0.3590, 0.3361],\n",
      "        [0.4453, 0.4152],\n",
      "        [0.5958, 0.5533],\n",
      "        [0.3129, 0.3328]], dtype=torch.float64)\n",
      "m.s.e: 0.0014057076200629558\n",
      "dy: tensor([[0.2250, 0.2485],\n",
      "        [0.2368, 0.2432],\n",
      "        [0.2176, 0.2052],\n",
      "        [0.2496, 0.2404],\n",
      "        [0.2301, 0.2231],\n",
      "        [0.2470, 0.2428],\n",
      "        [0.2408, 0.2472],\n",
      "        [0.2150, 0.2221]], dtype=torch.float64)\n",
      "grad_u: tensor([[-0.0056, -0.0017],\n",
      "        [ 0.0058,  0.0103],\n",
      "        [-0.0065,  0.0081],\n",
      "        [-0.0011, -0.0036],\n",
      "        [-0.0010,  0.0105],\n",
      "        [ 0.0014, -0.0247],\n",
      "        [-0.0006,  0.0093],\n",
      "        [ 0.0076, -0.0083]], dtype=torch.float64)\n",
      "grad_w: tensor([[-4.9552e-06, -3.0886e-06],\n",
      "        [-7.2626e-06, -4.2229e-06],\n",
      "        [-7.4073e-06, -4.6497e-06]], dtype=torch.float64)\n",
      "grad_b: tensor([1.0365e-05, 6.2772e-06], dtype=torch.float64)\n",
      "w: [[1.08203095 1.14034734]\n",
      " [1.42454337 0.39919455]\n",
      " [1.14653011 0.84453119]], b: [-2.24515506 -1.57582409]\n",
      "epoch:10000, loss:0.0014057076200629558\n"
     ]
    }
   ],
   "source": [
    "cost = []\n",
    "for epoch in range(no_epochs):\n",
    "    u_, y_ = model(X)\n",
    "    loss = loss_fn(y_, Y)\n",
    "    dy_, grad_u_, grad_w_, grad_b_ = train(model, X, Y, lr)\n",
    "    \n",
    "    if (epoch < 2 or epoch == no_epochs - 1):\n",
    "        print('epoch: {}'.format(epoch+1))\n",
    "        print('u: {}'.format(u_))\n",
    "        print('y: {}'.format(y_))\n",
    "    \n",
    "        print('m.s.e: {}'.format(loss))\n",
    "          \n",
    "        print('dy: {}'.format(dy_))\n",
    "        print('grad_u: {}'.format(grad_u_))\n",
    "        print('grad_w: {}'.format(grad_w_))\n",
    "        print('grad_b: {}'.format(grad_b_))\n",
    "\n",
    "        print('w: {}, b: {}'.format(model.w.numpy(), model.b.numpy()))\n",
    "  \n",
    "    cost.append(loss)\n",
    "\n",
    "    if epoch%200 == 199:\n",
    "        print('epoch:{}, loss:{}'.format(epoch+1,cost[epoch]))"
   ]
  },
  {
   "cell_type": "code",
   "execution_count": 9,
   "metadata": {},
   "outputs": [
    {
     "name": "stdout",
     "output_type": "stream",
     "text": [
      "w: [[1.08203095 1.14034734]\n",
      " [1.42454337 0.39919455]\n",
      " [1.14653011 0.84453119]], b: [-2.24515506 -1.57582409]\n",
      "loss:0.0014057076200629558\n"
     ]
    }
   ],
   "source": [
    "print('w: {}, b: {}'.format(model.w.numpy(), model.b.numpy()))\n",
    "print('loss:{}'.format(cost[epoch]))"
   ]
  },
  {
   "cell_type": "markdown",
   "metadata": {},
   "source": [
    "## Plot the learning curves"
   ]
  },
  {
   "cell_type": "code",
   "execution_count": 10,
   "metadata": {},
   "outputs": [
    {
     "data": {
      "text/plain": [
       "Text(0.5, 1.0, 'gd with alpha = 0.1')"
      ]
     },
     "execution_count": 10,
     "metadata": {},
     "output_type": "execute_result"
    },
    {
     "data": {
      "image/png": "[encoded data removed]",
      "text/plain": [
       "<Figure size 640x480 with 1 Axes>"
      ]
     },
     "metadata": {},
     "output_type": "display_data"
    }
   ],
   "source": [
    "# plot learning curves\n",
    "plt.figure(1)\n",
    "plt.plot(range(no_epochs), cost)\n",
    "plt.xlabel('epochs')\n",
    "plt.ylabel('mean square error')\n",
    "plt.title('gd with alpha = {}'.format(lr))"
   ]
  },
  {
   "cell_type": "markdown",
   "metadata": {},
   "source": [
    "## Plot the training data and the predictions"
   ]
  },
  {
   "cell_type": "code",
   "execution_count": 11,
   "metadata": {},
   "outputs": [
    {
     "data": {
      "text/plain": [
       "<matplotlib.legend.Legend at 0x12813dc50>"
      ]
     },
     "execution_count": 11,
     "metadata": {},
     "output_type": "execute_result"
    },
    {
     "data": {
      "image/png": "[encoded data removed]",
      "text/plain": [
       "<Figure size 640x480 with 1 Axes>"
      ]
     },
     "metadata": {},
     "output_type": "display_data"
    }
   ],
   "source": [
    "_, pred = model(X)\n",
    "\n",
    "plt.figure(2)\n",
    "plot_targets = plt.plot(Y[:,0], Y[:,1], 'b^', label='targets')\n",
    "plot_pred = plt.plot(pred[:,0], pred[:,1], 'ro', label='predicted')\n",
    "plt.xlabel('$y_1$')\n",
    "plt.ylabel('$y_2$')\n",
    "plt.title('gd outputs')\n",
    "plt.legend()"
   ]
  },
  {
   "cell_type": "code",
   "execution_count": null,
   "metadata": {},
   "outputs": [],
   "source": []
  }
 ],
 "metadata": {
  "kernelspec": {
   "display_name": "Python 3 (ipykernel)",
   "language": "python",
   "name": "python3"
  },
  "language_info": {
   "codemirror_mode": {
    "name": "ipython",
    "version": 3
   },
   "file_extension": ".py",
   "mimetype": "text/x-python",
   "name": "python",
   "nbconvert_exporter": "python",
   "pygments_lexer": "ipython3",
   "version": "3.11.2"
  }
 },
 "nbformat": 4,
 "nbformat_minor": 4
}
