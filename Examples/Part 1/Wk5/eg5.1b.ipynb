{
 "cells": [
  {
   "cell_type": "markdown",
   "metadata": {},
   "source": [
    "# Chapter 5, Example 1b\n",
    "## Random subsampling to determine the number of hidden neurons"
   ]
  },
  {
   "cell_type": "code",
   "execution_count": 1,
   "metadata": {},
   "outputs": [],
   "source": [
    "import torch\n",
    "from torch import nn\n",
    "\n",
    "from sklearn import datasets\n",
    "\n",
    "import numpy as np\n",
    "import matplotlib.pyplot as plt"
   ]
  },
  {
   "cell_type": "code",
   "execution_count": 2,
   "metadata": {},
   "outputs": [],
   "source": [
    "# parameters\n",
    "no_epochs = 1000\n",
    "lr = 0.1\n",
    "\n",
    "no_labels = 3\n",
    "no_features = 4\n",
    "no_exps = 10\n",
    "\n",
    "hidden_units = [2, 4, 6, 8, 10, 12]\n",
    "\n",
    "seed = 10\n",
    "torch.manual_seed(seed)\n",
    "np.random.seed(seed)"
   ]
  },
  {
   "cell_type": "code",
   "execution_count": 3,
   "metadata": {},
   "outputs": [],
   "source": [
    "class FFN(nn.Module):\n",
    "    def __init__(self, no_features, no_hidden, no_labels):\n",
    "        super().__init__()\n",
    "        self.relu_stack = nn.Sequential(\n",
    "            nn.Linear(no_features, no_hidden),\n",
    "            nn.ReLU(),\n",
    "            nn.Linear(no_hidden, no_labels),\n",
    "            nn.Softmax(dim=1)\n",
    "        )\n",
    "\n",
    "    def forward(self, x):\n",
    "        logits = self.relu_stack(x)\n",
    "        return logits"
   ]
  },
  {
   "cell_type": "code",
   "execution_count": 4,
   "metadata": {},
   "outputs": [],
   "source": [
    "def train_exp(X, Y):\n",
    "\n",
    "    x_train, y_train, x_test, y_test = X[:100], Y[:100], X[100:], Y[100:]\n",
    "    \n",
    "    acc = []\n",
    "    for no_hidden in hidden_units:\n",
    "        \n",
    "        model = FFN(no_features, no_hidden, no_labels)\n",
    "    \n",
    "        loss_fn = torch.nn.CrossEntropyLoss()\n",
    "        optimizer = torch.optim.SGD(model.parameters(), lr=lr)\n",
    "\n",
    "        for epoch in range(no_epochs):\n",
    "            pred = model(torch.tensor(x_train, dtype=torch.float))\n",
    "            loss = loss_fn(pred, torch.tensor(y_train, dtype=torch.float))\n",
    "            \n",
    "    \n",
    "            # Backpropagation\n",
    "            optimizer.zero_grad()\n",
    "            loss.backward()\n",
    "            optimizer.step()\n",
    "        \n",
    "        pred = model(torch.tensor(x_test, dtype=torch.float))\n",
    "        acc_ = (pred.argmax(1) == torch.tensor(y_test, dtype=torch.float).argmax(1)).type(torch.float).mean()\n",
    "        \n",
    "        acc.append(acc_.item())\n",
    "        \n",
    "    return acc"
   ]
  },
  {
   "cell_type": "code",
   "execution_count": 6,
   "metadata": {},
   "outputs": [
    {
     "name": "stdout",
     "output_type": "stream",
     "text": [
      "exp 0, acc [0.9800000190734863, 0.9599999785423279, 0.9800000190734863, 0.9800000190734863, 0.9800000190734863, 1.0]\n",
      "exp 1, acc [0.9599999785423279, 0.6600000262260437, 0.9599999785423279, 0.9599999785423279, 0.9599999785423279, 0.9800000190734863]\n",
      "exp 2, acc [0.9200000166893005, 0.8999999761581421, 0.9200000166893005, 0.9200000166893005, 0.9200000166893005, 0.9399999976158142]\n",
      "exp 3, acc [0.9599999785423279, 0.9599999785423279, 0.9599999785423279, 0.9800000190734863, 0.9599999785423279, 0.9800000190734863]\n",
      "exp 4, acc [0.9800000190734863, 0.9399999976158142, 0.9800000190734863, 0.9599999785423279, 0.9800000190734863, 0.9599999785423279]\n",
      "exp 5, acc [0.9800000190734863, 0.9800000190734863, 0.9800000190734863, 0.9800000190734863, 0.9800000190734863, 0.9800000190734863]\n",
      "exp 6, acc [0.3199999928474426, 0.9800000190734863, 0.9599999785423279, 0.9599999785423279, 0.9599999785423279, 0.9599999785423279]\n",
      "exp 7, acc [0.8799999952316284, 1.0, 0.9800000190734863, 1.0, 1.0, 0.9800000190734863]\n",
      "exp 8, acc [0.9200000166893005, 0.8999999761581421, 0.8999999761581421, 0.9200000166893005, 0.9200000166893005, 0.8999999761581421]\n",
      "exp 9, acc [0.9399999976158142, 0.9599999785423279, 0.9399999976158142, 0.9800000190734863, 0.9200000166893005, 0.9599999785423279]\n",
      "mean accuracy [0.884      0.92399999 0.956      0.964      0.958      0.964     ]\n",
      "* optimum hidden units 8 *\n"
     ]
    }
   ],
   "source": [
    "# input data\n",
    "iris = datasets.load_iris()\n",
    "iris.data -= np.mean(iris.data, axis=0)\n",
    "\n",
    "X = iris.data\n",
    "\n",
    "no_data = len(iris.data)\n",
    "# convert the targets into one-hot matrix\n",
    "Y = np.zeros((no_data, no_labels))\n",
    "for i in range(no_data):\n",
    "    Y[i, iris.target[i]] = 1\n",
    "    \n",
    "\n",
    "acc = []\n",
    "idx = np.arange(no_data)\n",
    "for exp in range(no_exps):\n",
    "        \n",
    "    np.random.shuffle(idx)\n",
    "\n",
    "    acc.append(train_exp(X[idx], Y[idx]))\n",
    "    print('exp %d, acc %s'%(exp, acc[exp]))\n",
    "\n",
    "mean_acc = np.mean(np.array(acc), axis = 0)\n",
    "print(\"mean accuracy %s\"%mean_acc)\n",
    "print('* optimum hidden units %d *'%hidden_units[np.argmax(mean_acc)])"
   ]
  },
  {
   "cell_type": "code",
   "execution_count": 7,
   "metadata": {},
   "outputs": [
    {
     "data": {
      "image/png": "[encoded data removed]",
      "text/plain": [
       "<Figure size 640x480 with 1 Axes>"
      ]
     },
     "metadata": {},
     "output_type": "display_data"
    }
   ],
   "source": [
    "plt.figure(1)\n",
    "plt.plot(hidden_units, mean_acc, marker = 'x', linestyle = 'None')\n",
    "plt.xlabel('number of hidden units')\n",
    "plt.ylabel('mean classification accuracy')\n",
    "plt.show()"
   ]
  },
  {
   "cell_type": "code",
   "execution_count": null,
   "metadata": {},
   "outputs": [],
   "source": []
  }
 ],
 "metadata": {
  "kernelspec": {
   "display_name": "Python 3 (ipykernel)",
   "language": "python",
   "name": "python3"
  },
  "language_info": {
   "codemirror_mode": {
    "name": "ipython",
    "version": 3
   },
   "file_extension": ".py",
   "mimetype": "text/x-python",
   "name": "python",
   "nbconvert_exporter": "python",
   "pygments_lexer": "ipython3",
   "version": "3.11.2"
  }
 },
 "nbformat": 4,
 "nbformat_minor": 4
}
