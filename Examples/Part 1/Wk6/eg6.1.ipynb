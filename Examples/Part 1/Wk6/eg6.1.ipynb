{
  "nbformat": 4,
  "nbformat_minor": 0,
  "metadata": {
    "colab": {
      "provenance": [],
      "toc_visible": true
    },
    "kernelspec": {
      "name": "python3",
      "display_name": "Python 3"
    },
    "language_info": {
      "name": "python"
    }
  },
  "cells": [
    {
      "cell_type": "markdown",
      "source": [
        "# Chapter 6, Example 1"
      ],
      "metadata": {
        "id": "yTrexTutOXLT"
      }
    },
    {
      "cell_type": "markdown",
      "source": [
        "1. Create a 2D convolutional layer with a single output channel and a 3x3 kernel. The stride is set to 1, and padding is either 'VALID' or 'SAME'.\n",
        "2. Use a custom weight and bias for the convolutional layer.\n",
        "3. Apply the convolutional layer to an input tensor, followed by a sigmoid activation function."
      ],
      "metadata": {
        "id": "eIFy7RHoOkuP"
      }
    },
    {
      "cell_type": "code",
      "execution_count": null,
      "metadata": {
        "colab": {
          "base_uri": "https://localhost:8080/"
        },
        "id": "NLriZWkgv3iN",
        "outputId": "ec5717f6-b596-4492-e332-d11990989da0"
      },
      "outputs": [
        {
          "output_type": "stream",
          "name": "stdout",
          "text": [
            "2.0.1+cu118\n"
          ]
        }
      ],
      "source": [
        "import torch\n",
        "import torch.nn as nn\n",
        "import torch.nn.functional as F\n",
        "import numpy as np\n",
        "\n",
        "print(torch.__version__)"
      ]
    },
    {
      "cell_type": "code",
      "source": [
        "# Input image\n",
        "I = np.array([[0.5, -0.1, 0.2, 0.3, 0.5],\n",
        "              [0.8, 0.1, -0.5, 0.5, 0.1],\n",
        "              [-1.0, 0.2, 0.0, 0.3, -0.2],\n",
        "              [0.7, 0.1, 0.2, -0.6, 0.3],\n",
        "              [-0.4, 0.0, 0.2, 0.3, -0.3]]).astype(np.float32)\n",
        "print(I)"
      ],
      "metadata": {
        "colab": {
          "base_uri": "https://localhost:8080/"
        },
        "id": "H-aEaXzhwCBX",
        "outputId": "c58a3bc6-11ab-474a-d720-67d1b0838ef4"
      },
      "execution_count": null,
      "outputs": [
        {
          "output_type": "stream",
          "name": "stdout",
          "text": [
            "[[ 0.5 -0.1  0.2  0.3  0.5]\n",
            " [ 0.8  0.1 -0.5  0.5  0.1]\n",
            " [-1.   0.2  0.   0.3 -0.2]\n",
            " [ 0.7  0.1  0.2 -0.6  0.3]\n",
            " [-0.4  0.   0.2  0.3 -0.3]]\n"
          ]
        }
      ]
    },
    {
      "cell_type": "markdown",
      "source": [
        "This code is defining an input image represented as a 2D numpy array.\n",
        "\n",
        "The `np.array` function is used to create a numpy array from a list of lists. Each inner list represents a row of the image, and each element within the inner list represents a pixel in that row.\n",
        "\n",
        "The `astype(np.float32)` function is used to convert the data type of the elements in the array to `float32`.\n",
        "\n",
        "The `print(I)` statement is used to print the values of the array to the console, which would give you the following output:\n",
        "\n"
      ],
      "metadata": {
        "id": "Q98UtkaKLpj2"
      }
    },
    {
      "cell_type": "code",
      "source": [
        "# Model definition\n",
        "class MyModel(nn.Module):\n",
        "    def __init__(self, pad):\n",
        "        super(MyModel, self).__init__()\n",
        "        self.conv = nn.Conv2d(1, 1, 3, stride=1, padding=pad)\n",
        "\n",
        "    def forward(self, x):\n",
        "        u = self.conv(x)\n",
        "        y = torch.sigmoid(u)\n",
        "        return u, y"
      ],
      "metadata": {
        "id": "R8DG0KdHwLbZ"
      },
      "execution_count": null,
      "outputs": []
    },
    {
      "cell_type": "markdown",
      "source": [
        "This code defines a custom PyTorch model named `MyModel` that extends the `nn.Module` base class.\n",
        "\n",
        "Here's a line-by-line explanation:\n",
        "\n",
        "- `class MyModel(nn.Module):` This line creates a new class called `MyModel` that inherits from PyTorch's `nn.Module` class. `nn.Module` is a base class for all neural network modules in PyTorch.\n",
        "\n",
        "- `def __init__(self, pad):` This line defines the constructor for the `MyModel` class. The constructor takes one parameter, `pad`, which specifies the amount of padding to apply in the convolution operation.\n",
        "\n",
        "- `super(MyModel, self).__init__():` This line calls the constructor of the base `nn.Module` class. This is necessary to properly initialize the base class and make use of its functionalities.\n",
        "\n",
        "- `self.conv = nn.Conv2d(1, 1, 3, stride=1, padding=pad):` This line creates a 2D convolution layer and assigns it to `self.conv`. The convolution layer takes an input with 1 channel, applies a 3x3 convolutional filter, and produces an output with 1 channel. The stride of the convolution is 1, and the padding is determined by the `pad` parameter.\n",
        "\n",
        "- `def forward(self, x):` This line defines the `forward` method, which implements the forward pass of the model. The `forward` method takes one parameter, `x`, which is the input data.\n",
        "\n",
        "- `u = self.conv(x):` This line applies the convolution operation to the input data `x` and assigns the result to `u`.\n",
        "\n",
        "- `y = torch.sigmoid(u):` This line applies the sigmoid activation function to `u` and assigns the result to `y`.\n",
        "\n",
        "- `return u, y:` This line returns the outputs of the convolution operation and the activation function.\n"
      ],
      "metadata": {
        "id": "Ya1slXdJMGru"
      }
    },
    {
      "cell_type": "code",
      "source": [
        "# Set filters and bias\n",
        "w = np.array([[0, 1, 1],[1, 0, 1], [1, 1, 0]]).astype(np.float32).reshape(1,1,3,3)\n",
        "b = np.array([0.05]).astype(np.float32)"
      ],
      "metadata": {
        "id": "bM9tDI7wwYZ3"
      },
      "execution_count": null,
      "outputs": []
    },
    {
      "cell_type": "markdown",
      "source": [
        "# Valid Padding for Convolution"
      ],
      "metadata": {
        "id": "9-hu9lbeOGsP"
      }
    },
    {
      "cell_type": "code",
      "source": [
        "# VALID padding for convolution\n",
        "model = MyModel('valid')\n",
        "\n",
        "# set weights\n",
        "model.conv.weight.data = torch.from_numpy(w)\n",
        "model.conv.bias.data = torch.from_numpy(b)"
      ],
      "metadata": {
        "id": "w5fx6XVz-5LJ"
      },
      "execution_count": null,
      "outputs": []
    },
    {
      "cell_type": "markdown",
      "source": [
        "This code creates an instance of the `MyModel` class and sets the weights and bias for the convolutional layer in the model.\n",
        "\n",
        "Here's a line-by-line explanation:\n",
        "\n",
        "- `model = MyModel('valid')`: This line creates an instance of the `MyModel` class with 'valid' padding for the convolution operation.\n",
        "\n",
        "- `model.conv.weight.data = torch.from_numpy(w)`: This line converts the numpy array `w` to a PyTorch tensor and assigns it to the weight data of the convolutional layer in the model.\n",
        "\n",
        "- `model.conv.bias.data = torch.from_numpy(b)`: This line does the same as the previous line, but for the bias data.\n"
      ],
      "metadata": {
        "id": "R91xN-UqNwQn"
      }
    },
    {
      "cell_type": "code",
      "source": [
        "# Filters\n",
        "print(model.conv.weight.data)\n",
        "# bias\n",
        "print(model.conv.bias.data)"
      ],
      "metadata": {
        "colab": {
          "base_uri": "https://localhost:8080/"
        },
        "id": "4URvvwkq_KZj",
        "outputId": "33bb21d0-9a15-4b49-a0ef-7ed72e5960c7"
      },
      "execution_count": null,
      "outputs": [
        {
          "output_type": "stream",
          "name": "stdout",
          "text": [
            "tensor([[[[0., 1., 1.],\n",
            "          [1., 0., 1.],\n",
            "          [1., 1., 0.]]]])\n",
            "tensor([0.0500])\n"
          ]
        }
      ]
    },
    {
      "cell_type": "code",
      "source": [
        "# Evaluate u and y\n",
        "I_out = torch.from_numpy(I.reshape(1, 1, 5, 5))\n",
        "u, y = model(I_out)\n",
        "\n",
        "print('VALID padding for convolution\\n')\n",
        "print('u: %s\\n'%u.detach().numpy().reshape([3, 3]))\n",
        "print('y: %s\\n'%y.detach().numpy().reshape([3, 3]))"
      ],
      "metadata": {
        "colab": {
          "base_uri": "https://localhost:8080/"
        },
        "id": "qgEVTvwK_6-i",
        "outputId": "22c07361-ad96-4917-b977-9216a1e8d341"
      },
      "execution_count": null,
      "outputs": [
        {
          "output_type": "stream",
          "name": "stdout",
          "text": [
            "VALID padding for convolution\n",
            "\n",
            "u: [[-0.34999996  1.3500001   0.75      ]\n",
            " [-0.55        0.85        0.05000001]\n",
            " [ 0.75        0.05        1.1500001 ]]\n",
            "\n",
            "y: [[0.41338244 0.79412967 0.6791787 ]\n",
            " [0.36586443 0.7005672  0.5124974 ]\n",
            " [0.6791787  0.51249737 0.7595109 ]]\n",
            "\n"
          ]
        }
      ]
    },
    {
      "cell_type": "markdown",
      "source": [
        "This code performs the forward pass of the `MyModel` model with the input image `I`, and then prints the output of the convolution operation and the activation function.\n",
        "\n",
        "Here's a line-by-line explanation:\n",
        "\n",
        "- `I_out = torch.from_numpy(I.reshape(1, 1, 5, 5))`: This line converts the numpy array `I` to a PyTorch tensor and reshapes it to have dimensions (1, 1, 5, 5), which corresponds to (batch_size, num_channels, height, width). The reshaped tensor is stored in `I_out`.\n",
        "\n",
        "- `u, y = model(I_out)`: This line performs the forward pass of the `MyModel` model with `I_out` as the input. The outputs of the convolution operation and the activation function are stored in `u` and `y`, respectively.\n",
        "\n",
        "- `print('VALID padding for convolution\\n')`: This line prints a string to the console.\n",
        "\n",
        "- `print('u: %s\\n'%u.detach().numpy().reshape([3, 3]))`: This line detaches `u` from the computation graph, converts it to a numpy array, reshapes it to have dimensions (3, 3), and then prints it to the console.\n",
        "\n",
        "- `print('y: %s\\n'%y.detach().numpy().reshape([3, 3]))`: This line does the same as the previous print line, but for `y`.\n"
      ],
      "metadata": {
        "id": "DLGVHgI-NKGu"
      }
    },
    {
      "cell_type": "code",
      "source": [
        "# Max pooling of square window of size=2, stride=2\n",
        "pool = nn.MaxPool2d(2, stride=2)\n",
        "output = pool(y)\n",
        "print(output)"
      ],
      "metadata": {
        "id": "BP0hA6cNA_Wj",
        "colab": {
          "base_uri": "https://localhost:8080/"
        },
        "outputId": "c01f44b3-0473-4b29-cd13-40bfb560258c"
      },
      "execution_count": null,
      "outputs": [
        {
          "output_type": "stream",
          "name": "stdout",
          "text": [
            "tensor([[[[0.7941]]]], grad_fn=<MaxPool2DWithIndicesBackward0>)\n"
          ]
        }
      ]
    },
    {
      "cell_type": "markdown",
      "source": [
        "# SAME Padding for Convolution"
      ],
      "metadata": {
        "id": "0YlR-BRLN4q2"
      }
    },
    {
      "cell_type": "code",
      "source": [
        "# Now try the SAME padding for convolution\n",
        "model = MyModel('same')\n",
        "\n",
        "# set weights\n",
        "model.conv.weight.data = torch.from_numpy(w)\n",
        "model.conv.bias.data = torch.from_numpy(b)"
      ],
      "metadata": {
        "id": "f4tySDWcKY5f"
      },
      "execution_count": null,
      "outputs": []
    },
    {
      "cell_type": "code",
      "source": [
        "# evaluate u and y\n",
        "I_out = torch.from_numpy(I.reshape(1, 1, 5, 5))\n",
        "u, y = model(I_out)\n",
        "\n",
        "# Note that you need to change the reshaping size to print the output properly\n",
        "print('VALID padding for convolution\\n')\n",
        "print('u: %s\\n'%u.detach().numpy().reshape([5, 5]))\n",
        "print('y: %s\\n'%y.detach().numpy().reshape([5, 5]))"
      ],
      "metadata": {
        "colab": {
          "base_uri": "https://localhost:8080/"
        },
        "id": "Zs9MtqojKcwr",
        "outputId": "037a3b95-9267-49dc-f2b4-64a1c4ffdf2b"
      },
      "execution_count": null,
      "outputs": [
        {
          "output_type": "stream",
          "name": "stdout",
          "text": [
            "VALID padding for convolution\n",
            "\n",
            "u: [[ 0.75        1.65       -0.15        0.75        0.95000005]\n",
            " [-0.45       -0.34999996  1.3500001   0.75        1.1499999 ]\n",
            " [ 1.8500001  -0.55        0.85        0.05000001  0.15      ]\n",
            " [-1.05        0.75        0.05        1.1500001  -0.75      ]\n",
            " [ 0.85        0.15000002 -0.05000001 -0.35000002  0.65000004]]\n",
            "\n",
            "y: [[0.6791787  0.838891   0.46257016 0.6791787  0.7211152 ]\n",
            " [0.38936076 0.41338244 0.79412967 0.6791787  0.7595109 ]\n",
            " [0.8641271  0.36586443 0.7005672  0.5124974  0.5374298 ]\n",
            " [0.2592251  0.6791787  0.51249737 0.7595109  0.3208213 ]\n",
            " [0.7005672  0.5374298  0.48750263 0.4133824  0.6570105 ]]\n",
            "\n"
          ]
        }
      ]
    },
    {
      "cell_type": "code",
      "source": [
        "# Max pooling of square window of size=2, stride=2\n",
        "pool = nn.MaxPool2d(2, stride=2)\n",
        "output = pool(y)\n",
        "print(output)"
      ],
      "metadata": {
        "id": "9D07w7-vKoj5",
        "colab": {
          "base_uri": "https://localhost:8080/"
        },
        "outputId": "842e7817-3eae-47d2-bb49-bad9d32fbf86"
      },
      "execution_count": null,
      "outputs": [
        {
          "output_type": "stream",
          "name": "stdout",
          "text": [
            "tensor([[[[0.8389, 0.7941],\n",
            "          [0.8641, 0.7595]]]], grad_fn=<MaxPool2DWithIndicesBackward0>)\n"
          ]
        }
      ]
    }
  ]
}