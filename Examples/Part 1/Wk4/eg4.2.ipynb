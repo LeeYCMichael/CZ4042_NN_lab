{
 "cells": [
  {
   "cell_type": "markdown",
   "metadata": {},
   "source": [
    "# Example 4.2: Two layer FFN"
   ]
  },
  {
   "cell_type": "code",
   "execution_count": 1,
   "metadata": {},
   "outputs": [],
   "source": [
    "import torch\n",
    "import numpy as np\n",
    "import matplotlib.pylab as plt"
   ]
  },
  {
   "cell_type": "markdown",
   "metadata": {},
   "source": [
    "## Set the features of the network and for learning"
   ]
  },
  {
   "cell_type": "code",
   "execution_count": 2,
   "metadata": {},
   "outputs": [],
   "source": [
    "num_features = 2\n",
    "num_labels = 2\n",
    "num_hidden = 3\n",
    "\n",
    "num_data = 8\n",
    "\n",
    "lr = 0.05\n",
    "num_epochs = 1000"
   ]
  },
  {
   "cell_type": "markdown",
   "metadata": {},
   "source": [
    "## Generate training data"
   ]
  },
  {
   "cell_type": "code",
   "execution_count": 3,
   "metadata": {},
   "outputs": [
    {
     "name": "stdout",
     "output_type": "stream",
     "text": [
      "x:[[0.77132064 0.02075195]\n",
      " [0.63364823 0.74880388]\n",
      " [0.49850701 0.22479665]\n",
      " [0.19806286 0.76053071]\n",
      " [0.16911084 0.08833981]\n",
      " [0.68535982 0.95339335]\n",
      " [0.00394827 0.51219226]\n",
      " [0.81262096 0.61252607]]\n",
      "y:[[ 0.44351063 -0.41624786]\n",
      " [ 0.83554825  0.42915157]\n",
      " [ 0.08508874 -0.7156599 ]\n",
      " [-0.25331848  0.34826723]\n",
      " [-0.11633365 -0.13197201]\n",
      " [ 0.23553396  0.02627649]\n",
      " [ 0.30079436  0.20207791]\n",
      " [ 0.61044639  0.0432943 ]]\n"
     ]
    }
   ],
   "source": [
    "SEED = 10\n",
    "np.random.seed(SEED)\n",
    "\n",
    "# generate training data\n",
    "X = torch.tensor(np.random.rand(num_data, num_features))\n",
    "Y = torch.tensor(2*np.random.rand(num_data, num_labels) - 1)\n",
    "\n",
    "print('x:{}'.format(X.numpy()))\n",
    "print('y:{}'.format(Y.numpy()))"
   ]
  },
  {
   "cell_type": "markdown",
   "metadata": {},
   "source": [
    "## initialization routines for bias and weights"
   ]
  },
  {
   "cell_type": "code",
   "execution_count": 4,
   "metadata": {},
   "outputs": [],
   "source": [
    "def init_bias(n = 1):\n",
    "    return(torch.tensor(np.zeros(n), dtype=torch.double))\n",
    "\n",
    "def init_weights(n_in=1, n_out=1, gain=4.0):\n",
    "    W_values = np.asarray(np.random.uniform(low=-gain*np.sqrt(6. / (n_in + n_out)),\n",
    "                                            high=gain*np.sqrt(6. / (n_in + n_out)),\n",
    "                                            size=(n_in, n_out)))\n",
    "    return(torch.tensor(W_values, dtype=torch.double))"
   ]
  },
  {
   "cell_type": "markdown",
   "metadata": {},
   "source": [
    "## Define class for the network"
   ]
  },
  {
   "cell_type": "code",
   "execution_count": 5,
   "metadata": {},
   "outputs": [],
   "source": [
    "class Two_Layer_FFN():\n",
    "  def __init__(self, num_features, num_hidden, num_labels):\n",
    "    self.V = init_weights(num_hidden, num_labels)\n",
    "    self.c = init_bias(num_labels)\n",
    "    self.W = init_weights(num_features, num_hidden)\n",
    "    self.b = init_bias(num_hidden)\n",
    "\n",
    "  def __call__(self, x):\n",
    "    z = torch.matmul(x, self.W) + self.b\n",
    "    h = torch.sigmoid(z)\n",
    "    y = torch.matmul(h, self.V) + self.c\n",
    "    return z, h, y"
   ]
  },
  {
   "cell_type": "code",
   "execution_count": 6,
   "metadata": {},
   "outputs": [],
   "source": [
    "def loss(targets, outputs):\n",
    "    return torch.mean(torch.square(targets - outputs))"
   ]
  },
  {
   "cell_type": "code",
   "execution_count": 7,
   "metadata": {},
   "outputs": [],
   "source": [
    "def train(model, inputs, targets, learning_rate):\n",
    "    z, h, y = model(inputs)\n",
    "    grad_u = -(targets - y)\n",
    "    grad_V = torch.matmul(torch.transpose(h, 0, 1), grad_u)\n",
    "    grad_c = torch.sum(grad_u, axis=0)\n",
    "\n",
    "    dh = h*(1-h)\n",
    "    grad_z = torch.matmul(grad_u, torch.transpose(model.V, 0, 1))*dh\n",
    "    grad_W = torch.matmul(torch.transpose(inputs, 0, 1), grad_z)\n",
    "    grad_b = torch.sum(grad_z, axis=0)\n",
    "\n",
    "    model.W -= learning_rate*grad_W\n",
    "    model.b -= learning_rate*grad_b\n",
    "    model.V -= learning_rate*grad_V\n",
    "    model.c -= learning_rate*grad_c\n",
    "    \n",
    "    return grad_u, dh, grad_z, grad_V, grad_c, grad_W, grad_b\n",
    "  "
   ]
  },
  {
   "cell_type": "code",
   "execution_count": 8,
   "metadata": {},
   "outputs": [
    {
     "name": "stdout",
     "output_type": "stream",
     "text": [
      "W = [[-3.97080171  1.10672512  0.41702418]\n",
      " [ 2.79809104 -2.63829158  3.12727936]], b = [0. 0. 0.]\n",
      "V = [[ 3.58121936 -1.58413555]\n",
      " [-3.58903444 -1.7465772 ]\n",
      " [-3.38287156  2.88041883]], c = [0. 0.]\n"
     ]
    }
   ],
   "source": [
    "model = Two_Layer_FFN(num_features, num_hidden, num_labels)\n",
    "\n",
    "print('W = {}, b = {}'.format(model.W.numpy(), model.b.numpy()))\n",
    "print('V = {}, c = {}'.format(model.V.numpy(), model.c.numpy()))"
   ]
  },
  {
   "cell_type": "markdown",
   "metadata": {},
   "source": [
    "## Train the network"
   ]
  },
  {
   "cell_type": "code",
   "execution_count": 9,
   "metadata": {},
   "outputs": [
    {
     "name": "stdout",
     "output_type": "stream",
     "text": [
      "iter: 1\n",
      "z: tensor([[-3.0047,  0.7989,  0.3866],\n",
      "        [-0.4209, -1.2743,  2.6060],\n",
      "        [-1.3505, -0.0414,  0.9109],\n",
      "        [ 1.3416, -1.7873,  2.4610],\n",
      "        [-0.4243, -0.0459,  0.3468],\n",
      "        [-0.0537, -1.7568,  3.2673],\n",
      "        [ 1.4175, -1.3469,  1.6034],\n",
      "        [-1.5129, -0.7167,  2.2544]], dtype=torch.float64)\n",
      "h: tensor([[0.0472, 0.6897, 0.5955],\n",
      "        [0.3963, 0.2185, 0.9312],\n",
      "        [0.2058, 0.4897, 0.7132],\n",
      "        [0.7927, 0.1434, 0.9214],\n",
      "        [0.3955, 0.4885, 0.5858],\n",
      "        [0.4866, 0.1472, 0.9633],\n",
      "        [0.8049, 0.2064, 0.8325],\n",
      "        [0.1805, 0.3281, 0.9050]], dtype=torch.float64)\n",
      "y: tensor([[-4.3207,  0.4357],\n",
      "        [-2.5153,  1.6729],\n",
      "        [-3.4330,  0.8730],\n",
      "        [-0.7925,  1.1476],\n",
      "        [-2.3188,  0.2077],\n",
      "        [-2.0445,  1.7468],\n",
      "        [-0.6742,  0.7624],\n",
      "        [-3.5928,  1.7478]], dtype=torch.float64)\n",
      "grad_u: tensor([[-4.7643,  0.8519],\n",
      "        [-3.3509,  1.2437],\n",
      "        [-3.5181,  1.5887],\n",
      "        [-0.5392,  0.7994],\n",
      "        [-2.2025,  0.3397],\n",
      "        [-2.2800,  1.7205],\n",
      "        [-0.9750,  0.5603],\n",
      "        [-4.2032,  1.7045]], dtype=torch.float64)\n",
      "dh: tensor([[0.0450, 0.2140, 0.2409],\n",
      "        [0.2392, 0.1708, 0.0640],\n",
      "        [0.1634, 0.2499, 0.2046],\n",
      "        [0.1643, 0.1228, 0.0725],\n",
      "        [0.2391, 0.2499, 0.2426],\n",
      "        [0.2498, 0.1255, 0.0354],\n",
      "        [0.1570, 0.1638, 0.1394],\n",
      "        [0.1479, 0.2205, 0.0859]], dtype=torch.float64)\n",
      "grad_z:tensor([[-0.8282,  3.3408,  4.4735],\n",
      "        [-3.3424,  1.6828,  0.9552],\n",
      "        [-2.4706,  2.4619,  3.3705],\n",
      "        [-0.5253,  0.0662,  0.2990],\n",
      "        [-2.0144,  1.8269,  2.0452],\n",
      "        [-2.7207,  0.6499,  0.4480],\n",
      "        [-0.6876,  0.4129,  0.6850],\n",
      "        [-2.6262,  2.6694,  1.6441]], dtype=torch.float64)\n",
      "grad_V:tensor([[ -6.2284,   3.2239],\n",
      "        [ -8.8103,   2.8461],\n",
      "        [-17.0656,   7.4005]], dtype=torch.float64)\n",
      "grad_c:tensor([-21.8332,   8.8087], dtype=torch.float64)\n",
      "grad_W:tensor([[-8.4345,  7.8088,  7.7868],\n",
      "        [-8.2075,  4.5608,  3.7588]], dtype=torch.float64)\n",
      "grad_b:tensor([-15.2154,  13.1109,  13.9204], dtype=torch.float64)\n",
      "cost: 5.436995920259584\n",
      "W = [[-3.54907613  0.71628685  0.02768339]\n",
      " [ 3.20846714 -2.86633166  2.93933842]], b = [ 0.76076987 -0.65554297 -0.69602172]\n",
      "V = [[ 3.89263788 -1.74533253]\n",
      " [-3.14851964 -1.88887988]\n",
      " [-2.52959308  2.51039437]], c = [ 1.09165821 -0.44043711]\n",
      "epoch: 0, m.s.e: 5.436995920259584\n",
      "epoch: 100, m.s.e: 0.06021271821096846\n",
      "epoch: 200, m.s.e: 0.05619993032238959\n",
      "epoch: 300, m.s.e: 0.05516215609203648\n",
      "epoch: 400, m.s.e: 0.05478034381373734\n",
      "epoch: 500, m.s.e: 0.05457299201776503\n",
      "epoch: 600, m.s.e: 0.054407149620971845\n",
      "epoch: 700, m.s.e: 0.05424467350834946\n",
      "epoch: 800, m.s.e: 0.054073685930369854\n",
      "epoch: 900, m.s.e: 0.05388961960687907\n"
     ]
    }
   ],
   "source": [
    "err = []\n",
    "for epoch in range(num_epochs):\n",
    "\n",
    "    z_, h_, y_ = model(X)\n",
    "    cost_ = loss(Y, y_)\n",
    "    grad_u_, dh_, grad_z_, grad_V_, grad_c_, grad_W_, grad_b_ = train(model, X, Y, lr)\n",
    "    \n",
    "    if epoch == 0:\n",
    "        print('iter: {}'.format(epoch+1))\n",
    "        print('z: {}'.format(z_))\n",
    "        print('h: {}'.format(h_))\n",
    "        print('y: {}'.format(y_))\n",
    "        print('grad_u: {}'.format(grad_u_))\n",
    "        print('dh: {}'.format(dh_))\n",
    "        print('grad_z:{}'.format(grad_z_))\n",
    "        print('grad_V:{}'.format(grad_V_))\n",
    "        print('grad_c:{}'.format(grad_c_))\n",
    "        print('grad_W:{}'.format(grad_W_))\n",
    "        print('grad_b:{}'.format(grad_b_))\n",
    "        print('cost: {}'.format(cost_))\n",
    "        print('W = {}, b = {}'.format(model.W.numpy(), model.b.numpy()))\n",
    "        print('V = {}, c = {}'.format(model.V.numpy(), model.c.numpy()))\n",
    "        \n",
    "    err.append(cost_)\n",
    "    if not epoch%100:\n",
    "        print('epoch: {}, m.s.e: {}'.format(epoch,err[epoch]))"
   ]
  },
  {
   "cell_type": "code",
   "execution_count": 10,
   "metadata": {},
   "outputs": [
    {
     "name": "stdout",
     "output_type": "stream",
     "text": [
      "W = [[-2.04060452 -0.5157363  -1.8765965 ]\n",
      " [ 3.5527165  -2.59521722  2.415937  ]], b = [ 0.21522817 -0.93143254  0.15014535]\n",
      "V = [[ 2.1388451  -1.13506266]\n",
      " [-2.92533251 -1.78251379]\n",
      " [-3.59438375  2.28171372]], c = [ 1.25162402 -0.42972376]\n",
      "m.s.e: 0.05368991825699071\n"
     ]
    }
   ],
   "source": [
    "print('W = {}, b = {}'.format(model.W.numpy(), model.b.numpy()))\n",
    "print('V = {}, c = {}'.format(model.V.numpy(), model.c.numpy()))\n",
    "\n",
    "_, _, y_ = model(X)\n",
    "mse = loss(Y, y_)\n",
    "print('m.s.e: {}'.format(mse))"
   ]
  },
  {
   "cell_type": "code",
   "execution_count": 11,
   "metadata": {},
   "outputs": [
    {
     "data": {
      "text/plain": [
       "Text(0.5, 1.0, 'GD learning')"
      ]
     },
     "execution_count": 11,
     "metadata": {},
     "output_type": "execute_result"
    },
    {
     "data": {
      "image/png": "[encoded data removed]",
      "text/plain": [
       "<Figure size 640x480 with 1 Axes>"
      ]
     },
     "metadata": {},
     "output_type": "display_data"
    }
   ],
   "source": [
    "# plot learning curves\n",
    "plt.figure(1)\n",
    "plt.plot(range(num_epochs), err)\n",
    "plt.xlabel('iterations')\n",
    "plt.ylabel('mean square error')\n",
    "plt.title('GD learning')"
   ]
  },
  {
   "cell_type": "code",
   "execution_count": 12,
   "metadata": {},
   "outputs": [
    {
     "data": {
      "text/plain": [
       "<matplotlib.legend.Legend at 0x12cf4fd90>"
      ]
     },
     "execution_count": 12,
     "metadata": {},
     "output_type": "execute_result"
    },
    {
     "data": {
      "image/png": "[encoded data removed]",
      "text/plain": [
       "<Figure size 640x480 with 1 Axes>"
      ]
     },
     "metadata": {},
     "output_type": "display_data"
    }
   ],
   "source": [
    "# plot trained and predicted points\n",
    "_, _, y_ = model(X)\n",
    "    \n",
    "plt.figure(2)\n",
    "plot_targets = plt.plot(Y[:,0], Y[:,1], 'b^', label='targeted')\n",
    "plot_pred = plt.plot(y_[:,0], y_[:,1], 'ro', label='predicted')\n",
    "plt.xlabel('$y_1$')\n",
    "plt.ylabel('$y_2$')\n",
    "plt.title('targets and predicted outputs')\n",
    "plt.legend()"
   ]
  },
  {
   "cell_type": "code",
   "execution_count": null,
   "metadata": {},
   "outputs": [],
   "source": []
  }
 ],
 "metadata": {
  "kernelspec": {
   "display_name": "Python 3 (ipykernel)",
   "language": "python",
   "name": "python3"
  },
  "language_info": {
   "codemirror_mode": {
    "name": "ipython",
    "version": 3
   },
   "file_extension": ".py",
   "mimetype": "text/x-python",
   "name": "python",
   "nbconvert_exporter": "python",
   "pygments_lexer": "ipython3",
   "version": "3.11.2"
  }
 },
 "nbformat": 4,
 "nbformat_minor": 4
}
