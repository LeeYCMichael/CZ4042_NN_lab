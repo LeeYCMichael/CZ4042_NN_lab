{
 "cells": [
  {
   "cell_type": "markdown",
   "metadata": {},
   "source": [
    "# Example 4.3: Two-layer feedforward network on California Housing Data"
   ]
  },
  {
   "cell_type": "code",
   "execution_count": 1,
   "metadata": {},
   "outputs": [],
   "source": [
    "import torch\n",
    "from torch import nn\n",
    "from torch.utils.data import DataLoader\n",
    "from torch.utils.data import Dataset\n",
    "\n",
    "import numpy as np\n",
    "import matplotlib.pylab as plt\n",
    "\n",
    "from sklearn.datasets import fetch_california_housing\n",
    "from sklearn.model_selection  import train_test_split\n",
    "from sklearn import preprocessing"
   ]
  },
  {
   "cell_type": "markdown",
   "metadata": {},
   "source": [
    "## Set the parameters of the network and for learning "
   ]
  },
  {
   "cell_type": "code",
   "execution_count": 2,
   "metadata": {},
   "outputs": [],
   "source": [
    "no_features = 8\n",
    "no_hidden1 = 10\n",
    "no_hidden2 = 5\n",
    "no_labels = 1\n",
    "\n",
    "no_epochs = 50\n",
    "batch_size = 32\n",
    "lr = 0.001\n",
    "\n",
    "SEED = 10\n",
    "torch.manual_seed(SEED)\n",
    "np.random.seed(SEED)"
   ]
  },
  {
   "cell_type": "markdown",
   "metadata": {},
   "source": [
    "## Read and preprocess data"
   ]
  },
  {
   "cell_type": "code",
   "execution_count": 3,
   "metadata": {},
   "outputs": [
    {
     "name": "stdout",
     "output_type": "stream",
     "text": [
      "(14448, 8)\n",
      "(6192,)\n"
     ]
    }
   ],
   "source": [
    "X, y = fetch_california_housing(return_X_y=True)\n",
    "\n",
    "# Split the data into a training set and a test set\n",
    "x_train, x_test, y_train, y_test = train_test_split(X, y, test_size=0.3, random_state=0)\n",
    "\n",
    "scaler = preprocessing.StandardScaler()\n",
    "x_train = scaler.fit_transform(x_train)\n",
    "x_test = scaler.fit_transform(x_test)\n",
    "\n",
    "print(x_train.shape)\n",
    "print(y_test.shape)"
   ]
  },
  {
   "cell_type": "code",
   "execution_count": 4,
   "metadata": {},
   "outputs": [],
   "source": [
    "class MyDataset(Dataset):\n",
    "  def __init__(self, X, y):\n",
    "    self.X =torch.tensor(X, dtype=torch.float)\n",
    "    self.y =torch.tensor(y, dtype=torch.float).unsqueeze(1)\n",
    "    \n",
    "  def __len__(self):\n",
    "    return len(self.y)\n",
    "\n",
    "  def __getitem__(self,idx):\n",
    "    return self.X[idx], self.y[idx]\n",
    "\n",
    "train_data = MyDataset(x_train, y_train)\n",
    "test_data = MyDataset(x_test, y_test)\n",
    "\n",
    "train_dataloader = DataLoader(train_data, batch_size=batch_size, shuffle=True)\n",
    "test_dataloader = DataLoader(test_data, batch_size=batch_size, shuffle=True)"
   ]
  },
  {
   "cell_type": "code",
   "execution_count": 5,
   "metadata": {},
   "outputs": [],
   "source": [
    "# Define the FFN model and learning"
   ]
  },
  {
   "cell_type": "code",
   "execution_count": 6,
   "metadata": {},
   "outputs": [],
   "source": [
    "class FFN(nn.Module):\n",
    "    def __init__(self, no_features, no_hidden1, no_hidden2, no_labels):\n",
    "        super().__init__()\n",
    "        self.relu_stack = nn.Sequential(\n",
    "            nn.Linear(no_features, no_hidden1),\n",
    "            nn.ReLU(),\n",
    "            nn.Linear(no_hidden1, no_hidden2),\n",
    "            nn.ReLU(),\n",
    "            nn.Linear(no_hidden2, no_labels),\n",
    "        )\n",
    "\n",
    "    def forward(self, x):\n",
    "        logits = self.relu_stack(x)\n",
    "        return logits"
   ]
  },
  {
   "cell_type": "code",
   "execution_count": 7,
   "metadata": {},
   "outputs": [],
   "source": [
    "def train_loop(train_dataloader, model, loss_fn, optimizer):\n",
    "    size = len(train_dataloader.dataset)\n",
    "    num_batches = len(train_dataloader)\n",
    "    train_loss = 0\n",
    "    for batch, (X, y) in enumerate(train_dataloader):\n",
    "        # Compute prediction and loss\n",
    "        pred = model(X)\n",
    "        loss = loss_fn(pred, y)\n",
    "\n",
    "        # Backpropagation\n",
    "        optimizer.zero_grad()\n",
    "        loss.backward()\n",
    "        optimizer.step()\n",
    "    \n",
    "        train_loss += loss.item()\n",
    "\n",
    "    train_loss /= size\n",
    "    return train_loss\n",
    "    \n",
    "\n",
    "def test_loop(test_dataloader, model, loss_fn):\n",
    "    size = len(test_dataloader.dataset)\n",
    "    num_batches = len(test_dataloader)\n",
    "    test_loss = 0\n",
    "\n",
    "    with torch.no_grad():\n",
    "        for X, y in test_dataloader:\n",
    "            pred = model(X)\n",
    "            test_loss += loss_fn(pred, y).item()\n",
    "\n",
    "    test_loss /= size\n",
    " \n",
    "    return test_loss\n",
    "    "
   ]
  },
  {
   "cell_type": "code",
   "execution_count": 8,
   "metadata": {},
   "outputs": [
    {
     "name": "stdout",
     "output_type": "stream",
     "text": [
      "Model structure: FFN(\n",
      "  (relu_stack): Sequential(\n",
      "    (0): Linear(in_features=8, out_features=10, bias=True)\n",
      "    (1): ReLU()\n",
      "    (2): Linear(in_features=10, out_features=5, bias=True)\n",
      "    (3): ReLU()\n",
      "    (4): Linear(in_features=5, out_features=1, bias=True)\n",
      "  )\n",
      ")\n",
      "\n",
      "\n",
      "Layer: relu_stack.0.weight | Size: torch.Size([10, 8]) | Values : Parameter containing:\n",
      "tensor([[-0.0296, -0.0121, -0.1326,  0.0813, -0.2023, -0.0623,  0.1370,  0.3319],\n",
      "        [ 0.0833, -0.1199,  0.0339, -0.0396,  0.1443,  0.0405,  0.1385,  0.3429],\n",
      "        [-0.1468, -0.0125,  0.0813, -0.0023, -0.0339, -0.3129, -0.3050, -0.3181],\n",
      "        [-0.3459, -0.3293, -0.2678, -0.3189, -0.3317,  0.1550,  0.2169,  0.2389],\n",
      "        [ 0.1905,  0.1198,  0.1558, -0.1955,  0.3183, -0.0244,  0.3050,  0.1084],\n",
      "        [ 0.2767,  0.2820, -0.0739, -0.1028,  0.0532, -0.0150,  0.0553,  0.1794],\n",
      "        [-0.2763, -0.0162, -0.2775,  0.3414, -0.2487,  0.0676, -0.0966,  0.2010],\n",
      "        [ 0.0012, -0.0356,  0.2588,  0.3229, -0.2566, -0.3410,  0.0295,  0.1114],\n",
      "        [ 0.0807,  0.3266,  0.1587, -0.1626, -0.2421,  0.2743,  0.3389, -0.1678],\n",
      "        [-0.2263,  0.1237, -0.2528, -0.0856, -0.3497,  0.0967, -0.1206, -0.1978]],\n",
      "       requires_grad=True) \n",
      "\n",
      "Layer: relu_stack.0.bias | Size: torch.Size([10]) | Values : Parameter containing:\n",
      "tensor([-0.2248, -0.1244,  0.1679,  0.0200,  0.3045, -0.1264, -0.1035,  0.3460,\n",
      "        -0.3372, -0.1392], requires_grad=True) \n",
      "\n",
      "Layer: relu_stack.2.weight | Size: torch.Size([5, 10]) | Values : Parameter containing:\n",
      "tensor([[-0.1962,  0.3043,  0.1684, -0.1060, -0.1342,  0.0970, -0.1069,  0.0982,\n",
      "         -0.1619, -0.1957],\n",
      "        [-0.0079,  0.1857,  0.2693,  0.0699, -0.1878,  0.1653,  0.1233,  0.1349,\n",
      "         -0.1054, -0.0427],\n",
      "        [ 0.1459,  0.1306,  0.2101, -0.1897,  0.1986, -0.1230, -0.0079, -0.1488,\n",
      "         -0.0937,  0.2132],\n",
      "        [ 0.2701,  0.1101, -0.2372, -0.1166,  0.2194, -0.0853, -0.2583,  0.0734,\n",
      "         -0.2807, -0.0019],\n",
      "        [-0.0389,  0.0030, -0.0753, -0.0462, -0.1912, -0.2088,  0.1038,  0.2853,\n",
      "         -0.2526, -0.2985]], requires_grad=True) \n",
      "\n",
      "Layer: relu_stack.2.bias | Size: torch.Size([5]) | Values : Parameter containing:\n",
      "tensor([-0.1710,  0.3035,  0.2846, -0.3077,  0.0767], requires_grad=True) \n",
      "\n",
      "Layer: relu_stack.4.weight | Size: torch.Size([1, 5]) | Values : Parameter containing:\n",
      "tensor([[ 0.0603,  0.3951, -0.1341,  0.1475, -0.2215]], requires_grad=True) \n",
      "\n",
      "Layer: relu_stack.4.bias | Size: torch.Size([1]) | Values : Parameter containing:\n",
      "tensor([-0.4178], requires_grad=True) \n",
      "\n"
     ]
    }
   ],
   "source": [
    "model = FFN(no_features, no_hidden1, no_hidden2, no_labels)\n",
    "\n",
    "print(f\"Model structure: {model}\\n\\n\")\n",
    "\n",
    "for name, param in model.named_parameters():\n",
    "    print(f\"Layer: {name} | Size: {param.size()} | Values : {param} \\n\")"
   ]
  },
  {
   "cell_type": "markdown",
   "metadata": {},
   "source": [
    "## Train the network"
   ]
  },
  {
   "cell_type": "code",
   "execution_count": 9,
   "metadata": {},
   "outputs": [
    {
     "name": "stdout",
     "output_type": "stream",
     "text": [
      "Epoch 10, train_loss 0.015158  test_loss 0.016380\n",
      "Epoch 20, train_loss 0.013654  test_loss 0.015028\n",
      "Epoch 30, train_loss 0.013167  test_loss 0.014534\n",
      "Epoch 40, train_loss 0.012896  test_loss 0.014295\n",
      "Epoch 50, train_loss 0.012755  test_loss 0.014085\n",
      "Done!\n"
     ]
    }
   ],
   "source": [
    "loss_fn = nn.MSELoss()\n",
    "optimizer = torch.optim.SGD(model.parameters(), lr=lr)\n",
    "\n",
    "train_loss_, test_loss_ = [], []\n",
    "\n",
    "for epoch in range(no_epochs):\n",
    "    train_loss = train_loop(train_dataloader, model, loss_fn, optimizer)\n",
    "    test_loss = test_loop(test_dataloader, model, loss_fn)\n",
    "    \n",
    "    train_loss_.append(train_loss)\n",
    "    test_loss_.append(test_loss)\n",
    "    \n",
    "    if epoch%10 == 9:\n",
    "        print(f\"Epoch {epoch+1}, train_loss {train_loss:>7f}  test_loss {test_loss:>7f}\")\n",
    "print(\"Done!\")"
   ]
  },
  {
   "cell_type": "markdown",
   "metadata": {},
   "source": [
    "## Print final errors"
   ]
  },
  {
   "cell_type": "code",
   "execution_count": 10,
   "metadata": {},
   "outputs": [
    {
     "name": "stdout",
     "output_type": "stream",
     "text": [
      "weight = [[-0.01821475 -0.01314388 -0.12135481  0.08972935 -0.1873828  -0.0596085\n",
      "   0.13020307  0.34450194]\n",
      " [ 0.15020901 -0.16776319  0.0828004  -0.04374294  0.09693841  0.01838458\n",
      "   0.14542408  0.24602795]\n",
      " [ 0.14360383  0.05274698 -0.1998163   0.15692127  0.0038887  -0.96677554\n",
      "  -0.7002282  -0.61722153]\n",
      " [-0.38876897 -0.11807036 -0.18193847 -0.3844353  -0.32696077  0.19438832\n",
      "   0.21885374  0.23733203]\n",
      " [ 0.29796293  0.12437645  0.16083927 -0.17189418  0.2894916  -0.0473719\n",
      "   0.24448122  0.07250947]\n",
      " [ 0.506232    0.25678405  0.02230169  0.00869038  0.09286993 -0.24154128\n",
      "  -0.03135002 -0.10782546]\n",
      " [-0.251643   -0.02300065 -0.29395965  0.33606923 -0.24286519  0.05827786\n",
      "  -0.12518695  0.21026848]\n",
      " [ 0.32045186 -0.10675815  0.07535328 -0.0692523  -0.14331277 -0.5531835\n",
      "  -0.06160391 -0.07972028]\n",
      " [ 0.16339928  0.30172125  0.1418692  -0.16763224 -0.25848797  0.26943082\n",
      "   0.34057721 -0.13373189]\n",
      " [-0.21825618  0.1240752  -0.25478473 -0.08517823 -0.34861028  0.09451437\n",
      "  -0.13074332 -0.19297062]], \n",
      "bias = [-0.23013808 -0.09180365  0.24659993  0.40207192  0.2518973   0.12869638\n",
      " -0.10137355  0.46028098 -0.34862083 -0.13652344]\n",
      "\n",
      "weight = [[-0.19644833  0.30493715  0.19230124 -0.10967261 -0.12445752  0.09916097\n",
      "  -0.1098859   0.1037167  -0.16628242 -0.19467965]\n",
      " [-0.08086598  0.04530725  1.2508434  -0.24557295 -0.04058047  0.46351117\n",
      "  -0.0063172   0.4738066  -0.08997326  0.00151942]\n",
      " [ 0.13021374  0.09978874  0.32979456 -0.31122142  0.17764835 -0.1011178\n",
      "  -0.03330193 -0.10607757 -0.11685344  0.19313578]\n",
      " [ 0.27014872  0.10778286 -0.23684117 -0.11663141  0.21081664 -0.08342429\n",
      "  -0.2601073   0.06520513 -0.2807915  -0.00190598]\n",
      " [-0.01896446 -0.00296591 -0.13229322 -0.04119238 -0.21672416 -0.22451922\n",
      "   0.14954317  0.26532596 -0.25739792 -0.30962723]], \n",
      "bias = [-0.12932572  0.5908204   0.19306117 -0.3076213   0.01131604]\n",
      "\n",
      "weight = [[ 0.04247634  1.5056438   0.25012538  0.12962851 -0.2838682 ]], \n",
      "bias = [0.2382111]\n",
      "\n"
     ]
    }
   ],
   "source": [
    "w1 = model.state_dict()['relu_stack.0.weight'].numpy()\n",
    "b1 = model.state_dict()['relu_stack.0.bias'].numpy()\n",
    "\n",
    "w2 = model.state_dict()['relu_stack.2.weight'].numpy()\n",
    "b2 = model.state_dict()['relu_stack.2.bias'].numpy()\n",
    "\n",
    "w3 = model.state_dict()['relu_stack.4.weight'].numpy()\n",
    "b3 = model.state_dict()['relu_stack.4.bias'].numpy()\n",
    "\n",
    "print('weight = {}, \\nbias = {}\\n'.format(w1, b1))\n",
    "print('weight = {}, \\nbias = {}\\n'.format(w2, b2))\n",
    "print('weight = {}, \\nbias = {}\\n'.format(w3, b3))"
   ]
  },
  {
   "cell_type": "markdown",
   "metadata": {},
   "source": [
    "## Plot learning curves"
   ]
  },
  {
   "cell_type": "code",
   "execution_count": 11,
   "metadata": {},
   "outputs": [
    {
     "data": {
      "text/plain": [
       "<matplotlib.legend.Legend at 0x1555ed890>"
      ]
     },
     "execution_count": 11,
     "metadata": {},
     "output_type": "execute_result"
    },
    {
     "data": {
      "image/png": "[encoded data removed]",
      "text/plain": [
       "<Figure size 640x480 with 1 Axes>"
      ]
     },
     "metadata": {},
     "output_type": "display_data"
    }
   ],
   "source": [
    "# plot learning curves\n",
    "plt.figure(1)\n",
    "plt.plot(range(no_epochs), train_loss_, label='train')\n",
    "plt.plot(range(no_epochs), test_loss_, label = \"test\")\n",
    "plt.xlabel('epochs')\n",
    "plt.ylabel('mean sqaure loss')\n",
    "plt.legend()"
   ]
  },
  {
   "cell_type": "code",
   "execution_count": null,
   "metadata": {},
   "outputs": [],
   "source": []
  }
 ],
 "metadata": {
  "kernelspec": {
   "display_name": "Python 3 (ipykernel)",
   "language": "python",
   "name": "python3"
  },
  "language_info": {
   "codemirror_mode": {
    "name": "ipython",
    "version": 3
   },
   "file_extension": ".py",
   "mimetype": "text/x-python",
   "name": "python",
   "nbconvert_exporter": "python",
   "pygments_lexer": "ipython3",
   "version": "3.11.2"
  }
 },
 "nbformat": 4,
 "nbformat_minor": 4
}
