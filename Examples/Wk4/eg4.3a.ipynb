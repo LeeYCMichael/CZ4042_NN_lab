{
 "cells": [
  {
   "cell_type": "markdown",
   "metadata": {},
   "source": [
    "# Example 4.3: Two-layer feedforward network on California Housing Data"
   ]
  },
  {
   "cell_type": "code",
   "execution_count": 1,
   "metadata": {},
   "outputs": [],
   "source": [
    "import torch\n",
    "from torch import nn\n",
    "from torch.utils.data import DataLoader\n",
    "from torch.utils.data import Dataset\n",
    "\n",
    "import numpy as np\n",
    "import matplotlib.pylab as plt\n",
    "\n",
    "from sklearn.datasets import fetch_california_housing\n",
    "from sklearn.model_selection  import train_test_split\n",
    "from sklearn import preprocessing"
   ]
  },
  {
   "cell_type": "markdown",
   "metadata": {},
   "source": [
    "## Set the parameters of the network and for learning "
   ]
  },
  {
   "cell_type": "code",
   "execution_count": 2,
   "metadata": {},
   "outputs": [],
   "source": [
    "no_features = 8\n",
    "no_hidden = 10\n",
    "no_labels = 1\n",
    "\n",
    "no_epochs = 50\n",
    "batch_size = 32\n",
    "lr = 0.001\n",
    "\n",
    "SEED = 10\n",
    "torch.manual_seed(SEED)\n",
    "np.random.seed(SEED)"
   ]
  },
  {
   "cell_type": "markdown",
   "metadata": {},
   "source": [
    "## Read and preprocess data"
   ]
  },
  {
   "cell_type": "code",
   "execution_count": 3,
   "metadata": {},
   "outputs": [
    {
     "name": "stdout",
     "output_type": "stream",
     "text": [
      "(14448, 8)\n",
      "(6192,)\n"
     ]
    }
   ],
   "source": [
    "X, y = fetch_california_housing(return_X_y=True)\n",
    "\n",
    "# Split the data into a training set and a test set\n",
    "x_train, x_test, y_train, y_test = train_test_split(X, y, test_size=0.3, random_state=0)\n",
    "\n",
    "scaler = preprocessing.StandardScaler()\n",
    "x_train = scaler.fit_transform(x_train)\n",
    "x_test = scaler.fit_transform(x_test)\n",
    "\n",
    "print(x_train.shape)\n",
    "print(y_test.shape)"
   ]
  },
  {
   "cell_type": "code",
   "execution_count": 4,
   "metadata": {},
   "outputs": [],
   "source": [
    "class MyDataset(Dataset):\n",
    "  def __init__(self, X, y):\n",
    "    self.X =torch.tensor(X, dtype=torch.float)\n",
    "    self.y =torch.tensor(y, dtype=torch.float).unsqueeze(1)\n",
    "    \n",
    "  def __len__(self):\n",
    "    return len(self.y)\n",
    "\n",
    "  def __getitem__(self,idx):\n",
    "    return self.X[idx], self.y[idx]\n",
    "\n",
    "train_data = MyDataset(x_train, y_train)\n",
    "test_data = MyDataset(x_test, y_test)\n",
    "\n",
    "train_dataloader = DataLoader(train_data, batch_size=batch_size, shuffle=True)\n",
    "test_dataloader = DataLoader(test_data, batch_size=batch_size, shuffle=True)"
   ]
  },
  {
   "cell_type": "code",
   "execution_count": 5,
   "metadata": {},
   "outputs": [],
   "source": [
    "# Define the FFN model and learning"
   ]
  },
  {
   "cell_type": "code",
   "execution_count": 6,
   "metadata": {},
   "outputs": [],
   "source": [
    "class FFN(nn.Module):\n",
    "    def __init__(self, no_features, no_hidden, no_labels):\n",
    "        super().__init__()\n",
    "        self.relu_stack = nn.Sequential(\n",
    "            nn.Linear(no_features, no_hidden),\n",
    "            nn.ReLU(),\n",
    "            nn.Linear(no_hidden, no_labels),\n",
    "        )\n",
    "\n",
    "    def forward(self, x):\n",
    "        logits = self.relu_stack(x)\n",
    "        return logits"
   ]
  },
  {
   "cell_type": "code",
   "execution_count": 7,
   "metadata": {},
   "outputs": [],
   "source": [
    "def train_loop(train_dataloader, model, loss_fn, optimizer):\n",
    "    size = len(train_dataloader.dataset)\n",
    "    num_batches = len(train_dataloader)\n",
    "    train_loss = 0\n",
    "    for batch, (X, y) in enumerate(train_dataloader):\n",
    "        # Compute prediction and loss\n",
    "        pred = model(X)\n",
    "        loss = loss_fn(pred, y)\n",
    "\n",
    "        # Backpropagation\n",
    "        optimizer.zero_grad()\n",
    "        loss.backward()\n",
    "        optimizer.step()\n",
    "    \n",
    "        train_loss += loss.item()\n",
    "\n",
    "    train_loss /= size\n",
    "    return train_loss\n",
    "    \n",
    "\n",
    "def test_loop(test_dataloader, model, loss_fn):\n",
    "    size = len(test_dataloader.dataset)\n",
    "    num_batches = len(test_dataloader)\n",
    "    test_loss = 0\n",
    "\n",
    "    with torch.no_grad():\n",
    "        for X, y in test_dataloader:\n",
    "            pred = model(X)\n",
    "            test_loss += loss_fn(pred, y).item()\n",
    "\n",
    "    test_loss /= size\n",
    " \n",
    "    return test_loss\n",
    "    "
   ]
  },
  {
   "cell_type": "code",
   "execution_count": 8,
   "metadata": {},
   "outputs": [
    {
     "name": "stdout",
     "output_type": "stream",
     "text": [
      "Model structure: FFN(\n",
      "  (relu_stack): Sequential(\n",
      "    (0): Linear(in_features=8, out_features=10, bias=True)\n",
      "    (1): ReLU()\n",
      "    (2): Linear(in_features=10, out_features=1, bias=True)\n",
      "  )\n",
      ")\n",
      "\n",
      "\n",
      "Layer: relu_stack.0.weight | Size: torch.Size([10, 8]) | Values : Parameter containing:\n",
      "tensor([[-0.0296, -0.0121, -0.1326,  0.0813, -0.2023, -0.0623,  0.1370,  0.3319],\n",
      "        [ 0.0833, -0.1199,  0.0339, -0.0396,  0.1443,  0.0405,  0.1385,  0.3429],\n",
      "        [-0.1468, -0.0125,  0.0813, -0.0023, -0.0339, -0.3129, -0.3050, -0.3181],\n",
      "        [-0.3459, -0.3293, -0.2678, -0.3189, -0.3317,  0.1550,  0.2169,  0.2389],\n",
      "        [ 0.1905,  0.1198,  0.1558, -0.1955,  0.3183, -0.0244,  0.3050,  0.1084],\n",
      "        [ 0.2767,  0.2820, -0.0739, -0.1028,  0.0532, -0.0150,  0.0553,  0.1794],\n",
      "        [-0.2763, -0.0162, -0.2775,  0.3414, -0.2487,  0.0676, -0.0966,  0.2010],\n",
      "        [ 0.0012, -0.0356,  0.2588,  0.3229, -0.2566, -0.3410,  0.0295,  0.1114],\n",
      "        [ 0.0807,  0.3266,  0.1587, -0.1626, -0.2421,  0.2743,  0.3389, -0.1678],\n",
      "        [-0.2263,  0.1237, -0.2528, -0.0856, -0.3497,  0.0967, -0.1206, -0.1978]],\n",
      "       requires_grad=True) \n",
      "\n",
      "Layer: relu_stack.0.bias | Size: torch.Size([10]) | Values : Parameter containing:\n",
      "tensor([-0.2248, -0.1244,  0.1679,  0.0200,  0.3045, -0.1264, -0.1035,  0.3460,\n",
      "        -0.3372, -0.1392], requires_grad=True) \n",
      "\n",
      "Layer: relu_stack.2.weight | Size: torch.Size([1, 10]) | Values : Parameter containing:\n",
      "tensor([[-0.1962,  0.3043,  0.1684, -0.1060, -0.1342,  0.0970, -0.1069,  0.0982,\n",
      "         -0.1619, -0.1957]], requires_grad=True) \n",
      "\n",
      "Layer: relu_stack.2.bias | Size: torch.Size([1]) | Values : Parameter containing:\n",
      "tensor([-0.0079], requires_grad=True) \n",
      "\n"
     ]
    }
   ],
   "source": [
    "model = FFN(no_features, no_hidden, no_labels)\n",
    "\n",
    "print(f\"Model structure: {model}\\n\\n\")\n",
    "\n",
    "for name, param in model.named_parameters():\n",
    "    print(f\"Layer: {name} | Size: {param.size()} | Values : {param} \\n\")"
   ]
  },
  {
   "cell_type": "markdown",
   "metadata": {},
   "source": [
    "## Train the network"
   ]
  },
  {
   "cell_type": "code",
   "execution_count": 9,
   "metadata": {},
   "outputs": [
    {
     "name": "stdout",
     "output_type": "stream",
     "text": [
      "Epoch 10, train_loss 0.015740  test_loss 0.016918\n",
      "Epoch 20, train_loss 0.013964  test_loss 0.015363\n",
      "Epoch 30, train_loss 0.013410  test_loss 0.015100\n",
      "Epoch 40, train_loss 0.013148  test_loss 0.014625\n",
      "Epoch 50, train_loss 0.012994  test_loss 0.014413\n",
      "Done!\n"
     ]
    }
   ],
   "source": [
    "loss_fn = nn.MSELoss()\n",
    "optimizer = torch.optim.SGD(model.parameters(), lr=lr)\n",
    "\n",
    "train_loss_, test_loss_ = [], []\n",
    "\n",
    "for epoch in range(no_epochs):\n",
    "    train_loss = train_loop(train_dataloader, model, loss_fn, optimizer)\n",
    "    test_loss = test_loop(test_dataloader, model, loss_fn)\n",
    "    \n",
    "    train_loss_.append(train_loss)\n",
    "    test_loss_.append(test_loss)\n",
    "    \n",
    "    if epoch%10 == 9:\n",
    "        print(f\"Epoch {epoch+1}, train_loss {train_loss:>7f}  test_loss {test_loss:>7f}\")\n",
    "print(\"Done!\")"
   ]
  },
  {
   "cell_type": "markdown",
   "metadata": {},
   "source": [
    "## Print final errors"
   ]
  },
  {
   "cell_type": "code",
   "execution_count": 10,
   "metadata": {},
   "outputs": [
    {
     "name": "stdout",
     "output_type": "stream",
     "text": [
      "weight = [[-0.01946063 -0.02692541 -0.07130092  0.1909425  -0.11298238 -0.03531939\n",
      "   0.10174311  0.41813454]\n",
      " [ 0.15897281 -0.12167118  0.02607268 -0.00911553  0.02577551  0.14926212\n",
      "   0.03398035  0.2357631 ]\n",
      " [ 0.1678043   0.10420273 -0.26062733  0.20164768  0.01269102 -0.897811\n",
      "  -0.8503108  -0.7460771 ]\n",
      " [-0.35840988 -0.24402098 -0.24101171 -0.35394812 -0.35253894  0.07852911\n",
      "   0.2826971   0.20058537]\n",
      " [ 0.42325845  0.16409923  0.19822276 -0.11357599  0.23981367 -0.12101953\n",
      "   0.1160325  -0.02408011]\n",
      " [ 0.48040113  0.30611715 -0.04255844  0.02708633  0.08107933 -0.19670072\n",
      "  -0.05364493 -0.08328556]\n",
      " [-0.28049386  0.003088   -0.20686083  0.3857622  -0.24567518  0.0370231\n",
      "  -0.07477821  0.20701009]\n",
      " [ 0.38209096 -0.10486817 -0.00161085  0.07721224 -0.0887445  -0.7692382\n",
      "  -0.27910534 -0.28378895]\n",
      " [ 0.07229674  0.31059697  0.14693041 -0.16644855 -0.2369805   0.25769886\n",
      "   0.32469893 -0.1400336 ]\n",
      " [-0.26843405  0.12258539 -0.18802468 -0.09051596 -0.33348584  0.0426576\n",
      "  -0.03897391 -0.22090752]], \n",
      "bias = [-0.23331371  0.11518039  0.30859816  0.16336437  0.3097361   0.09743515\n",
      " -0.11747723  0.5758318  -0.36045438 -0.16296473]\n",
      "\n",
      "weight = [[-0.01946063 -0.02692541 -0.07130092  0.1909425  -0.11298238 -0.03531939\n",
      "   0.10174311  0.41813454]\n",
      " [ 0.15897281 -0.12167118  0.02607268 -0.00911553  0.02577551  0.14926212\n",
      "   0.03398035  0.2357631 ]\n",
      " [ 0.1678043   0.10420273 -0.26062733  0.20164768  0.01269102 -0.897811\n",
      "  -0.8503108  -0.7460771 ]\n",
      " [-0.35840988 -0.24402098 -0.24101171 -0.35394812 -0.35253894  0.07852911\n",
      "   0.2826971   0.20058537]\n",
      " [ 0.42325845  0.16409923  0.19822276 -0.11357599  0.23981367 -0.12101953\n",
      "   0.1160325  -0.02408011]\n",
      " [ 0.48040113  0.30611715 -0.04255844  0.02708633  0.08107933 -0.19670072\n",
      "  -0.05364493 -0.08328556]\n",
      " [-0.28049386  0.003088   -0.20686083  0.3857622  -0.24567518  0.0370231\n",
      "  -0.07477821  0.20701009]\n",
      " [ 0.38209096 -0.10486817 -0.00161085  0.07721224 -0.0887445  -0.7692382\n",
      "  -0.27910534 -0.28378895]\n",
      " [ 0.07229674  0.31059697  0.14693041 -0.16644855 -0.2369805   0.25769886\n",
      "   0.32469893 -0.1400336 ]\n",
      " [-0.26843405  0.12258539 -0.18802468 -0.09051596 -0.33348584  0.0426576\n",
      "  -0.03897391 -0.22090752]], \n",
      "bias = [-0.23331371  0.11518039  0.30859816  0.16336437  0.3097361   0.09743515\n",
      " -0.11747723  0.5758318  -0.36045438 -0.16296473]\n",
      "\n"
     ]
    }
   ],
   "source": [
    "w1 = model.state_dict()['relu_stack.0.weight'].numpy()\n",
    "b1 = model.state_dict()['relu_stack.0.bias'].numpy()\n",
    "\n",
    "w2 = model.state_dict()['relu_stack.2.weight'].numpy()\n",
    "b2 = model.state_dict()['relu_stack.2.bias'].numpy()\n",
    "\n",
    "print('weight = {}, \\nbias = {}\\n'.format(w1, b1))\n",
    "print('weight = {}, \\nbias = {}\\n'.format(w1, b1))"
   ]
  },
  {
   "cell_type": "markdown",
   "metadata": {},
   "source": [
    "## Plot learning curves"
   ]
  },
  {
   "cell_type": "code",
   "execution_count": 11,
   "metadata": {},
   "outputs": [
    {
     "data": {
      "text/plain": [
       "<matplotlib.legend.Legend at 0x159d05cd0>"
      ]
     },
     "execution_count": 11,
     "metadata": {},
     "output_type": "execute_result"
    },
    {
     "data": {
      "image/png": "[encoded data removed]",
      "text/plain": [
       "<Figure size 640x480 with 1 Axes>"
      ]
     },
     "metadata": {},
     "output_type": "display_data"
    }
   ],
   "source": [
    "# plot learning curves\n",
    "plt.figure(1)\n",
    "plt.plot(range(no_epochs), train_loss_, label='train')\n",
    "plt.plot(range(no_epochs), test_loss_, label = \"test\")\n",
    "plt.xlabel('epochs')\n",
    "plt.ylabel('mean sqaure loss')\n",
    "plt.legend()"
   ]
  },
  {
   "cell_type": "code",
   "execution_count": null,
   "metadata": {},
   "outputs": [],
   "source": []
  }
 ],
 "metadata": {
  "kernelspec": {
   "display_name": "Python 3 (ipykernel)",
   "language": "python",
   "name": "python3"
  },
  "language_info": {
   "codemirror_mode": {
    "name": "ipython",
    "version": 3
   },
   "file_extension": ".py",
   "mimetype": "text/x-python",
   "name": "python",
   "nbconvert_exporter": "python",
   "pygments_lexer": "ipython3",
   "version": "3.11.2"
  }
 },
 "nbformat": 4,
 "nbformat_minor": 4
}
