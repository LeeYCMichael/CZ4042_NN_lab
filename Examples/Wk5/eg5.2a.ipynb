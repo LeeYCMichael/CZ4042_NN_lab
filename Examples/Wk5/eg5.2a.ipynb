{
 "cells": [
  {
   "cell_type": "markdown",
   "metadata": {},
   "source": [
    "# Chapter 5, Example 2a\n",
    "## 3-fold cross-validation on Iris dataset"
   ]
  },
  {
   "cell_type": "code",
   "execution_count": 1,
   "metadata": {},
   "outputs": [],
   "source": [
    "import torch\n",
    "from torch import nn\n",
    "\n",
    "from sklearn import datasets\n",
    "from sklearn.model_selection import KFold\n",
    "\n",
    "# Helper libraries\n",
    "import numpy as np\n",
    "import matplotlib.pyplot as plt"
   ]
  },
  {
   "cell_type": "code",
   "execution_count": 2,
   "metadata": {},
   "outputs": [],
   "source": [
    "lr = 0.1\n",
    "no_epochs = 1000\n",
    "\n",
    "no_labels = 3\n",
    "no_features = 4\n",
    "hidden_units = 5\n",
    "\n",
    "no_folds = 3\n",
    "\n",
    "seed = 10\n",
    "torch.manual_seed(seed)\n",
    "np.random.seed(seed)"
   ]
  },
  {
   "cell_type": "code",
   "execution_count": 3,
   "metadata": {},
   "outputs": [
    {
     "name": "stdout",
     "output_type": "stream",
     "text": [
      "(150, 4)\n",
      "(150, 3)\n"
     ]
    }
   ],
   "source": [
    "no_inputs = 4\n",
    "no_outputs = 3\n",
    "\n",
    "# input data\n",
    "iris = datasets.load_iris()\n",
    "iris.data -= np.mean(iris.data, axis=0)\n",
    "\n",
    "no_data = len(iris.data)\n",
    "\n",
    "X = iris.data\n",
    "\n",
    "# convert the targets into one-hot matrix\n",
    "Y = np.zeros((no_data, no_outputs))\n",
    "for i in range(no_data):\n",
    "    Y[i, iris.target[i]] = 1\n",
    "    \n",
    "print(np.shape(X))\n",
    "print(np.shape(Y))"
   ]
  },
  {
   "cell_type": "code",
   "execution_count": 4,
   "metadata": {},
   "outputs": [],
   "source": [
    "class FFN(nn.Module):\n",
    "    def __init__(self, no_features, hidden_units, no_labels):\n",
    "        super().__init__()\n",
    "        self.relu_stack = nn.Sequential(\n",
    "            nn.Linear(no_features, hidden_units),\n",
    "            nn.ReLU(),\n",
    "            nn.Linear(hidden_units, no_labels),\n",
    "            nn.Softmax(dim=1)\n",
    "        )\n",
    "\n",
    "    def forward(self, x):\n",
    "        logits = self.relu_stack(x)\n",
    "        return logits"
   ]
  },
  {
   "cell_type": "code",
   "execution_count": 5,
   "metadata": {},
   "outputs": [
    {
     "name": "stdout",
     "output_type": "stream",
     "text": [
      "fold 0 test accuracy 0.98\n",
      "fold 1 test accuracy 0.98\n",
      "fold 2 test accuracy 0.96\n",
      "* mean accuracy = 0.973333 *\n"
     ]
    }
   ],
   "source": [
    "cv = KFold(n_splits=no_folds, shuffle=True, random_state=1)\n",
    "\n",
    "fold = 0\n",
    "acc = []\n",
    "for train_idx, test_idx in cv.split(X, Y):\n",
    "    x_train, y_train  = X[train_idx], Y[train_idx]\n",
    "    x_test, y_test = X[test_idx], Y[test_idx]\n",
    "    \n",
    "    model = FFN(no_features, hidden_units, no_labels)\n",
    "    \n",
    "    loss_fn = torch.nn.CrossEntropyLoss()\n",
    "    optimizer = torch.optim.SGD(model.parameters(), lr=lr)\n",
    "    \n",
    "    for epoch in range(no_epochs):\n",
    "        pred = model(torch.tensor(x_train, dtype=torch.float))\n",
    "        loss = loss_fn(pred, torch.tensor(y_train, dtype=torch.float))\n",
    "    \n",
    "        # Backpropagation\n",
    "        optimizer.zero_grad()\n",
    "        loss.backward()\n",
    "        optimizer.step()\n",
    "    \n",
    "    pred = model(torch.tensor(x_test, dtype=torch.float))\n",
    "    acc_ = (pred.argmax(1) == torch.tensor(y_test, dtype=torch.float).argmax(1)).type(torch.float).mean()\n",
    "    \n",
    "    acc.append(acc_.item())\n",
    "    \n",
    "    print('fold %d test accuracy %g'%(fold, acc[fold]))\n",
    "    fold += 1\n",
    "    \n",
    "print('* mean accuracy = %g *'% np.mean(acc))"
   ]
  },
  {
   "cell_type": "code",
   "execution_count": 6,
   "metadata": {},
   "outputs": [
    {
     "data": {
      "image/png": "[encoded data removed]",
      "text/plain": [
       "<Figure size 640x480 with 1 Axes>"
      ]
     },
     "metadata": {},
     "output_type": "display_data"
    }
   ],
   "source": [
    "plt.figure(1)\n",
    "plt.plot([1, 2, 3], acc, marker = 'x', linestyle = 'None')\n",
    "plt.xticks([1, 2, 3])\n",
    "plt.xlabel('fold')\n",
    "plt.ylabel('cross-validation accuracy')\n",
    "plt.show()"
   ]
  },
  {
   "cell_type": "code",
   "execution_count": null,
   "metadata": {},
   "outputs": [],
   "source": []
  }
 ],
 "metadata": {
  "kernelspec": {
   "display_name": "Python 3 (ipykernel)",
   "language": "python",
   "name": "python3"
  },
  "language_info": {
   "codemirror_mode": {
    "name": "ipython",
    "version": 3
   },
   "file_extension": ".py",
   "mimetype": "text/x-python",
   "name": "python",
   "nbconvert_exporter": "python",
   "pygments_lexer": "ipython3",
   "version": "3.11.2"
  }
 },
 "nbformat": 4,
 "nbformat_minor": 4
}
