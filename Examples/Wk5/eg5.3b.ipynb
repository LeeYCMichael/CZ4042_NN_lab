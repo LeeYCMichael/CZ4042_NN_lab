{
 "cells": [
  {
   "cell_type": "markdown",
   "metadata": {},
   "source": [
    "# Chapter 5, Example 3b\n",
    "## Three-way data split on Iris data - multiple experiments"
   ]
  },
  {
   "cell_type": "code",
   "execution_count": 1,
   "metadata": {},
   "outputs": [],
   "source": [
    "import torch\n",
    "from torch import nn\n",
    "\n",
    "from sklearn import datasets\n",
    "\n",
    "# Helper libraries\n",
    "import numpy as np\n",
    "import matplotlib.pyplot as plt"
   ]
  },
  {
   "cell_type": "code",
   "execution_count": 2,
   "metadata": {},
   "outputs": [],
   "source": [
    "lr = 0.1\n",
    "no_epochs = 1000\n",
    "\n",
    "no_labels = 3\n",
    "no_features = 4\n",
    "hidden_units = [2, 4, 6, 8, 10, 12]\n",
    "\n",
    "no_folds = 3\n",
    "no_exps = 10\n",
    "\n",
    "seed = 10\n",
    "torch.manual_seed(seed)\n",
    "np.random.seed(seed)"
   ]
  },
  {
   "cell_type": "code",
   "execution_count": 3,
   "metadata": {},
   "outputs": [
    {
     "name": "stdout",
     "output_type": "stream",
     "text": [
      "(150, 4)\n",
      "(150, 3)\n"
     ]
    }
   ],
   "source": [
    "no_inputs = 4\n",
    "no_outputs = 3\n",
    "\n",
    "# input data\n",
    "iris = datasets.load_iris()\n",
    "iris.data -= np.mean(iris.data, axis=0)\n",
    "\n",
    "no_data = len(iris.data)\n",
    "\n",
    "X = iris.data\n",
    "\n",
    "# convert the targets into one-hot matrix\n",
    "Y = np.zeros((no_data, no_outputs))\n",
    "for i in range(no_data):\n",
    "    Y[i, iris.target[i]] = 1\n",
    "    \n",
    "print(np.shape(X))\n",
    "print(np.shape(Y))"
   ]
  },
  {
   "cell_type": "code",
   "execution_count": 4,
   "metadata": {},
   "outputs": [],
   "source": [
    "class FFN(nn.Module):\n",
    "    def __init__(self, no_features, hidden_units, no_labels):\n",
    "        super().__init__()\n",
    "        self.relu_stack = nn.Sequential(\n",
    "            nn.Linear(no_features, hidden_units),\n",
    "            nn.ReLU(),\n",
    "            nn.Linear(hidden_units, no_labels),\n",
    "            nn.Softmax(dim=1)\n",
    "        )\n",
    "\n",
    "    def forward(self, x):\n",
    "        logits = self.relu_stack(x)\n",
    "        return logits"
   ]
  },
  {
   "cell_type": "code",
   "execution_count": 5,
   "metadata": {},
   "outputs": [],
   "source": [
    "def train_exp(X, Y):\n",
    "\n",
    "    x_train, y_train = X[:50], Y[:50]\n",
    "    x_valid, y_valid = X[50:100], Y[50:100] \n",
    "    x_test, y_test = X[100:], Y[100:]\n",
    "\n",
    "    acc = []\n",
    "    for no_hidden in hidden_units:\n",
    "        \n",
    "        model = FFN(no_inputs, no_hidden, no_outputs)\n",
    "    \n",
    "        loss_fn = torch.nn.CrossEntropyLoss()\n",
    "        optimizer = torch.optim.SGD(model.parameters(), lr=lr)\n",
    "    \n",
    "        for epoch in range(no_epochs):\n",
    "            pred = model(torch.tensor(x_train, dtype=torch.float))\n",
    "            loss = loss_fn(pred, torch.tensor(y_train, dtype=torch.float))\n",
    "    \n",
    "            # Backpropagation\n",
    "            optimizer.zero_grad()\n",
    "            loss.backward()\n",
    "            optimizer.step()\n",
    "    \n",
    "        pred = model(torch.tensor(x_valid, dtype=torch.float))\n",
    "        acc_ = (pred.argmax(1) == torch.tensor(y_valid, dtype=torch.float).argmax(1)).type(torch.float).mean()\n",
    "    \n",
    "        acc.append(acc_.item())\n",
    "        \n",
    "    no_hidden = hidden_units[np.argmax(acc)]\n",
    "    \n",
    "    x_train, y_train = X[:100], Y[:100]\n",
    "    \n",
    "    model = FFN(no_inputs, no_hidden, no_outputs)\n",
    "    \n",
    "    optimizer = torch.optim.SGD(model.parameters(), lr=lr)\n",
    "    \n",
    "    for epoch in range(no_epochs):\n",
    "        pred = model(torch.tensor(x_train, dtype=torch.float))\n",
    "        loss = loss_fn(pred, torch.tensor(y_train, dtype=torch.float))\n",
    "    \n",
    "        # Backpropagation\n",
    "        optimizer.zero_grad()\n",
    "        loss.backward()\n",
    "        optimizer.step()\n",
    "    \n",
    "    pred = model(torch.tensor(x_test, dtype=torch.float))\n",
    "    acc_ = (pred.argmax(1) == torch.tensor(y_test, dtype=torch.float).argmax(1)).type(torch.float).mean()\n",
    "\n",
    "    \n",
    "    return no_hidden, acc_"
   ]
  },
  {
   "cell_type": "code",
   "execution_count": 6,
   "metadata": {},
   "outputs": [
    {
     "name": "stdout",
     "output_type": "stream",
     "text": [
      "exp 0: hidden units 8, accuracy 1\n",
      "exp 1: hidden units 4, accuracy 0.94\n",
      "exp 2: hidden units 4, accuracy 0.94\n",
      "exp 3: hidden units 4, accuracy 0.96\n",
      "exp 4: hidden units 4, accuracy 0.8\n",
      "exp 5: hidden units 4, accuracy 0.98\n",
      "exp 6: hidden units 4, accuracy 0.98\n",
      "exp 7: hidden units 2, accuracy 0.98\n",
      "exp 8: hidden units 6, accuracy 0.96\n",
      "exp 9: hidden units 4, accuracy 0.94\n"
     ]
    }
   ],
   "source": [
    "no_hidden, acc = [], []\n",
    "for exp in range(no_exps):\n",
    "        \n",
    "    idx = np.arange(no_data)\n",
    "    np.random.shuffle(idx)\n",
    "\n",
    "    no_hidden_, acc_ = train_exp(X[idx], Y[idx])\n",
    "        \n",
    "    no_hidden.append(no_hidden_)\n",
    "    acc.append(acc_)\n",
    "    print('exp %d: hidden units %d, accuracy %g'%(exp, no_hidden[exp], acc[exp]))"
   ]
  },
  {
   "cell_type": "code",
   "execution_count": 7,
   "metadata": {},
   "outputs": [
    {
     "name": "stdout",
     "output_type": "stream",
     "text": [
      "* 4 hidden unit *\n",
      "* accuracy 0.934286 *\n"
     ]
    }
   ],
   "source": [
    "hidden_counts = np.zeros(len(hidden_units))\n",
    "acc_ = np.zeros(len(hidden_units))\n",
    "for exp in range(no_exps):\n",
    "    hidden_counts[no_hidden[exp]//2-1] += 1\n",
    "    acc_[no_hidden[exp]//2-1] += acc[exp]\n",
    "    \n",
    "opt_hidden = hidden_units[np.argmax(hidden_counts)]\n",
    "opt_acc = acc_[opt_hidden//2-1]/hidden_counts[opt_hidden//2-1]\n",
    "print('* %d hidden unit *'%opt_hidden)\n",
    "print('* accuracy %g *'%opt_acc)"
   ]
  },
  {
   "cell_type": "code",
   "execution_count": 16,
   "metadata": {},
   "outputs": [
    {
     "data": {
      "image/png": "[encoded data removed]",
      "text/plain": [
       "<Figure size 640x480 with 1 Axes>"
      ]
     },
     "metadata": {},
     "output_type": "display_data"
    },
    {
     "data": {
      "image/png": "[encoded data removed]",
      "text/plain": [
       "<Figure size 640x480 with 1 Axes>"
      ]
     },
     "metadata": {},
     "output_type": "display_data"
    }
   ],
   "source": [
    "plt.figure(1)\n",
    "plt.plot(range(no_exps), no_hidden, marker = 'x', linestyle = 'None')\n",
    "plt.yticks(hidden_units)\n",
    "plt.xticks(range(no_exps), np.arange(no_exps)+1)\n",
    "plt.xlabel('experiment')\n",
    "plt.ylabel('optimum number of hidden units')\n",
    "\n",
    "plt.figure(2)\n",
    "plt.plot(range(no_exps), acc, marker = 'x', linestyle = 'None')\n",
    "plt.xticks(range(no_exps), np.arange(no_exps)+1)\n",
    "plt.xlabel('experiment')\n",
    "plt.ylabel('test error')\n",
    "    \n",
    "plt.show()"
   ]
  },
  {
   "cell_type": "code",
   "execution_count": null,
   "metadata": {},
   "outputs": [],
   "source": []
  }
 ],
 "metadata": {
  "kernelspec": {
   "display_name": "Python 3 (ipykernel)",
   "language": "python",
   "name": "python3"
  },
  "language_info": {
   "codemirror_mode": {
    "name": "ipython",
    "version": 3
   },
   "file_extension": ".py",
   "mimetype": "text/x-python",
   "name": "python",
   "nbconvert_exporter": "python",
   "pygments_lexer": "ipython3",
   "version": "3.11.2"
  }
 },
 "nbformat": 4,
 "nbformat_minor": 4
}
