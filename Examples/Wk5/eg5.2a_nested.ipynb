{
 "cells": [
  {
   "cell_type": "markdown",
   "metadata": {},
   "source": [
    "# Chapter 5, Example 2a nested\n",
    "## 3-fold cross-validation on Iris dataset"
   ]
  },
  {
   "cell_type": "code",
   "execution_count": 1,
   "metadata": {},
   "outputs": [],
   "source": [
    "import torch\n",
    "from torch import nn\n",
    "\n",
    "from sklearn import datasets\n",
    "from sklearn.model_selection import KFold\n",
    "\n",
    "# Helper libraries\n",
    "import numpy as np\n",
    "import matplotlib.pyplot as plt"
   ]
  },
  {
   "cell_type": "code",
   "execution_count": 2,
   "metadata": {},
   "outputs": [],
   "source": [
    "lr = 0.1\n",
    "no_epochs = 1000\n",
    "\n",
    "no_labels = 3\n",
    "no_features = 4\n",
    "hidden_units = [2, 4, 6, 8, 10, 12]\n",
    "\n",
    "no_folds_inner = 3\n",
    "no_folds_outer = 3\n",
    "\n",
    "seed = 10\n",
    "torch.manual_seed(seed)\n",
    "np.random.seed(seed)"
   ]
  },
  {
   "cell_type": "code",
   "execution_count": 3,
   "metadata": {},
   "outputs": [
    {
     "name": "stdout",
     "output_type": "stream",
     "text": [
      "(150, 4)\n",
      "(150, 3)\n"
     ]
    }
   ],
   "source": [
    "no_inputs = 4\n",
    "no_outputs = 3\n",
    "\n",
    "# input data\n",
    "iris = datasets.load_iris()\n",
    "iris.data -= np.mean(iris.data, axis=0)\n",
    "\n",
    "no_data = len(iris.data)\n",
    "\n",
    "X = iris.data\n",
    "\n",
    "# convert the targets into one-hot matrix\n",
    "Y = np.zeros((no_data, no_outputs))\n",
    "for i in range(no_data):\n",
    "    Y[i, iris.target[i]] = 1\n",
    "    \n",
    "print(np.shape(X))\n",
    "print(np.shape(Y))"
   ]
  },
  {
   "cell_type": "code",
   "execution_count": 4,
   "metadata": {},
   "outputs": [],
   "source": [
    "class FFN(nn.Module):\n",
    "    def __init__(self, no_features, hidden_units, no_labels):\n",
    "        super().__init__()\n",
    "        self.relu_stack = nn.Sequential(\n",
    "            nn.Linear(no_features, hidden_units),\n",
    "            nn.ReLU(),\n",
    "            nn.Linear(hidden_units, no_labels),\n",
    "            nn.Softmax(dim=1)\n",
    "        )\n",
    "\n",
    "    def forward(self, x):\n",
    "        logits = self.relu_stack(x)\n",
    "        return logits"
   ]
  },
  {
   "cell_type": "code",
   "execution_count": 5,
   "metadata": {},
   "outputs": [
    {
     "name": "stdout",
     "output_type": "stream",
     "text": [
      "fold 0 test accuracy 0.98 opt hidden 2\n",
      "fold 1 test accuracy 0.98 opt hidden 6\n",
      "fold 2 test accuracy 1 opt hidden 2\n",
      "* mean accuracy = 0.986667 *\n",
      "fold 0 test accuracy 0.98 opt hidden 2\n",
      "fold 1 test accuracy 0.96 opt hidden 2\n",
      "fold 2 test accuracy 0.98 opt hidden 2\n",
      "* mean accuracy = 0.973333 *\n",
      "fold 0 test accuracy 0.94 opt hidden 2\n",
      "fold 1 test accuracy 0.94 opt hidden 4\n",
      "fold 2 test accuracy 0.92 opt hidden 2\n",
      "* mean accuracy = 0.933333 *\n",
      "* mean accuracy = 0.964444 *\n"
     ]
    }
   ],
   "source": [
    "cv_inner = KFold(n_splits=no_folds_inner, shuffle=True, random_state=1)\n",
    "cv_outer = KFold(n_splits=no_folds_inner, shuffle=True, random_state=2)\n",
    "\n",
    "cv_acc = []\n",
    "for train_idx, test_idx in cv_outer.split(X, Y):\n",
    "    x_train, y_train  = X[train_idx], Y[train_idx]\n",
    "    x_test, y_test = X[test_idx], Y[test_idx]\n",
    "    \n",
    "    fold_in = 0\n",
    "    acc_ = []\n",
    "    for train_idx_in, test_idx_in in cv_inner.split(x_train, y_train):\n",
    "        x_train_in, y_train_in  = x_train[train_idx_in], y_train[train_idx_in]\n",
    "        x_test_in, y_test_in = x_train[test_idx_in], y_train[test_idx_in]\n",
    "        \n",
    "        acc__ = []\n",
    "        for no_hidden in hidden_units:\n",
    "        \n",
    "            model = FFN(no_inputs, no_hidden, no_outputs)\n",
    "    \n",
    "            loss_fn = torch.nn.CrossEntropyLoss()\n",
    "            optimizer = torch.optim.SGD(model.parameters(), lr=lr)\n",
    "    \n",
    "            for epoch in range(no_epochs):\n",
    "                pred = model(torch.tensor(x_train_in, dtype=torch.float))\n",
    "                loss = loss_fn(pred, torch.tensor(y_train_in, dtype=torch.float))\n",
    "    \n",
    "                # Backpropagation\n",
    "                optimizer.zero_grad()\n",
    "                loss.backward()\n",
    "                optimizer.step()\n",
    "    \n",
    "            pred = model(torch.tensor(x_test_in, dtype=torch.float))\n",
    "            acc = (pred.argmax(1) == torch.tensor(y_test_in, dtype=torch.float).argmax(1)).type(torch.float).mean()\n",
    "    \n",
    "            acc__.append(acc.item())\n",
    "    \n",
    "        opt_hidden = hidden_units[np.argmax(acc__)]\n",
    "    \n",
    "        model = FFN(no_inputs, opt_hidden, no_outputs)\n",
    "    \n",
    "        optimizer = torch.optim.SGD(model.parameters(), lr=lr)\n",
    "    \n",
    "        for epoch in range(no_epochs):\n",
    "            pred = model(torch.tensor(x_train, dtype=torch.float))\n",
    "            loss = loss_fn(pred, torch.tensor(y_train, dtype=torch.float))\n",
    "    \n",
    "            # Backpropagation\n",
    "            optimizer.zero_grad()\n",
    "            loss.backward()\n",
    "            optimizer.step()\n",
    "    \n",
    "        pred = model(torch.tensor(x_test, dtype=torch.float))\n",
    "        acc = (pred.argmax(1) == torch.tensor(y_test, dtype=torch.float).argmax(1)).type(torch.float).mean()\n",
    "    \n",
    "    \n",
    "        acc_.append(acc)\n",
    "        print('fold %d test accuracy %g opt hidden %d'%(fold_in, acc_[fold_in], opt_hidden))\n",
    "        fold_in += 1\n",
    "    \n",
    "    print('* mean accuracy = %g *'% np.mean(acc_))\n",
    "    cv_acc.append(np.mean(acc_))\n",
    "    \n",
    "print('* mean cv accuracy = %g *'% np.mean(cv_acc))"
   ]
  },
  {
   "cell_type": "code",
   "execution_count": 7,
   "metadata": {},
   "outputs": [
    {
     "data": {
      "image/png": "[encoded data removed]",
      "text/plain": [
       "<Figure size 640x480 with 1 Axes>"
      ]
     },
     "metadata": {},
     "output_type": "display_data"
    }
   ],
   "source": [
    "plt.figure(1)\n",
    "plt.plot([1, 2, 3], cv_acc, marker = 'x', linestyle = 'None')\n",
    "plt.xticks([1, 2, 3])\n",
    "plt.xlabel('fold')\n",
    "plt.ylabel('cross-validation accuracy')\n",
    "plt.show()"
   ]
  },
  {
   "cell_type": "code",
   "execution_count": null,
   "metadata": {},
   "outputs": [],
   "source": []
  }
 ],
 "metadata": {
  "kernelspec": {
   "display_name": "Python 3 (ipykernel)",
   "language": "python",
   "name": "python3"
  },
  "language_info": {
   "codemirror_mode": {
    "name": "ipython",
    "version": 3
   },
   "file_extension": ".py",
   "mimetype": "text/x-python",
   "name": "python",
   "nbconvert_exporter": "python",
   "pygments_lexer": "ipython3",
   "version": "3.11.2"
  }
 },
 "nbformat": 4,
 "nbformat_minor": 4
}
