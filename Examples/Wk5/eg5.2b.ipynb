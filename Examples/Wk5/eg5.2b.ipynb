{
 "cells": [
  {
   "cell_type": "markdown",
   "metadata": {},
   "source": [
    "# Chapter 5, Example 2b\n",
    "## 3-fold cross-validation to determine the number of hidden neurons"
   ]
  },
  {
   "cell_type": "code",
   "execution_count": 1,
   "metadata": {},
   "outputs": [],
   "source": [
    "import torch\n",
    "from torch import nn\n",
    "\n",
    "from sklearn import datasets\n",
    "from sklearn.model_selection import KFold\n",
    "\n",
    "# Helper libraries\n",
    "import numpy as np\n",
    "import matplotlib.pyplot as plt"
   ]
  },
  {
   "cell_type": "code",
   "execution_count": 2,
   "metadata": {},
   "outputs": [],
   "source": [
    "lr = 0.1\n",
    "no_epochs = 100\n",
    "\n",
    "no_labels = 3\n",
    "no_features = 4\n",
    "no_exps = 10\n",
    "no_folds = 3\n",
    "\n",
    "hidden_units = [2, 4, 6, 8, 10, 12]\n",
    "\n",
    "seed = 10\n",
    "torch.manual_seed(seed)\n",
    "np.random.seed(seed)"
   ]
  },
  {
   "cell_type": "code",
   "execution_count": 3,
   "metadata": {},
   "outputs": [
    {
     "name": "stdout",
     "output_type": "stream",
     "text": [
      "(150, 4)\n",
      "(150, 3)\n"
     ]
    }
   ],
   "source": [
    "no_inputs = 4\n",
    "no_outputs = 3\n",
    "\n",
    "# input data\n",
    "iris = datasets.load_iris()\n",
    "iris.data -= np.mean(iris.data, axis=0)\n",
    "\n",
    "no_data = len(iris.data)\n",
    "\n",
    "X = iris.data\n",
    "\n",
    "# convert the targets into one-hot matrix\n",
    "Y = np.zeros((no_data, no_outputs))\n",
    "for i in range(no_data):\n",
    "    Y[i, iris.target[i]] = 1\n",
    "    \n",
    "print(np.shape(X))\n",
    "print(np.shape(Y))"
   ]
  },
  {
   "cell_type": "code",
   "execution_count": 4,
   "metadata": {},
   "outputs": [],
   "source": [
    "class FFN(nn.Module):\n",
    "    def __init__(self, no_features, hidden_units, no_labels):\n",
    "        super().__init__()\n",
    "        self.relu_stack = nn.Sequential(\n",
    "            nn.Linear(no_features, hidden_units),\n",
    "            nn.ReLU(),\n",
    "            nn.Linear(hidden_units, no_labels),\n",
    "            nn.Softmax(dim=1)\n",
    "        )\n",
    "\n",
    "    def forward(self, x):\n",
    "        logits = self.relu_stack(x)\n",
    "        return logits"
   ]
  },
  {
   "cell_type": "code",
   "execution_count": 11,
   "metadata": {},
   "outputs": [],
   "source": [
    "def train_exp(rseed):\n",
    "\n",
    "    cv = KFold(n_splits=no_folds, shuffle=True, random_state=rseed)\n",
    "    \n",
    "    acc = []\n",
    "    for train_idx, test_idx in cv.split(X, Y):\n",
    "        x_train, y_train  = X[train_idx], Y[train_idx]\n",
    "        x_test, y_test = X[test_idx], Y[test_idx]\n",
    "\n",
    "        acc_ = []\n",
    "        for no_hidden in hidden_units:\n",
    "        \n",
    "            model = FFN(no_inputs, no_hidden, no_outputs)\n",
    "    \n",
    "            loss_fn = torch.nn.CrossEntropyLoss()\n",
    "            optimizer = torch.optim.SGD(model.parameters(), lr=lr)\n",
    "    \n",
    "            for epoch in range(no_epochs):\n",
    "                pred = model(torch.tensor(x_train, dtype=torch.float))\n",
    "                loss = loss_fn(pred, torch.tensor(y_train, dtype=torch.float))\n",
    "    \n",
    "                # Backpropagation\n",
    "                optimizer.zero_grad()\n",
    "                loss.backward()\n",
    "                optimizer.step()\n",
    "    \n",
    "            pred = model(torch.tensor(x_test, dtype=torch.float))\n",
    "            acc__ = (pred.argmax(1) == torch.tensor(y_test, dtype=torch.float).argmax(1)).type(torch.float).mean()\n",
    "    \n",
    "            acc_.append(acc__.item())\n",
    "\n",
    "        acc.append(acc_)\n",
    "    \n",
    "    cv_acc = np.mean(np.array(acc), axis = 0)\n",
    "        \n",
    "    return cv_acc"
   ]
  },
  {
   "cell_type": "code",
   "execution_count": 12,
   "metadata": {},
   "outputs": [
    {
     "name": "stdout",
     "output_type": "stream",
     "text": [
      "exp 0, cv acc [0.60666666 0.66000001 0.68000001 0.74000001 0.72666665 0.72666667]\n",
      "exp 1, cv acc [0.59333332 0.77333333 0.66666667 0.74666667 0.67333335 0.80000001]\n",
      "exp 2, cv acc [0.63333335 0.66666667 0.68666667 0.79333335 0.72666665 0.73333333]\n",
      "exp 3, cv acc [0.74000001 0.73333333 0.71333335 0.84666667 0.72000001 0.78000001]\n",
      "exp 4, cv acc [0.50000001 0.71333333 0.78000001 0.70000001 0.69999999 0.68666667]\n",
      "exp 5, cv acc [0.55333333 0.69333335 0.70666665 0.69333335 0.79333333 0.71999999]\n",
      "exp 6, cv acc [0.64666666 0.78000001 0.74000001 0.64666669 0.76666665 0.72666667]\n",
      "exp 7, cv acc [0.66666667 0.57999999 0.76000001 0.75333333 0.73333333 0.73999999]\n",
      "exp 8, cv acc [0.72666667 0.72666665 0.66666667 0.71333333 0.74000001 0.70666669]\n",
      "exp 9, cv acc [0.57333333 0.66666667 0.75999999 0.70666667 0.72666667 0.70666667]\n",
      "mean accuracy [0.624      0.69933333 0.716      0.73400001 0.73066666 0.73266667]\n",
      "* hidden units 8 *\n"
     ]
    }
   ],
   "source": [
    "acc = []\n",
    "for exp in range(no_exps):\n",
    "        \n",
    "    acc.append(train_exp(exp))\n",
    "    print('exp %d, cv acc %s'%(exp, acc[exp]))\n",
    "\n",
    "mean_acc = np.mean(np.array(acc), axis = 0)\n",
    "print('mean accuracy %s'%(mean_acc))\n",
    "print('* hidden units %d *'%hidden_units[np.argmax(mean_acc)])"
   ]
  },
  {
   "cell_type": "code",
   "execution_count": 13,
   "metadata": {},
   "outputs": [
    {
     "data": {
      "image/png": "[encoded data removed]",
      "text/plain": [
       "<Figure size 640x480 with 1 Axes>"
      ]
     },
     "metadata": {},
     "output_type": "display_data"
    }
   ],
   "source": [
    "plt.figure(1)\n",
    "plt.plot(hidden_units, mean_acc, marker = 'x', linestyle = 'None')\n",
    "plt.title('mean cross-validation accuracy')\n",
    "plt.xlabel('number of hidden units')\n",
    "plt.ylabel('mean CV accuracy')\n",
    "plt.show()"
   ]
  },
  {
   "cell_type": "code",
   "execution_count": null,
   "metadata": {},
   "outputs": [],
   "source": []
  }
 ],
 "metadata": {
  "kernelspec": {
   "display_name": "Python 3 (ipykernel)",
   "language": "python",
   "name": "python3"
  },
  "language_info": {
   "codemirror_mode": {
    "name": "ipython",
    "version": 3
   },
   "file_extension": ".py",
   "mimetype": "text/x-python",
   "name": "python",
   "nbconvert_exporter": "python",
   "pygments_lexer": "ipython3",
   "version": "3.11.2"
  }
 },
 "nbformat": 4,
 "nbformat_minor": 4
}
