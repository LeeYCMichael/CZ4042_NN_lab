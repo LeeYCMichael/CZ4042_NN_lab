{
 "cells": [
  {
   "cell_type": "markdown",
   "metadata": {},
   "source": [
    "# Example 1.1: implementing a neuron"
   ]
  },
  {
   "cell_type": "code",
   "execution_count": 1,
   "metadata": {},
   "outputs": [
    {
     "name": "stdout",
     "output_type": "stream",
     "text": [
      "2.0.0\n"
     ]
    }
   ],
   "source": [
    "# import torch\n",
    "import torch\n",
    "\n",
    "print(torch.__version__)"
   ]
  },
  {
   "cell_type": "markdown",
   "metadata": {},
   "source": [
    "Suppose an input $x$ to a neuron with weights $W$ and bias $b$, Then ouput $y = f(Wx+b)$ where $f$ is the activation function"
   ]
  },
  {
   "cell_type": "code",
   "execution_count": 2,
   "metadata": {},
   "outputs": [],
   "source": [
    "# define a class for a neuron\n",
    "class Neuron():\n",
    "  def __init__(self):\n",
    "    self.w = torch.tensor([2.5, -0.2, 1.0])\n",
    "    self.b = torch.tensor(-0.5)\n",
    "\n",
    "  def __call__(self, x):\n",
    "    u = torch.inner(self.w, x) + self.b  \n",
    "    y = 0.8/(1+torch.exp(-1.2*u))\n",
    "    return u, y"
   ]
  },
  {
   "cell_type": "markdown",
   "metadata": {},
   "source": [
    "### Evaluate"
   ]
  },
  {
   "cell_type": "code",
   "execution_count": 3,
   "metadata": {},
   "outputs": [],
   "source": [
    "# create an object\n",
    "neuron = Neuron()"
   ]
  },
  {
   "cell_type": "code",
   "execution_count": 4,
   "metadata": {},
   "outputs": [
    {
     "name": "stdout",
     "output_type": "stream",
     "text": [
      "u: 0.600, y: 0.538\n"
     ]
    }
   ],
   "source": [
    "u, y = neuron(torch.tensor([0.8, 2.0, -0.5]))\n",
    "\n",
    "print('u: %.3f, y: %.3f'%(u, y))"
   ]
  },
  {
   "cell_type": "code",
   "execution_count": 5,
   "metadata": {},
   "outputs": [
    {
     "name": "stdout",
     "output_type": "stream",
     "text": [
      "u: -0.800, y: 0.222\n"
     ]
    }
   ],
   "source": [
    "u, y = neuron(torch.tensor([-0.4, 1.5, 1.0]))\n",
    "\n",
    "print('u: %.3f, y: %.3f'%(u, y))"
   ]
  },
  {
   "cell_type": "code",
   "execution_count": null,
   "metadata": {},
   "outputs": [],
   "source": []
  }
 ],
 "metadata": {
  "kernelspec": {
   "display_name": "Python 3 (ipykernel)",
   "language": "python",
   "name": "python3"
  },
  "language_info": {
   "codemirror_mode": {
    "name": "ipython",
    "version": 3
   },
   "file_extension": ".py",
   "mimetype": "text/x-python",
   "name": "python",
   "nbconvert_exporter": "python",
   "pygments_lexer": "ipython3",
   "version": "3.11.2"
  }
 },
 "nbformat": 4,
 "nbformat_minor": 2
}
