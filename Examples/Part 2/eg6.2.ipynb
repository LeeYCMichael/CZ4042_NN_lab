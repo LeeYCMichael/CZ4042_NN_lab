{
  "nbformat": 4,
  "nbformat_minor": 0,
  "metadata": {
    "colab": {
      "provenance": []
    },
    "kernelspec": {
      "name": "python3",
      "display_name": "Python 3"
    },
    "language_info": {
      "name": "python"
    }
  },
  "cells": [
    {
      "cell_type": "markdown",
      "source": [
        "# Chapter 6, Example 2"
      ],
      "metadata": {
        "id": "HL-gtKJUVu-D"
      }
    },
    {
      "cell_type": "code",
      "execution_count": null,
      "metadata": {
        "colab": {
          "base_uri": "https://localhost:8080/"
        },
        "id": "8c2I1AbFVuUs",
        "outputId": "1fc3d98b-6151-4dc0-b17d-14b69a320690"
      },
      "outputs": [
        {
          "output_type": "stream",
          "name": "stdout",
          "text": [
            "2.0.1+cu118\n"
          ]
        }
      ],
      "source": [
        "import torch\n",
        "import torchvision\n",
        "import numpy as np\n",
        "from torch import nn\n",
        "from torchvision import transforms\n",
        "from torch.autograd import Variable\n",
        "import matplotlib.pyplot as plt\n",
        "\n",
        "# Check the version of PyTorch\n",
        "print(torch.__version__)"
      ]
    },
    {
      "cell_type": "code",
      "source": [
        "# Load and prepare the MNIST dataset.\n",
        "transform = transforms.Compose([\n",
        "    transforms.ToTensor(),\n",
        "    transforms.Normalize((0.5,), (0.5,)),\n",
        "])\n",
        "\n",
        "trainset = torchvision.datasets.MNIST(root='./data', train=True, download=True, transform=transform)\n",
        "testset = torchvision.datasets.MNIST(root='./data', train=False, download=True, transform=transform)\n",
        "\n",
        "trainloader = torch.utils.data.DataLoader(trainset, batch_size=64, shuffle=True)\n",
        "testloader = torch.utils.data.DataLoader(testset, batch_size=64, shuffle=True)"
      ],
      "metadata": {
        "id": "Tw04N8OgWZvz"
      },
      "execution_count": null,
      "outputs": []
    },
    {
      "cell_type": "markdown",
      "source": [
        "This part of code is used for loading and preparing the MNIST dataset:\n",
        "\n",
        "1. **Data Transformation**:\n",
        "    - `transforms.ToTensor()`: This transforms a PIL image or a numpy.ndarray (HxWxC in range [0, 255]) to a PyTorch tensor (CxHxW in the range [0.0, 1.0]). This is necessary because PyTorch models require input in the form of tensors.\n",
        "    - `transforms.Normalize((0.5,), (0.5,))`: This normalizes the tensor with a mean and standard deviation. In this case, it will adjust the range of the pixel values from [0.0, 1.0] to [-1.0, 1.0]. Normalizing the input data helps to stabilize the training. These transformations are composed together using `transforms.Compose`.\n",
        "\n",
        "2. **Data Loading**:\n",
        "    - `torchvision.datasets.MNIST(root='./data', train=True, download=True, transform=transform)`: This line downloads the MNIST dataset, loads the training data (since `train=True`), applies the transformations defined above to the data, and stores it in the directory specified by `root`.\n",
        "    - `torchvision.datasets.MNIST(root='./data', train=False, download=True, transform=transform)`: Similar to the above, but this time it's loading the test data (since `train=False`).\n",
        "\n",
        "3. **Data Batching and Shuffling**:\n",
        "    - `torch.utils.data.DataLoader(trainset, batch_size=64, shuffle=True)`: This line defines a PyTorch data loader for the training data. The data loader is responsible for creating batches of data and shuffling them. The `batch_size` parameter determines the number of samples per batch. The `shuffle` parameter, when set to `True`, shuffles the dataset at every epoch. This shuffling is important for preventing the model from learning the order of the training examples, which helps to ensure that the model remains general and minimizes overfitting.\n",
        "    - `torch.utils.data.DataLoader(testset, batch_size=64, shuffle=True)`: This line does the same as above, but for the test data."
      ],
      "metadata": {
        "id": "qKd3Qppvej5g"
      }
    },
    {
      "cell_type": "code",
      "source": [
        "# Select a random sample\n",
        "seed = 1\n",
        "torch.manual_seed(seed)\n",
        "images, labels = next(iter(trainloader))\n",
        "print(images.shape)\n",
        "plt.imshow(images[0].reshape(28,28), cmap=\"gray\")"
      ],
      "metadata": {
        "colab": {
          "base_uri": "https://localhost:8080/",
          "height": 466
        },
        "id": "Ecel7rlAYF2y",
        "outputId": "5f43b428-2a47-4a38-9be1-4a9f89f284aa"
      },
      "execution_count": null,
      "outputs": [
        {
          "output_type": "stream",
          "name": "stdout",
          "text": [
            "torch.Size([64, 1, 28, 28])\n"
          ]
        },
        {
          "output_type": "execute_result",
          "data": {
            "text/plain": [
              "<matplotlib.image.AxesImage at 0x7975f66e4dc0>"
            ]
          },
          "metadata": {},
          "execution_count": 40
        },
        {
          "output_type": "display_data",
          "data": {
            "text/plain": [
              "<Figure size 640x480 with 1 Axes>"
            ],
            "image/png": "[encoded data removed]"
          },
          "metadata": {}
        }
      ]
    },
    {
      "cell_type": "markdown",
      "source": [
        "This part of code is used for selecting and visualizing a random sample from the MNIST dataset.\n",
        "\n",
        "1. **Set Seed**:\n",
        "    - `seed = 1; torch.manual_seed(seed)`: These lines set the seed for generating random numbers. Setting a seed ensures that the random numbers generated are predictable and reproducible. In this case, the seed is set to 1.\n",
        "\n",
        "2. **Load a Batch and Select a Sample**:\n",
        "    - `images, labels = next(iter(trainloader))`: This line loads a batch of images and corresponding labels from the `trainloader`. The `next` function retrieves the next item from the iterator created by `iter(trainloader)`. This will be a batch of images and their corresponding labels. Since `trainloader` shuffles the data at every epoch, this will effectively be a random batch.\n",
        "    - `images.shape`: This line prints the shape of the `images` tensor. For MNIST, this would typically be `[batch_size, 1, 28, 28]`, where `batch_size` is the number of images in the batch (64 in our case), 1 represents the number of color channels (grayscale in this case), and 28x28 is the dimension of the images.\n",
        "\n",
        "3. **Visualize the Sample**:\n",
        "    - `plt.imshow(images[0].reshape(28,28), cmap=\"gray\")`: This line reshapes the first image in the batch (using `images[0]`) into a 2D 28x28 array (which is the original shape of the MNIST images) and then displays this image using `plt.imshow`. The `cmap=\"gray\"` argument sets the color map to grayscale, which is appropriate for MNIST images.\n"
      ],
      "metadata": {
        "id": "6wP3i326hYFE"
      }
    },
    {
      "cell_type": "code",
      "source": [
        "# Model definition\n",
        "class MyModel(nn.Module):\n",
        "    def __init__(self):\n",
        "        super(MyModel, self).__init__()\n",
        "        self.conv1 = nn.Conv2d(1, 3, 3)\n",
        "\n",
        "    def forward(self, x):\n",
        "        x1 = self.conv1(x)\n",
        "        x2 = torch.sigmoid(x1)\n",
        "        x3 = nn.functional.max_pool2d(x2, 2)\n",
        "        return x1, x3"
      ],
      "metadata": {
        "id": "puA39cDGWxmx"
      },
      "execution_count": null,
      "outputs": []
    },
    {
      "cell_type": "markdown",
      "source": [
        "This part of code defines a simple model that uses convolution and pooling. Here's a detailed explanation of each part:\n",
        "\n",
        "1. **Model Definition**:\n",
        "    - `class MyModel(nn.Module)`: This line starts the definition of a new neural network model, which is a class that inherits from `nn.Module`, PyTorch's base class for all neural network modules.\n",
        "\n",
        "2. **Initialization Method**:\n",
        "    - `def __init__(self)`: This is the class constructor, which is called when a new object of this class is created.\n",
        "    - `super(MyModel, self).__init__()` : This line calls the constructor of the `nn.Module` base class. This is necessary because we're overriding the constructor in our subclass, but we still want the base class's constructor to run.\n",
        "    - `self.conv1 = nn.Conv2d(1, 3, 3)`: This line defines a 2D convolutional layer. The arguments mean that the layer takes in 1 input channel (since MNIST images are grayscale), outputs 3 feature maps, and uses a 3x3 square convolution kernel.\n",
        "\n",
        "3. **Forward Method**:\n",
        "    - `def forward(self, x)`: This method defines the forward pass of the model, i.e., how the model processes inputs to produce outputs.\n",
        "    - `x1 = self.conv1(x)`: This line applies the convolutional layer defined in the constructor to the input `x`.\n",
        "    - `x2 = torch.sigmoid(x1)`: This line applies the sigmoid activation function to the output of the convolutional layer. The sigmoid function maps any input to a value between 0 and 1, which can help the model learn complex patterns and prevent the outputs from becoming too large.\n",
        "    - `x3 = nn.functional.max_pool2d(x2, 2)`: This line applies a 2D max pooling operation to the output of the sigmoid function. Max pooling reduces the spatial dimensions (width and height) of the input by taking the maximum value over a window of size 2x2.\n",
        "\n",
        "The `forward` method returns two tensors: `x1`, the output of the convolutional layer, and `x3`, the output after applying the sigmoid activation and max pooling.\n"
      ],
      "metadata": {
        "id": "ZJWFg1zJiOAG"
      }
    },
    {
      "cell_type": "code",
      "source": [
        "# Set filters\n",
        "w = np.array([[[-1, 0, 1],[-2, 0, 2], [-1, 0, 1]],\n",
        "     [[1, 2, 1],[0, 0, 0], [-1, -2, -1]],\n",
        "     [[3, 4, 3], [4, 5, 4], [3, 4, 3]]]).astype(np.float32).reshape(3,1,3,3)\n",
        "w = torch.from_numpy(w)\n",
        "\n",
        "model = MyModel()\n",
        "model.conv1.weight.data = w"
      ],
      "metadata": {
        "id": "Y3uJXtf1W1UU"
      },
      "execution_count": null,
      "outputs": []
    },
    {
      "cell_type": "code",
      "source": [
        "# Evaluate\n",
        "x = images[0]\n",
        "u, o = model(x)\n",
        "print(x.shape)\n",
        "print(u.shape)\n",
        "print(o.shape)"
      ],
      "metadata": {
        "colab": {
          "base_uri": "https://localhost:8080/"
        },
        "id": "-gYy1_r4W4rg",
        "outputId": "ad3fdd08-5d10-45ee-b375-c5ee361ca420"
      },
      "execution_count": null,
      "outputs": [
        {
          "output_type": "stream",
          "name": "stdout",
          "text": [
            "torch.Size([1, 28, 28])\n",
            "torch.Size([3, 26, 26])\n",
            "torch.Size([3, 13, 13])\n"
          ]
        }
      ]
    },
    {
      "cell_type": "code",
      "source": [
        "# Plot input image\n",
        "plt.figure()\n",
        "plt.gray()\n",
        "plt.axis('off')\n",
        "plt.imshow(x.squeeze().detach().numpy())"
      ],
      "metadata": {
        "colab": {
          "base_uri": "https://localhost:8080/",
          "height": 424
        },
        "id": "j3AFErUDW6qW",
        "outputId": "40d3cef9-e4ea-497b-d782-6a8c8249537a"
      },
      "execution_count": null,
      "outputs": [
        {
          "output_type": "execute_result",
          "data": {
            "text/plain": [
              "<matplotlib.image.AxesImage at 0x7975f4142cb0>"
            ]
          },
          "metadata": {},
          "execution_count": 47
        },
        {
          "output_type": "display_data",
          "data": {
            "text/plain": [
              "<Figure size 640x480 with 1 Axes>"
            ],
            "image/png": "[encoded data removed]"
          },
          "metadata": {}
        }
      ]
    },
    {
      "cell_type": "code",
      "source": [
        "# Plot u of convolution layer\n",
        "plt.figure()\n",
        "plt.gray()\n",
        "plt.subplot(1,3,1), plt.axis('off'), plt.imshow(u[0,:,:].detach().numpy())\n",
        "plt.subplot(1,3,2), plt.axis('off'), plt.imshow(u[1,:,:].detach().numpy())\n",
        "plt.subplot(1,3,3), plt.axis('off'), plt.imshow(u[2,:,:].detach().numpy())"
      ],
      "metadata": {
        "colab": {
          "base_uri": "https://localhost:8080/",
          "height": 236
        },
        "id": "fKFS5p4WXASH",
        "outputId": "08f7a688-a1ba-4273-ea5a-c25d50cb44af"
      },
      "execution_count": null,
      "outputs": [
        {
          "output_type": "execute_result",
          "data": {
            "text/plain": [
              "(<Axes: >,\n",
              " (0.0, 1.0, 0.0, 1.0),\n",
              " <matplotlib.image.AxesImage at 0x7975f42ab850>)"
            ]
          },
          "metadata": {},
          "execution_count": 35
        },
        {
          "output_type": "display_data",
          "data": {
            "text/plain": [
              "<Figure size 640x480 with 3 Axes>"
            ],
            "image/png": "[encoded data removed]"
          },
          "metadata": {}
        }
      ]
    },
    {
      "cell_type": "code",
      "source": [
        "# Plot output o of pooling layer\n",
        "plt.figure()\n",
        "plt.gray()\n",
        "plt.subplot(1,3,1), plt.axis('off'), plt.imshow(o[0,:,:].detach().numpy())\n",
        "plt.subplot(1,3,2), plt.axis('off'), plt.imshow(o[1,:,:].detach().numpy())\n",
        "plt.subplot(1,3,3), plt.axis('off'), plt.imshow(o[2,:,:].detach().numpy())"
      ],
      "metadata": {
        "colab": {
          "base_uri": "https://localhost:8080/",
          "height": 236
        },
        "id": "Tz0AD4PNXDfH",
        "outputId": "7ec6a866-a267-48fe-af17-32bbb154ff99"
      },
      "execution_count": null,
      "outputs": [
        {
          "output_type": "execute_result",
          "data": {
            "text/plain": [
              "(<Axes: >,\n",
              " (0.0, 1.0, 0.0, 1.0),\n",
              " <matplotlib.image.AxesImage at 0x7975f431b8e0>)"
            ]
          },
          "metadata": {},
          "execution_count": 36
        },
        {
          "output_type": "display_data",
          "data": {
            "text/plain": [
              "<Figure size 640x480 with 3 Axes>"
            ],
            "image/png": "[encoded data removed]"
          },
          "metadata": {}
        }
      ]
    }
  ]
}