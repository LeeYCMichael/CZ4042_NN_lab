{
  "cells": [
    {
      "cell_type": "markdown",
      "metadata": {
        "id": "1kj64j7xmRQe"
      },
      "source": [
        "#Chapter 6, Example 4"
      ]
    },
    {
      "cell_type": "code",
      "execution_count": 1,
      "metadata": {
        "colab": {
          "base_uri": "https://localhost:8080/"
        },
        "id": "cy0cw9KdmNdD",
        "outputId": "1d735260-3c61-4e2a-dcf6-842b6d02ec06"
      },
      "outputs": [
        {
          "output_type": "stream",
          "name": "stdout",
          "text": [
            "creating the figures folder\n"
          ]
        }
      ],
      "source": [
        "import torch\n",
        "import torchvision\n",
        "from torch import nn, optim\n",
        "from torch.utils.data import DataLoader\n",
        "from torchvision import datasets, transforms\n",
        "import matplotlib.pyplot as plt\n",
        "import numpy as np\n",
        "\n",
        "# Create the figures folder if it doesn't exist\n",
        "import os\n",
        "if not os.path.isdir('figures'):\n",
        "    print('creating the figures folder')\n",
        "    os.makedirs('figures')"
      ]
    },
    {
      "cell_type": "code",
      "execution_count": 2,
      "metadata": {
        "colab": {
          "base_uri": "https://localhost:8080/"
        },
        "id": "pBLPNV0Enmja",
        "outputId": "e5a7b55f-49ba-407c-c2f9-d8766146e7cf"
      },
      "outputs": [
        {
          "output_type": "stream",
          "name": "stdout",
          "text": [
            "Downloading http://yann.lecun.com/exdb/mnist/train-images-idx3-ubyte.gz\n",
            "Downloading http://yann.lecun.com/exdb/mnist/train-images-idx3-ubyte.gz to ./data/MNIST/raw/train-images-idx3-ubyte.gz\n"
          ]
        },
        {
          "output_type": "stream",
          "name": "stderr",
          "text": [
            "100%|██████████| 9912422/9912422 [00:00<00:00, 186365459.41it/s]"
          ]
        },
        {
          "output_type": "stream",
          "name": "stdout",
          "text": [
            "Extracting ./data/MNIST/raw/train-images-idx3-ubyte.gz to ./data/MNIST/raw\n"
          ]
        },
        {
          "output_type": "stream",
          "name": "stderr",
          "text": [
            "\n"
          ]
        },
        {
          "output_type": "stream",
          "name": "stdout",
          "text": [
            "\n",
            "Downloading http://yann.lecun.com/exdb/mnist/train-labels-idx1-ubyte.gz\n",
            "Downloading http://yann.lecun.com/exdb/mnist/train-labels-idx1-ubyte.gz to ./data/MNIST/raw/train-labels-idx1-ubyte.gz\n"
          ]
        },
        {
          "output_type": "stream",
          "name": "stderr",
          "text": [
            "100%|██████████| 28881/28881 [00:00<00:00, 44113508.31it/s]"
          ]
        },
        {
          "output_type": "stream",
          "name": "stdout",
          "text": [
            "Extracting ./data/MNIST/raw/train-labels-idx1-ubyte.gz to ./data/MNIST/raw\n",
            "\n",
            "Downloading http://yann.lecun.com/exdb/mnist/t10k-images-idx3-ubyte.gz\n"
          ]
        },
        {
          "output_type": "stream",
          "name": "stderr",
          "text": [
            "\n"
          ]
        },
        {
          "output_type": "stream",
          "name": "stdout",
          "text": [
            "Downloading http://yann.lecun.com/exdb/mnist/t10k-images-idx3-ubyte.gz to ./data/MNIST/raw/t10k-images-idx3-ubyte.gz\n"
          ]
        },
        {
          "output_type": "stream",
          "name": "stderr",
          "text": [
            "100%|██████████| 1648877/1648877 [00:00<00:00, 70380723.32it/s]"
          ]
        },
        {
          "output_type": "stream",
          "name": "stdout",
          "text": [
            "Extracting ./data/MNIST/raw/t10k-images-idx3-ubyte.gz to ./data/MNIST/raw\n",
            "\n",
            "Downloading http://yann.lecun.com/exdb/mnist/t10k-labels-idx1-ubyte.gz\n"
          ]
        },
        {
          "output_type": "stream",
          "name": "stderr",
          "text": [
            "\n"
          ]
        },
        {
          "output_type": "stream",
          "name": "stdout",
          "text": [
            "Downloading http://yann.lecun.com/exdb/mnist/t10k-labels-idx1-ubyte.gz to ./data/MNIST/raw/t10k-labels-idx1-ubyte.gz\n"
          ]
        },
        {
          "output_type": "stream",
          "name": "stderr",
          "text": [
            "100%|██████████| 4542/4542 [00:00<00:00, 4256150.31it/s]"
          ]
        },
        {
          "output_type": "stream",
          "name": "stdout",
          "text": [
            "Extracting ./data/MNIST/raw/t10k-labels-idx1-ubyte.gz to ./data/MNIST/raw\n",
            "\n"
          ]
        },
        {
          "output_type": "stream",
          "name": "stderr",
          "text": [
            "\n"
          ]
        }
      ],
      "source": [
        "# Load and prepare the MNIST dataset\n",
        "transform = transforms.Compose([\n",
        "    transforms.ToTensor(),  # Convert image to tensor\n",
        "])\n",
        "\n",
        "train_dataset = datasets.MNIST(root='./data', train=True, download=True, transform=transform)\n",
        "test_dataset = datasets.MNIST(root='./data', train=False, download=True, transform=transform)\n",
        "\n",
        "# Choose 12000 images for training, 2000 images for testing\n",
        "train_data_subset = torch.utils.data.Subset(train_dataset, range(12000))\n",
        "test_data_subset = torch.utils.data.Subset(test_dataset, range(2000))\n",
        "\n",
        "# Use DataLoader to batch and shuffle the dataset\n",
        "train_dataloader = DataLoader(train_data_subset, batch_size=128, shuffle=True)\n",
        "test_dataloader = DataLoader(test_data_subset, batch_size=128, shuffle=False)"
      ]
    },
    {
      "cell_type": "code",
      "execution_count": 3,
      "metadata": {
        "id": "H9qvKC8qnogV"
      },
      "outputs": [],
      "source": [
        "# Build Model\n",
        "class MyModel(nn.Module):\n",
        "    def __init__(self):\n",
        "        super(MyModel, self).__init__()\n",
        "        self.conv1 = nn.Conv2d(1, 32, 5, padding='same')  # Same padding\n",
        "        self.p1 = nn.MaxPool2d(2, 2)  # Max pooling over a (2, 2) window\n",
        "        self.conv2 = nn.Conv2d(32, 64, 5, padding='same')  # Same padding\n",
        "        self.p2 = nn.MaxPool2d(2, 2)  # Max pooling over a (2, 2) window\n",
        "        self.flatten = nn.Flatten()\n",
        "        self.d1 = nn.Linear(7 * 7 * 64, 1024)\n",
        "        self.dropout = nn.Dropout(0.2)\n",
        "        self.d2 = nn.Linear(1024, 10)\n",
        "\n",
        "    def forward(self, x):\n",
        "        conv1 = torch.relu(self.conv1(x))\n",
        "        p1 = self.p1(conv1)\n",
        "        conv2 = torch.relu(self.conv2(p1))\n",
        "        p2 = self.p2(conv2)\n",
        "        flatten = self.flatten(p2)\n",
        "        d1 = torch.relu(self.d1(flatten))\n",
        "        dropout = self.dropout(d1)\n",
        "        out = torch.softmax(self.d2(dropout), dim=1)\n",
        "        return conv1, p1, conv2, p2, out\n",
        "\n",
        "\n",
        "# Create an instance of the model\n",
        "model = MyModel()"
      ]
    },
    {
      "cell_type": "code",
      "execution_count": 4,
      "metadata": {
        "colab": {
          "base_uri": "https://localhost:8080/",
          "height": 1000
        },
        "id": "YAQW7XFBqJq4",
        "outputId": "4bc20928-be70-4bf8-9651-5c6428b69936"
      },
      "outputs": [
        {
          "output_type": "stream",
          "name": "stdout",
          "text": [
            "Training with: SGD...\n",
            "Epoch 1, Loss: 2.3026813167206783, Accuracy: 0.06848404255319149, Test Loss: 2.3028144240379333, Test Accuracy: 0.07167968759313226\n",
            "Epoch 2, Loss: 2.3026261989106525, Accuracy: 0.0733876329787234, Test Loss: 2.3027257323265076, Test Accuracy: 0.07539062504656613\n",
            "Epoch 3, Loss: 2.302580531607283, Accuracy: 0.07837433510638298, Test Loss: 2.302701786160469, Test Accuracy: 0.07568359375\n",
            "Epoch 4, Loss: 2.302528848039343, Accuracy: 0.08178191489361702, Test Loss: 2.302677184343338, Test Accuracy: 0.08085937518626451\n",
            "Epoch 5, Loss: 2.302486541423392, Accuracy: 0.0818927304700334, Test Loss: 2.302633658051491, Test Accuracy: 0.09160156268626451\n",
            "Epoch 6, Loss: 2.3024177170814353, Accuracy: 0.09103501770407596, Test Loss: 2.3025602996349335, Test Accuracy: 0.09482421865686774\n",
            "Epoch 7, Loss: 2.302374707891586, Accuracy: 0.09640957446808511, Test Loss: 2.302522510290146, Test Accuracy: 0.08769531268626451\n",
            "Epoch 8, Loss: 2.302333032831233, Accuracy: 0.10411125881240722, Test Loss: 2.302514210343361, Test Accuracy: 0.10302734375\n",
            "Epoch 9, Loss: 2.302287000290891, Accuracy: 0.10070367910443469, Test Loss: 2.3024461567401886, Test Accuracy: 0.10087890643626451\n",
            "Epoch 10, Loss: 2.3022142395060112, Accuracy: 0.11222850174662914, Test Loss: 2.3023916333913803, Test Accuracy: 0.10615234356373549\n",
            "Epoch 11, Loss: 2.3021638139765312, Accuracy: 0.11754765076206085, Test Loss: 2.3023300766944885, Test Accuracy: 0.11591796856373549\n",
            "Epoch 12, Loss: 2.3021074102279986, Accuracy: 0.13081781914893617, Test Loss: 2.3023432344198227, Test Accuracy: 0.11992187518626451\n",
            "Epoch 13, Loss: 2.3020686291633767, Accuracy: 0.1268007535725198, Test Loss: 2.3022479712963104, Test Accuracy: 0.12802734412252903\n",
            "Epoch 14, Loss: 2.302001455996899, Accuracy: 0.1410405585106383, Test Loss: 2.302243694663048, Test Accuracy: 0.13134765625\n",
            "Epoch 15, Loss: 2.3019491941370864, Accuracy: 0.14297983153386318, Test Loss: 2.3022316992282867, Test Accuracy: 0.13173828134313226\n",
            "Epoch 16, Loss: 2.301914248060673, Accuracy: 0.15234375, Test Loss: 2.302103966474533, Test Accuracy: 0.14697265625\n",
            "Epoch 17, Loss: 2.3018534234229553, Accuracy: 0.15926972523014596, Test Loss: 2.3020647764205933, Test Accuracy: 0.14873046893626451\n",
            "Epoch 18, Loss: 2.3017965073281146, Accuracy: 0.16636192378528575, Test Loss: 2.302080050110817, Test Accuracy: 0.15644531231373549\n",
            "Epoch 19, Loss: 2.30175367061128, Accuracy: 0.17367575349325828, Test Loss: 2.3019999563694, Test Accuracy: 0.15664062462747097\n",
            "Epoch 20, Loss: 2.301706258286821, Accuracy: 0.1801030585106383, Test Loss: 2.3019543141126633, Test Accuracy: 0.16386718768626451\n",
            "Epoch 21, Loss: 2.3016109339734343, Accuracy: 0.19027039012376298, Test Loss: 2.30183807015419, Test Accuracy: 0.18056640587747097\n",
            "Epoch 22, Loss: 2.301581760670276, Accuracy: 0.19777814711027958, Test Loss: 2.301853269338608, Test Accuracy: 0.17578125\n",
            "Epoch 23, Loss: 2.3015048250238945, Accuracy: 0.20021609042553193, Test Loss: 2.301814019680023, Test Accuracy: 0.18408203125\n",
            "Epoch 24, Loss: 2.301469663356213, Accuracy: 0.20489804969823106, Test Loss: 2.3017507791519165, Test Accuracy: 0.18437500018626451\n",
            "Epoch 25, Loss: 2.3014162423762867, Accuracy: 0.21362477842163533, Test Loss: 2.3017114102840424, Test Accuracy: 0.18984374962747097\n",
            "Epoch 26, Loss: 2.3013771949930395, Accuracy: 0.21423426429007916, Test Loss: 2.30166657269001, Test Accuracy: 0.1923828125\n",
            "Epoch 27, Loss: 2.301298367216232, Accuracy: 0.21996897157836467, Test Loss: 2.301631897687912, Test Accuracy: 0.19443359412252903\n",
            "Epoch 28, Loss: 2.3012455143827073, Accuracy: 0.2254543439187902, Test Loss: 2.3015354722738266, Test Accuracy: 0.20781250018626451\n",
            "Epoch 29, Loss: 2.3011783792617475, Accuracy: 0.23110593966347107, Test Loss: 2.301481693983078, Test Accuracy: 0.21318359393626451\n",
            "Epoch 30, Loss: 2.3011365291920116, Accuracy: 0.23808732264219445, Test Loss: 2.301459491252899, Test Accuracy: 0.21113281231373549\n",
            "Training with: Momentum...\n",
            "Epoch 1, Loss: 2.302236402288396, Accuracy: 0.11912677310248639, Test Loss: 2.3021621257066727, Test Accuracy: 0.12841796875\n",
            "Epoch 2, Loss: 2.3017473347643587, Accuracy: 0.15935283693227362, Test Loss: 2.3017754703760147, Test Accuracy: 0.16464843787252903\n",
            "Epoch 3, Loss: 2.3012363580947226, Accuracy: 0.22412455684327065, Test Loss: 2.3012103885412216, Test Accuracy: 0.23671874962747097\n",
            "Epoch 4, Loss: 2.3006890606372914, Accuracy: 0.2925808952843889, Test Loss: 2.300779715180397, Test Accuracy: 0.29023437574505806\n",
            "Epoch 5, Loss: 2.300083211127748, Accuracy: 0.35303080684327065, Test Loss: 2.300258979201317, Test Accuracy: 0.34531250037252903\n",
            "Epoch 6, Loss: 2.299445393237662, Accuracy: 0.38971077127659576, Test Loss: 2.2996600419282913, Test Accuracy: 0.36435546912252903\n",
            "Epoch 7, Loss: 2.298716623732384, Accuracy: 0.4074135638297872, Test Loss: 2.2990398854017258, Test Accuracy: 0.37724609300494194\n",
            "Epoch 8, Loss: 2.297869306929568, Accuracy: 0.4072473404255319, Test Loss: 2.2982503920793533, Test Accuracy: 0.38749999925494194\n",
            "Epoch 9, Loss: 2.2968751623275434, Accuracy: 0.39306294315672935, Test Loss: 2.2972864359617233, Test Accuracy: 0.36162109300494194\n",
            "Epoch 10, Loss: 2.295662950962148, Accuracy: 0.3692929963482187, Test Loss: 2.296154737472534, Test Accuracy: 0.32890624925494194\n",
            "Epoch 11, Loss: 2.2941831984418504, Accuracy: 0.334552304858857, Test Loss: 2.2947698831558228, Test Accuracy: 0.30712890625\n",
            "Epoch 12, Loss: 2.292129623129013, Accuracy: 0.2929964537950272, Test Loss: 2.292989671230316, Test Accuracy: 0.27128906175494194\n",
            "Epoch 13, Loss: 2.2894606970726175, Accuracy: 0.24869791656098467, Test Loss: 2.290454998612404, Test Accuracy: 0.23476562462747097\n",
            "Epoch 14, Loss: 2.285390224862606, Accuracy: 0.2011857268975136, Test Loss: 2.2865531593561172, Test Accuracy: 0.19199218787252903\n",
            "Epoch 15, Loss: 2.278641256880253, Accuracy: 0.16863364361702127, Test Loss: 2.280068188905716, Test Accuracy: 0.15791015606373549\n",
            "Epoch 16, Loss: 2.266896739919135, Accuracy: 0.15672096625921575, Test Loss: 2.269120082259178, Test Accuracy: 0.17744140606373549\n",
            "Epoch 17, Loss: 2.251056818251914, Accuracy: 0.2078900708163038, Test Loss: 2.2526526898145676, Test Accuracy: 0.24912109412252903\n",
            "Epoch 18, Loss: 2.22732830554881, Accuracy: 0.2821919325184315, Test Loss: 2.226360931992531, Test Accuracy: 0.29677734337747097\n",
            "Epoch 19, Loss: 2.1861397814243397, Accuracy: 0.33308399833263236, Test Loss: 2.179968848824501, Test Accuracy: 0.32998046837747097\n",
            "Epoch 20, Loss: 2.11625005336518, Accuracy: 0.39973958343901533, Test Loss: 2.105160892009735, Test Accuracy: 0.43046874925494194\n",
            "Epoch 21, Loss: 2.020569032811104, Accuracy: 0.5692874554623949, Test Loss: 2.0014528185129166, Test Accuracy: 0.5769531242549419\n",
            "Epoch 22, Loss: 1.9225633461424645, Accuracy: 0.6316489361702128, Test Loss: 1.9262346029281616, Test Accuracy: 0.607421875\n",
            "Epoch 23, Loss: 1.867647815257945, Accuracy: 0.6442265073035626, Test Loss: 1.8841494172811508, Test Accuracy: 0.6232421882450581\n",
            "Epoch 24, Loss: 1.8409655931148123, Accuracy: 0.65461547006952, Test Loss: 1.8621223345398903, Test Accuracy: 0.63427734375\n",
            "Epoch 25, Loss: 1.8263278578190094, Accuracy: 0.6578568264524988, Test Loss: 1.8500472381711006, Test Accuracy: 0.640625\n",
            "Epoch 26, Loss: 1.8158701594839706, Accuracy: 0.6641179075900544, Test Loss: 1.8394039496779442, Test Accuracy: 0.6418945305049419\n",
            "Epoch 27, Loss: 1.8083562026632594, Accuracy: 0.6668605937602672, Test Loss: 1.8332056477665901, Test Accuracy: 0.6456054672598839\n",
            "Epoch 28, Loss: 1.8037744900013537, Accuracy: 0.6699080232610094, Test Loss: 1.8272336050868034, Test Accuracy: 0.6501953117549419\n",
            "Epoch 29, Loss: 1.7995520804790741, Accuracy: 0.6713209221971795, Test Loss: 1.824273981153965, Test Accuracy: 0.6490234360098839\n",
            "Epoch 30, Loss: 1.7965139391574454, Accuracy: 0.672262854398565, Test Loss: 1.8204347416758537, Test Accuracy: 0.6492187492549419\n",
            "Training with: Adagrad...\n",
            "Epoch 1, Loss: 1.8489041087475229, Accuracy: 0.654366134963137, Test Loss: 1.6768359765410423, Test Accuracy: 0.8282226547598839\n",
            "Epoch 2, Loss: 1.6015959876648924, Accuracy: 0.888741134963137, Test Loss: 1.6134387627243996, Test Accuracy: 0.8753906264901161\n",
            "Epoch 3, Loss: 1.565687931598501, Accuracy: 0.9147550977290945, Test Loss: 1.5908246338367462, Test Accuracy: 0.8931640610098839\n",
            "Epoch 4, Loss: 1.5517698767337393, Accuracy: 0.92414672006952, Test Loss: 1.58002420514822, Test Accuracy: 0.8975585922598839\n",
            "Epoch 5, Loss: 1.542943778190207, Accuracy: 0.9304632094312222, Test Loss: 1.5693963021039963, Test Accuracy: 0.9081054702401161\n",
            "Epoch 6, Loss: 1.5355541579266812, Accuracy: 0.9376108158142009, Test Loss: 1.5608184710144997, Test Accuracy: 0.9137695319950581\n",
            "Epoch 7, Loss: 1.5317976094306784, Accuracy: 0.9390514182283524, Test Loss: 1.5545082464814186, Test Accuracy: 0.919921875\n",
            "Epoch 8, Loss: 1.528480035193423, Accuracy: 0.9415724734042553, Test Loss: 1.5521635562181473, Test Accuracy: 0.9215820319950581\n",
            "Epoch 9, Loss: 1.5240283392845315, Accuracy: 0.9463929521276596, Test Loss: 1.5464523062109947, Test Accuracy: 0.9274414069950581\n",
            "Epoch 10, Loss: 1.5214013837753457, Accuracy: 0.9482768171645225, Test Loss: 1.5432829409837723, Test Accuracy: 0.9299804680049419\n",
            "Epoch 11, Loss: 1.5187577275519675, Accuracy: 0.9497728278028205, Test Loss: 1.5445816442370415, Test Accuracy: 0.9258789047598839\n",
            "Epoch 12, Loss: 1.517109416900797, Accuracy: 0.9525432180851063, Test Loss: 1.5422868579626083, Test Accuracy: 0.9263671860098839\n",
            "Epoch 13, Loss: 1.5147259869474046, Accuracy: 0.9536790778028205, Test Loss: 1.5404552146792412, Test Accuracy: 0.9298828132450581\n",
            "Epoch 14, Loss: 1.5131638252988775, Accuracy: 0.955008865036863, Test Loss: 1.5358584970235825, Test Accuracy: 0.9337890632450581\n",
            "Epoch 15, Loss: 1.5111299664416211, Accuracy: 0.9573636968085106, Test Loss: 1.5330567210912704, Test Accuracy: 0.9384765625\n",
            "Epoch 16, Loss: 1.5099921987411824, Accuracy: 0.9586380764524988, Test Loss: 1.5323750525712967, Test Accuracy: 0.9336914047598839\n",
            "Epoch 17, Loss: 1.5085867656038163, Accuracy: 0.9596908244680851, Test Loss: 1.5302323177456856, Test Accuracy: 0.93701171875\n",
            "Epoch 18, Loss: 1.5069558366816094, Accuracy: 0.9606604607815438, Test Loss: 1.5299666002392769, Test Accuracy: 0.9347656257450581\n",
            "Epoch 19, Loss: 1.5061386291016923, Accuracy: 0.9599124554623949, Test Loss: 1.5301461890339851, Test Accuracy: 0.9381835944950581\n",
            "Epoch 20, Loss: 1.5043508435817474, Accuracy: 0.962821365036863, Test Loss: 1.5277129635214806, Test Accuracy: 0.9395507797598839\n",
            "Epoch 21, Loss: 1.5029407511366175, Accuracy: 0.9647606382978723, Test Loss: 1.5286199375987053, Test Accuracy: 0.9397460930049419\n",
            "Epoch 22, Loss: 1.50279615914568, Accuracy: 0.9648714541120732, Test Loss: 1.5257326066493988, Test Accuracy: 0.9402343742549419\n",
            "Epoch 23, Loss: 1.5013659304760871, Accuracy: 0.9664505764524988, Test Loss: 1.5236016064882278, Test Accuracy: 0.9454101547598839\n",
            "Epoch 24, Loss: 1.5007144288813814, Accuracy: 0.9660627214198417, Test Loss: 1.5225014761090279, Test Accuracy: 0.9466796889901161\n",
            "Epoch 25, Loss: 1.5004476740005168, Accuracy: 0.966367464750371, Test Loss: 1.5204704776406288, Test Accuracy: 0.9473632797598839\n",
            "Epoch 26, Loss: 1.4992533922195435, Accuracy: 0.9670600618453736, Test Loss: 1.5207963362336159, Test Accuracy: 0.9478515610098839\n",
            "Epoch 27, Loss: 1.4980472377006044, Accuracy: 0.9690824468085106, Test Loss: 1.519236944615841, Test Accuracy: 0.9490234367549419\n",
            "Epoch 28, Loss: 1.4979832070939085, Accuracy: 0.9688054075900544, Test Loss: 1.5186165943741798, Test Accuracy: 0.9505859389901161\n",
            "Epoch 29, Loss: 1.497362103868038, Accuracy: 0.968999335106383, Test Loss: 1.5180962979793549, Test Accuracy: 0.9512695297598839\n",
            "Epoch 30, Loss: 1.4970647882907948, Accuracy: 0.969885859717714, Test Loss: 1.517244815826416, Test Accuracy: 0.947265625\n",
            "Training with: RMSprop...\n",
            "Epoch 1, Loss: 2.349902982407428, Accuracy: 0.1095135194507051, Test Loss: 2.3445504307746887, Test Accuracy: 0.11660156259313226\n",
            "Epoch 2, Loss: 2.3487282052953193, Accuracy: 0.11242242906480393, Test Loss: 2.3445523232221603, Test Accuracy: 0.11660156259313226\n",
            "Epoch 3, Loss: 2.224791197066611, Accuracy: 0.2374224288666502, Test Loss: 1.7630685120821, Test Accuracy: 0.7076171860098839\n",
            "Epoch 4, Loss: 1.6893181204795837, Accuracy: 0.7724401595744681, Test Loss: 1.6854234039783478, Test Accuracy: 0.7766601555049419\n",
            "Epoch 5, Loss: 1.6650920459564695, Accuracy: 0.7953235817716476, Test Loss: 1.5975694805383682, Test Accuracy: 0.8669921867549419\n",
            "Epoch 6, Loss: 1.584817055692064, Accuracy: 0.8761912679418604, Test Loss: 1.5767534896731377, Test Accuracy: 0.8817382827401161\n",
            "Epoch 7, Loss: 1.5133992814003152, Accuracy: 0.9489417107815438, Test Loss: 1.4969732388854027, Test Accuracy: 0.9662109389901161\n",
            "Epoch 8, Loss: 1.478441797672434, Accuracy: 0.983876329787234, Test Loss: 1.4904069676995277, Test Accuracy: 0.9733398444950581\n",
            "Epoch 9, Loss: 1.475521501074446, Accuracy: 0.9866190159574468, Test Loss: 1.4976410567760468, Test Accuracy: 0.9650390632450581\n",
            "Epoch 10, Loss: 1.4730755965760414, Accuracy: 0.9892508863134587, Test Loss: 1.5021191164851189, Test Accuracy: 0.9577148444950581\n",
            "Epoch 11, Loss: 1.4722714005632604, Accuracy: 0.989417109717714, Test Loss: 1.48706466704607, Test Accuracy: 0.9759765639901161\n",
            "Epoch 12, Loss: 1.4702411205210584, Accuracy: 0.9916057180851063, Test Loss: 1.4864877760410309, Test Accuracy: 0.9752929694950581\n",
            "Epoch 13, Loss: 1.4688518732152087, Accuracy: 0.9927415778028205, Test Loss: 1.4803455546498299, Test Accuracy: 0.9816406257450581\n",
            "Epoch 14, Loss: 1.4680518558684816, Accuracy: 0.9937389182283524, Test Loss: 1.488351158797741, Test Accuracy: 0.9728515632450581\n",
            "Epoch 15, Loss: 1.4680679250270763, Accuracy: 0.9934341755319149, Test Loss: 1.4904270395636559, Test Accuracy: 0.9701171889901161\n",
            "Epoch 16, Loss: 1.468810647091967, Accuracy: 0.9928523936170213, Test Loss: 1.4870107173919678, Test Accuracy: 0.9752929694950581\n",
            "Epoch 17, Loss: 1.4679745321578168, Accuracy: 0.9934895831219693, Test Loss: 1.4796512722969055, Test Accuracy: 0.9831054694950581\n",
            "Epoch 18, Loss: 1.4667071763505326, Accuracy: 0.9948470744680851, Test Loss: 1.4816508516669273, Test Accuracy: 0.9806640632450581\n",
            "Epoch 19, Loss: 1.4659145132024238, Accuracy: 0.9955119680851063, Test Loss: 1.4802547916769981, Test Accuracy: 0.9818359389901161\n",
            "Epoch 20, Loss: 1.4657149568517158, Accuracy: 0.995595079787234, Test Loss: 1.4753079414367676, Test Accuracy: 0.9879882819950581\n",
            "Epoch 21, Loss: 1.4652940795776692, Accuracy: 0.9961768617021277, Test Loss: 1.4782157763838768, Test Accuracy: 0.98388671875\n",
            "Epoch 22, Loss: 1.4666735948400293, Accuracy: 0.9948470744680851, Test Loss: 1.4830609038472176, Test Accuracy: 0.9787109382450581\n",
            "Epoch 23, Loss: 1.4656832979080525, Accuracy: 0.9959829341857991, Test Loss: 1.4837651997804642, Test Accuracy: 0.9772460944950581\n",
            "Epoch 24, Loss: 1.467130460637681, Accuracy: 0.9942375884411183, Test Loss: 1.4849889054894447, Test Accuracy: 0.9767578132450581\n",
            "Epoch 25, Loss: 1.4656199330979205, Accuracy: 0.9952626329787234, Test Loss: 1.4818753227591515, Test Accuracy: 0.9787109382450581\n",
            "Epoch 26, Loss: 1.4657688495960641, Accuracy: 0.9955119680851063, Test Loss: 1.4830149039626122, Test Accuracy: 0.9787109382450581\n",
            "Epoch 27, Loss: 1.4648802052152918, Accuracy: 0.9963984926964374, Test Loss: 1.480570636689663, Test Accuracy: 0.9801757819950581\n",
            "Epoch 28, Loss: 1.4645255854789248, Accuracy: 0.9967586436170213, Test Loss: 1.47946697473526, Test Accuracy: 0.9816406257450581\n",
            "Epoch 29, Loss: 1.4643573253712756, Accuracy: 0.9969248670212766, Test Loss: 1.479845903813839, Test Accuracy: 0.9818359389901161\n",
            "Epoch 30, Loss: 1.463575451932055, Accuracy: 0.99772827993048, Test Loss: 1.4814008250832558, Test Accuracy: 0.9793945327401161\n",
            "Training with: Adam...\n",
            "Epoch 1, Loss: 1.7326669883220753, Accuracy: 0.741439494680851, Test Loss: 1.5537300556898117, Test Accuracy: 0.9161132797598839\n",
            "Epoch 2, Loss: 1.5142361876812387, Accuracy: 0.9503823138297872, Test Loss: 1.5123966485261917, Test Accuracy: 0.9514648430049419\n",
            "Epoch 3, Loss: 1.5006170602554971, Accuracy: 0.9621564714198417, Test Loss: 1.511541374027729, Test Accuracy: 0.9504882805049419\n",
            "Epoch 4, Loss: 1.4938462554140295, Accuracy: 0.9692209661006927, Test Loss: 1.5084405541419983, Test Accuracy: 0.95263671875\n",
            "Epoch 5, Loss: 1.4875451161506328, Accuracy: 0.9747340425531915, Test Loss: 1.4984724298119545, Test Accuracy: 0.9659179672598839\n",
            "Epoch 6, Loss: 1.4822876580218052, Accuracy: 0.9799977838993073, Test Loss: 1.4896056056022644, Test Accuracy: 0.9736328125\n",
            "Epoch 7, Loss: 1.479634666696508, Accuracy: 0.982352615036863, Test Loss: 1.4881786406040192, Test Accuracy: 0.9723632819950581\n",
            "Epoch 8, Loss: 1.4759302354873496, Accuracy: 0.9856216755319149, Test Loss: 1.487195372581482, Test Accuracy: 0.97412109375\n",
            "Epoch 9, Loss: 1.473311150327642, Accuracy: 0.9887245126227115, Test Loss: 1.4872967898845673, Test Accuracy: 0.97705078125\n",
            "Epoch 10, Loss: 1.4742420442560886, Accuracy: 0.9880873224836715, Test Loss: 1.4907521829009056, Test Accuracy: 0.9713867194950581\n",
            "Epoch 11, Loss: 1.4718303756510958, Accuracy: 0.989666444824097, Test Loss: 1.4843562915921211, Test Accuracy: 0.9787109382450581\n",
            "Epoch 12, Loss: 1.472049539393567, Accuracy: 0.9896387413461157, Test Loss: 1.484915867447853, Test Accuracy: 0.9772460944950581\n",
            "Epoch 13, Loss: 1.469624212447633, Accuracy: 0.991938164893617, Test Loss: 1.4813308492302895, Test Accuracy: 0.9816406257450581\n",
            "Epoch 14, Loss: 1.4665708820870582, Accuracy: 0.9947362586538843, Test Loss: 1.4826043993234634, Test Accuracy: 0.9784179702401161\n",
            "Epoch 15, Loss: 1.4672021929253922, Accuracy: 0.9944038118453736, Test Loss: 1.4819494262337685, Test Accuracy: 0.9801757819950581\n",
            "Epoch 16, Loss: 1.4666705372485709, Accuracy: 0.9950964095744681, Test Loss: 1.4807592034339905, Test Accuracy: 0.9806640632450581\n",
            "Epoch 17, Loss: 1.4661882088539449, Accuracy: 0.9954288563829787, Test Loss: 1.4801012054085732, Test Accuracy: 0.98046875\n",
            "Epoch 18, Loss: 1.466774672903913, Accuracy: 0.9947639627659575, Test Loss: 1.4815658181905746, Test Accuracy: 0.9794921875\n",
            "Epoch 19, Loss: 1.466171314107611, Accuracy: 0.9952626329787234, Test Loss: 1.47990320622921, Test Accuracy: 0.982421875\n",
            "Epoch 20, Loss: 1.4659411006785454, Accuracy: 0.9954288563829787, Test Loss: 1.4826372265815735, Test Accuracy: 0.9793945327401161\n",
            "Epoch 21, Loss: 1.4661118312084929, Accuracy: 0.995345744680851, Test Loss: 1.4824744313955307, Test Accuracy: 0.9791992194950581\n",
            "Epoch 22, Loss: 1.4683032023145797, Accuracy: 0.9936558065262246, Test Loss: 1.4888345822691917, Test Accuracy: 0.9725585952401161\n",
            "Epoch 23, Loss: 1.4665045991857002, Accuracy: 0.9949855937602672, Test Loss: 1.4901689291000366, Test Accuracy: 0.9715820327401161\n",
            "Epoch 24, Loss: 1.4673039317131042, Accuracy: 0.9938497340425532, Test Loss: 1.485630363225937, Test Accuracy: 0.9740234389901161\n",
            "Epoch 25, Loss: 1.4664944080596274, Accuracy: 0.9948470744680851, Test Loss: 1.4869320765137672, Test Accuracy: 0.9752929694950581\n",
            "Epoch 26, Loss: 1.466199997891771, Accuracy: 0.9952626329787234, Test Loss: 1.4823633059859276, Test Accuracy: 0.9782226569950581\n",
            "Epoch 27, Loss: 1.4667191543477647, Accuracy: 0.9946531469517566, Test Loss: 1.4801981747150421, Test Accuracy: 0.9813476577401161\n",
            "Epoch 28, Loss: 1.4647129812139146, Accuracy: 0.9966755319148937, Test Loss: 1.4788981452584267, Test Accuracy: 0.98193359375\n",
            "Epoch 29, Loss: 1.4646252431768052, Accuracy: 0.9966755319148937, Test Loss: 1.4806902408599854, Test Accuracy: 0.9801757819950581\n",
            "Epoch 30, Loss: 1.465016560351595, Accuracy: 0.9961768617021277, Test Loss: 1.4773162975907326, Test Accuracy: 0.98388671875\n"
          ]
        },
        {
          "output_type": "display_data",
          "data": {
            "text/plain": [
              "<Figure size 640x480 with 1 Axes>"
            ],
            "image/png": "[encoded data removed]"
          },
          "metadata": {}
        }
      ],
      "source": [
        "import torch\n",
        "from torch import nn\n",
        "import matplotlib.pyplot as plt\n",
        "\n",
        "# Choose a loss function for training\n",
        "loss_object = nn.CrossEntropyLoss()\n",
        "\n",
        "# Train step\n",
        "def train_step(images, labels, optimizer):\n",
        "    optimizer.zero_grad()\n",
        "    _,_,_,_,predictions = model(images)\n",
        "    loss = loss_object(predictions, labels)\n",
        "    loss.backward()\n",
        "    optimizer.step()\n",
        "    return loss.item(), (predictions.argmax(dim=1) == labels).type(torch.float).mean().item()\n",
        "\n",
        "# Test step\n",
        "def test_step(images, labels):\n",
        "    _,_,_,_,predictions = model(images)\n",
        "    t_loss = loss_object(predictions, labels)\n",
        "    return t_loss.item(), (predictions.argmax(dim=1) == labels).type(torch.float).mean().item()\n",
        "\n",
        "# Main function: train and test the model\n",
        "EPOCHS = 30\n",
        "plt.figure()\n",
        "for myoptimizer in ['SGD', 'Momentum', 'Adagrad', 'RMSprop', 'Adam']:\n",
        "    # Create an instance of the model\n",
        "    model = MyModel()\n",
        "    print('Training with: '+myoptimizer+'...')\n",
        "    if myoptimizer == 'SGD':\n",
        "        optimizer = torch.optim.SGD(model.parameters(), lr=1e-3)\n",
        "    elif myoptimizer == 'Momentum':\n",
        "        optimizer = torch.optim.SGD(model.parameters(), lr=1e-3, momentum=0.9)\n",
        "    elif myoptimizer == 'Adagrad':\n",
        "        optimizer = torch.optim.Adagrad(model.parameters(), lr=1e-3)\n",
        "    elif myoptimizer == 'RMSprop':\n",
        "        optimizer = torch.optim.RMSprop(model.parameters(), lr=1e-3)\n",
        "    elif myoptimizer == 'Adam':\n",
        "        optimizer = torch.optim.Adam(model.parameters(), lr=1e-3)\n",
        "    else:\n",
        "        print(\"Wrong optimizer type\")\n",
        "        continue\n",
        "\n",
        "    test_acc = []\n",
        "    for epoch in range(EPOCHS):\n",
        "        train_loss = 0.0\n",
        "        train_accuracy = 0.0\n",
        "        test_loss = 0.0\n",
        "        test_accuracy = 0.0\n",
        "        train_steps = 0\n",
        "        test_steps = 0\n",
        "\n",
        "        for images, labels in train_dataloader:\n",
        "            l, a = train_step(images, labels, optimizer)\n",
        "            train_loss += l\n",
        "            train_accuracy += a\n",
        "            train_steps += 1\n",
        "\n",
        "        with torch.no_grad():\n",
        "            for test_images, test_labels in test_dataloader:\n",
        "                t_l, t_a = test_step(test_images, test_labels)\n",
        "                test_loss += t_l\n",
        "                test_accuracy += t_a\n",
        "                test_steps += 1\n",
        "\n",
        "        test_acc.append(test_accuracy / test_steps)\n",
        "        template = 'Epoch {}, Loss: {}, Accuracy: {}, Test Loss: {}, Test Accuracy: {}'\n",
        "        print(template.format(epoch + 1,\n",
        "                              train_loss / train_steps,\n",
        "                              train_accuracy / train_steps,\n",
        "                              test_loss / test_steps,\n",
        "                              test_accuracy / test_steps))\n",
        "\n",
        "    plt.plot(np.arange(EPOCHS), test_acc, label=myoptimizer)\n",
        "\n",
        "plt.xlabel('epochs')\n",
        "plt.ylabel('test accuracy')\n",
        "plt.legend(loc='lower right')\n",
        "plt.savefig('./figures/6.4_1.png')"
      ]
    }
  ],
  "metadata": {
    "accelerator": "GPU",
    "colab": {
      "provenance": []
    },
    "kernelspec": {
      "display_name": "Python 3",
      "name": "python3"
    },
    "language_info": {
      "name": "python"
    }
  },
  "nbformat": 4,
  "nbformat_minor": 0
}