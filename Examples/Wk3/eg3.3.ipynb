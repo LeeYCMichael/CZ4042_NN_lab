{
 "cells": [
  {
   "cell_type": "markdown",
   "metadata": {},
   "source": [
    "# Example 3.3: Softmax classification of Iris dataset"
   ]
  },
  {
   "cell_type": "code",
   "execution_count": 1,
   "metadata": {},
   "outputs": [],
   "source": [
    "import torch\n",
    "from torch import nn\n",
    "\n",
    "import numpy as np\n",
    "import matplotlib.pylab as plt\n",
    "\n",
    "from sklearn import datasets"
   ]
  },
  {
   "cell_type": "markdown",
   "metadata": {},
   "source": [
    "## Set the parameters"
   ]
  },
  {
   "cell_type": "code",
   "execution_count": 2,
   "metadata": {},
   "outputs": [
    {
     "data": {
      "text/plain": [
       "<torch._C.Generator at 0x114bd1e50>"
      ]
     },
     "execution_count": 2,
     "metadata": {},
     "output_type": "execute_result"
    }
   ],
   "source": [
    "no_epochs = 2500\n",
    "lr = 0.5\n",
    "\n",
    "SEED = 100\n",
    "np.random.seed(SEED)\n",
    "torch.manual_seed(SEED)"
   ]
  },
  {
   "cell_type": "markdown",
   "metadata": {},
   "source": [
    "## Read and prepare Iris data"
   ]
  },
  {
   "cell_type": "code",
   "execution_count": 3,
   "metadata": {},
   "outputs": [
    {
     "name": "stdout",
     "output_type": "stream",
     "text": [
      "(150, 4)\n",
      "(150, 3)\n"
     ]
    }
   ],
   "source": [
    "no_inputs = 4\n",
    "no_outputs = 3\n",
    "\n",
    "# input data\n",
    "iris = datasets.load_iris()\n",
    "iris.data -= np.mean(iris.data, axis=0)\n",
    "\n",
    "no_data = len(iris.data)\n",
    "\n",
    "X = iris.data\n",
    "\n",
    "# convert the targets into one-hot matrix\n",
    "Y = np.zeros((no_data, no_outputs))\n",
    "for i in range(no_data):\n",
    "    Y[i, iris.target[i]] = 1\n",
    "    \n",
    "print(np.shape(X))\n",
    "print(np.shape(Y))"
   ]
  },
  {
   "cell_type": "markdown",
   "metadata": {},
   "source": [
    "## Define a class for a softmax layer"
   ]
  },
  {
   "cell_type": "code",
   "execution_count": 4,
   "metadata": {},
   "outputs": [],
   "source": [
    "class SoftmaxLayer(nn.Module):\n",
    "  def __init__(self, no_inputs, no_outputs):\n",
    "        super().__init__()\n",
    "        self.softmax_layer = nn.Sequential(\n",
    "            nn.Linear(no_inputs, no_outputs),\n",
    "            nn.Softmax(dim=1)\n",
    "        )\n",
    "\n",
    "  def forward(self, x):\n",
    "        logits = self.softmax_layer(x)\n",
    "        return logits"
   ]
  },
  {
   "cell_type": "code",
   "execution_count": 5,
   "metadata": {},
   "outputs": [
    {
     "name": "stdout",
     "output_type": "stream",
     "text": [
      "Model structure: SoftmaxLayer(\n",
      "  (softmax_layer): Sequential(\n",
      "    (0): Linear(in_features=4, out_features=3, bias=True)\n",
      "    (1): Softmax(dim=1)\n",
      "  )\n",
      ")\n",
      "\n",
      "\n",
      "Layer: softmax_layer.0.weight | Size: torch.Size([3, 4]) | Values : Parameter containing:\n",
      "tensor([[-0.3883,  0.3158, -0.2374, -0.0161],\n",
      "        [ 0.1765,  0.2539, -0.2373, -0.4572],\n",
      "        [-0.2920, -0.3820, -0.3783,  0.2356]], requires_grad=True) \n",
      "\n",
      "Layer: softmax_layer.0.bias | Size: torch.Size([3]) | Values : Parameter containing:\n",
      "tensor([ 0.2118,  0.2876, -0.0817], requires_grad=True) \n",
      "\n"
     ]
    }
   ],
   "source": [
    "model = SoftmaxLayer(no_inputs, no_outputs)\n",
    "\n",
    "print(f\"Model structure: {model}\\n\\n\")\n",
    "\n",
    "for name, param in model.named_parameters():\n",
    "    print(f\"Layer: {name} | Size: {param.size()} | Values : {param} \\n\")"
   ]
  },
  {
   "cell_type": "code",
   "execution_count": 6,
   "metadata": {},
   "outputs": [],
   "source": [
    "loss_fn = torch.nn.CrossEntropyLoss()\n",
    "optimizer = torch.optim.SGD(model.parameters(), lr=lr)"
   ]
  },
  {
   "cell_type": "code",
   "execution_count": 7,
   "metadata": {},
   "outputs": [
    {
     "name": "stdout",
     "output_type": "stream",
     "text": [
      "Epoch  100:  loss=0.67735, accuracy=0.95333\n",
      "Epoch  200:  loss=0.64270, accuracy=0.96667\n",
      "Epoch  300:  loss=0.62661, accuracy=0.96667\n",
      "Epoch  400:  loss=0.61694, accuracy=0.97333\n",
      "Epoch  500:  loss=0.61040, accuracy=0.98000\n",
      "Epoch  600:  loss=0.60567, accuracy=0.98000\n",
      "Epoch  700:  loss=0.60206, accuracy=0.98000\n",
      "Epoch  800:  loss=0.59920, accuracy=0.98000\n",
      "Epoch  900:  loss=0.59688, accuracy=0.98000\n",
      "Epoch 1000:  loss=0.59496, accuracy=0.98000\n",
      "Epoch 1100:  loss=0.59332, accuracy=0.98000\n",
      "Epoch 1200:  loss=0.59193, accuracy=0.98000\n",
      "Epoch 1300:  loss=0.59071, accuracy=0.98667\n",
      "Epoch 1400:  loss=0.58964, accuracy=0.98667\n",
      "Epoch 1500:  loss=0.58870, accuracy=0.98667\n",
      "Epoch 1600:  loss=0.58785, accuracy=0.98667\n",
      "Epoch 1700:  loss=0.58709, accuracy=0.98667\n",
      "Epoch 1800:  loss=0.58641, accuracy=0.98667\n",
      "Epoch 1900:  loss=0.58578, accuracy=0.98667\n",
      "Epoch 2000:  loss=0.58521, accuracy=0.98667\n",
      "Epoch 2100:  loss=0.58469, accuracy=0.98667\n",
      "Epoch 2200:  loss=0.58420, accuracy=0.98667\n",
      "Epoch 2300:  loss=0.58376, accuracy=0.98667\n",
      "Epoch 2400:  loss=0.58334, accuracy=0.98667\n",
      "Epoch 2500:  loss=0.58295, accuracy=0.98667\n"
     ]
    }
   ],
   "source": [
    "\n",
    "loss_ = []\n",
    "acc_ = []\n",
    "for epoch in range(no_epochs):\n",
    "    # Compute prediction and loss\n",
    "    pred = model(torch.tensor(X, dtype=torch.float))\n",
    "    loss = loss_fn(pred, torch.tensor(Y, dtype=torch.float))\n",
    "    acc = (pred.argmax(1) == torch.tensor(Y, dtype=torch.float).argmax(1)).type(torch.float).mean()\n",
    "    \n",
    "    # Backpropagation\n",
    "    optimizer.zero_grad()\n",
    "    loss.backward()\n",
    "    optimizer.step()\n",
    "    \n",
    "    acc_.append(acc.item())\n",
    "    loss_.append(loss.item())\n",
    "    \n",
    "    \n",
    "    if epoch%100 == 99:\n",
    "        print('Epoch %4d:  loss=%2.5f, accuracy=%2.5f'%(epoch+1, loss_[-1], acc_[-1]))\n"
   ]
  },
  {
   "cell_type": "code",
   "execution_count": 8,
   "metadata": {},
   "outputs": [
    {
     "name": "stdout",
     "output_type": "stream",
     "text": [
      "weight = [[-0.8810901   2.4045556  -4.949615   -2.1128235 ]\n",
      " [ 1.2562798  -0.25736475 -0.7259602  -2.5546985 ]\n",
      " [-0.8789959  -1.9593967   4.8225145   4.4298344 ]], \n",
      "bias = [-0.73351574  4.9940534  -3.8428957 ]\n"
     ]
    }
   ],
   "source": [
    "w = model.state_dict()['softmax_layer.0.weight'].numpy()\n",
    "b = model.state_dict()['softmax_layer.0.bias'].numpy()\n",
    "\n",
    "print('weight = {}, \\nbias = {}'.format(w, b))"
   ]
  },
  {
   "cell_type": "markdown",
   "metadata": {},
   "source": [
    "## Train the softmax layer"
   ]
  },
  {
   "cell_type": "code",
   "execution_count": 9,
   "metadata": {},
   "outputs": [
    {
     "data": {
      "text/plain": [
       "Text(0, 0.5, 'cross-entropy')"
      ]
     },
     "execution_count": 9,
     "metadata": {},
     "output_type": "execute_result"
    },
    {
     "data": {
      "image/png": "[encoded data removed]",
      "text/plain": [
       "<Figure size 640x480 with 1 Axes>"
      ]
     },
     "metadata": {},
     "output_type": "display_data"
    }
   ],
   "source": [
    "# plot learning curves\n",
    "plt.figure(2)\n",
    "plt.plot(range(no_epochs), loss_)\n",
    "plt.xlabel('epochs')\n",
    "plt.ylabel('cross-entropy')"
   ]
  },
  {
   "cell_type": "code",
   "execution_count": 10,
   "metadata": {},
   "outputs": [
    {
     "data": {
      "text/plain": [
       "Text(0, 0.5, 'classification accuracy')"
      ]
     },
     "execution_count": 10,
     "metadata": {},
     "output_type": "execute_result"
    },
    {
     "data": {
      "image/png": "[encoded data removed]",
      "text/plain": [
       "<Figure size 640x480 with 1 Axes>"
      ]
     },
     "metadata": {},
     "output_type": "display_data"
    }
   ],
   "source": [
    "plt.figure(3)\n",
    "plt.plot(range(no_epochs), acc_)\n",
    "plt.xlabel('epochs')\n",
    "plt.ylabel('classification accuracy')"
   ]
  },
  {
   "cell_type": "code",
   "execution_count": null,
   "metadata": {},
   "outputs": [],
   "source": []
  }
 ],
 "metadata": {
  "kernelspec": {
   "display_name": "Python 3 (ipykernel)",
   "language": "python",
   "name": "python3"
  },
  "language_info": {
   "codemirror_mode": {
    "name": "ipython",
    "version": 3
   },
   "file_extension": ".py",
   "mimetype": "text/x-python",
   "name": "python",
   "nbconvert_exporter": "python",
   "pygments_lexer": "ipython3",
   "version": "3.11.2"
  }
 },
 "nbformat": 4,
 "nbformat_minor": 2
}
