{
 "cells": [
  {
   "cell_type": "markdown",
   "metadata": {},
   "source": [
    "# Tutorial 4, Question 1: stochastic gradient descent"
   ]
  },
  {
   "cell_type": "code",
   "execution_count": 1,
   "metadata": {},
   "outputs": [],
   "source": [
    "import torch\n",
    "import numpy as np\n",
    "import matplotlib.pylab as plt"
   ]
  },
  {
   "cell_type": "code",
   "execution_count": 2,
   "metadata": {},
   "outputs": [],
   "source": [
    "lr = 0.05\n",
    "num_epochs = 5000\n",
    "\n",
    "seed = 10\n",
    "np.random.seed(seed)"
   ]
  },
  {
   "cell_type": "code",
   "execution_count": 3,
   "metadata": {},
   "outputs": [
    {
     "name": "stdout",
     "output_type": "stream",
     "text": [
      "x: [[ 1.  3.]\n",
      " [-2. -2.]], y: [[0. 1.]\n",
      " [1. 0.]]\n"
     ]
    }
   ],
   "source": [
    "# training data\n",
    "X = torch.tensor(np.array([[1.0, 3.0], [-2.0, -2.0]]))\n",
    "Y = torch.tensor(np.array([[0.0, 1.0], [1.0, 0.0]]))\n",
    "\n",
    "print('x: %s, y: %s'%(X.numpy(), Y.numpy()))"
   ]
  },
  {
   "cell_type": "code",
   "execution_count": 4,
   "metadata": {},
   "outputs": [],
   "source": [
    "V_init = [[1.0, 1.0], [0, -2]]\n",
    "c_init = [-2.0, 3.0]\n",
    "W_init = [[1.0, 2.0],[-2.0, 0]]\n",
    "b_init = [3.0, -1.0]"
   ]
  },
  {
   "cell_type": "code",
   "execution_count": 5,
   "metadata": {},
   "outputs": [],
   "source": [
    "class Two_Layer_DNN():\n",
    "  def __init__(self):\n",
    "    self.V = torch.tensor(V_init, dtype=torch.double)\n",
    "    self.c = torch.tensor(c_init, dtype=torch.double)\n",
    "    self.W = torch.tensor(W_init, dtype=torch.double)\n",
    "    self.b = torch.tensor(b_init, dtype=torch.double)\n",
    "\n",
    "  def __call__(self, x):\n",
    "    z = torch.inner(torch.transpose(self.W, 0, 1), x) + self.b\n",
    "    h = torch.sigmoid(z)\n",
    "    u = torch.inner(torch.transpose(self.V, 0, 1), h) + self.c\n",
    "    y = torch.sigmoid(u)\n",
    "    return z, h, u, y"
   ]
  },
  {
   "cell_type": "code",
   "execution_count": 6,
   "metadata": {},
   "outputs": [],
   "source": [
    "def loss(targets, outputs):\n",
    "    return torch.mean(torch.square(targets - outputs))"
   ]
  },
  {
   "cell_type": "code",
   "execution_count": 7,
   "metadata": {},
   "outputs": [],
   "source": [
    "def train(model, inputs, d, learning_rate):\n",
    "    z, h, u, y = model(inputs)\n",
    "    dy = y*(1-y)\n",
    "    grad_u = -(d - y)*dy\n",
    "\n",
    "    grad_V = torch.outer(h, grad_u)\n",
    "    grad_c = grad_u\n",
    "\n",
    "    dh = h*(1-h)\n",
    "    grad_z = torch.inner(model.V, grad_u)*dh\n",
    "\n",
    "    grad_W = torch.outer(inputs, grad_z)\n",
    "    grad_b = grad_z\n",
    "    \n",
    "    model.W -= learning_rate*grad_W\n",
    "    model.b -= learning_rate*grad_b\n",
    "    model.V -= learning_rate*grad_V\n",
    "    model.c -= learning_rate*grad_c\n",
    "    \n",
    "    return dy, grad_u, dh, grad_z"
   ]
  },
  {
   "cell_type": "code",
   "execution_count": 8,
   "metadata": {},
   "outputs": [
    {
     "name": "stdout",
     "output_type": "stream",
     "text": [
      "W = [[ 1.  2.]\n",
      " [-2.  0.]], b = [ 3. -1.]\n",
      "V = [[ 1.  1.]\n",
      " [ 0. -2.]], c = [-2.  3.]\n"
     ]
    }
   ],
   "source": [
    "model = Two_Layer_DNN()\n",
    "\n",
    "print('W = {}, b = {}'.format(model.W.numpy(), model.b.numpy()))\n",
    "print('V = {}, c = {}'.format(model.V.numpy(), model.c.numpy()))"
   ]
  },
  {
   "cell_type": "code",
   "execution_count": 9,
   "metadata": {},
   "outputs": [
    {
     "name": "stdout",
     "output_type": "stream",
     "text": [
      "epoch: 1, pattern: [tensor([1., 3.], dtype=torch.float64), tensor([0., 1.], dtype=torch.float64)]\n",
      "z: tensor([-2.,  1.], dtype=torch.float64)\n",
      "h: tensor([0.1192, 0.7311], dtype=torch.float64)\n",
      "u: tensor([-1.8808,  1.6571], dtype=torch.float64)\n",
      "y: tensor([0.1323, 0.8398], dtype=torch.float64)\n",
      "dy: tensor([0.1148, 0.1345], dtype=torch.float64)\n",
      "grad_u: tensor([ 0.0152, -0.0215], dtype=torch.float64)\n",
      "dh: tensor([0.1050, 0.1966], dtype=torch.float64)\n",
      "grad_z:tensor([-0.0007,  0.0085], dtype=torch.float64)\n",
      "cost: 0.021575879534962764\n",
      "W = [[ 1.00003336e+00  1.99957647e+00]\n",
      " [-1.99989993e+00 -1.27058679e-03]], b = [ 3.00003336 -1.00042353]\n",
      "V = [[ 9.99909483e-01  1.00012839e+00]\n",
      " [-5.55130864e-04 -1.99921260e+00]], c = [-2.00075935  3.00107707]\n",
      "epoch: 1, pattern: [tensor([-2., -2.], dtype=torch.float64), tensor([1., 0.], dtype=torch.float64)]\n",
      "z: tensor([ 4.9998, -4.9970], dtype=torch.float64)\n",
      "h: tensor([0.9933, 0.0067], dtype=torch.float64)\n",
      "u: tensor([-1.0075,  3.9811], dtype=torch.float64)\n",
      "y: tensor([0.2675, 0.9817], dtype=torch.float64)\n",
      "dy: tensor([0.1959, 0.0180], dtype=torch.float64)\n",
      "grad_u: tensor([-0.1435,  0.0177], dtype=torch.float64)\n",
      "dh: tensor([0.0066, 0.0067], dtype=torch.float64)\n",
      "grad_z:tensor([-0.0008, -0.0002], dtype=torch.float64)\n",
      "cost: 0.7501519520417004\n",
      "W = [[ 9.99949673e-01  1.99955299e+00]\n",
      " [-1.99998361e+00 -1.29407137e-03]], b = [ 3.0000752  -1.00041179]\n",
      "V = [[ 1.00703759e+00  9.99251403e-01]\n",
      " [-5.06960309e-04 -1.99921853e+00]], c = [-1.9935832   3.00019417]\n",
      "epoch:0, error: 0.38586391578833157\n",
      "epoch:100, error: 0.30598108535798235\n",
      "epoch:200, error: 0.2798090496263989\n",
      "epoch:300, error: 0.2690046090702391\n",
      "epoch:400, error: 0.26135556504617535\n",
      "epoch:500, error: 0.2538056034978045\n",
      "epoch:600, error: 0.24375451169290085\n",
      "epoch:700, error: 0.22500281595896154\n",
      "epoch:800, error: 0.17644767710345027\n",
      "epoch:900, error: 0.09348451953516515\n",
      "epoch:1000, error: 0.05830782448040958\n",
      "epoch:1100, error: 0.045939548057282856\n",
      "epoch:1200, error: 0.038850137475981206\n",
      "epoch:1300, error: 0.033783754711842376\n",
      "epoch:1400, error: 0.02986303630063391\n",
      "epoch:1500, error: 0.02671053606033475\n",
      "epoch:1600, error: 0.02411025624026432\n",
      "epoch:1700, error: 0.021923534919816808\n",
      "epoch:1800, error: 0.020056745511876466\n",
      "epoch:1900, error: 0.018444209782685617\n",
      "epoch:2000, error: 0.017038259656864382\n",
      "epoch:2100, error: 0.015803054324061854\n",
      "epoch:2200, error: 0.014710940700472077\n",
      "epoch:2300, error: 0.013740062925366043\n",
      "epoch:2400, error: 0.012872832998054192\n",
      "epoch:2500, error: 0.012094867887651538\n",
      "epoch:2600, error: 0.011394241346727757\n",
      "epoch:2700, error: 0.010760992935818382\n",
      "epoch:2800, error: 0.010186692613852808\n",
      "epoch:2900, error: 0.009664194173344933\n",
      "epoch:3000, error: 0.009187381327309133\n",
      "epoch:3100, error: 0.008751008688455932\n",
      "epoch:3200, error: 0.008350547095602259\n",
      "epoch:3300, error: 0.007982071806476893\n",
      "epoch:3400, error: 0.007642179127827623\n",
      "epoch:3500, error: 0.007327893788923208\n",
      "epoch:3600, error: 0.007036618227158576\n",
      "epoch:3700, error: 0.006766072204247124\n",
      "epoch:3800, error: 0.0065142496449361355\n",
      "epoch:3900, error: 0.006279380973487465\n",
      "epoch:4000, error: 0.0060599010606893385\n",
      "epoch:4100, error: 0.005854421943072209\n",
      "epoch:4200, error: 0.00566170854508243\n",
      "epoch:4300, error: 0.005480661966161855\n",
      "epoch:4400, error: 0.005310299236879795\n",
      "epoch:4500, error: 0.005149740361608757\n",
      "epoch:4600, error: 0.004998195708335523\n",
      "epoch:4700, error: 0.0048549550493585045\n",
      "epoch:4800, error: 0.004719377901190281\n",
      "epoch:4900, error: 0.004590885695832401\n"
     ]
    }
   ],
   "source": [
    "err = []\n",
    "idx = np.arange(2)\n",
    "for epoch in range(num_epochs):\n",
    "    np.random.shuffle(idx)\n",
    "    X, Y = X[idx], Y[idx]\n",
    "    \n",
    "    cost_ = []\n",
    "    for p in [0, 1]:\n",
    "\n",
    "        z_, h_, u_, y_ = model(X[p])\n",
    "        loss_ = loss(Y[p], y_)\n",
    "        dy_, grad_u_, dh_, grad_z_ = train(model, X[p], Y[p], lr)\n",
    "\n",
    "        if epoch == 0:\n",
    "            print('epoch: {}, pattern: {}'.format(epoch+1, [X[p], Y[p]]))\n",
    "            print('z: {}'.format(z_))\n",
    "            print('h: {}'.format(h_))\n",
    "            print('u: {}'.format(u_))\n",
    "            print('y: {}'.format(y_))\n",
    "            print('dy: {}'.format(dy_))\n",
    "            print('grad_u: {}'.format(grad_u_))\n",
    "            print('dh: {}'.format(dh_))\n",
    "            print('grad_z:{}'.format(grad_z_))\n",
    "            print('cost: {}'.format(loss_))\n",
    "            print('W = {}, b = {}'.format(model.W.numpy(), model.b.numpy()))\n",
    "            print('V = {}, c = {}'.format(model.V.numpy(), model.c.numpy()))\n",
    "        \n",
    "        cost_.append(loss_)\n",
    "        \n",
    "    err.append(np.mean(cost_))\n",
    "\n",
    "    if not epoch%100:\n",
    "        print('epoch:{}, error: {}'.format(epoch,err[epoch]))"
   ]
  },
  {
   "cell_type": "code",
   "execution_count": 10,
   "metadata": {},
   "outputs": [
    {
     "name": "stdout",
     "output_type": "stream",
     "text": [
      "W = [[ 0.62504926  0.60033301]\n",
      " [-2.99967889 -1.99220676]], b = [ 2.71892925 -0.74457133]\n",
      "V = [[ 4.97586814 -3.46384672]\n",
      " [ 0.2457975  -2.37276639]], c = [-2.4274691   2.56134336]\n",
      "y: tensor([0.9406, 0.0474], dtype=torch.float64)\n",
      "error: 0.004470143758808414\n"
     ]
    }
   ],
   "source": [
    "print('W = {}, b = {}'.format(model.W.numpy(), model.b.numpy()))\n",
    "print('V = {}, c = {}'.format(model.V.numpy(), model.c.numpy()))\n",
    "\n",
    "y = []\n",
    "for p in [0, 1]:\n",
    "    _, _, _, y_ = model(X[p])\n",
    "    y.append(y_)\n",
    "\n",
    "print('y: {}'.format(y_))\n",
    "print('error: {}'.format(err[-1]))"
   ]
  },
  {
   "cell_type": "code",
   "execution_count": 11,
   "metadata": {},
   "outputs": [
    {
     "data": {
      "text/plain": [
       "Text(0.5, 1.0, 'SGD learning')"
      ]
     },
     "execution_count": 11,
     "metadata": {},
     "output_type": "execute_result"
    },
    {
     "data": {
      "image/png": "[encoded data removed]",
      "text/plain": [
       "<Figure size 640x480 with 1 Axes>"
      ]
     },
     "metadata": {},
     "output_type": "display_data"
    }
   ],
   "source": [
    "# plot learning curves\n",
    "plt.figure(1)\n",
    "plt.plot(range(num_epochs), err)\n",
    "plt.xlabel('epochs')\n",
    "plt.ylabel('mean square error')\n",
    "plt.title('SGD learning')"
   ]
  }
 ],
 "metadata": {
  "kernelspec": {
   "display_name": "Python 3 (ipykernel)",
   "language": "python",
   "name": "python3"
  },
  "language_info": {
   "codemirror_mode": {
    "name": "ipython",
    "version": 3
   },
   "file_extension": ".py",
   "mimetype": "text/x-python",
   "name": "python",
   "nbconvert_exporter": "python",
   "pygments_lexer": "ipython3",
   "version": "3.11.2"
  }
 },
 "nbformat": 4,
 "nbformat_minor": 4
}
