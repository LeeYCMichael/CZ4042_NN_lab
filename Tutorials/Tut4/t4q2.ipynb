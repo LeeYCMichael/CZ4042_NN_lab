{
 "cells": [
  {
   "cell_type": "markdown",
   "metadata": {},
   "source": [
    "# Tutorial 4, Question 2"
   ]
  },
  {
   "cell_type": "code",
   "execution_count": 1,
   "metadata": {},
   "outputs": [],
   "source": [
    "import torch\n",
    "import numpy as np\n",
    "import matplotlib.pylab as plt"
   ]
  },
  {
   "cell_type": "markdown",
   "metadata": {},
   "source": [
    "## Set learning parameters"
   ]
  },
  {
   "cell_type": "code",
   "execution_count": 2,
   "metadata": {},
   "outputs": [],
   "source": [
    "lr = 0.1\n",
    "num_epochs = 500"
   ]
  },
  {
   "cell_type": "markdown",
   "metadata": {},
   "source": [
    "## Read the training data"
   ]
  },
  {
   "cell_type": "code",
   "execution_count": 3,
   "metadata": {},
   "outputs": [],
   "source": [
    "X = torch.tensor(np.array([[1.0, 1.0], [0.0, 1.0], [3.0, 4.0], [2.0, 2.0], [2.0, -2.0], [-2.0, -3.0]]))\n",
    "Y = torch.tensor(np.array([0, 0, 1, 1, 2, 2]))\n",
    "K = torch.tensor(np.array([[1, 0, 0],\n",
    "              [1, 0, 0],\n",
    "              [0, 1, 0],\n",
    "              [0, 1, 0],\n",
    "              [0, 0, 1],\n",
    "              [0, 0, 1]]).astype(float))"
   ]
  },
  {
   "cell_type": "markdown",
   "metadata": {},
   "source": [
    "## initialize weights and biases"
   ]
  },
  {
   "cell_type": "code",
   "execution_count": 4,
   "metadata": {},
   "outputs": [],
   "source": [
    "W_init = [[-0.10, 0.97, 0.18], \n",
    "          [-0.70, 0.38, 0.93]]\n",
    "b_init = [0.0, 0.0, 0.0]\n",
    "V_init = [[1.01, 0.09, -0.39],\n",
    "          [0.79, -0.45, -0.22],\n",
    "          [0.28, 0.96, -0.07]]\n",
    "c_init = [0.0, 0.0, 0.0]"
   ]
  },
  {
   "cell_type": "markdown",
   "metadata": {},
   "source": [
    "## Design a class for the two-layer DNN"
   ]
  },
  {
   "cell_type": "code",
   "execution_count": 5,
   "metadata": {},
   "outputs": [],
   "source": [
    "class Two_Layer_DNN_Classifier():\n",
    "  def __init__(self):\n",
    "    self.V = torch.tensor(V_init, dtype=torch.double)\n",
    "    self.c = torch.tensor(c_init, dtype=torch.double)\n",
    "    self.W = torch.tensor(W_init, dtype=torch.double)\n",
    "    self.b = torch.tensor(b_init, dtype=torch.double)\n",
    "\n",
    "  def __call__(self, x):\n",
    "    z = torch.matmul(x, self.W) + self.b\n",
    "    h = torch.sigmoid(z)\n",
    "    u = torch.matmul(h, self.V) + self.c\n",
    "    p = torch.exp(u)/torch.sum(torch.exp(u), axis=1, keepdims=True)\n",
    "    y = torch.argmax(p, axis=1)\n",
    "    return z, h, u, p, y"
   ]
  },
  {
   "cell_type": "code",
   "execution_count": 6,
   "metadata": {},
   "outputs": [],
   "source": [
    "def loss(k, y, p):\n",
    "    entropy = -torch.sum(torch.log(p)*k)\n",
    "    error = torch.sum(torch.not_equal(torch.argmax(k, dim=1), y))\n",
    "    return entropy, error"
   ]
  },
  {
   "cell_type": "code",
   "execution_count": 7,
   "metadata": {},
   "outputs": [],
   "source": [
    "def train(model, inputs, k, learning_rate):\n",
    "    z, h, u, p, y = model(inputs)\n",
    "    grad_u = -(k - p)\n",
    "    grad_V = torch.matmul(torch.transpose(h, 0, 1), grad_u)\n",
    "    grad_c = torch.sum(grad_u, axis=0)\n",
    "\n",
    "    dh = h*(1-h)\n",
    "    grad_z = torch.matmul(grad_u, torch.transpose(model.V, 0, 1))*dh\n",
    "    grad_W = torch.matmul(torch.transpose(inputs, 0, 1), grad_z)\n",
    "    grad_b = torch.sum(grad_z, axis=0)\n",
    "\n",
    "    model.W -= learning_rate*grad_W\n",
    "    model.b -= learning_rate*grad_b\n",
    "    model.V -= learning_rate*grad_V\n",
    "    model.c -= learning_rate*grad_c\n",
    "    \n",
    "    return grad_u, dh, grad_z"
   ]
  },
  {
   "cell_type": "code",
   "execution_count": 8,
   "metadata": {},
   "outputs": [
    {
     "name": "stdout",
     "output_type": "stream",
     "text": [
      "W = [[-0.1   0.97  0.18]\n",
      " [-0.7   0.38  0.93]], b = [0. 0. 0.]\n",
      "V = [[ 1.01  0.09 -0.39]\n",
      " [ 0.79 -0.45 -0.22]\n",
      " [ 0.28  0.96 -0.07]], c = [0. 0. 0.]\n"
     ]
    }
   ],
   "source": [
    "model = Two_Layer_DNN_Classifier()\n",
    "\n",
    "print('W = {}, b = {}'.format(model.W.numpy(), model.b.numpy()))\n",
    "print('V = {}, c = {}'.format(model.V.numpy(), model.c.numpy()))"
   ]
  },
  {
   "cell_type": "markdown",
   "metadata": {},
   "source": [
    "## Train"
   ]
  },
  {
   "cell_type": "code",
   "execution_count": 9,
   "metadata": {},
   "outputs": [
    {
     "name": "stdout",
     "output_type": "stream",
     "text": [
      "epoch: 1\n",
      "z: tensor([[-0.8000,  1.3500,  1.1100],\n",
      "        [-0.7000,  0.3800,  0.9300],\n",
      "        [-3.1000,  4.4300,  4.2600],\n",
      "        [-1.6000,  2.7000,  2.2200],\n",
      "        [ 1.2000,  1.1800, -1.5000],\n",
      "        [ 2.3000, -3.0800, -3.1500]], dtype=torch.float64)\n",
      "h: tensor([[0.3100, 0.7941, 0.7521],\n",
      "        [0.3318, 0.5939, 0.7171],\n",
      "        [0.0431, 0.9882, 0.9861],\n",
      "        [0.1680, 0.9370, 0.9020],\n",
      "        [0.7685, 0.7649, 0.1824],\n",
      "        [0.9089, 0.0439, 0.0411]], dtype=torch.float64)\n",
      "u: tensor([[ 1.1511,  0.3926, -0.3483],\n",
      "        [ 1.0051,  0.4510, -0.3103],\n",
      "        [ 1.1003,  0.5058, -0.3032],\n",
      "        [ 1.1625,  0.4594, -0.3348],\n",
      "        [ 1.4316, -0.0999, -0.4808],\n",
      "        [ 0.9642,  0.1015, -0.3670]], dtype=torch.float64)\n",
      "f(u): tensor([[0.5911, 0.2769, 0.1320],\n",
      "        [0.5426, 0.3118, 0.1456],\n",
      "        [0.5563, 0.3070, 0.1367],\n",
      "        [0.5818, 0.2880, 0.1302],\n",
      "        [0.7332, 0.1585, 0.1083],\n",
      "        [0.5931, 0.2503, 0.1567]], dtype=torch.float64)\n",
      "y: tensor([0, 0, 0, 0, 0, 0])\n",
      "entropy: 7.639149984947761\n",
      "error: 4\n",
      "grad_u: tensor([[-0.4089,  0.2769,  0.1320],\n",
      "        [-0.4574,  0.3118,  0.1456],\n",
      "        [ 0.5563, -0.6930,  0.1367],\n",
      "        [ 0.5818, -0.7120,  0.1302],\n",
      "        [ 0.7332,  0.1585, -0.8917],\n",
      "        [ 0.5931,  0.2503, -0.8433]], dtype=torch.float64)\n",
      "dh: tensor([[0.2139, 0.1635, 0.1864],\n",
      "        [0.2217, 0.2412, 0.2029],\n",
      "        [0.0412, 0.0116, 0.0137],\n",
      "        [0.1398, 0.0590, 0.0884],\n",
      "        [0.1779, 0.1798, 0.1491],\n",
      "        [0.0828, 0.0420, 0.0394]], dtype=torch.float64)\n",
      "grad_z:tensor([[-0.0940, -0.0779,  0.0265],\n",
      "        [-0.1088, -0.1287,  0.0327],\n",
      "        [ 0.0184,  0.0084, -0.0071],\n",
      "        [ 0.0661,  0.0443, -0.0468],\n",
      "        [ 0.1961,  0.1266,  0.0626],\n",
      "        [ 0.0787,  0.0227,  0.0183]], dtype=torch.float64)\n",
      "W = [[-0.13281978  0.94563824  0.17999417]\n",
      " [-0.63745562  0.42058122  0.95432297]], b = [-0.01565173  0.00045791 -0.00861819]\n",
      "V = [[ 0.91543389  0.05108849 -0.25652237]\n",
      " [ 0.68145    -0.36852953 -0.19292047]\n",
      " [ 0.22040178  1.04545665 -0.09585843]], c = [-0.15980831  0.0407535   0.1190548 ]\n",
      "epoch:0, error:4, entropy:7.63915\n",
      "epoch:100, error:0, entropy:1.14306\n",
      "epoch:200, error:0, entropy:0.453855\n",
      "epoch:300, error:0, entropy:0.263958\n",
      "epoch:400, error:0, entropy:0.182105\n"
     ]
    }
   ],
   "source": [
    "entropy, err = [], []\n",
    "for epoch in range(num_epochs):\n",
    "    \n",
    "    z_, h_, u_, p_, y_ = model(X)\n",
    "    entropy_, err_ = loss(K, y_, p_)\n",
    "    grad_u_, dh_, grad_z_ = train(model, X, K, lr)\n",
    "    \n",
    "    if epoch == 0:\n",
    "        print('epoch: {}'.format(epoch+1))\n",
    "        print('z: {}'.format(z_))\n",
    "        print('h: {}'.format(h_))\n",
    "        print('u: {}'.format(u_))\n",
    "        print('f(u): {}'.format(p_))\n",
    "        print('y: {}'.format(y_))\n",
    "        print('entropy: {}'.format(entropy_))\n",
    "        print('error: {}'.format(err_))\n",
    "        print('grad_u: {}'.format(grad_u_))\n",
    "        print('dh: {}'.format(dh_))\n",
    "        print('grad_z:{}'.format(grad_z_))\n",
    "        print('W = {}, b = {}'.format(model.W.numpy(), model.b.numpy()))\n",
    "        print('V = {}, c = {}'.format(model.V.numpy(), model.c.numpy()))\n",
    "    \n",
    "    entropy.append(entropy_)\n",
    "    err.append(err_)\n",
    "    \n",
    "    if not epoch%100:\n",
    "        print('epoch:%d, error:%g, entropy:%g'%(epoch, err[epoch], entropy[epoch]))"
   ]
  },
  {
   "cell_type": "code",
   "execution_count": 10,
   "metadata": {},
   "outputs": [
    {
     "name": "stdout",
     "output_type": "stream",
     "text": [
      "W = [[-1.80267137  0.31596718  0.09123146]\n",
      " [-1.40090016  2.927402    1.9063486 ]], b = [ 4.35090221  0.73119259 -1.72284193]\n",
      "V = [[ 2.91890488 -5.32695673  3.11805185]\n",
      " [ 2.81049361  1.19218685 -3.88268046]\n",
      " [ 0.07463652  4.55452175 -3.45915827]], c = [-1.93824763 -0.06070438  1.998952  ]\n",
      "outputs: tensor([0, 0, 1, 1, 2, 2])\n",
      "entropy: 0.138053\n",
      "error: 0\n"
     ]
    }
   ],
   "source": [
    "print('W = {}, b = {}'.format(model.W.numpy(), model.b.numpy()))\n",
    "print('V = {}, c = {}'.format(model.V.numpy(), model.c.numpy()))\n",
    "\n",
    "print('outputs: {}'.format(y_))\n",
    "print('entropy: %g'%entropy[-1])\n",
    "print('error: %g'%err[-1])"
   ]
  },
  {
   "cell_type": "code",
   "execution_count": 11,
   "metadata": {},
   "outputs": [
    {
     "data": {
      "image/png": "[encoded data removed]",
      "text/plain": [
       "<Figure size 640x480 with 1 Axes>"
      ]
     },
     "metadata": {},
     "output_type": "display_data"
    },
    {
     "data": {
      "image/png": "[encoded data removed]",
      "text/plain": [
       "<Figure size 640x480 with 1 Axes>"
      ]
     },
     "metadata": {},
     "output_type": "display_data"
    }
   ],
   "source": [
    "# plot learning curves\n",
    "plt.figure(1)\n",
    "plt.plot(range(num_epochs), err)\n",
    "plt.xlabel('iterations')\n",
    "plt.ylabel('classification error')\n",
    "plt.title('GD learning')\n",
    "\n",
    "plt.figure(2)\n",
    "plt.plot(range(num_epochs), entropy)\n",
    "plt.xlabel('iterations')\n",
    "plt.ylabel('entropy loss')\n",
    "plt.title('GD learning')"
   ]
  },
  {
   "cell_type": "code",
   "execution_count": 13,
   "metadata": {},
   "outputs": [
    {
     "name": "stdout",
     "output_type": "stream",
     "text": [
      "z: tensor([[-2.2571,  5.9122,  1.3648],\n",
      "        [ 6.3545,  1.7209, -0.9065]], dtype=torch.float64)\n",
      "h: tensor([[0.0947, 0.9973, 0.7965],\n",
      "        [0.9983, 0.8483, 0.2877]], dtype=torch.float64)\n",
      "u: tensor([[ 1.2006,  4.2514, -4.3332],\n",
      "        [ 3.3811, -3.0567,  0.8229]], dtype=torch.float64)\n",
      "f(u): tensor([[4.5175e-02, 9.5465e-01, 1.7848e-04],\n",
      "        [9.2675e-01, 1.4827e-03, 7.1771e-02]], dtype=torch.float64)\n",
      "y: tensor([1, 0])\n"
     ]
    }
   ],
   "source": [
    "# test inputs\n",
    "XX = torch.tensor(np.array([[2.5, 1.5],\n",
    "      [-1.5, 0.5]]))\n",
    "\n",
    "z_, h_, u_, p_, y_ = model(XX)\n",
    "\n",
    "print('z: {}'.format(z_))\n",
    "print('h: {}'.format(h_))\n",
    "print('u: {}'.format(u_))\n",
    "print('f(u): {}'.format(p_))\n",
    "print('y: {}'.format(y_))"
   ]
  },
  {
   "cell_type": "code",
   "execution_count": null,
   "metadata": {},
   "outputs": [],
   "source": []
  }
 ],
 "metadata": {
  "kernelspec": {
   "display_name": "Python 3 (ipykernel)",
   "language": "python",
   "name": "python3"
  },
  "language_info": {
   "codemirror_mode": {
    "name": "ipython",
    "version": 3
   },
   "file_extension": ".py",
   "mimetype": "text/x-python",
   "name": "python",
   "nbconvert_exporter": "python",
   "pygments_lexer": "ipython3",
   "version": "3.11.2"
  }
 },
 "nbformat": 4,
 "nbformat_minor": 4
}
