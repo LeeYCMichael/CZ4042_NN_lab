{
 "cells": [
  {
   "cell_type": "markdown",
   "metadata": {},
   "source": [
    "# Tutorial 4, Question 1: gradient descent learning"
   ]
  },
  {
   "cell_type": "code",
   "execution_count": 1,
   "metadata": {},
   "outputs": [],
   "source": [
    "import torch\n",
    "import numpy as np\n",
    "import matplotlib.pylab as plt"
   ]
  },
  {
   "cell_type": "code",
   "execution_count": 2,
   "metadata": {},
   "outputs": [],
   "source": [
    "lr = 0.05\n",
    "num_epochs = 5000"
   ]
  },
  {
   "cell_type": "code",
   "execution_count": 3,
   "metadata": {},
   "outputs": [
    {
     "name": "stdout",
     "output_type": "stream",
     "text": [
      "x: [[ 1.  3.]\n",
      " [-2. -2.]], y: [[0. 1.]\n",
      " [1. 0.]]\n"
     ]
    }
   ],
   "source": [
    "# training data\n",
    "X = torch.tensor(np.array([[1.0, 3.0], [-2.0, -2.0]]))\n",
    "Y = torch.tensor(np.array([[0.0, 1.0], [1.0, 0.0]]))\n",
    "\n",
    "print('x: %s, y: %s'%(X.numpy(), Y.numpy()))"
   ]
  },
  {
   "cell_type": "code",
   "execution_count": 4,
   "metadata": {},
   "outputs": [],
   "source": [
    "V_init = [[1.0, 1.0], [0, -2]]\n",
    "c_init = [-2.0, 3.0]\n",
    "W_init = [[1.0, 2.0],[-2.0, 0]]\n",
    "b_init = [3.0, -1.0]"
   ]
  },
  {
   "cell_type": "code",
   "execution_count": 5,
   "metadata": {},
   "outputs": [],
   "source": [
    "class Two_Layer_DNN():\n",
    "  def __init__(self):\n",
    "    self.V = torch.tensor(V_init, dtype=torch.double)\n",
    "    self.c = torch.tensor(c_init, dtype=torch.double)\n",
    "    self.W = torch.tensor(W_init, dtype=torch.double)\n",
    "    self.b = torch.tensor(b_init, dtype=torch.double)\n",
    "\n",
    "  def __call__(self, x):\n",
    "    z = torch.matmul(x, self.W) + self.b\n",
    "    h = torch.sigmoid(z)\n",
    "    u = torch.matmul(h, self.V) + self.c\n",
    "    y = torch.sigmoid(u)\n",
    "    return z, h, u, y"
   ]
  },
  {
   "cell_type": "code",
   "execution_count": 6,
   "metadata": {},
   "outputs": [],
   "source": [
    "def loss(targets, outputs):\n",
    "    return torch.mean(torch.square(targets - outputs))"
   ]
  },
  {
   "cell_type": "code",
   "execution_count": 7,
   "metadata": {},
   "outputs": [],
   "source": [
    "def train(model, inputs, d, learning_rate):\n",
    "    z, h, u, y = model(inputs)\n",
    "    dy = y*(1-y)\n",
    "    grad_u = -(d - y)*dy\n",
    "    grad_V = torch.matmul(torch.transpose(h, 0, 1), grad_u)\n",
    "    grad_c = torch.sum(grad_u, axis=0)\n",
    "\n",
    "    dh = h*(1-h)\n",
    "    grad_z = torch.matmul(grad_u, torch.transpose(model.V, 0, 1))*dh\n",
    "    grad_W = torch.matmul(torch.transpose(inputs, 0, 1), grad_z)\n",
    "    grad_b = torch.sum(grad_z, axis=0)\n",
    "\n",
    "    model.W -= learning_rate*grad_W\n",
    "    model.b -= learning_rate*grad_b\n",
    "    model.V -= learning_rate*grad_V\n",
    "    model.c -= learning_rate*grad_c\n",
    "    \n",
    "    return dy, grad_u, dh, grad_z"
   ]
  },
  {
   "cell_type": "code",
   "execution_count": 8,
   "metadata": {},
   "outputs": [
    {
     "name": "stdout",
     "output_type": "stream",
     "text": [
      "W = [[ 1.  2.]\n",
      " [-2.  0.]], b = [ 3. -1.]\n",
      "V = [[ 1.  1.]\n",
      " [ 0. -2.]], c = [-2.  3.]\n"
     ]
    }
   ],
   "source": [
    "model = Two_Layer_DNN()\n",
    "\n",
    "print('W = {}, b = {}'.format(model.W.numpy(), model.b.numpy()))\n",
    "print('V = {}, c = {}'.format(model.V.numpy(), model.c.numpy()))"
   ]
  },
  {
   "cell_type": "code",
   "execution_count": 9,
   "metadata": {},
   "outputs": [
    {
     "name": "stdout",
     "output_type": "stream",
     "text": [
      "epoch: 1\n",
      "z: tensor([[-2.,  1.],\n",
      "        [ 5., -5.]], dtype=torch.float64)\n",
      "h: tensor([[0.1192, 0.7311],\n",
      "        [0.9933, 0.0067]], dtype=torch.float64)\n",
      "u: tensor([[-1.8808,  1.6571],\n",
      "        [-1.0067,  3.9799]], dtype=torch.float64)\n",
      "y: tensor([[0.1323, 0.8398],\n",
      "        [0.2676, 0.9817]], dtype=torch.float64)\n",
      "dy: tensor([[0.1148, 0.1345],\n",
      "        [0.1960, 0.0180]], dtype=torch.float64)\n",
      "grad_u: tensor([[ 0.0152, -0.0215],\n",
      "        [-0.1435,  0.0177]], dtype=torch.float64)\n",
      "dh: tensor([[0.1050, 0.1966],\n",
      "        [0.0066, 0.0066]], dtype=torch.float64)\n",
      "grad_z:tensor([[-0.0007,  0.0085],\n",
      "        [-0.0008, -0.0002]], dtype=torch.float64)\n",
      "cost: 0.3857922619041111\n",
      "W = [[ 9.99949679e-01  1.99955297e+00]\n",
      " [-1.99998360e+00 -1.29409093e-03]], b = [ 3.0000752  -1.00041178]\n",
      "V = [[ 1.00703881e+00  9.99250433e-01]\n",
      " [-5.07093853e-04 -1.99921852e+00]], c = [-1.99358199  3.0001932 ]\n",
      "epoch:0, error: 0.3857922619041111\n",
      "epoch:100, error: 0.3058651282725495\n",
      "epoch:200, error: 0.2797513882817207\n",
      "epoch:300, error: 0.268971024389247\n",
      "epoch:400, error: 0.2613263658462045\n",
      "epoch:500, error: 0.25376789348690854\n",
      "epoch:600, error: 0.24368469339368992\n",
      "epoch:700, error: 0.22482552376758974\n",
      "epoch:800, error: 0.17591053091468545\n",
      "epoch:900, error: 0.09299542508066104\n",
      "epoch:1000, error: 0.058170027280882594\n",
      "epoch:1100, error: 0.045885124825426477\n",
      "epoch:1200, error: 0.0388236764688636\n",
      "epoch:1300, error: 0.03376979728405687\n",
      "epoch:1400, error: 0.029855406879979157\n",
      "epoch:1500, error: 0.026706505044756173\n",
      "epoch:1600, error: 0.024108416472294912\n",
      "epoch:1700, error: 0.02192307844405083\n",
      "epoch:1800, error: 0.02005719729763492\n",
      "epoch:1900, error: 0.018445296321666835\n",
      "epoch:2000, error: 0.01703975709997343\n",
      "epoch:2100, error: 0.01580481730509643\n",
      "epoch:2200, error: 0.0147128652822356\n",
      "epoch:2300, error: 0.013742083117850402\n",
      "epoch:2400, error: 0.01287489904679227\n",
      "epoch:2500, error: 0.012096939202774323\n",
      "epoch:2600, error: 0.011396296230027884\n",
      "epoch:2700, error: 0.010763004453409032\n",
      "epoch:2800, error: 0.010188653248463\n",
      "epoch:2900, error: 0.009666095274497633\n",
      "epoch:3000, error: 0.009189221503485822\n",
      "epoch:3100, error: 0.008752784476918912\n",
      "epoch:3200, error: 0.008352257233610104\n",
      "epoch:3300, error: 0.00798371921804117\n",
      "epoch:3400, error: 0.007643763009455188\n",
      "epoch:3500, error: 0.007329417399901866\n",
      "epoch:3600, error: 0.007038083499304637\n",
      "epoch:3700, error: 0.006767481346885634\n",
      "epoch:3800, error: 0.0065156050799667475\n",
      "epoch:3900, error: 0.006280685128714901\n",
      "epoch:4000, error: 0.006061156217209885\n",
      "epoch:4100, error: 0.005855630188792565\n",
      "epoch:4200, error: 0.0056628728578663285\n",
      "epoch:4300, error: 0.005481784235291116\n",
      "epoch:4400, error: 0.005311381589987561\n",
      "epoch:4500, error: 0.005150784902272954\n",
      "epoch:4600, error: 0.00499920433978995\n",
      "epoch:4700, error: 0.0048559294483817355\n",
      "epoch:4800, error: 0.004720319800720017\n",
      "epoch:4900, error: 0.004591796887067702\n"
     ]
    }
   ],
   "source": [
    "err = []\n",
    "for epoch in range(num_epochs):\n",
    "    \n",
    "    z_, h_, u_, y_ = model(X)\n",
    "    cost_ = loss(Y, y_)\n",
    "    dy_, grad_u_, dh_, grad_z_ = train(model, X, Y, lr)\n",
    "    \n",
    "    err.append(cost_)\n",
    "\n",
    "    if epoch == 0:\n",
    "        print('epoch: {}'.format(epoch+1))\n",
    "        print('z: {}'.format(z_))\n",
    "        print('h: {}'.format(h_))\n",
    "        print('u: {}'.format(u_))\n",
    "        print('y: {}'.format(y_))\n",
    "        print('dy: {}'.format(dy_))\n",
    "        print('grad_u: {}'.format(grad_u_))\n",
    "        print('dh: {}'.format(dh_))\n",
    "        print('grad_z:{}'.format(grad_z_))\n",
    "        print('cost: {}'.format(cost_))\n",
    "        print('W = {}, b = {}'.format(model.W.numpy(), model.b.numpy()))\n",
    "        print('V = {}, c = {}'.format(model.V.numpy(), model.c.numpy()))\n",
    "                    \n",
    "    if not epoch%100:\n",
    "        print('epoch:{}, error: {}'.format(epoch,err[epoch]))"
   ]
  },
  {
   "cell_type": "code",
   "execution_count": 10,
   "metadata": {},
   "outputs": [
    {
     "name": "stdout",
     "output_type": "stream",
     "text": [
      "W = [[ 0.62506067  0.60035651]\n",
      " [-2.99956491 -1.99248792]], b = [ 2.71900048 -0.74481158]\n",
      "V = [[ 4.97482301 -3.46352222]\n",
      " [ 0.24645499 -2.37263065]], c = [-2.42727341  2.56119537]\n",
      "y: tensor([[0.0825, 0.9272],\n",
      "        [0.9406, 0.0474]], dtype=torch.float64)\n",
      "error: 0.004469837066944355\n"
     ]
    }
   ],
   "source": [
    "print('W = {}, b = {}'.format(model.W.numpy(), model.b.numpy()))\n",
    "print('V = {}, c = {}'.format(model.V.numpy(), model.c.numpy()))\n",
    "\n",
    "_, _, _, y_ = model(X)\n",
    "mse = loss(Y, y_)\n",
    "\n",
    "print('y: {}'.format(y_))\n",
    "print('error: {}'.format(mse))"
   ]
  },
  {
   "cell_type": "code",
   "execution_count": 11,
   "metadata": {},
   "outputs": [
    {
     "data": {
      "image/png": "[encoded data removed]",
      "text/plain": [
       "<Figure size 640x480 with 1 Axes>"
      ]
     },
     "metadata": {},
     "output_type": "display_data"
    }
   ],
   "source": [
    "# plot learning curves\n",
    "plt.figure(1)\n",
    "plt.plot(range(num_epochs), err)\n",
    "plt.xlabel('epochs')\n",
    "plt.ylabel('mean square error')\n",
    "plt.title('GD learning')"
   ]
  }
 ],
 "metadata": {
  "kernelspec": {
   "display_name": "Python 3 (ipykernel)",
   "language": "python",
   "name": "python3"
  },
  "language_info": {
   "codemirror_mode": {
    "name": "ipython",
    "version": 3
   },
   "file_extension": ".py",
   "mimetype": "text/x-python",
   "name": "python",
   "nbconvert_exporter": "python",
   "pygments_lexer": "ipython3",
   "version": "3.11.2"
  }
 },
 "nbformat": 4,
 "nbformat_minor": 4
}
