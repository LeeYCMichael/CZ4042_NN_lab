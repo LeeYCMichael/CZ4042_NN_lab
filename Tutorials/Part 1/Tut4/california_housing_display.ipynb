{
 "cells": [
  {
   "cell_type": "code",
   "execution_count": 1,
   "id": "b6d476c3",
   "metadata": {},
   "outputs": [],
   "source": [
    "from sklearn.datasets import fetch_california_housing\n",
    "from sklearn.model_selection  import train_test_split\n",
    "from sklearn import preprocessing"
   ]
  },
  {
   "cell_type": "code",
   "execution_count": 2,
   "id": "94072df6",
   "metadata": {},
   "outputs": [
    {
     "name": "stdout",
     "output_type": "stream",
     "text": [
      "(14448, 8)\n",
      "(6192,)\n"
     ]
    }
   ],
   "source": [
    "X, y = fetch_california_housing(return_X_y=True)\n",
    "\n",
    "# Split the data into a training set and a test set\n",
    "x_train, x_test, y_train, y_test = train_test_split(X, y, test_size=0.3, random_state=0)\n",
    "\n",
    "print(x_train.shape)\n",
    "print(y_test.shape)"
   ]
  },
  {
   "cell_type": "code",
   "execution_count": 5,
   "id": "52abf04c",
   "metadata": {},
   "outputs": [
    {
     "name": "stdout",
     "output_type": "stream",
     "text": [
      "[[-1.00030408e+00  1.85620980e+00 -1.14682300e+00 -8.71975288e-01\n",
      "  -1.07186955e+00  2.59828287e-01  5.13963868e-01 -1.11313968e-01]\n",
      " [-8.49386019e-01  1.14171192e+00 -7.65854761e-01  1.97334926e-01\n",
      "  -5.12515556e-01 -3.27132332e-03  9.99934624e-01 -1.31738380e+00]\n",
      " [ 1.28620508e+00 -9.22393073e-01  4.61027223e-01 -1.51583971e-02\n",
      "  -3.31935474e-02  1.12103925e-01 -8.22455710e-01  7.60843966e-01]\n",
      " [-1.13519966e+00 -9.22393073e-01 -1.27009952e+00  2.23585256e-01\n",
      "   1.41434152e+00  1.52625950e-03 -7.33672591e-01  6.41233735e-01]\n",
      " [-8.70432056e-01  1.69743250e+00 -3.50004428e-01  1.47772127e-01\n",
      "  -7.12595523e-01  8.56480538e-02  5.13963868e-01 -1.21281488e-01]]\n",
      "[0.475 1.    2.858 1.75  0.592]\n"
     ]
    }
   ],
   "source": [
    "scaler = preprocessing.StandardScaler()\n",
    "x_train = scaler.fit_transform(x_train)\n",
    "x_test = scaler.fit_transform(x_test)\n",
    "\n",
    "print(x_train[:5,])\n",
    "print(y_train[:5])"
   ]
  },
  {
   "cell_type": "code",
   "execution_count": null,
   "id": "be98967d",
   "metadata": {},
   "outputs": [],
   "source": []
  }
 ],
 "metadata": {
  "kernelspec": {
   "display_name": "Python 3 (ipykernel)",
   "language": "python",
   "name": "python3"
  },
  "language_info": {
   "codemirror_mode": {
    "name": "ipython",
    "version": 3
   },
   "file_extension": ".py",
   "mimetype": "text/x-python",
   "name": "python",
   "nbconvert_exporter": "python",
   "pygments_lexer": "ipython3",
   "version": "3.11.2"
  }
 },
 "nbformat": 4,
 "nbformat_minor": 5
}
