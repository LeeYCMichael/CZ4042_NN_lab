{
 "cells": [
  {
   "cell_type": "code",
   "execution_count": 56,
   "metadata": {},
   "outputs": [],
   "source": [
    "import torch\n",
    "from torch import nn\n",
    "import numpy as np\n",
    "import matplotlib.pylab as plt\n",
    "from sklearn import datasets\n",
    "from torch.utils.data import DataLoader\n",
    "from torch.utils.data import Dataset\n",
    "from sklearn.model_selection import train_test_split"
   ]
  },
  {
   "cell_type": "markdown",
   "metadata": {},
   "source": [
    "# Q1"
   ]
  },
  {
   "cell_type": "code",
   "execution_count": 13,
   "metadata": {},
   "outputs": [],
   "source": [
    "X = np.array([[0,4], [-1,3], [2, 3],[-2,2],[0,2],[1,2],[-1,2],[-3,1],[-1,1],[2,1],[4,1],[-2,0],[1,0],[3,0],[-3,-1],[-2,-1],[2,-1],[4,-1]]).astype(float)\n",
    "Y = np.array([0,0,0,1,1,0,1,1,1,2,2,1,2,2,1,1,2,2]).astype(int)\n",
    "num_classes = 3\n",
    "num_data = len(X)\n",
    "K = np.zeros((num_data, num_classes)).astype(float)\n",
    "for p in range(len(Y)):\n",
    "    K[p,Y[p]] = 1"
   ]
  },
  {
   "cell_type": "code",
   "execution_count": 26,
   "metadata": {},
   "outputs": [],
   "source": [
    "class Softmax_layer():\n",
    "  def __init__(self, no_features, no_labels):\n",
    "    self.w = torch.tensor(np.array([[0.88, 0.08,-0.34],[0.68,-0.39,-0.19]]), dtype=torch.double)\n",
    "    self.b = torch.tensor(np.array([0,0,0]), dtype=torch.double)\n",
    "    \n",
    "  def __call__(self, x):\n",
    "    u = torch.matmul(torch.tensor(x), self.w) + self.b\n",
    "    p = torch.exp(u)/torch.sum(torch.exp(u), dim=1, keepdims=True)\n",
    "    y = torch.argmax(p, dim=1)\n",
    "    return u, p, y\n",
    "        "
   ]
  },
  {
   "cell_type": "code",
   "execution_count": 81,
   "metadata": {},
   "outputs": [],
   "source": [
    "def loss(target_label, pred_label, logits):\n",
    "    entropy = -torch.sum(torch.log(logits)*target_label)\n",
    "    error = torch.sum(torch.not_equal(torch.argmax(target_label, dim=1), pred_label))\n",
    "    \n",
    "    return error, entropy\n",
    "    \n",
    "def train(model, inputs, target_label, learning_rate):\n",
    "    u, p, y = model(inputs)\n",
    "    grad_u = -(target_label-p)\n",
    "    model.w -= learning_rate*torch.matmul(torch.transpose(torch.tensor(inputs), 0, 1), grad_u) \n",
    "    model.b -= learning_rate*torch.sum(grad_u, dim = 0) \n",
    "    \n",
    "    return grad_u, torch.matmul(torch.transpose(torch.tensor(inputs), 0, 1), grad_u), torch.sum(grad_u, dim = 0) \n",
    "    "
   ]
  },
  {
   "cell_type": "code",
   "execution_count": 82,
   "metadata": {},
   "outputs": [],
   "source": [
    "model = Softmax_layer(2,3)"
   ]
  },
  {
   "cell_type": "code",
   "execution_count": 83,
   "metadata": {},
   "outputs": [
    {
     "name": "stderr",
     "output_type": "stream",
     "text": [
      "C:\\Users\\micha\\AppData\\Local\\Temp\\ipykernel_29916\\3171815091.py:7: UserWarning: To copy construct from a tensor, it is recommended to use sourceTensor.clone().detach() or sourceTensor.clone().detach().requires_grad_(True), rather than torch.tensor(sourceTensor).\n",
      "  u = torch.matmul(torch.tensor(x), self.w) + self.b\n",
      "C:\\Users\\micha\\AppData\\Local\\Temp\\ipykernel_29916\\4206595916.py:10: UserWarning: To copy construct from a tensor, it is recommended to use sourceTensor.clone().detach() or sourceTensor.clone().detach().requires_grad_(True), rather than torch.tensor(sourceTensor).\n",
      "  model.w -= learning_rate*torch.matmul(torch.transpose(torch.tensor(inputs), 0, 1), grad_u)\n",
      "C:\\Users\\micha\\AppData\\Local\\Temp\\ipykernel_29916\\4206595916.py:13: UserWarning: To copy construct from a tensor, it is recommended to use sourceTensor.clone().detach() or sourceTensor.clone().detach().requires_grad_(True), rather than torch.tensor(sourceTensor).\n",
      "  return grad_u, torch.matmul(torch.transpose(torch.tensor(inputs), 0, 1), grad_u), torch.sum(grad_u, dim = 0)\n"
     ]
    },
    {
     "name": "stdout",
     "output_type": "stream",
     "text": [
      "epoch: 1\n",
      "u: [[ 2.72 -1.56 -0.76]\n",
      " [ 1.16 -1.25 -0.23]\n",
      " [ 3.8  -1.01 -1.25]\n",
      " [-0.4  -0.94  0.3 ]\n",
      " [ 1.36 -0.78 -0.38]\n",
      " [ 2.24 -0.7  -0.72]\n",
      " [ 0.48 -0.86 -0.04]\n",
      " [-1.96 -0.63  0.83]\n",
      " [-0.2  -0.47  0.15]\n",
      " [ 2.44 -0.23 -0.87]\n",
      " [ 4.2  -0.07 -1.55]\n",
      " [-1.76 -0.16  0.68]\n",
      " [ 0.88  0.08 -0.34]\n",
      " [ 2.64  0.24 -1.02]\n",
      " [-3.32  0.15  1.21]\n",
      " [-2.44  0.23  0.87]\n",
      " [ 1.08  0.55 -0.49]\n",
      " [ 2.84  0.71 -1.17]]\n",
      "p: [[0.95725834 0.013251   0.02949065]\n",
      " [0.74688701 0.06708188 0.18603111]\n",
      " [0.98565168 0.00803095 0.00631737]\n",
      " [0.27804803 0.162032   0.55991997]\n",
      " [0.7732904  0.09098136 0.13572824]\n",
      " [0.90523572 0.04785595 0.04690833]\n",
      " [0.53868681 0.14105281 0.32026038]\n",
      " [0.04747873 0.17951914 0.77300213]\n",
      " [0.31422361 0.23987186 0.44590453]\n",
      " [0.90434851 0.06262815 0.03302335]\n",
      " [0.98312509 0.01374584 0.00312907]\n",
      " [0.05738527 0.28423113 0.6583836 ]\n",
      " [0.57321072 0.25756018 0.1692291 ]\n",
      " [0.89569581 0.08125569 0.0230485 ]\n",
      " [0.00794311 0.25526562 0.73679127]\n",
      " [0.02335079 0.33718476 0.63946445]\n",
      " [0.55659139 0.32761246 0.11579616]\n",
      " [0.87953015 0.10452098 0.01594887]]\n",
      "y: [0 0 0 2 0 0 0 2 2 0 0 2 0 0 2 2 0 0]\n",
      "entropy: 34.4993918129048\n",
      "error: 14\n",
      "grad_u: [[-0.04274166  0.013251    0.02949065]\n",
      " [-0.25311299  0.06708188  0.18603111]\n",
      " [-0.01434832  0.00803095  0.00631737]\n",
      " [ 0.27804803 -0.837968    0.55991997]\n",
      " [ 0.7732904  -0.90901864  0.13572824]\n",
      " [-0.09476428  0.04785595  0.04690833]\n",
      " [ 0.53868681 -0.85894719  0.32026038]\n",
      " [ 0.04747873 -0.82048086  0.77300213]\n",
      " [ 0.31422361 -0.76012814  0.44590453]\n",
      " [ 0.90434851  0.06262815 -0.96697665]\n",
      " [ 0.98312509  0.01374584 -0.99687093]\n",
      " [ 0.05738527 -0.71576887  0.6583836 ]\n",
      " [ 0.57321072  0.25756018 -0.8307709 ]\n",
      " [ 0.89569581  0.08125569 -0.9769515 ]\n",
      " [ 0.00794311 -0.74473438  0.73679127]\n",
      " [ 0.02335079 -0.66281524  0.63946445]\n",
      " [ 0.55659139  0.32761246 -0.88420384]\n",
      " [ 0.87953015  0.10452098 -0.98405113]]\n",
      "grad_w: [[ 12.0257068   12.49953702 -24.52524382]\n",
      " [  2.79893186  -5.36663209   2.56770023]]\n",
      "grad_b: [ 6.42794117 -5.32631825 -1.10162292]\n",
      "w: [[ 0.27871466 -0.54497685  0.88626219]\n",
      " [ 0.54005341 -0.1216684  -0.31838501]], b: [-0.32139706  0.26631591  0.05508115]\n",
      "epoch:100, loss:1.939335061907501, error:1\n",
      "epoch:200, loss:1.5386429515867945, error:0\n",
      "epoch:300, loss:1.3196513601323665, error:0\n",
      "epoch:400, loss:1.1708308608797948, error:0\n",
      "epoch:500, loss:1.0594399682370839, error:0\n",
      "epoch:600, loss:0.9713460028593688, error:0\n",
      "epoch:700, loss:0.8991252487564352, error:0\n",
      "epoch:800, loss:0.8383842013226128, error:0\n",
      "epoch:900, loss:0.7863064630542276, error:0\n",
      "epoch:1000, loss:0.7409800567923748, error:0\n",
      "epoch:1100, loss:0.7010494424939513, error:0\n",
      "epoch:1200, loss:0.6655201826148325, error:0\n",
      "epoch:1300, loss:0.6336422301653581, error:0\n",
      "epoch:1400, loss:0.6048366717795157, error:0\n",
      "epoch:1500, loss:0.5786478722399049, error:0\n"
     ]
    }
   ],
   "source": [
    "loss_list = []\n",
    "error_list = []\n",
    "\n",
    "for epoch in range(1500):\n",
    "    activation, logits, labels = model(X)\n",
    "    error, entropy = loss(torch.tensor(K), labels, logits)\n",
    "    loss_list.append(entropy)\n",
    "    error_list.append(error)\n",
    "    \n",
    "    grad_u, grad_w, grad_b = train(model, torch.tensor(X), torch.tensor(K), 0.05)\n",
    "    \n",
    "    if (epoch == 0):\n",
    "        print('epoch: {}'.format(epoch+1))\n",
    "        print('u: {}'.format(activation.numpy()))\n",
    "        print('p: {}'.format(logits.numpy()))\n",
    "        print('y: {}'.format(labels.numpy()))\n",
    "        print('entropy: {}'.format(entropy.numpy()))\n",
    "        print('error: {}'.format(error.numpy()))\n",
    "        print('grad_u: {}'.format(grad_u.numpy()))\n",
    "        print('grad_w: {}'.format(grad_w.numpy()))\n",
    "        print('grad_b: {}'.format(grad_b.numpy()))\n",
    "\n",
    "        print('w: {}, b: {}'.format(model.w.numpy(), model.b.numpy()))\n",
    "        \n",
    "    if epoch%100 == 99:\n",
    "        print('epoch:{}, loss:{}, error:{}'.format(epoch+1,loss_list[epoch], error_list[epoch]))\n",
    "    "
   ]
  },
  {
   "cell_type": "code",
   "execution_count": 84,
   "metadata": {},
   "outputs": [
    {
     "name": "stdout",
     "output_type": "stream",
     "text": [
      "w: [[-0.15320849 -3.40661893  4.17982742]\n",
      " [ 5.2708133  -1.02061255 -4.15020075]], b: [-7.82371996  5.8055438   2.01817615]\n",
      "p: [[9.99990202e-01 9.79770417e-06 8.14126679e-13]\n",
      " [8.79859236e-01 1.20140764e-01 1.15917087e-10]\n",
      " [9.99933988e-01 7.89734937e-06 5.81149737e-05]\n",
      " [5.25225772e-04 9.99474774e-01 1.11974288e-11]\n",
      " [2.59996378e-01 7.39971500e-01 3.21214063e-05]\n",
      " [8.93278025e-01 9.83207737e-02 8.40120121e-03]\n",
      " [1.34060759e-02 9.86593902e-01 2.17571218e-08]\n",
      " [3.77073106e-08 9.99999962e-01 1.30087588e-13]\n",
      " [2.52111422e-05 9.99974285e-01 5.04031633e-07]\n",
      " [1.13341797e-04 2.60027470e-04 9.99626631e-01]\n",
      " [1.95657859e-08 6.71348961e-11 9.99999980e-01]\n",
      " [1.80906874e-09 9.99999992e-01 5.85272829e-09]\n",
      " [6.85318021e-07 2.19113889e-02 9.78087926e-01]\n",
      " [1.20909182e-10 5.78174485e-09 9.99999994e-01]\n",
      " [1.29809494e-13 1.00000000e+00 6.79591237e-11]\n",
      " [3.35656805e-12 9.99999866e-01 1.33771702e-07]\n",
      " [7.47172792e-13 4.97931159e-07 9.99999502e-01]\n",
      " [1.28933656e-16 1.28509856e-13 1.00000000e+00]]\n",
      "y: [0 0 0 1 1 0 1 1 1 2 2 1 2 2 1 1 2 2]\n",
      "entropy: 0.5786478722399049\n",
      "error: 0\n",
      "loss:0.5786478722399049, error:0\n"
     ]
    }
   ],
   "source": [
    "print('w: {}, b: {}'.format(model.w.numpy(), model.b.numpy()))\n",
    "print('p: {}'.format(logits.numpy()))\n",
    "print('y: {}'.format(labels.numpy()))\n",
    "print('entropy: {}'.format(entropy.numpy()))\n",
    "print('error: {}'.format(error.numpy()))\n",
    "print('loss:{}, error:{}'.format(loss_list[-1], error_list[-1]))"
   ]
  },
  {
   "cell_type": "code",
   "execution_count": 85,
   "metadata": {},
   "outputs": [
    {
     "data": {
      "text/plain": [
       "1500"
      ]
     },
     "execution_count": 85,
     "metadata": {},
     "output_type": "execute_result"
    }
   ],
   "source": [
    "len(loss_list)"
   ]
  },
  {
   "cell_type": "code",
   "execution_count": 87,
   "metadata": {},
   "outputs": [
    {
     "data": {
      "text/plain": [
       "Text(0, 0.5, 'cross-entropy')"
      ]
     },
     "execution_count": 87,
     "metadata": {},
     "output_type": "execute_result"
    },
    {
     "data": {
      "image/png": "[encoded data removed]",
      "text/plain": [
       "<Figure size 640x480 with 1 Axes>"
      ]
     },
     "metadata": {},
     "output_type": "display_data"
    }
   ],
   "source": [
    "plt.figure(2)\n",
    "plt.plot(range(1500), loss_list)\n",
    "plt.xlabel('epochs')\n",
    "plt.ylabel('cross-entropy')"
   ]
  },
  {
   "cell_type": "code",
   "execution_count": 88,
   "metadata": {},
   "outputs": [
    {
     "data": {
      "text/plain": [
       "Text(0, 0.5, 'Classification error')"
      ]
     },
     "execution_count": 88,
     "metadata": {},
     "output_type": "execute_result"
    },
    {
     "data": {
      "image/png": "[encoded data removed]",
      "text/plain": [
       "<Figure size 640x480 with 1 Axes>"
      ]
     },
     "metadata": {},
     "output_type": "display_data"
    }
   ],
   "source": [
    "plt.figure(2)\n",
    "plt.plot(range(1500), error_list)\n",
    "plt.xlabel('epochs')\n",
    "plt.ylabel('Classification error')"
   ]
  },
  {
   "cell_type": "code",
   "execution_count": 89,
   "metadata": {},
   "outputs": [],
   "source": [
    "w_, b_ = model.w.numpy(), model.b.numpy()\n",
    "ww, bb = np.zeros((3, 2)), np.zeros(3)\n"
   ]
  },
  {
   "cell_type": "code",
   "execution_count": null,
   "metadata": {},
   "outputs": [],
   "source": [
    "for i in range(3):\n",
    "    ww[i, :] = w_[:, i] - w_[:, (i+1)%3]\n",
    "    bb[i] = b_[i] - b_[(i+1)%3]"
   ]
  },
  {
   "cell_type": "markdown",
   "metadata": {},
   "source": [
    "# Q2"
   ]
  },
  {
   "cell_type": "code",
   "execution_count": 262,
   "metadata": {},
   "outputs": [],
   "source": [
    "SEED = 100\n",
    "torch.manual_seed(SEED)\n",
    "np.random.seed(SEED)"
   ]
  },
  {
   "cell_type": "code",
   "execution_count": 263,
   "metadata": {},
   "outputs": [],
   "source": [
    "iris = datasets.load_iris()\n",
    "num_classes = 3\n",
    "num_data = len(iris.target)"
   ]
  },
  {
   "cell_type": "code",
   "execution_count": 277,
   "metadata": {},
   "outputs": [],
   "source": [
    "class Softmax_layer():\n",
    "  def __init__(self, no_features, no_labels):\n",
    "    self.w = torch.tensor(np.random.normal(0., 0.1, (no_features, no_labels)), dtype=torch.double)\n",
    "    self.b = torch.tensor(0.1*np.random.rand(no_labels), dtype=torch.double)\n",
    "    \n",
    "  def __call__(self, x):\n",
    "    u = torch.matmul(torch.tensor(x), self.w) + self.b\n",
    "    p = torch.exp(u)/torch.sum(torch.exp(u), dim=1, keepdims=True)\n",
    "    y = torch.argmax(p, dim=1)\n",
    "    return u, p, y\n",
    "        \n",
    "def loss_f(target_label, pred_label, logits):\n",
    "    entropy = -torch.sum(torch.log(logits)*target_label)\n",
    "    # error = torch.sum(torch.not_equal(torch.argmax(target_label, dim=1), pred_label))\n",
    "    \n",
    "    return entropy\n",
    "    \n",
    "def train(model, inputs, target_label, learning_rate):\n",
    "    u, p, y = model(inputs)\n",
    "    grad_u = -(target_label-p)\n",
    "    model.w -= learning_rate*torch.matmul(torch.transpose(torch.tensor(inputs), 0, 1), grad_u) \n",
    "    model.b -= learning_rate*torch.sum(grad_u, dim = 0) \n",
    "    \n",
    "    return grad_u, torch.matmul(torch.transpose(torch.tensor(inputs), 0, 1), grad_u), torch.sum(grad_u, dim = 0) \n",
    "    "
   ]
  },
  {
   "cell_type": "code",
   "execution_count": 268,
   "metadata": {},
   "outputs": [],
   "source": [
    "X_train, X_test, y_train, y_test = train_test_split(iris['data'], iris.target, test_size=0.4, random_state=2)"
   ]
  },
  {
   "cell_type": "code",
   "execution_count": 271,
   "metadata": {},
   "outputs": [],
   "source": [
    "class MyDataset(Dataset):\n",
    "  def __init__(self, X, y):\n",
    "    self.X =torch.tensor(X, dtype=torch.double)\n",
    "    self.y =torch.tensor(y)\n",
    "    \n",
    "  def __len__(self):\n",
    "    return len(self.y)\n",
    "\n",
    "  def __getitem__(self,idx):\n",
    "    return self.X[idx], self.y[idx]"
   ]
  },
  {
   "cell_type": "code",
   "execution_count": 272,
   "metadata": {},
   "outputs": [],
   "source": [
    "batch_size = 16\n",
    "train_data = MyDataset(X_train, y_train)\n",
    "test_data = MyDataset(X_test, y_test)\n",
    "\n",
    "train_dataloader = DataLoader(train_data, batch_size=batch_size, shuffle=True)\n",
    "test_dataloader = DataLoader(test_data, batch_size=batch_size, shuffle=True)"
   ]
  },
  {
   "cell_type": "code",
   "execution_count": 306,
   "metadata": {},
   "outputs": [
    {
     "data": {
      "text/plain": [
       "tensor(1.1343, dtype=torch.float64)"
      ]
     },
     "execution_count": 306,
     "metadata": {},
     "output_type": "execute_result"
    }
   ],
   "source": [
    "torch.mean(-torch.sum(torch.log(torch.softmax(logits, dim = 1))*K))/16"
   ]
  },
  {
   "cell_type": "code",
   "execution_count": 291,
   "metadata": {},
   "outputs": [
    {
     "name": "stderr",
     "output_type": "stream",
     "text": [
      "C:\\Users\\micha\\AppData\\Local\\Temp\\ipykernel_11756\\2743265143.py:7: UserWarning: To copy construct from a tensor, it is recommended to use sourceTensor.clone().detach() or sourceTensor.clone().detach().requires_grad_(True), rather than torch.tensor(sourceTensor).\n",
      "  u = torch.matmul(torch.tensor(x), self.w) + self.b\n"
     ]
    },
    {
     "name": "stdout",
     "output_type": "stream",
     "text": [
      "epoch:100, loss:0.0\n",
      "SSepoch:100, loss:0.0\n",
      "epoch:200, loss:0.0\n",
      "SSepoch:200, loss:0.0\n",
      "epoch:300, loss:0.0\n",
      "SSepoch:300, loss:0.0\n",
      "epoch:400, loss:0.0\n",
      "SSepoch:400, loss:0.0\n",
      "epoch:500, loss:0.0\n",
      "SSepoch:500, loss:0.0\n",
      "epoch:600, loss:0.0\n",
      "SSepoch:600, loss:0.0\n",
      "epoch:700, loss:0.0\n",
      "SSepoch:700, loss:0.0\n",
      "epoch:800, loss:0.0\n",
      "SSepoch:800, loss:0.0\n",
      "epoch:900, loss:0.0\n",
      "SSepoch:900, loss:0.0\n",
      "epoch:1000, loss:0.0\n",
      "SSepoch:1000, loss:0.0\n"
     ]
    }
   ],
   "source": [
    "model = Softmax_layer(4,3)\n",
    "loss_list = []\n",
    "dd = []\n",
    "for epoch in range(1000):\n",
    "    loss = 0\n",
    "    d_loss = 0\n",
    "    size = len(train_dataloader.dataset)\n",
    "    for batch, (X, y) in enumerate(train_dataloader):\n",
    "\n",
    "        activation, logits, labels = model(X)\n",
    "        \n",
    "\n",
    "        K = np.zeros((len(y), 3)).astype(float)\n",
    "        for p in range(len(y)):\n",
    "            K[p,y[p]] = 1\n",
    "\n",
    "        losss = loss_f(torch.tensor(K), labels, logits)\n",
    "\n",
    "        loss_fn = nn.CrossEntropyLoss()\n",
    "        train_loss = loss_fn( logits ,torch.tensor(K))\n",
    "        break\n",
    "        # print(train_loss, a) \n",
    "        \n",
    "        grad_u, grad_w, grad_b = train(model, torch.tensor(X), torch.tensor(K), 0.1)\n",
    "        loss += train_loss\n",
    "        d_loss += losss\n",
    "    loss_list.append(loss/size)    \n",
    "    dd.append(d_loss/size) \n",
    "    if epoch%100 == 99:\n",
    "        print('epoch:{}, loss:{}'.format(epoch+1,loss_list[epoch]))\n",
    "        print('SSepoch:{}, loss:{}'.format(epoch+1,dd[epoch]))"
   ]
  }
 ],
 "metadata": {
  "kernelspec": {
   "display_name": "cz4042_nn",
   "language": "python",
   "name": "python3"
  },
  "language_info": {
   "codemirror_mode": {
    "name": "ipython",
    "version": 3
   },
   "file_extension": ".py",
   "mimetype": "text/x-python",
   "name": "python",
   "nbconvert_exporter": "python",
   "pygments_lexer": "ipython3",
   "version": "3.11.4"
  },
  "orig_nbformat": 4
 },
 "nbformat": 4,
 "nbformat_minor": 2
}
