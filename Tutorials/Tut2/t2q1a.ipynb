{
 "cells": [
  {
   "cell_type": "markdown",
   "metadata": {},
   "source": [
    "# Tutorial 2, Example 1a"
   ]
  },
  {
   "cell_type": "code",
   "execution_count": 1,
   "metadata": {},
   "outputs": [],
   "source": [
    "import torch\n",
    "import numpy as np\n",
    "import matplotlib.pylab as plt"
   ]
  },
  {
   "cell_type": "code",
   "execution_count": 3,
   "metadata": {},
   "outputs": [],
   "source": [
    "no_epochs = 200\n",
    "lr = 0.01\n",
    "\n",
    "SEED = 10\n",
    "np.random.seed(SEED)"
   ]
  },
  {
   "cell_type": "code",
   "execution_count": 4,
   "metadata": {},
   "outputs": [],
   "source": [
    "# Given training data\n",
    "X = np.array([[0.09, -0.44, -0.15],\n",
    "              [0.69, -0.99, -0.76],\n",
    "              [0.34, 0.65, -0.73],\n",
    "              [0.15, 0.78, -0.58],\n",
    "              [-0.63, -0.78, -0.56],\n",
    "              [0.96, 0.62, -0.66],\n",
    "              [0.63, -0.45, -0.14],\n",
    "              [0.88, 0.64, -0.33]])\n",
    "Y = np.array([-2.57, -2.97, 0.96, 1.04, -3.21, 1.05, -2.39, 0.66])\n",
    "\n",
    "# initialize the weights and biases\n",
    "w = np.array([0.77, 0.02, 0.63])\n",
    "b = 0.0"
   ]
  },
  {
   "cell_type": "code",
   "execution_count": 5,
   "metadata": {},
   "outputs": [],
   "source": [
    "# class for a linear neuron\n",
    "class Linear():\n",
    "  def __init__(self):\n",
    "    self.w = torch.tensor(w, dtype=torch.double)\n",
    "    self.b = torch.tensor(b, dtype=torch.double)\n",
    "\n",
    "  def __call__(self, x):\n",
    "    return torch.inner(torch.tensor(x) ,self.w) + self.b"
   ]
  },
  {
   "cell_type": "code",
   "execution_count": 6,
   "metadata": {},
   "outputs": [],
   "source": [
    "# squared error as the loss function\n",
    "def loss(predicted_y, target_y):\n",
    "  return torch.square(predicted_y - torch.tensor(target_y))"
   ]
  },
  {
   "cell_type": "code",
   "execution_count": 7,
   "metadata": {},
   "outputs": [],
   "source": [
    "# funtion executing a training step\n",
    "def train_step(model, x, d, learning_rate):\n",
    "    y = model(x)\n",
    "    loss_ = loss(y, d)\n",
    "    grad_w = -(d - y)*x\n",
    "    grad_b = -(d - y)\n",
    "    model.w -= learning_rate * grad_w\n",
    "    model.b -= learning_rate * grad_b"
   ]
  },
  {
   "cell_type": "code",
   "execution_count": 8,
   "metadata": {},
   "outputs": [
    {
     "name": "stdout",
     "output_type": "stream",
     "text": [
      "w: [0.77 0.02 0.63], b: 0.0\n"
     ]
    }
   ],
   "source": [
    "# create a linear neuron\n",
    "model = Linear()\n",
    "print('w: {}, b: {}'.format(model.w.numpy(), model.b.numpy()))"
   ]
  },
  {
   "cell_type": "markdown",
   "metadata": {},
   "source": [
    "## SGD Training Starts"
   ]
  },
  {
   "cell_type": "code",
   "execution_count": 9,
   "metadata": {},
   "outputs": [
    {
     "name": "stdout",
     "output_type": "stream",
     "text": [
      "epoch: 1\n",
      "p: 1\n",
      "x:[ 0.34  0.65 -0.73], d:0.96\n",
      "y: -0.18509999999999996\n",
      "se: 1.31125401\n",
      "w: [0.77389334 0.02744315 0.62164077], b: 0.011451000000000001\n",
      "epoch: 1\n",
      "p: 2\n",
      "x:[ 0.15  0.78 -0.58], d:1.04\n",
      "y: -0.21161098859999997\n",
      "se: 1.5665300667842692\n",
      "w: [0.77577076 0.03720572 0.61438143], b: 0.023967109886000003\n",
      "epoch: 1\n",
      "p: 3\n",
      "x:[ 0.63 -0.45 -0.14], d:-2.39\n",
      "y: 0.4099467147229841\n",
      "se: 7.839701605288032\n",
      "w: [0.75813109 0.04980548 0.61830135], b: -0.00403235726122984\n",
      "epoch: 1\n",
      "p: 4\n",
      "x:[ 0.88  0.64 -0.33], d:0.66\n",
      "y: 0.49095906240076975\n",
      "se: 0.028574838584426866\n",
      "w: [0.75961865 0.05088734 0.61774352], b: -0.0023419478852375374\n",
      "epoch: 1\n",
      "p: 5\n",
      "x:[ 0.09 -0.44 -0.15], d:-2.57\n",
      "y: -0.0490282253406502\n",
      "se: 6.355298688629111\n",
      "w: [0.75734978 0.06197961 0.62152497], b: -0.027551665631831035\n",
      "epoch: 1\n",
      "p: 6\n",
      "x:[-0.63 -0.78 -0.56], d:-3.21\n",
      "y: -0.9010801099529875\n",
      "se: 5.331111058654709\n",
      "w: [0.77189597 0.07998919 0.63445493], b: -0.050640864532301155\n",
      "epoch: 1\n",
      "p: 7\n",
      "x:[ 0.96  0.62 -0.66], d:1.05\n",
      "y: 0.32123231587957524\n",
      "se: 0.5311023374182473\n",
      "w: [0.77889214 0.08450755 0.62964506], b: -0.0433531876910969\n",
      "epoch: 1\n",
      "p: 8\n",
      "x:[ 0.69 -0.99 -0.76], d:-2.97\n",
      "y: -0.06811032688610988\n",
      "se: 8.42096367492504\n",
      "w: [0.7588691  0.11323626 0.65169942], b: -0.0723720844222358\n",
      "epoch:  10, mse: 1.8678\n",
      "epoch:  20, mse: 0.9499\n",
      "epoch:  30, mse: 0.5453\n",
      "epoch:  40, mse: 0.3542\n",
      "epoch:  50, mse: 0.2575\n",
      "epoch:  60, mse: 0.2042\n",
      "epoch:  70, mse: 0.1715\n",
      "epoch:  80, mse: 0.1495\n",
      "epoch:  90, mse: 0.1330\n",
      "epoch: 100, mse: 0.1201\n",
      "epoch: 110, mse: 0.1093\n",
      "epoch: 120, mse: 0.1001\n",
      "epoch: 130, mse: 0.0920\n",
      "epoch: 140, mse: 0.0849\n",
      "epoch: 150, mse: 0.0786\n",
      "epoch: 160, mse: 0.0729\n",
      "epoch: 170, mse: 0.0676\n",
      "epoch: 180, mse: 0.0629\n",
      "epoch: 190, mse: 0.0586\n",
      "epoch: 200, mse: 0.0545\n"
     ]
    }
   ],
   "source": [
    "# keep an index for training\n",
    "idx = np.arange(len(X))\n",
    "\n",
    "err = []\n",
    "for epoch in range(no_epochs):\n",
    "  np.random.shuffle(idx)\n",
    "  X, Y = X[idx], Y[idx]\n",
    "    \n",
    "  err_ = []\n",
    "  for p in np.arange(len(X)):\n",
    "    \n",
    "    y_ = model(X[p])\n",
    "    loss_ = loss(y_, Y[p])\n",
    "    err_.append(loss_)\n",
    "    \n",
    "    train_step(model, X[p], Y[p], learning_rate=lr)\n",
    "    \n",
    "    if epoch == 0:\n",
    "      print('epoch: {}'.format(epoch+1))\n",
    "      print('p: {}'.format(p+1))\n",
    "      print('x:{}, d:{}'.format(X[p], Y[p]))\n",
    "      print('y: {}'.format(y_))\n",
    "      print('se: {}'.format(loss_))\n",
    "      print('w: {}, b: {}'.format(model.w.numpy(), model.b.numpy()))\n",
    " \n",
    "  err.append(np.mean(err_))\n",
    "  if epoch%10 == 9:\n",
    "        print('epoch: %3d, mse: %1.4f'%(epoch+1, err[epoch]))"
   ]
  },
  {
   "cell_type": "code",
   "execution_count": 9,
   "metadata": {},
   "outputs": [
    {
     "name": "stdout",
     "output_type": "stream",
     "text": [
      "w: [ 0.36871063  2.56587648 -0.21289879], b: -1.1664272930402482\n",
      "mse: 0.0545477\n"
     ]
    }
   ],
   "source": [
    "print('w: {}, b: {}'.format(model.w.numpy(), model.b.numpy()))\n",
    "print('mse: %g'%err[-1])"
   ]
  },
  {
   "cell_type": "markdown",
   "metadata": {},
   "source": [
    "## Plot learning curves"
   ]
  },
  {
   "cell_type": "code",
   "execution_count": 10,
   "metadata": {},
   "outputs": [
    {
     "data": {
      "text/plain": [
       "Text(0, 0.5, 'mean square error')"
      ]
     },
     "execution_count": 10,
     "metadata": {},
     "output_type": "execute_result"
    },
    {
     "data": {
      "image/png": "[encoded data removed]",
      "text/plain": [
       "<Figure size 640x480 with 1 Axes>"
      ]
     },
     "metadata": {},
     "output_type": "display_data"
    }
   ],
   "source": [
    "# plot learning curve\n",
    "plt.figure(1)\n",
    "plt.plot(range(no_epochs), err)\n",
    "plt.xlabel('epochs')\n",
    "plt.ylabel('mean square error')"
   ]
  },
  {
   "cell_type": "markdown",
   "metadata": {},
   "source": [
    "## Print predictions"
   ]
  },
  {
   "cell_type": "code",
   "execution_count": 12,
   "metadata": {},
   "outputs": [
    {
     "name": "stdout",
     "output_type": "stream",
     "text": [
      "x: [-0.63 -0.78 -0.56], d: -3.21, y: -3.28088\n",
      "x: [ 0.34  0.65 -0.73], d: 0.96, y: 0.78217\n",
      "x: [ 0.96  0.62 -0.66], d: 1.05, y: 0.918892\n",
      "x: [ 0.69 -0.99 -0.76], d: -2.97, y: -3.29043\n",
      "x: [ 0.88  0.64 -0.33], d: 0.66, y: 0.870456\n",
      "x: [ 0.15  0.78 -0.58], d: 1.04, y: 1.01374\n",
      "x: [ 0.09 -0.44 -0.15], d: -2.57, y: -2.23029\n",
      "x: [ 0.63 -0.45 -0.14], d: -2.39, y: -2.05898\n"
     ]
    }
   ],
   "source": [
    "# print predictions\n",
    "for p in np.arange(len(X)):\n",
    "    y_ = model(X[[p]])\n",
    "    print('x: %s, d: %g, y: %g'%(X[p], Y[p], y_))\n"
   ]
  },
  {
   "cell_type": "code",
   "execution_count": null,
   "metadata": {},
   "outputs": [],
   "source": []
  }
 ],
 "metadata": {
  "kernelspec": {
   "display_name": "Python 3 (ipykernel)",
   "language": "python",
   "name": "python3"
  },
  "language_info": {
   "codemirror_mode": {
    "name": "ipython",
    "version": 3
   },
   "file_extension": ".py",
   "mimetype": "text/x-python",
   "name": "python",
   "nbconvert_exporter": "python",
   "pygments_lexer": "ipython3",
   "version": "3.11.4"
  }
 },
 "nbformat": 4,
 "nbformat_minor": 4
}
