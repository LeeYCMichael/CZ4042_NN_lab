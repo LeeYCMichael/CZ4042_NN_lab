{
 "cells": [
  {
   "cell_type": "markdown",
   "metadata": {},
   "source": [
    "# Tutorial 1, Question 3"
   ]
  },
  {
   "cell_type": "code",
   "execution_count": 1,
   "metadata": {},
   "outputs": [],
   "source": [
    "import torch\n",
    "import torch.nn as nn\n",
    "import numpy as np"
   ]
  },
  {
   "cell_type": "code",
   "execution_count": 2,
   "metadata": {},
   "outputs": [],
   "source": [
    "# threshold activation function\n",
    "def threshold(u):\n",
    "\treturn (u>0.0).float()"
   ]
  },
  {
   "cell_type": "code",
   "execution_count": 3,
   "metadata": {},
   "outputs": [],
   "source": [
    "# class for a neuron with a threshold activation function\n",
    "class Neuron():\n",
    "  def __init__(self, weight, bias):\n",
    "    self.w = torch.tensor(weight)\n",
    "    self.b = torch.tensor(bias)\n",
    "\n",
    "  def __call__(self, x):\n",
    "    u = torch.inner(self.w, x) + self.b\n",
    "    y = threshold(u)\n",
    "    return u, y"
   ]
  },
  {
   "cell_type": "code",
   "execution_count": 4,
   "metadata": {},
   "outputs": [],
   "source": [
    "# neural network\n",
    "def network(input):\n",
    "    n1 = Neuron([1.0, 1.0, 1.0], -1/2)\n",
    "    n2 = Neuron([1.0, 1.0, 1.0], -3/2) \n",
    "    n3 = Neuron([1.0, 1.0, 1.0], -5/2)\n",
    "    n = Neuron([1.0, -1.0, 1.0], -1/2) \n",
    "\n",
    "    u1, y1 = n1(input)\n",
    "    u2, y2 = n2(input)\n",
    "    u3, y3 = n3(input)\n",
    "    u, y = n(torch.tensor([y1, y2, y3]))\n",
    "    \n",
    "    return u1, y1, u2, y2, u3, y3, u, y"
   ]
  },
  {
   "cell_type": "code",
   "execution_count": 5,
   "metadata": {},
   "outputs": [
    {
     "name": "stdout",
     "output_type": "stream",
     "text": [
      "(0, 0, 0): u1=-0.5, u2=-1.5, u3=-2.5; y1=0, y2=0, y3=0, u=-0.5, y=0\n",
      "(0, 0, 1): u1=0.5, u2=-0.5, u3=-1.5; y1=1, y2=0, y3=0, u=0.5, y=1\n",
      "(0, 1, 0): u1=0.5, u2=-0.5, u3=-1.5; y1=1, y2=0, y3=0, u=0.5, y=1\n",
      "(0, 1, 1): u1=1.5, u2=0.5, u3=-0.5; y1=1, y2=1, y3=0, u=-0.5, y=0\n",
      "(1, 0, 0): u1=0.5, u2=-0.5, u3=-1.5; y1=1, y2=0, y3=0, u=0.5, y=1\n",
      "(1, 0, 1): u1=1.5, u2=0.5, u3=-0.5; y1=1, y2=1, y3=0, u=-0.5, y=0\n",
      "(1, 1, 0): u1=1.5, u2=0.5, u3=-0.5; y1=1, y2=1, y3=0, u=-0.5, y=0\n",
      "(1, 1, 1): u1=2.5, u2=1.5, u3=0.5; y1=1, y2=1, y3=1, u=0.5, y=1\n"
     ]
    }
   ],
   "source": [
    "# generate the truth table\n",
    "for i in range(2):\n",
    "    for j in range(2):\n",
    "        for k in range(2):\n",
    "            u1_, y1_, u2_, y2_, u3_, y3_, u_, y_ = network(torch.tensor([float(i), float(j), float(k)]))\n",
    "            print('(%d, %d, %d): u1=%.1f, u2=%.1f, u3=%.1f; y1=%d, y2=%d, y3=%d, u=%.1f, y=%d'\n",
    "                  %(i, j, k, u1_, u2_, u3_, y1_, y2_, y3_, u_, y_))"
   ]
  },
  {
   "cell_type": "code",
   "execution_count": null,
   "metadata": {},
   "outputs": [],
   "source": []
  }
 ],
 "metadata": {
  "kernelspec": {
   "display_name": "Python 3 (ipykernel)",
   "language": "python",
   "name": "python3"
  },
  "language_info": {
   "codemirror_mode": {
    "name": "ipython",
    "version": 3
   },
   "file_extension": ".py",
   "mimetype": "text/x-python",
   "name": "python",
   "nbconvert_exporter": "python",
   "pygments_lexer": "ipython3",
   "version": "3.11.2"
  }
 },
 "nbformat": 4,
 "nbformat_minor": 4
}
