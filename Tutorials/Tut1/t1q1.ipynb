{
 "cells": [
  {
   "cell_type": "markdown",
   "metadata": {},
   "source": [
    "# Tutorial 1, Question 1"
   ]
  },
  {
   "cell_type": "code",
   "execution_count": 1,
   "metadata": {},
   "outputs": [],
   "source": [
    "import torch\n",
    "import torch.nn as nn"
   ]
  },
  {
   "cell_type": "code",
   "execution_count": 2,
   "metadata": {},
   "outputs": [],
   "source": [
    "# sigmoid activation function\n",
    "def g(u):\n",
    "    return 1.0/(1.0 + torch.exp(-0.5*u))\n",
    "\n",
    "# ReLU activation function\n",
    "f = nn.ReLU()"
   ]
  },
  {
   "cell_type": "code",
   "execution_count": 3,
   "metadata": {},
   "outputs": [],
   "source": [
    "# class for a neuron\n",
    "class Neuron():\n",
    "  def __init__(self, weight, bias):\n",
    "    self.w = torch.tensor(weight)\n",
    "    self.b = torch.tensor(bias)\n",
    "\n",
    "  def __call__(self, x, func):\n",
    "    u = torch.inner(self.w, x) + self.b\n",
    "    y = func(u)\n",
    "    return u, y"
   ]
  },
  {
   "cell_type": "code",
   "execution_count": 4,
   "metadata": {},
   "outputs": [],
   "source": [
    "# function for the given network\n",
    "def network(input):\n",
    "    n1 = Neuron([1.0, -0.5, -1.0], 0.0)\n",
    "    n2 = Neuron([0.0, 2.0, 0.6], 0.5) \n",
    "    n3 = Neuron([-0.5, 0.6], 0.05) \n",
    "\n",
    "    u1, y1 = n1(input, g)\n",
    "    u2, y2 = n2(input, g)\n",
    "    \n",
    "    u3, y3 = n3(torch.tensor([y1, y2]), f)\n",
    "    \n",
    "    return u1, y1, u2, y2, u3, y3"
   ]
  },
  {
   "cell_type": "markdown",
   "metadata": {},
   "source": [
    "## Evaluate"
   ]
  },
  {
   "cell_type": "code",
   "execution_count": 5,
   "metadata": {},
   "outputs": [
    {
     "name": "stdout",
     "output_type": "stream",
     "text": [
      "x =  [1.0, -0.5, 1.0]\n",
      "u1=0.25, u2=0.1, u3=0.0918938\n",
      "y1=0.531209, y2=0.512497, y3=0.0918938\n"
     ]
    }
   ],
   "source": [
    "input = torch.tensor([1.0, -0.5, 1.0])\n",
    "\n",
    "u1_, y1_, u2_, y2_, u3_, y3_ = network(input)\n",
    "print('x = ',[1.0, -0.5, 1.0])\n",
    "print('u1=%g, u2=%g, u3=%g'% (u1_, u2_, u3_))\n",
    "print('y1=%g, y2=%g, y3=%g'%(y1_, y2_, y3_))"
   ]
  },
  {
   "cell_type": "code",
   "execution_count": 6,
   "metadata": {},
   "outputs": [
    {
     "name": "stdout",
     "output_type": "stream",
     "text": [
      "\n",
      " x =  [-1.0, 0.0, -2.0]\n",
      "u1=1, u2=-0.7, u3=-0.0132002\n",
      "y1=0.622459, y2=0.413382, y3=0\n"
     ]
    }
   ],
   "source": [
    "u1_, y1_, u2_, y2_, u3_, y3_ = network(torch.tensor([-1.0, 0.0, -2.0]))\n",
    "print('\\n x = ',[-1.0, 0.0, -2.0])\n",
    "print('u1=%g, u2=%g, u3=%g'% (u1_, u2_, u3_))\n",
    "print('y1=%g, y2=%g, y3=%g'%(y1_, y2_, y3_))"
   ]
  },
  {
   "cell_type": "code",
   "execution_count": 7,
   "metadata": {},
   "outputs": [
    {
     "name": "stdout",
     "output_type": "stream",
     "text": [
      "\n",
      " x =  [2.0, 0.5, -1.0]\n",
      "u1=2.75, u2=0.9, u3=0.0172902\n",
      "y1=0.798187, y2=0.610639, y3=0.0172902\n"
     ]
    }
   ],
   "source": [
    "u1_, y1_, u2_, y2_, u3_, y3_ = network(torch.tensor([2.0, 0.5, -1.0]))\n",
    "print('\\n x = ',[2.0, 0.5, -1.0])\n",
    "print('u1=%g, u2=%g, u3=%g'% (u1_, u2_, u3_))\n",
    "print('y1=%g, y2=%g, y3=%g'%(y1_, y2_, y3_))"
   ]
  }
 ],
 "metadata": {
  "kernelspec": {
   "display_name": "Python 3 (ipykernel)",
   "language": "python",
   "name": "python3"
  },
  "language_info": {
   "codemirror_mode": {
    "name": "ipython",
    "version": 3
   },
   "file_extension": ".py",
   "mimetype": "text/x-python",
   "name": "python",
   "nbconvert_exporter": "python",
   "pygments_lexer": "ipython3",
   "version": "3.11.2"
  }
 },
 "nbformat": 4,
 "nbformat_minor": 4
}
